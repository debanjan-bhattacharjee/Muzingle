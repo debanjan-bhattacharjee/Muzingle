{
 "cells": [
  {
   "cell_type": "code",
   "execution_count": 1,
   "id": "94e09476",
   "metadata": {},
   "outputs": [],
   "source": [
    "import os\n",
    "import numpy as np\n",
    "import pandas as pd\n",
    "\n",
    "import seaborn as sns\n",
    "import plotly.express as px \n",
    "import matplotlib.pyplot as plt\n",
    "%matplotlib inline\n",
    "\n",
    "import warnings\n",
    "warnings.filterwarnings(\"ignore\")"
   ]
  },
  {
   "cell_type": "code",
   "execution_count": 2,
   "id": "8be41327",
   "metadata": {},
   "outputs": [],
   "source": [
    "genre_data = pd.read_csv(\"data-set/data_by_genres.csv\")"
   ]
  },
  {
   "cell_type": "code",
   "execution_count": 3,
   "id": "ae3af7f4",
   "metadata": {
    "scrolled": true
   },
   "outputs": [
    {
     "data": {
      "text/html": [
       "<div>\n",
       "<style scoped>\n",
       "    .dataframe tbody tr th:only-of-type {\n",
       "        vertical-align: middle;\n",
       "    }\n",
       "\n",
       "    .dataframe tbody tr th {\n",
       "        vertical-align: top;\n",
       "    }\n",
       "\n",
       "    .dataframe thead th {\n",
       "        text-align: right;\n",
       "    }\n",
       "</style>\n",
       "<table border=\"1\" class=\"dataframe\">\n",
       "  <thead>\n",
       "    <tr style=\"text-align: right;\">\n",
       "      <th></th>\n",
       "      <th>mode</th>\n",
       "      <th>genres</th>\n",
       "      <th>acousticness</th>\n",
       "      <th>danceability</th>\n",
       "      <th>duration_ms</th>\n",
       "      <th>energy</th>\n",
       "      <th>instrumentalness</th>\n",
       "      <th>liveness</th>\n",
       "      <th>loudness</th>\n",
       "      <th>speechiness</th>\n",
       "      <th>tempo</th>\n",
       "      <th>valence</th>\n",
       "      <th>popularity</th>\n",
       "      <th>key</th>\n",
       "    </tr>\n",
       "  </thead>\n",
       "  <tbody>\n",
       "    <tr>\n",
       "      <th>0</th>\n",
       "      <td>1</td>\n",
       "      <td>21st century classical</td>\n",
       "      <td>0.979333</td>\n",
       "      <td>0.162883</td>\n",
       "      <td>1.602977e+05</td>\n",
       "      <td>0.071317</td>\n",
       "      <td>0.606834</td>\n",
       "      <td>0.361600</td>\n",
       "      <td>-31.514333</td>\n",
       "      <td>0.040567</td>\n",
       "      <td>75.336500</td>\n",
       "      <td>0.103783</td>\n",
       "      <td>27.833333</td>\n",
       "      <td>6</td>\n",
       "    </tr>\n",
       "    <tr>\n",
       "      <th>1</th>\n",
       "      <td>1</td>\n",
       "      <td>432hz</td>\n",
       "      <td>0.494780</td>\n",
       "      <td>0.299333</td>\n",
       "      <td>1.048887e+06</td>\n",
       "      <td>0.450678</td>\n",
       "      <td>0.477762</td>\n",
       "      <td>0.131000</td>\n",
       "      <td>-16.854000</td>\n",
       "      <td>0.076817</td>\n",
       "      <td>120.285667</td>\n",
       "      <td>0.221750</td>\n",
       "      <td>52.500000</td>\n",
       "      <td>5</td>\n",
       "    </tr>\n",
       "    <tr>\n",
       "      <th>2</th>\n",
       "      <td>1</td>\n",
       "      <td>8-bit</td>\n",
       "      <td>0.762000</td>\n",
       "      <td>0.712000</td>\n",
       "      <td>1.151770e+05</td>\n",
       "      <td>0.818000</td>\n",
       "      <td>0.876000</td>\n",
       "      <td>0.126000</td>\n",
       "      <td>-9.180000</td>\n",
       "      <td>0.047000</td>\n",
       "      <td>133.444000</td>\n",
       "      <td>0.975000</td>\n",
       "      <td>48.000000</td>\n",
       "      <td>7</td>\n",
       "    </tr>\n",
       "    <tr>\n",
       "      <th>3</th>\n",
       "      <td>1</td>\n",
       "      <td>[]</td>\n",
       "      <td>0.651417</td>\n",
       "      <td>0.529093</td>\n",
       "      <td>2.328809e+05</td>\n",
       "      <td>0.419146</td>\n",
       "      <td>0.205309</td>\n",
       "      <td>0.218696</td>\n",
       "      <td>-12.288965</td>\n",
       "      <td>0.107872</td>\n",
       "      <td>112.857352</td>\n",
       "      <td>0.513604</td>\n",
       "      <td>20.859882</td>\n",
       "      <td>7</td>\n",
       "    </tr>\n",
       "    <tr>\n",
       "      <th>4</th>\n",
       "      <td>1</td>\n",
       "      <td>a cappella</td>\n",
       "      <td>0.676557</td>\n",
       "      <td>0.538961</td>\n",
       "      <td>1.906285e+05</td>\n",
       "      <td>0.316434</td>\n",
       "      <td>0.003003</td>\n",
       "      <td>0.172254</td>\n",
       "      <td>-12.479387</td>\n",
       "      <td>0.082851</td>\n",
       "      <td>112.110362</td>\n",
       "      <td>0.448249</td>\n",
       "      <td>45.820071</td>\n",
       "      <td>7</td>\n",
       "    </tr>\n",
       "  </tbody>\n",
       "</table>\n",
       "</div>"
      ],
      "text/plain": [
       "   mode                  genres  acousticness  danceability   duration_ms  \\\n",
       "0     1  21st century classical      0.979333      0.162883  1.602977e+05   \n",
       "1     1                   432hz      0.494780      0.299333  1.048887e+06   \n",
       "2     1                   8-bit      0.762000      0.712000  1.151770e+05   \n",
       "3     1                      []      0.651417      0.529093  2.328809e+05   \n",
       "4     1              a cappella      0.676557      0.538961  1.906285e+05   \n",
       "\n",
       "     energy  instrumentalness  liveness   loudness  speechiness       tempo  \\\n",
       "0  0.071317          0.606834  0.361600 -31.514333     0.040567   75.336500   \n",
       "1  0.450678          0.477762  0.131000 -16.854000     0.076817  120.285667   \n",
       "2  0.818000          0.876000  0.126000  -9.180000     0.047000  133.444000   \n",
       "3  0.419146          0.205309  0.218696 -12.288965     0.107872  112.857352   \n",
       "4  0.316434          0.003003  0.172254 -12.479387     0.082851  112.110362   \n",
       "\n",
       "    valence  popularity  key  \n",
       "0  0.103783   27.833333    6  \n",
       "1  0.221750   52.500000    5  \n",
       "2  0.975000   48.000000    7  \n",
       "3  0.513604   20.859882    7  \n",
       "4  0.448249   45.820071    7  "
      ]
     },
     "execution_count": 3,
     "metadata": {},
     "output_type": "execute_result"
    }
   ],
   "source": [
    "genre_data.head()"
   ]
  },
  {
   "cell_type": "code",
   "execution_count": 4,
   "id": "49fe4923",
   "metadata": {},
   "outputs": [
    {
     "name": "stdout",
     "output_type": "stream",
     "text": [
      "['21st century classical' '432hz' '8-bit' ... 'zouk' 'zurich indie'\n",
      " 'zydeco']\n"
     ]
    }
   ],
   "source": [
    "print(pd.unique(genre_data['genres']))"
   ]
  },
  {
   "cell_type": "code",
   "execution_count": 5,
   "id": "2b669962",
   "metadata": {},
   "outputs": [],
   "source": [
    "data = pd.read_csv(\"data-set/data.csv\")"
   ]
  },
  {
   "cell_type": "code",
   "execution_count": 6,
   "id": "a2ab3771",
   "metadata": {},
   "outputs": [
    {
     "data": {
      "text/html": [
       "<div>\n",
       "<style scoped>\n",
       "    .dataframe tbody tr th:only-of-type {\n",
       "        vertical-align: middle;\n",
       "    }\n",
       "\n",
       "    .dataframe tbody tr th {\n",
       "        vertical-align: top;\n",
       "    }\n",
       "\n",
       "    .dataframe thead th {\n",
       "        text-align: right;\n",
       "    }\n",
       "</style>\n",
       "<table border=\"1\" class=\"dataframe\">\n",
       "  <thead>\n",
       "    <tr style=\"text-align: right;\">\n",
       "      <th></th>\n",
       "      <th>valence</th>\n",
       "      <th>year</th>\n",
       "      <th>acousticness</th>\n",
       "      <th>artists</th>\n",
       "      <th>danceability</th>\n",
       "      <th>duration_ms</th>\n",
       "      <th>energy</th>\n",
       "      <th>explicit</th>\n",
       "      <th>id</th>\n",
       "      <th>instrumentalness</th>\n",
       "      <th>key</th>\n",
       "      <th>liveness</th>\n",
       "      <th>loudness</th>\n",
       "      <th>mode</th>\n",
       "      <th>name</th>\n",
       "      <th>popularity</th>\n",
       "      <th>release_date</th>\n",
       "      <th>speechiness</th>\n",
       "      <th>tempo</th>\n",
       "    </tr>\n",
       "  </thead>\n",
       "  <tbody>\n",
       "    <tr>\n",
       "      <th>0</th>\n",
       "      <td>0.0594</td>\n",
       "      <td>1921</td>\n",
       "      <td>0.982</td>\n",
       "      <td>['Sergei Rachmaninoff', 'James Levine', 'Berli...</td>\n",
       "      <td>0.279</td>\n",
       "      <td>831667</td>\n",
       "      <td>0.211</td>\n",
       "      <td>0</td>\n",
       "      <td>4BJqT0PrAfrxzMOxytFOIz</td>\n",
       "      <td>0.878</td>\n",
       "      <td>10</td>\n",
       "      <td>0.665</td>\n",
       "      <td>-20.096</td>\n",
       "      <td>1</td>\n",
       "      <td>Piano Concerto No. 3 in D Minor, Op. 30: III. ...</td>\n",
       "      <td>4</td>\n",
       "      <td>1921</td>\n",
       "      <td>0.0366</td>\n",
       "      <td>80.954</td>\n",
       "    </tr>\n",
       "    <tr>\n",
       "      <th>1</th>\n",
       "      <td>0.9630</td>\n",
       "      <td>1921</td>\n",
       "      <td>0.732</td>\n",
       "      <td>['Dennis Day']</td>\n",
       "      <td>0.819</td>\n",
       "      <td>180533</td>\n",
       "      <td>0.341</td>\n",
       "      <td>0</td>\n",
       "      <td>7xPhfUan2yNtyFG0cUWkt8</td>\n",
       "      <td>0.000</td>\n",
       "      <td>7</td>\n",
       "      <td>0.160</td>\n",
       "      <td>-12.441</td>\n",
       "      <td>1</td>\n",
       "      <td>Clancy Lowered the Boom</td>\n",
       "      <td>5</td>\n",
       "      <td>1921</td>\n",
       "      <td>0.4150</td>\n",
       "      <td>60.936</td>\n",
       "    </tr>\n",
       "    <tr>\n",
       "      <th>2</th>\n",
       "      <td>0.0394</td>\n",
       "      <td>1921</td>\n",
       "      <td>0.961</td>\n",
       "      <td>['KHP Kridhamardawa Karaton Ngayogyakarta Hadi...</td>\n",
       "      <td>0.328</td>\n",
       "      <td>500062</td>\n",
       "      <td>0.166</td>\n",
       "      <td>0</td>\n",
       "      <td>1o6I8BglA6ylDMrIELygv1</td>\n",
       "      <td>0.913</td>\n",
       "      <td>3</td>\n",
       "      <td>0.101</td>\n",
       "      <td>-14.850</td>\n",
       "      <td>1</td>\n",
       "      <td>Gati Bali</td>\n",
       "      <td>5</td>\n",
       "      <td>1921</td>\n",
       "      <td>0.0339</td>\n",
       "      <td>110.339</td>\n",
       "    </tr>\n",
       "  </tbody>\n",
       "</table>\n",
       "</div>"
      ],
      "text/plain": [
       "   valence  year  acousticness  \\\n",
       "0   0.0594  1921         0.982   \n",
       "1   0.9630  1921         0.732   \n",
       "2   0.0394  1921         0.961   \n",
       "\n",
       "                                             artists  danceability  \\\n",
       "0  ['Sergei Rachmaninoff', 'James Levine', 'Berli...         0.279   \n",
       "1                                     ['Dennis Day']         0.819   \n",
       "2  ['KHP Kridhamardawa Karaton Ngayogyakarta Hadi...         0.328   \n",
       "\n",
       "   duration_ms  energy  explicit                      id  instrumentalness  \\\n",
       "0       831667   0.211         0  4BJqT0PrAfrxzMOxytFOIz             0.878   \n",
       "1       180533   0.341         0  7xPhfUan2yNtyFG0cUWkt8             0.000   \n",
       "2       500062   0.166         0  1o6I8BglA6ylDMrIELygv1             0.913   \n",
       "\n",
       "   key  liveness  loudness  mode  \\\n",
       "0   10     0.665   -20.096     1   \n",
       "1    7     0.160   -12.441     1   \n",
       "2    3     0.101   -14.850     1   \n",
       "\n",
       "                                                name  popularity release_date  \\\n",
       "0  Piano Concerto No. 3 in D Minor, Op. 30: III. ...           4         1921   \n",
       "1                            Clancy Lowered the Boom           5         1921   \n",
       "2                                          Gati Bali           5         1921   \n",
       "\n",
       "   speechiness    tempo  \n",
       "0       0.0366   80.954  \n",
       "1       0.4150   60.936  \n",
       "2       0.0339  110.339  "
      ]
     },
     "execution_count": 6,
     "metadata": {},
     "output_type": "execute_result"
    }
   ],
   "source": [
    "data.head(3)"
   ]
  },
  {
   "cell_type": "code",
   "execution_count": 7,
   "id": "2a78788d",
   "metadata": {},
   "outputs": [],
   "source": [
    "data.sort_values(\"name\",inplace=True)"
   ]
  },
  {
   "cell_type": "code",
   "execution_count": 8,
   "id": "4ec53215",
   "metadata": {},
   "outputs": [],
   "source": [
    "data.drop_duplicates(subset='name', keep='first', inplace=True)"
   ]
  },
  {
   "cell_type": "code",
   "execution_count": 9,
   "id": "18175492",
   "metadata": {},
   "outputs": [
    {
     "data": {
      "text/html": [
       "<div>\n",
       "<style scoped>\n",
       "    .dataframe tbody tr th:only-of-type {\n",
       "        vertical-align: middle;\n",
       "    }\n",
       "\n",
       "    .dataframe tbody tr th {\n",
       "        vertical-align: top;\n",
       "    }\n",
       "\n",
       "    .dataframe thead th {\n",
       "        text-align: right;\n",
       "    }\n",
       "</style>\n",
       "<table border=\"1\" class=\"dataframe\">\n",
       "  <thead>\n",
       "    <tr style=\"text-align: right;\">\n",
       "      <th></th>\n",
       "      <th>valence</th>\n",
       "      <th>year</th>\n",
       "      <th>acousticness</th>\n",
       "      <th>artists</th>\n",
       "      <th>danceability</th>\n",
       "      <th>duration_ms</th>\n",
       "      <th>energy</th>\n",
       "      <th>explicit</th>\n",
       "      <th>id</th>\n",
       "      <th>instrumentalness</th>\n",
       "      <th>key</th>\n",
       "      <th>liveness</th>\n",
       "      <th>loudness</th>\n",
       "      <th>mode</th>\n",
       "      <th>name</th>\n",
       "      <th>popularity</th>\n",
       "      <th>release_date</th>\n",
       "      <th>speechiness</th>\n",
       "      <th>tempo</th>\n",
       "    </tr>\n",
       "  </thead>\n",
       "  <tbody>\n",
       "    <tr>\n",
       "      <th>162711</th>\n",
       "      <td>0.394</td>\n",
       "      <td>1981</td>\n",
       "      <td>0.147</td>\n",
       "      <td>['T.S.O.L.']</td>\n",
       "      <td>0.237</td>\n",
       "      <td>125560</td>\n",
       "      <td>0.972</td>\n",
       "      <td>1</td>\n",
       "      <td>6FSe4gA9UzTonU9Bilai6b</td>\n",
       "      <td>0.000008</td>\n",
       "      <td>4</td>\n",
       "      <td>0.0816</td>\n",
       "      <td>-3.425</td>\n",
       "      <td>0</td>\n",
       "      <td>Love Story</td>\n",
       "      <td>22</td>\n",
       "      <td>1981</td>\n",
       "      <td>0.0585</td>\n",
       "      <td>103.899</td>\n",
       "    </tr>\n",
       "  </tbody>\n",
       "</table>\n",
       "</div>"
      ],
      "text/plain": [
       "        valence  year  acousticness       artists  danceability  duration_ms  \\\n",
       "162711    0.394  1981         0.147  ['T.S.O.L.']         0.237       125560   \n",
       "\n",
       "        energy  explicit                      id  instrumentalness  key  \\\n",
       "162711   0.972         1  6FSe4gA9UzTonU9Bilai6b          0.000008    4   \n",
       "\n",
       "        liveness  loudness  mode        name  popularity release_date  \\\n",
       "162711    0.0816    -3.425     0  Love Story          22         1981   \n",
       "\n",
       "        speechiness    tempo  \n",
       "162711       0.0585  103.899  "
      ]
     },
     "execution_count": 9,
     "metadata": {},
     "output_type": "execute_result"
    }
   ],
   "source": [
    "data[data.name=='Love Story']"
   ]
  },
  {
   "cell_type": "code",
   "execution_count": 10,
   "id": "cac9ef38",
   "metadata": {},
   "outputs": [],
   "source": [
    "year_data = pd.read_csv(\"data-set/data_by_year.csv\")"
   ]
  },
  {
   "cell_type": "code",
   "execution_count": 11,
   "id": "c95270d9",
   "metadata": {},
   "outputs": [
    {
     "data": {
      "text/html": [
       "<div>\n",
       "<style scoped>\n",
       "    .dataframe tbody tr th:only-of-type {\n",
       "        vertical-align: middle;\n",
       "    }\n",
       "\n",
       "    .dataframe tbody tr th {\n",
       "        vertical-align: top;\n",
       "    }\n",
       "\n",
       "    .dataframe thead th {\n",
       "        text-align: right;\n",
       "    }\n",
       "</style>\n",
       "<table border=\"1\" class=\"dataframe\">\n",
       "  <thead>\n",
       "    <tr style=\"text-align: right;\">\n",
       "      <th></th>\n",
       "      <th>mode</th>\n",
       "      <th>year</th>\n",
       "      <th>acousticness</th>\n",
       "      <th>danceability</th>\n",
       "      <th>duration_ms</th>\n",
       "      <th>energy</th>\n",
       "      <th>instrumentalness</th>\n",
       "      <th>liveness</th>\n",
       "      <th>loudness</th>\n",
       "      <th>speechiness</th>\n",
       "      <th>tempo</th>\n",
       "      <th>valence</th>\n",
       "      <th>popularity</th>\n",
       "      <th>key</th>\n",
       "    </tr>\n",
       "  </thead>\n",
       "  <tbody>\n",
       "    <tr>\n",
       "      <th>0</th>\n",
       "      <td>1</td>\n",
       "      <td>1921</td>\n",
       "      <td>0.886896</td>\n",
       "      <td>0.418597</td>\n",
       "      <td>260537.166667</td>\n",
       "      <td>0.231815</td>\n",
       "      <td>0.344878</td>\n",
       "      <td>0.205710</td>\n",
       "      <td>-17.048667</td>\n",
       "      <td>0.073662</td>\n",
       "      <td>101.531493</td>\n",
       "      <td>0.379327</td>\n",
       "      <td>0.653333</td>\n",
       "      <td>2</td>\n",
       "    </tr>\n",
       "    <tr>\n",
       "      <th>1</th>\n",
       "      <td>1</td>\n",
       "      <td>1922</td>\n",
       "      <td>0.938592</td>\n",
       "      <td>0.482042</td>\n",
       "      <td>165469.746479</td>\n",
       "      <td>0.237815</td>\n",
       "      <td>0.434195</td>\n",
       "      <td>0.240720</td>\n",
       "      <td>-19.275282</td>\n",
       "      <td>0.116655</td>\n",
       "      <td>100.884521</td>\n",
       "      <td>0.535549</td>\n",
       "      <td>0.140845</td>\n",
       "      <td>10</td>\n",
       "    </tr>\n",
       "    <tr>\n",
       "      <th>2</th>\n",
       "      <td>1</td>\n",
       "      <td>1923</td>\n",
       "      <td>0.957247</td>\n",
       "      <td>0.577341</td>\n",
       "      <td>177942.362162</td>\n",
       "      <td>0.262406</td>\n",
       "      <td>0.371733</td>\n",
       "      <td>0.227462</td>\n",
       "      <td>-14.129211</td>\n",
       "      <td>0.093949</td>\n",
       "      <td>114.010730</td>\n",
       "      <td>0.625492</td>\n",
       "      <td>5.389189</td>\n",
       "      <td>0</td>\n",
       "    </tr>\n",
       "    <tr>\n",
       "      <th>3</th>\n",
       "      <td>1</td>\n",
       "      <td>1924</td>\n",
       "      <td>0.940200</td>\n",
       "      <td>0.549894</td>\n",
       "      <td>191046.707627</td>\n",
       "      <td>0.344347</td>\n",
       "      <td>0.581701</td>\n",
       "      <td>0.235219</td>\n",
       "      <td>-14.231343</td>\n",
       "      <td>0.092089</td>\n",
       "      <td>120.689572</td>\n",
       "      <td>0.663725</td>\n",
       "      <td>0.661017</td>\n",
       "      <td>10</td>\n",
       "    </tr>\n",
       "    <tr>\n",
       "      <th>4</th>\n",
       "      <td>1</td>\n",
       "      <td>1925</td>\n",
       "      <td>0.962607</td>\n",
       "      <td>0.573863</td>\n",
       "      <td>184986.924460</td>\n",
       "      <td>0.278594</td>\n",
       "      <td>0.418297</td>\n",
       "      <td>0.237668</td>\n",
       "      <td>-14.146414</td>\n",
       "      <td>0.111918</td>\n",
       "      <td>115.521921</td>\n",
       "      <td>0.621929</td>\n",
       "      <td>2.604317</td>\n",
       "      <td>5</td>\n",
       "    </tr>\n",
       "  </tbody>\n",
       "</table>\n",
       "</div>"
      ],
      "text/plain": [
       "   mode  year  acousticness  danceability    duration_ms    energy  \\\n",
       "0     1  1921      0.886896      0.418597  260537.166667  0.231815   \n",
       "1     1  1922      0.938592      0.482042  165469.746479  0.237815   \n",
       "2     1  1923      0.957247      0.577341  177942.362162  0.262406   \n",
       "3     1  1924      0.940200      0.549894  191046.707627  0.344347   \n",
       "4     1  1925      0.962607      0.573863  184986.924460  0.278594   \n",
       "\n",
       "   instrumentalness  liveness   loudness  speechiness       tempo   valence  \\\n",
       "0          0.344878  0.205710 -17.048667     0.073662  101.531493  0.379327   \n",
       "1          0.434195  0.240720 -19.275282     0.116655  100.884521  0.535549   \n",
       "2          0.371733  0.227462 -14.129211     0.093949  114.010730  0.625492   \n",
       "3          0.581701  0.235219 -14.231343     0.092089  120.689572  0.663725   \n",
       "4          0.418297  0.237668 -14.146414     0.111918  115.521921  0.621929   \n",
       "\n",
       "   popularity  key  \n",
       "0    0.653333    2  \n",
       "1    0.140845   10  \n",
       "2    5.389189    0  \n",
       "3    0.661017   10  \n",
       "4    2.604317    5  "
      ]
     },
     "execution_count": 11,
     "metadata": {},
     "output_type": "execute_result"
    }
   ],
   "source": [
    "year_data.head()"
   ]
  },
  {
   "cell_type": "code",
   "execution_count": 12,
   "id": "94f999e1",
   "metadata": {
    "scrolled": true
   },
   "outputs": [
    {
     "name": "stdout",
     "output_type": "stream",
     "text": [
      "<class 'pandas.core.frame.DataFrame'>\n",
      "Int64Index: 133638 entries, 144877 to 118810\n",
      "Data columns (total 19 columns):\n",
      " #   Column            Non-Null Count   Dtype  \n",
      "---  ------            --------------   -----  \n",
      " 0   valence           133638 non-null  float64\n",
      " 1   year              133638 non-null  int64  \n",
      " 2   acousticness      133638 non-null  float64\n",
      " 3   artists           133638 non-null  object \n",
      " 4   danceability      133638 non-null  float64\n",
      " 5   duration_ms       133638 non-null  int64  \n",
      " 6   energy            133638 non-null  float64\n",
      " 7   explicit          133638 non-null  int64  \n",
      " 8   id                133638 non-null  object \n",
      " 9   instrumentalness  133638 non-null  float64\n",
      " 10  key               133638 non-null  int64  \n",
      " 11  liveness          133638 non-null  float64\n",
      " 12  loudness          133638 non-null  float64\n",
      " 13  mode              133638 non-null  int64  \n",
      " 14  name              133638 non-null  object \n",
      " 15  popularity        133638 non-null  int64  \n",
      " 16  release_date      133638 non-null  object \n",
      " 17  speechiness       133638 non-null  float64\n",
      " 18  tempo             133638 non-null  float64\n",
      "dtypes: float64(9), int64(6), object(4)\n",
      "memory usage: 20.4+ MB\n",
      "None\n"
     ]
    }
   ],
   "source": [
    "print(data.info())"
   ]
  },
  {
   "cell_type": "code",
   "execution_count": null,
   "id": "95f06a4b",
   "metadata": {},
   "outputs": [],
   "source": []
  },
  {
   "cell_type": "code",
   "execution_count": 13,
   "id": "5fdc8234",
   "metadata": {},
   "outputs": [
    {
     "data": {
      "application/vnd.plotly.v1+json": {
       "config": {
        "plotlyServerURL": "https://plot.ly"
       },
       "data": [
        {
         "hovertemplate": "variable=acousticness<br>year=%{x}<br>value=%{y}<extra></extra>",
         "legendgroup": "acousticness",
         "line": {
          "color": "#636efa",
          "dash": "solid"
         },
         "marker": {
          "symbol": "circle"
         },
         "mode": "lines",
         "name": "acousticness",
         "orientation": "v",
         "showlegend": true,
         "type": "scatter",
         "x": [
          1921,
          1922,
          1923,
          1924,
          1925,
          1926,
          1927,
          1928,
          1929,
          1930,
          1931,
          1932,
          1933,
          1934,
          1935,
          1936,
          1937,
          1938,
          1939,
          1940,
          1941,
          1942,
          1943,
          1944,
          1945,
          1946,
          1947,
          1948,
          1949,
          1950,
          1951,
          1952,
          1953,
          1954,
          1955,
          1956,
          1957,
          1958,
          1959,
          1960,
          1961,
          1962,
          1963,
          1964,
          1965,
          1966,
          1967,
          1968,
          1969,
          1970,
          1971,
          1972,
          1973,
          1974,
          1975,
          1976,
          1977,
          1978,
          1979,
          1980,
          1981,
          1982,
          1983,
          1984,
          1985,
          1986,
          1987,
          1988,
          1989,
          1990,
          1991,
          1992,
          1993,
          1994,
          1995,
          1996,
          1997,
          1998,
          1999,
          2000,
          2001,
          2002,
          2003,
          2004,
          2005,
          2006,
          2007,
          2008,
          2009,
          2010,
          2011,
          2012,
          2013,
          2014,
          2015,
          2016,
          2017,
          2018,
          2019,
          2020
         ],
         "xaxis": "x",
         "y": [
          0.8868960000000005,
          0.9385915492957748,
          0.9572467913513516,
          0.940199860169493,
          0.9626070503597138,
          0.660817216981134,
          0.9361794552845558,
          0.9386165035685952,
          0.6014265861344558,
          0.936714937370057,
          0.8330399585921336,
          0.9357705179282878,
          0.899897909117222,
          0.8911487501730107,
          0.7783855599472987,
          0.7723120800000008,
          0.8654357853881286,
          0.9192803908646014,
          0.9087381000000004,
          0.8476440499999951,
          0.8957376562500025,
          0.8529343703923857,
          0.9027523185915528,
          0.9076531914893636,
          0.7096568630000005,
          0.9199445823665852,
          0.9139650224242392,
          0.9221549999999956,
          0.9075328949999956,
          0.8539413005999965,
          0.9022971956499974,
          0.8743009244999965,
          0.8909223502564074,
          0.8650197272999992,
          0.8405510069999986,
          0.8230569899999975,
          0.7928023589743608,
          0.7796118650000005,
          0.7793927897435907,
          0.7671814843243259,
          0.7519038684210535,
          0.720607806842106,
          0.7227048300000004,
          0.6941005307692291,
          0.6099113295384619,
          0.5248094599699997,
          0.5296103243521767,
          0.4937702403500001,
          0.4488463039999994,
          0.4600571139500007,
          0.4583362981000009,
          0.4600428051999994,
          0.4165241889999992,
          0.4472074226000001,
          0.4337738871950005,
          0.3614706321099993,
          0.3393025333750004,
          0.3289685734499993,
          0.29593224063,
          0.284955397635897,
          0.3012042267400006,
          0.2895800382050001,
          0.2947778916300001,
          0.2877095803450008,
          0.2965709032099995,
          0.2850806564249999,
          0.3116640663948722,
          0.322009946512821,
          0.3133512518150009,
          0.3328699505850001,
          0.3327652916307699,
          0.3208087638250009,
          0.3090685537400004,
          0.3062343630899999,
          0.3025118061200004,
          0.3010268798000006,
          0.3067156934549995,
          0.2914894615700001,
          0.2715901110661201,
          0.2893227005163599,
          0.2868424748428934,
          0.282624289885001,
          0.2564705181729783,
          0.2805589466225845,
          0.2557635068666665,
          0.2799863520256408,
          0.2540809575538463,
          0.2491917627212275,
          0.261928619096939,
          0.2426866435515872,
          0.2731826625185919,
          0.2499530443804624,
          0.2574880859564779,
          0.249312645880299,
          0.2539522577102332,
          0.2841710299554814,
          0.2860990665261043,
          0.2676329907750836,
          0.2782985863365824,
          0.2199308880935964
         ],
         "yaxis": "y"
        },
        {
         "hovertemplate": "variable=danceability<br>year=%{x}<br>value=%{y}<extra></extra>",
         "legendgroup": "danceability",
         "line": {
          "color": "#EF553B",
          "dash": "solid"
         },
         "marker": {
          "symbol": "circle"
         },
         "mode": "lines",
         "name": "danceability",
         "orientation": "v",
         "showlegend": true,
         "type": "scatter",
         "x": [
          1921,
          1922,
          1923,
          1924,
          1925,
          1926,
          1927,
          1928,
          1929,
          1930,
          1931,
          1932,
          1933,
          1934,
          1935,
          1936,
          1937,
          1938,
          1939,
          1940,
          1941,
          1942,
          1943,
          1944,
          1945,
          1946,
          1947,
          1948,
          1949,
          1950,
          1951,
          1952,
          1953,
          1954,
          1955,
          1956,
          1957,
          1958,
          1959,
          1960,
          1961,
          1962,
          1963,
          1964,
          1965,
          1966,
          1967,
          1968,
          1969,
          1970,
          1971,
          1972,
          1973,
          1974,
          1975,
          1976,
          1977,
          1978,
          1979,
          1980,
          1981,
          1982,
          1983,
          1984,
          1985,
          1986,
          1987,
          1988,
          1989,
          1990,
          1991,
          1992,
          1993,
          1994,
          1995,
          1996,
          1997,
          1998,
          1999,
          2000,
          2001,
          2002,
          2003,
          2004,
          2005,
          2006,
          2007,
          2008,
          2009,
          2010,
          2011,
          2012,
          2013,
          2014,
          2015,
          2016,
          2017,
          2018,
          2019,
          2020
         ],
         "xaxis": "x",
         "y": [
          0.4185973333333336,
          0.4820422535211267,
          0.5773405405405401,
          0.5498940677966102,
          0.5738633093525181,
          0.5998802612481859,
          0.6482682926829262,
          0.5342878667724027,
          0.6476698529411761,
          0.5181758835758836,
          0.5952217391304357,
          0.5577976095617526,
          0.57029030390738,
          0.528705882352941,
          0.5558691699604746,
          0.5580055454545453,
          0.5421572298325723,
          0.479977977161501,
          0.5126828,
          0.52189235,
          0.4804813541666676,
          0.4646338882282997,
          0.4551456338028168,
          0.5001744680851068,
          0.5191431500000011,
          0.4144450116009276,
          0.4713208484848491,
          0.4633694736842109,
          0.4421993999999996,
          0.5042531000000008,
          0.4624800999999999,
          0.4570322000000001,
          0.4374260512820513,
          0.4656388999999994,
          0.4881312,
          0.4878145000000007,
          0.5034812307692305,
          0.4800213999999995,
          0.4821143076923083,
          0.4860292432432435,
          0.4891655789473678,
          0.4931643684210523,
          0.48162135,
          0.5041769743589742,
          0.5034505641025638,
          0.5070204999999981,
          0.4926885942971483,
          0.5010080999999997,
          0.4880977999999999,
          0.5063075000000004,
          0.5042738499999999,
          0.5209994499999997,
          0.5154494500000005,
          0.51533975,
          0.5209980000000007,
          0.5297624999999999,
          0.5333237000000017,
          0.5407746000000005,
          0.5620453000000001,
          0.5561523589743594,
          0.5421846999999999,
          0.5642594000000005,
          0.5456292999999998,
          0.5303089499999987,
          0.5556424000000012,
          0.5409334000000001,
          0.5410193333333342,
          0.5404594358974372,
          0.5472274499999988,
          0.5352986500000001,
          0.5558243589743591,
          0.5550648499999989,
          0.5698781500000001,
          0.5528299500000016,
          0.5590457500000001,
          0.5878306000000001,
          0.5768138499999994,
          0.5862116499999998,
          0.5821579190158892,
          0.590918047034764,
          0.5833178553615969,
          0.5761602999999997,
          0.5757633060388944,
          0.5676803662258397,
          0.5722805641025652,
          0.5682301538461539,
          0.5634143589743592,
          0.5791928388746803,
          0.5641903571428577,
          0.5724883432539687,
          0.5528669806643526,
          0.5708818508997433,
          0.5711480263157896,
          0.5899476807980057,
          0.5937740628166152,
          0.6002023928770179,
          0.6122170180722886,
          0.6635004755111744,
          0.6448141097998967,
          0.6929043349753701
         ],
         "yaxis": "y"
        },
        {
         "hovertemplate": "variable=energy<br>year=%{x}<br>value=%{y}<extra></extra>",
         "legendgroup": "energy",
         "line": {
          "color": "#00cc96",
          "dash": "solid"
         },
         "marker": {
          "symbol": "circle"
         },
         "mode": "lines",
         "name": "energy",
         "orientation": "v",
         "showlegend": true,
         "type": "scatter",
         "x": [
          1921,
          1922,
          1923,
          1924,
          1925,
          1926,
          1927,
          1928,
          1929,
          1930,
          1931,
          1932,
          1933,
          1934,
          1935,
          1936,
          1937,
          1938,
          1939,
          1940,
          1941,
          1942,
          1943,
          1944,
          1945,
          1946,
          1947,
          1948,
          1949,
          1950,
          1951,
          1952,
          1953,
          1954,
          1955,
          1956,
          1957,
          1958,
          1959,
          1960,
          1961,
          1962,
          1963,
          1964,
          1965,
          1966,
          1967,
          1968,
          1969,
          1970,
          1971,
          1972,
          1973,
          1974,
          1975,
          1976,
          1977,
          1978,
          1979,
          1980,
          1981,
          1982,
          1983,
          1984,
          1985,
          1986,
          1987,
          1988,
          1989,
          1990,
          1991,
          1992,
          1993,
          1994,
          1995,
          1996,
          1997,
          1998,
          1999,
          2000,
          2001,
          2002,
          2003,
          2004,
          2005,
          2006,
          2007,
          2008,
          2009,
          2010,
          2011,
          2012,
          2013,
          2014,
          2015,
          2016,
          2017,
          2018,
          2019,
          2020
         ],
         "xaxis": "x",
         "y": [
          0.2318151333333333,
          0.2378153521126759,
          0.2624064864864865,
          0.3443466101694912,
          0.2785935251798561,
          0.2114670907111756,
          0.2643213008130081,
          0.2079477954004757,
          0.2418007352941172,
          0.3335239189189189,
          0.2344967732919257,
          0.3020677290836656,
          0.2798994211287988,
          0.2621313148788928,
          0.2463669762845848,
          0.3083886092727274,
          0.3110482952815827,
          0.2809812398042416,
          0.2826715000000002,
          0.3108928949999999,
          0.2656431979166666,
          0.2560794708680144,
          0.2799900422535211,
          0.2534414494680852,
          0.2260444155,
          0.2221723085846866,
          0.2635512000000002,
          0.242464841052632,
          0.2461146149999996,
          0.3140711950000003,
          0.254665655,
          0.2536260100000002,
          0.2661968307692306,
          0.264347385,
          0.2950963400000001,
          0.3047611200000001,
          0.2952791333333324,
          0.3087957550000006,
          0.3109944051282049,
          0.3411423783783781,
          0.3395318673684203,
          0.3710257,
          0.3653538849999999,
          0.394438825641026,
          0.4490272461538461,
          0.482208465,
          0.4468238319159585,
          0.4569696500000004,
          0.4876251299999994,
          0.495633050000001,
          0.4963612550000003,
          0.5045261799999999,
          0.5361382499999989,
          0.5147236550000011,
          0.5232085050000003,
          0.5538432500000001,
          0.560287959000001,
          0.5614288650000007,
          0.5910127149999996,
          0.5977773948717964,
          0.5993827249999998,
          0.5909193894999996,
          0.6014252350000012,
          0.5910916750000013,
          0.6015154800000013,
          0.6149545999999998,
          0.5798395538461533,
          0.5856792461538458,
          0.584046375000001,
          0.5715913950000007,
          0.5594023641025635,
          0.5828642050000001,
          0.5625599100000002,
          0.578772685000001,
          0.5785795100000009,
          0.5860684750000011,
          0.5986987151000001,
          0.6051975050000015,
          0.6375226022552535,
          0.6254128323108387,
          0.6269855221945144,
          0.6412697960000012,
          0.6601652610030712,
          0.6488679450661226,
          0.653208511282051,
          0.6503262820512825,
          0.6683047743589737,
          0.6714608207672623,
          0.6707487551020408,
          0.6817778026289684,
          0.6483008934060499,
          0.6565714601542408,
          0.6455968914473688,
          0.6487954437905223,
          0.6270642715298895,
          0.5928552316082347,
          0.5904210208835337,
          0.6024346220161672,
          0.5932240360184717,
          0.6312316354679793
         ],
         "yaxis": "y"
        },
        {
         "hovertemplate": "variable=instrumentalness<br>year=%{x}<br>value=%{y}<extra></extra>",
         "legendgroup": "instrumentalness",
         "line": {
          "color": "#ab63fa",
          "dash": "solid"
         },
         "marker": {
          "symbol": "circle"
         },
         "mode": "lines",
         "name": "instrumentalness",
         "orientation": "v",
         "showlegend": true,
         "type": "scatter",
         "x": [
          1921,
          1922,
          1923,
          1924,
          1925,
          1926,
          1927,
          1928,
          1929,
          1930,
          1931,
          1932,
          1933,
          1934,
          1935,
          1936,
          1937,
          1938,
          1939,
          1940,
          1941,
          1942,
          1943,
          1944,
          1945,
          1946,
          1947,
          1948,
          1949,
          1950,
          1951,
          1952,
          1953,
          1954,
          1955,
          1956,
          1957,
          1958,
          1959,
          1960,
          1961,
          1962,
          1963,
          1964,
          1965,
          1966,
          1967,
          1968,
          1969,
          1970,
          1971,
          1972,
          1973,
          1974,
          1975,
          1976,
          1977,
          1978,
          1979,
          1980,
          1981,
          1982,
          1983,
          1984,
          1985,
          1986,
          1987,
          1988,
          1989,
          1990,
          1991,
          1992,
          1993,
          1994,
          1995,
          1996,
          1997,
          1998,
          1999,
          2000,
          2001,
          2002,
          2003,
          2004,
          2005,
          2006,
          2007,
          2008,
          2009,
          2010,
          2011,
          2012,
          2013,
          2014,
          2015,
          2016,
          2017,
          2018,
          2019,
          2020
         ],
         "xaxis": "x",
         "y": [
          0.3448780588666665,
          0.4341948697183099,
          0.371732725027027,
          0.5817009136440677,
          0.4182973612230215,
          0.3330931111175616,
          0.3913284986504065,
          0.4948354801348136,
          0.2152040310609246,
          0.3522059281652805,
          0.2214196416149072,
          0.2263565791633467,
          0.1839489396816208,
          0.276382266643599,
          0.2258732980895915,
          0.2571099957181816,
          0.3270876216438359,
          0.3784246349265906,
          0.2776824694100001,
          0.3168486998649998,
          0.4449516393124999,
          0.392882047871581,
          0.4098969234647892,
          0.4492919654122334,
          0.2758942570149996,
          0.4861264096461711,
          0.3475934179090908,
          0.3554848223842104,
          0.2977615361899994,
          0.245000820015,
          0.3084378555850002,
          0.2884126469300002,
          0.3183223943230766,
          0.2974400082799999,
          0.2166044216900002,
          0.2387634177800001,
          0.1945206161692309,
          0.1812411100599998,
          0.1881481940615383,
          0.1765021594216216,
          0.2646232531421054,
          0.1714715509421054,
          0.18543231468,
          0.1595978017794872,
          0.1183659460923078,
          0.1151259555649999,
          0.1189468546723362,
          0.112776949285,
          0.1594527081650001,
          0.1275670030849998,
          0.12501788923,
          0.1148803337599997,
          0.0996802232299999,
          0.11636098351,
          0.1113220337449999,
          0.12162904398,
          0.1277210319449999,
          0.1003812145099999,
          0.1157513720150001,
          0.1287510612717948,
          0.1468379466199998,
          0.100016383,
          0.1454105232900004,
          0.1451730397350004,
          0.1137385580749998,
          0.1099408543649999,
          0.1019745174666666,
          0.117190380220513,
          0.1131825446149999,
          0.1258262680949997,
          0.1150923397999999,
          0.1006900830649998,
          0.11529396538,
          0.1118857599499999,
          0.1232687960699999,
          0.0950528120350001,
          0.1046901786199999,
          0.1113257503499999,
          0.0940681410661199,
          0.1011677687934559,
          0.1072140189925186,
          0.0880483503149999,
          0.0830492746673491,
          0.0779340349084435,
          0.0901943611846154,
          0.0777014718769231,
          0.0729572680512819,
          0.0636620903171356,
          0.0758720736836735,
          0.0829805682192461,
          0.103772332166584,
          0.0852055206786631,
          0.0983650539170038,
          0.0765695548379051,
          0.1067868780547114,
          0.0939843871174179,
          0.0970906090662649,
          0.0542171216690441,
          0.0776402469728064,
          0.0163755243054187
         ],
         "yaxis": "y"
        },
        {
         "hovertemplate": "variable=liveness<br>year=%{x}<br>value=%{y}<extra></extra>",
         "legendgroup": "liveness",
         "line": {
          "color": "#FFA15A",
          "dash": "solid"
         },
         "marker": {
          "symbol": "circle"
         },
         "mode": "lines",
         "name": "liveness",
         "orientation": "v",
         "showlegend": true,
         "type": "scatter",
         "x": [
          1921,
          1922,
          1923,
          1924,
          1925,
          1926,
          1927,
          1928,
          1929,
          1930,
          1931,
          1932,
          1933,
          1934,
          1935,
          1936,
          1937,
          1938,
          1939,
          1940,
          1941,
          1942,
          1943,
          1944,
          1945,
          1946,
          1947,
          1948,
          1949,
          1950,
          1951,
          1952,
          1953,
          1954,
          1955,
          1956,
          1957,
          1958,
          1959,
          1960,
          1961,
          1962,
          1963,
          1964,
          1965,
          1966,
          1967,
          1968,
          1969,
          1970,
          1971,
          1972,
          1973,
          1974,
          1975,
          1976,
          1977,
          1978,
          1979,
          1980,
          1981,
          1982,
          1983,
          1984,
          1985,
          1986,
          1987,
          1988,
          1989,
          1990,
          1991,
          1992,
          1993,
          1994,
          1995,
          1996,
          1997,
          1998,
          1999,
          2000,
          2001,
          2002,
          2003,
          2004,
          2005,
          2006,
          2007,
          2008,
          2009,
          2010,
          2011,
          2012,
          2013,
          2014,
          2015,
          2016,
          2017,
          2018,
          2019,
          2020
         ],
         "xaxis": "x",
         "y": [
          0.20571,
          0.2407197183098592,
          0.2274621621621621,
          0.2352190677966101,
          0.2376679856115108,
          0.2323695936139332,
          0.1684502439024389,
          0.1752893735130848,
          0.2360002100840333,
          0.2213108627858629,
          0.2274279503105589,
          0.2324962151394422,
          0.2090719247467437,
          0.2134525951557092,
          0.2292998682476943,
          0.2214382727272726,
          0.2259677321156773,
          0.237111092985318,
          0.2391015999999999,
          0.2643351000000004,
          0.2018398958333331,
          0.2128784185493456,
          0.2392107042253524,
          0.2387719414893616,
          0.2030099500000001,
          0.2108183294663576,
          0.2238293939393936,
          0.2196935789473678,
          0.2088585500000004,
          0.2169584000000004,
          0.2177773999999999,
          0.2329722999999998,
          0.221734051282051,
          0.2178411499999996,
          0.2214353500000001,
          0.1822571500000002,
          0.1827485641025636,
          0.2058408500000003,
          0.1918429230769232,
          0.2078637297297298,
          0.2089125789473681,
          0.2018957368421054,
          0.2037453000000002,
          0.2172323589743596,
          0.2138391282051284,
          0.2180930999999999,
          0.190917658829415,
          0.2173509500000005,
          0.2069658999999999,
          0.2122688000000002,
          0.2149145500000001,
          0.2069549500000001,
          0.2013747499999997,
          0.2093463499999996,
          0.2154413500000002,
          0.2490321999999999,
          0.2232140500000004,
          0.2180709499999994,
          0.2134431000000002,
          0.2037541025641026,
          0.2250998999999999,
          0.20100675,
          0.1989224500000002,
          0.1977062,
          0.1992064499999998,
          0.2118794500000001,
          0.202018102564103,
          0.207707538461538,
          0.1990802,
          0.1909609,
          0.1886289230769235,
          0.2002455000000007,
          0.1949322500000003,
          0.1921651000000001,
          0.2013737000000004,
          0.1986863000000002,
          0.1984788000000003,
          0.1937308999999996,
          0.206308047155305,
          0.1976860429447853,
          0.1870256359102248,
          0.1939111999999998,
          0.196976305015353,
          0.2021994404883014,
          0.1900816256410258,
          0.1882892820512821,
          0.1961265641025642,
          0.1984314066496162,
          0.2052522959183674,
          0.1997006448412699,
          0.2033088249876056,
          0.1897330077120824,
          0.1996308198380571,
          0.1918215960099752,
          0.1888564336372847,
          0.181169894268225,
          0.1917126004016064,
          0.1763255349500711,
          0.1726164186762446,
          0.1785354187192117
         ],
         "yaxis": "y"
        },
        {
         "hovertemplate": "variable=valence<br>year=%{x}<br>value=%{y}<extra></extra>",
         "legendgroup": "valence",
         "line": {
          "color": "#19d3f3",
          "dash": "solid"
         },
         "marker": {
          "symbol": "circle"
         },
         "mode": "lines",
         "name": "valence",
         "orientation": "v",
         "showlegend": true,
         "type": "scatter",
         "x": [
          1921,
          1922,
          1923,
          1924,
          1925,
          1926,
          1927,
          1928,
          1929,
          1930,
          1931,
          1932,
          1933,
          1934,
          1935,
          1936,
          1937,
          1938,
          1939,
          1940,
          1941,
          1942,
          1943,
          1944,
          1945,
          1946,
          1947,
          1948,
          1949,
          1950,
          1951,
          1952,
          1953,
          1954,
          1955,
          1956,
          1957,
          1958,
          1959,
          1960,
          1961,
          1962,
          1963,
          1964,
          1965,
          1966,
          1967,
          1968,
          1969,
          1970,
          1971,
          1972,
          1973,
          1974,
          1975,
          1976,
          1977,
          1978,
          1979,
          1980,
          1981,
          1982,
          1983,
          1984,
          1985,
          1986,
          1987,
          1988,
          1989,
          1990,
          1991,
          1992,
          1993,
          1994,
          1995,
          1996,
          1997,
          1998,
          1999,
          2000,
          2001,
          2002,
          2003,
          2004,
          2005,
          2006,
          2007,
          2008,
          2009,
          2010,
          2011,
          2012,
          2013,
          2014,
          2015,
          2016,
          2017,
          2018,
          2019,
          2020
         ],
         "xaxis": "x",
         "y": [
          0.3793266666666666,
          0.5355492957746479,
          0.6254924324324328,
          0.6637254237288139,
          0.6219287769784171,
          0.4369104571843251,
          0.6597004878048782,
          0.4957126883425853,
          0.6365298319327733,
          0.6162376299376306,
          0.5131170807453418,
          0.5881599601593626,
          0.5994099855282197,
          0.5588046712802772,
          0.5455777997364957,
          0.5640635454545455,
          0.5857894977168944,
          0.5149111092985317,
          0.5599248999999992,
          0.6167094700000009,
          0.4794560416666661,
          0.4774088585017848,
          0.4954545070422531,
          0.5406954787234041,
          0.4913613500000002,
          0.3982538283062647,
          0.5082125454545455,
          0.4621423684210526,
          0.4304195000000001,
          0.5516497000000001,
          0.44134755,
          0.4431349620499994,
          0.4291420512820513,
          0.4523410500000002,
          0.4724154999999997,
          0.5084230500000003,
          0.5110101538461542,
          0.4976614999999994,
          0.4784156410256422,
          0.5239316756756759,
          0.5128512105263155,
          0.5477920526315792,
          0.5415274500000008,
          0.55726042051282,
          0.5809506666666668,
          0.5801445499999996,
          0.5507916958479243,
          0.5659936500000002,
          0.5547452849999999,
          0.5720753999999992,
          0.5749132500000002,
          0.5956881500000009,
          0.5921162000000004,
          0.5812744000000009,
          0.5694151500000002,
          0.5807332499999998,
          0.58524655,
          0.5895352500000014,
          0.6099818000000005,
          0.5980580512820513,
          0.5829518500000006,
          0.5864384500000001,
          0.5721198999999989,
          0.5516387100000003,
          0.5655964500000001,
          0.5509485500000019,
          0.5414511794871785,
          0.5464853897435901,
          0.5483329000000007,
          0.5265268499999999,
          0.5486552307692295,
          0.5590983000000014,
          0.5555684500000001,
          0.5266491500000006,
          0.5302466999999994,
          0.5608732500000001,
          0.5485525000000002,
          0.5377209,
          0.5564528446950284,
          0.5594754601226991,
          0.541479107231919,
          0.5423971500000008,
          0.5305042476970324,
          0.5244885554425227,
          0.5325309230769236,
          0.5200283076923078,
          0.5167938461538473,
          0.5275418925831203,
          0.5071696617346935,
          0.5208951587301589,
          0.4724536787307882,
          0.4627090128534706,
          0.4547411943319834,
          0.4630487780548628,
          0.4320983687943254,
          0.4315320589872012,
          0.4164763112449793,
          0.4479212743699474,
          0.4588176295536167,
          0.5010478078817729
         ],
         "yaxis": "y"
        }
       ],
       "layout": {
        "legend": {
         "title": {
          "text": "variable"
         },
         "tracegroupgap": 0
        },
        "margin": {
         "t": 60
        },
        "template": {
         "data": {
          "bar": [
           {
            "error_x": {
             "color": "#2a3f5f"
            },
            "error_y": {
             "color": "#2a3f5f"
            },
            "marker": {
             "line": {
              "color": "#E5ECF6",
              "width": 0.5
             },
             "pattern": {
              "fillmode": "overlay",
              "size": 10,
              "solidity": 0.2
             }
            },
            "type": "bar"
           }
          ],
          "barpolar": [
           {
            "marker": {
             "line": {
              "color": "#E5ECF6",
              "width": 0.5
             },
             "pattern": {
              "fillmode": "overlay",
              "size": 10,
              "solidity": 0.2
             }
            },
            "type": "barpolar"
           }
          ],
          "carpet": [
           {
            "aaxis": {
             "endlinecolor": "#2a3f5f",
             "gridcolor": "white",
             "linecolor": "white",
             "minorgridcolor": "white",
             "startlinecolor": "#2a3f5f"
            },
            "baxis": {
             "endlinecolor": "#2a3f5f",
             "gridcolor": "white",
             "linecolor": "white",
             "minorgridcolor": "white",
             "startlinecolor": "#2a3f5f"
            },
            "type": "carpet"
           }
          ],
          "choropleth": [
           {
            "colorbar": {
             "outlinewidth": 0,
             "ticks": ""
            },
            "type": "choropleth"
           }
          ],
          "contour": [
           {
            "colorbar": {
             "outlinewidth": 0,
             "ticks": ""
            },
            "colorscale": [
             [
              0,
              "#0d0887"
             ],
             [
              0.1111111111111111,
              "#46039f"
             ],
             [
              0.2222222222222222,
              "#7201a8"
             ],
             [
              0.3333333333333333,
              "#9c179e"
             ],
             [
              0.4444444444444444,
              "#bd3786"
             ],
             [
              0.5555555555555556,
              "#d8576b"
             ],
             [
              0.6666666666666666,
              "#ed7953"
             ],
             [
              0.7777777777777778,
              "#fb9f3a"
             ],
             [
              0.8888888888888888,
              "#fdca26"
             ],
             [
              1,
              "#f0f921"
             ]
            ],
            "type": "contour"
           }
          ],
          "contourcarpet": [
           {
            "colorbar": {
             "outlinewidth": 0,
             "ticks": ""
            },
            "type": "contourcarpet"
           }
          ],
          "heatmap": [
           {
            "colorbar": {
             "outlinewidth": 0,
             "ticks": ""
            },
            "colorscale": [
             [
              0,
              "#0d0887"
             ],
             [
              0.1111111111111111,
              "#46039f"
             ],
             [
              0.2222222222222222,
              "#7201a8"
             ],
             [
              0.3333333333333333,
              "#9c179e"
             ],
             [
              0.4444444444444444,
              "#bd3786"
             ],
             [
              0.5555555555555556,
              "#d8576b"
             ],
             [
              0.6666666666666666,
              "#ed7953"
             ],
             [
              0.7777777777777778,
              "#fb9f3a"
             ],
             [
              0.8888888888888888,
              "#fdca26"
             ],
             [
              1,
              "#f0f921"
             ]
            ],
            "type": "heatmap"
           }
          ],
          "heatmapgl": [
           {
            "colorbar": {
             "outlinewidth": 0,
             "ticks": ""
            },
            "colorscale": [
             [
              0,
              "#0d0887"
             ],
             [
              0.1111111111111111,
              "#46039f"
             ],
             [
              0.2222222222222222,
              "#7201a8"
             ],
             [
              0.3333333333333333,
              "#9c179e"
             ],
             [
              0.4444444444444444,
              "#bd3786"
             ],
             [
              0.5555555555555556,
              "#d8576b"
             ],
             [
              0.6666666666666666,
              "#ed7953"
             ],
             [
              0.7777777777777778,
              "#fb9f3a"
             ],
             [
              0.8888888888888888,
              "#fdca26"
             ],
             [
              1,
              "#f0f921"
             ]
            ],
            "type": "heatmapgl"
           }
          ],
          "histogram": [
           {
            "marker": {
             "pattern": {
              "fillmode": "overlay",
              "size": 10,
              "solidity": 0.2
             }
            },
            "type": "histogram"
           }
          ],
          "histogram2d": [
           {
            "colorbar": {
             "outlinewidth": 0,
             "ticks": ""
            },
            "colorscale": [
             [
              0,
              "#0d0887"
             ],
             [
              0.1111111111111111,
              "#46039f"
             ],
             [
              0.2222222222222222,
              "#7201a8"
             ],
             [
              0.3333333333333333,
              "#9c179e"
             ],
             [
              0.4444444444444444,
              "#bd3786"
             ],
             [
              0.5555555555555556,
              "#d8576b"
             ],
             [
              0.6666666666666666,
              "#ed7953"
             ],
             [
              0.7777777777777778,
              "#fb9f3a"
             ],
             [
              0.8888888888888888,
              "#fdca26"
             ],
             [
              1,
              "#f0f921"
             ]
            ],
            "type": "histogram2d"
           }
          ],
          "histogram2dcontour": [
           {
            "colorbar": {
             "outlinewidth": 0,
             "ticks": ""
            },
            "colorscale": [
             [
              0,
              "#0d0887"
             ],
             [
              0.1111111111111111,
              "#46039f"
             ],
             [
              0.2222222222222222,
              "#7201a8"
             ],
             [
              0.3333333333333333,
              "#9c179e"
             ],
             [
              0.4444444444444444,
              "#bd3786"
             ],
             [
              0.5555555555555556,
              "#d8576b"
             ],
             [
              0.6666666666666666,
              "#ed7953"
             ],
             [
              0.7777777777777778,
              "#fb9f3a"
             ],
             [
              0.8888888888888888,
              "#fdca26"
             ],
             [
              1,
              "#f0f921"
             ]
            ],
            "type": "histogram2dcontour"
           }
          ],
          "mesh3d": [
           {
            "colorbar": {
             "outlinewidth": 0,
             "ticks": ""
            },
            "type": "mesh3d"
           }
          ],
          "parcoords": [
           {
            "line": {
             "colorbar": {
              "outlinewidth": 0,
              "ticks": ""
             }
            },
            "type": "parcoords"
           }
          ],
          "pie": [
           {
            "automargin": true,
            "type": "pie"
           }
          ],
          "scatter": [
           {
            "fillpattern": {
             "fillmode": "overlay",
             "size": 10,
             "solidity": 0.2
            },
            "type": "scatter"
           }
          ],
          "scatter3d": [
           {
            "line": {
             "colorbar": {
              "outlinewidth": 0,
              "ticks": ""
             }
            },
            "marker": {
             "colorbar": {
              "outlinewidth": 0,
              "ticks": ""
             }
            },
            "type": "scatter3d"
           }
          ],
          "scattercarpet": [
           {
            "marker": {
             "colorbar": {
              "outlinewidth": 0,
              "ticks": ""
             }
            },
            "type": "scattercarpet"
           }
          ],
          "scattergeo": [
           {
            "marker": {
             "colorbar": {
              "outlinewidth": 0,
              "ticks": ""
             }
            },
            "type": "scattergeo"
           }
          ],
          "scattergl": [
           {
            "marker": {
             "colorbar": {
              "outlinewidth": 0,
              "ticks": ""
             }
            },
            "type": "scattergl"
           }
          ],
          "scattermapbox": [
           {
            "marker": {
             "colorbar": {
              "outlinewidth": 0,
              "ticks": ""
             }
            },
            "type": "scattermapbox"
           }
          ],
          "scatterpolar": [
           {
            "marker": {
             "colorbar": {
              "outlinewidth": 0,
              "ticks": ""
             }
            },
            "type": "scatterpolar"
           }
          ],
          "scatterpolargl": [
           {
            "marker": {
             "colorbar": {
              "outlinewidth": 0,
              "ticks": ""
             }
            },
            "type": "scatterpolargl"
           }
          ],
          "scatterternary": [
           {
            "marker": {
             "colorbar": {
              "outlinewidth": 0,
              "ticks": ""
             }
            },
            "type": "scatterternary"
           }
          ],
          "surface": [
           {
            "colorbar": {
             "outlinewidth": 0,
             "ticks": ""
            },
            "colorscale": [
             [
              0,
              "#0d0887"
             ],
             [
              0.1111111111111111,
              "#46039f"
             ],
             [
              0.2222222222222222,
              "#7201a8"
             ],
             [
              0.3333333333333333,
              "#9c179e"
             ],
             [
              0.4444444444444444,
              "#bd3786"
             ],
             [
              0.5555555555555556,
              "#d8576b"
             ],
             [
              0.6666666666666666,
              "#ed7953"
             ],
             [
              0.7777777777777778,
              "#fb9f3a"
             ],
             [
              0.8888888888888888,
              "#fdca26"
             ],
             [
              1,
              "#f0f921"
             ]
            ],
            "type": "surface"
           }
          ],
          "table": [
           {
            "cells": {
             "fill": {
              "color": "#EBF0F8"
             },
             "line": {
              "color": "white"
             }
            },
            "header": {
             "fill": {
              "color": "#C8D4E3"
             },
             "line": {
              "color": "white"
             }
            },
            "type": "table"
           }
          ]
         },
         "layout": {
          "annotationdefaults": {
           "arrowcolor": "#2a3f5f",
           "arrowhead": 0,
           "arrowwidth": 1
          },
          "autotypenumbers": "strict",
          "coloraxis": {
           "colorbar": {
            "outlinewidth": 0,
            "ticks": ""
           }
          },
          "colorscale": {
           "diverging": [
            [
             0,
             "#8e0152"
            ],
            [
             0.1,
             "#c51b7d"
            ],
            [
             0.2,
             "#de77ae"
            ],
            [
             0.3,
             "#f1b6da"
            ],
            [
             0.4,
             "#fde0ef"
            ],
            [
             0.5,
             "#f7f7f7"
            ],
            [
             0.6,
             "#e6f5d0"
            ],
            [
             0.7,
             "#b8e186"
            ],
            [
             0.8,
             "#7fbc41"
            ],
            [
             0.9,
             "#4d9221"
            ],
            [
             1,
             "#276419"
            ]
           ],
           "sequential": [
            [
             0,
             "#0d0887"
            ],
            [
             0.1111111111111111,
             "#46039f"
            ],
            [
             0.2222222222222222,
             "#7201a8"
            ],
            [
             0.3333333333333333,
             "#9c179e"
            ],
            [
             0.4444444444444444,
             "#bd3786"
            ],
            [
             0.5555555555555556,
             "#d8576b"
            ],
            [
             0.6666666666666666,
             "#ed7953"
            ],
            [
             0.7777777777777778,
             "#fb9f3a"
            ],
            [
             0.8888888888888888,
             "#fdca26"
            ],
            [
             1,
             "#f0f921"
            ]
           ],
           "sequentialminus": [
            [
             0,
             "#0d0887"
            ],
            [
             0.1111111111111111,
             "#46039f"
            ],
            [
             0.2222222222222222,
             "#7201a8"
            ],
            [
             0.3333333333333333,
             "#9c179e"
            ],
            [
             0.4444444444444444,
             "#bd3786"
            ],
            [
             0.5555555555555556,
             "#d8576b"
            ],
            [
             0.6666666666666666,
             "#ed7953"
            ],
            [
             0.7777777777777778,
             "#fb9f3a"
            ],
            [
             0.8888888888888888,
             "#fdca26"
            ],
            [
             1,
             "#f0f921"
            ]
           ]
          },
          "colorway": [
           "#636efa",
           "#EF553B",
           "#00cc96",
           "#ab63fa",
           "#FFA15A",
           "#19d3f3",
           "#FF6692",
           "#B6E880",
           "#FF97FF",
           "#FECB52"
          ],
          "font": {
           "color": "#2a3f5f"
          },
          "geo": {
           "bgcolor": "white",
           "lakecolor": "white",
           "landcolor": "#E5ECF6",
           "showlakes": true,
           "showland": true,
           "subunitcolor": "white"
          },
          "hoverlabel": {
           "align": "left"
          },
          "hovermode": "closest",
          "mapbox": {
           "style": "light"
          },
          "paper_bgcolor": "white",
          "plot_bgcolor": "#E5ECF6",
          "polar": {
           "angularaxis": {
            "gridcolor": "white",
            "linecolor": "white",
            "ticks": ""
           },
           "bgcolor": "#E5ECF6",
           "radialaxis": {
            "gridcolor": "white",
            "linecolor": "white",
            "ticks": ""
           }
          },
          "scene": {
           "xaxis": {
            "backgroundcolor": "#E5ECF6",
            "gridcolor": "white",
            "gridwidth": 2,
            "linecolor": "white",
            "showbackground": true,
            "ticks": "",
            "zerolinecolor": "white"
           },
           "yaxis": {
            "backgroundcolor": "#E5ECF6",
            "gridcolor": "white",
            "gridwidth": 2,
            "linecolor": "white",
            "showbackground": true,
            "ticks": "",
            "zerolinecolor": "white"
           },
           "zaxis": {
            "backgroundcolor": "#E5ECF6",
            "gridcolor": "white",
            "gridwidth": 2,
            "linecolor": "white",
            "showbackground": true,
            "ticks": "",
            "zerolinecolor": "white"
           }
          },
          "shapedefaults": {
           "line": {
            "color": "#2a3f5f"
           }
          },
          "ternary": {
           "aaxis": {
            "gridcolor": "white",
            "linecolor": "white",
            "ticks": ""
           },
           "baxis": {
            "gridcolor": "white",
            "linecolor": "white",
            "ticks": ""
           },
           "bgcolor": "#E5ECF6",
           "caxis": {
            "gridcolor": "white",
            "linecolor": "white",
            "ticks": ""
           }
          },
          "title": {
           "x": 0.05
          },
          "xaxis": {
           "automargin": true,
           "gridcolor": "white",
           "linecolor": "white",
           "ticks": "",
           "title": {
            "standoff": 15
           },
           "zerolinecolor": "white",
           "zerolinewidth": 2
          },
          "yaxis": {
           "automargin": true,
           "gridcolor": "white",
           "linecolor": "white",
           "ticks": "",
           "title": {
            "standoff": 15
           },
           "zerolinecolor": "white",
           "zerolinewidth": 2
          }
         }
        },
        "xaxis": {
         "anchor": "y",
         "domain": [
          0,
          1
         ],
         "title": {
          "text": "year"
         }
        },
        "yaxis": {
         "anchor": "x",
         "domain": [
          0,
          1
         ],
         "title": {
          "text": "value"
         }
        }
       }
      }
     },
     "metadata": {},
     "output_type": "display_data"
    }
   ],
   "source": [
    "\n",
    "sound_features = ['acousticness', 'danceability', 'energy', 'instrumentalness', 'liveness', 'valence']\n",
    "fig = px.line(year_data, x='year', y=sound_features)\n",
    "fig.show()"
   ]
  },
  {
   "cell_type": "code",
   "execution_count": 14,
   "id": "0a6ee9da",
   "metadata": {},
   "outputs": [
    {
     "data": {
      "image/png": "[encoded data removed]",
      "text/plain": [
       "<Figure size 1000x1000 with 1 Axes>"
      ]
     },
     "metadata": {},
     "output_type": "display_data"
    },
    {
     "data": {
      "text/plain": [
       "<Axes: title={'center': 'Features correlation with dependent variable'}, xlabel='Pearson Correlation'>"
      ]
     },
     "execution_count": 14,
     "metadata": {},
     "output_type": "execute_result"
    }
   ],
   "source": [
    "from yellowbrick.target import FeatureCorrelation\n",
    "\n",
    "feature_names = ['acousticness', 'danceability', 'energy', 'instrumentalness',\n",
    "       'liveness', 'loudness', 'speechiness', 'tempo', 'valence','duration_ms','explicit','key','mode','year']\n",
    "\n",
    "X, y = data[feature_names], data['popularity']\n",
    "\n",
    "features = np.array(feature_names)\n",
    "\n",
    "visualizer = FeatureCorrelation(labels=features)\n",
    "\n",
    "plt.rcParams['figure.figsize']=(10,10)\n",
    "visualizer.fit(X, y)\n",
    "visualizer.show()"
   ]
  },
  {
   "cell_type": "code",
   "execution_count": 15,
   "id": "f42906ee",
   "metadata": {},
   "outputs": [
    {
     "data": {
      "application/vnd.plotly.v1+json": {
       "config": {
        "plotlyServerURL": "https://plot.ly"
       },
       "data": [
        {
         "alignmentgroup": "True",
         "hovertemplate": "variable=valence<br>genres=%{x}<br>value=%{y}<extra></extra>",
         "legendgroup": "valence",
         "marker": {
          "color": "#636efa",
          "pattern": {
           "shape": ""
          }
         },
         "name": "valence",
         "offsetgroup": "valence",
         "orientation": "v",
         "showlegend": true,
         "textposition": "auto",
         "type": "bar",
         "x": [
          "basshall",
          "south african house",
          "trap venezolano",
          "turkish edm",
          "alberta hip hop",
          "chinese electropop",
          "afroswing",
          "afro soul",
          "circuit",
          "guaracha"
         ],
         "xaxis": "x",
         "y": [
          0.5886666666666667,
          0.8343333333333334,
          0.706,
          0.364,
          0.937,
          0.199,
          0.676625,
          0.743,
          0.556,
          0.556
         ],
         "yaxis": "y"
        },
        {
         "alignmentgroup": "True",
         "hovertemplate": "variable=energy<br>genres=%{x}<br>value=%{y}<extra></extra>",
         "legendgroup": "energy",
         "marker": {
          "color": "#EF553B",
          "pattern": {
           "shape": ""
          }
         },
         "name": "energy",
         "offsetgroup": "energy",
         "orientation": "v",
         "showlegend": true,
         "textposition": "auto",
         "type": "bar",
         "x": [
          "basshall",
          "south african house",
          "trap venezolano",
          "turkish edm",
          "alberta hip hop",
          "chinese electropop",
          "afroswing",
          "afro soul",
          "circuit",
          "guaracha"
         ],
         "xaxis": "x",
         "y": [
          0.6301666666666668,
          0.5623333333333332,
          0.777,
          0.7190000000000001,
          0.685,
          0.787,
          0.5801875,
          0.873,
          0.972,
          0.972
         ],
         "yaxis": "y"
        },
        {
         "alignmentgroup": "True",
         "hovertemplate": "variable=danceability<br>genres=%{x}<br>value=%{y}<extra></extra>",
         "legendgroup": "danceability",
         "marker": {
          "color": "#00cc96",
          "pattern": {
           "shape": ""
          }
         },
         "name": "danceability",
         "offsetgroup": "danceability",
         "orientation": "v",
         "showlegend": true,
         "textposition": "auto",
         "type": "bar",
         "x": [
          "basshall",
          "south african house",
          "trap venezolano",
          "turkish edm",
          "alberta hip hop",
          "chinese electropop",
          "afroswing",
          "afro soul",
          "circuit",
          "guaracha"
         ],
         "xaxis": "x",
         "y": [
          0.8180000000000001,
          0.847,
          0.877,
          0.698,
          0.885,
          0.66,
          0.71175,
          0.7659999999999999,
          0.745,
          0.745
         ],
         "yaxis": "y"
        },
        {
         "alignmentgroup": "True",
         "hovertemplate": "variable=acousticness<br>genres=%{x}<br>value=%{y}<extra></extra>",
         "legendgroup": "acousticness",
         "marker": {
          "color": "#ab63fa",
          "pattern": {
           "shape": ""
          }
         },
         "name": "acousticness",
         "offsetgroup": "acousticness",
         "orientation": "v",
         "showlegend": true,
         "textposition": "auto",
         "type": "bar",
         "x": [
          "basshall",
          "south african house",
          "trap venezolano",
          "turkish edm",
          "alberta hip hop",
          "chinese electropop",
          "afroswing",
          "afro soul",
          "circuit",
          "guaracha"
         ],
         "xaxis": "x",
         "y": [
          0.2131666666666666,
          0.0438333333333333,
          0.0446,
          0.00829,
          0.33,
          0.00257,
          0.31845,
          0.00627,
          0.00903,
          0.00903
         ],
         "yaxis": "y"
        }
       ],
       "layout": {
        "barmode": "group",
        "legend": {
         "title": {
          "text": "variable"
         },
         "tracegroupgap": 0
        },
        "margin": {
         "t": 60
        },
        "template": {
         "data": {
          "bar": [
           {
            "error_x": {
             "color": "#2a3f5f"
            },
            "error_y": {
             "color": "#2a3f5f"
            },
            "marker": {
             "line": {
              "color": "#E5ECF6",
              "width": 0.5
             },
             "pattern": {
              "fillmode": "overlay",
              "size": 10,
              "solidity": 0.2
             }
            },
            "type": "bar"
           }
          ],
          "barpolar": [
           {
            "marker": {
             "line": {
              "color": "#E5ECF6",
              "width": 0.5
             },
             "pattern": {
              "fillmode": "overlay",
              "size": 10,
              "solidity": 0.2
             }
            },
            "type": "barpolar"
           }
          ],
          "carpet": [
           {
            "aaxis": {
             "endlinecolor": "#2a3f5f",
             "gridcolor": "white",
             "linecolor": "white",
             "minorgridcolor": "white",
             "startlinecolor": "#2a3f5f"
            },
            "baxis": {
             "endlinecolor": "#2a3f5f",
             "gridcolor": "white",
             "linecolor": "white",
             "minorgridcolor": "white",
             "startlinecolor": "#2a3f5f"
            },
            "type": "carpet"
           }
          ],
          "choropleth": [
           {
            "colorbar": {
             "outlinewidth": 0,
             "ticks": ""
            },
            "type": "choropleth"
           }
          ],
          "contour": [
           {
            "colorbar": {
             "outlinewidth": 0,
             "ticks": ""
            },
            "colorscale": [
             [
              0,
              "#0d0887"
             ],
             [
              0.1111111111111111,
              "#46039f"
             ],
             [
              0.2222222222222222,
              "#7201a8"
             ],
             [
              0.3333333333333333,
              "#9c179e"
             ],
             [
              0.4444444444444444,
              "#bd3786"
             ],
             [
              0.5555555555555556,
              "#d8576b"
             ],
             [
              0.6666666666666666,
              "#ed7953"
             ],
             [
              0.7777777777777778,
              "#fb9f3a"
             ],
             [
              0.8888888888888888,
              "#fdca26"
             ],
             [
              1,
              "#f0f921"
             ]
            ],
            "type": "contour"
           }
          ],
          "contourcarpet": [
           {
            "colorbar": {
             "outlinewidth": 0,
             "ticks": ""
            },
            "type": "contourcarpet"
           }
          ],
          "heatmap": [
           {
            "colorbar": {
             "outlinewidth": 0,
             "ticks": ""
            },
            "colorscale": [
             [
              0,
              "#0d0887"
             ],
             [
              0.1111111111111111,
              "#46039f"
             ],
             [
              0.2222222222222222,
              "#7201a8"
             ],
             [
              0.3333333333333333,
              "#9c179e"
             ],
             [
              0.4444444444444444,
              "#bd3786"
             ],
             [
              0.5555555555555556,
              "#d8576b"
             ],
             [
              0.6666666666666666,
              "#ed7953"
             ],
             [
              0.7777777777777778,
              "#fb9f3a"
             ],
             [
              0.8888888888888888,
              "#fdca26"
             ],
             [
              1,
              "#f0f921"
             ]
            ],
            "type": "heatmap"
           }
          ],
          "heatmapgl": [
           {
            "colorbar": {
             "outlinewidth": 0,
             "ticks": ""
            },
            "colorscale": [
             [
              0,
              "#0d0887"
             ],
             [
              0.1111111111111111,
              "#46039f"
             ],
             [
              0.2222222222222222,
              "#7201a8"
             ],
             [
              0.3333333333333333,
              "#9c179e"
             ],
             [
              0.4444444444444444,
              "#bd3786"
             ],
             [
              0.5555555555555556,
              "#d8576b"
             ],
             [
              0.6666666666666666,
              "#ed7953"
             ],
             [
              0.7777777777777778,
              "#fb9f3a"
             ],
             [
              0.8888888888888888,
              "#fdca26"
             ],
             [
              1,
              "#f0f921"
             ]
            ],
            "type": "heatmapgl"
           }
          ],
          "histogram": [
           {
            "marker": {
             "pattern": {
              "fillmode": "overlay",
              "size": 10,
              "solidity": 0.2
             }
            },
            "type": "histogram"
           }
          ],
          "histogram2d": [
           {
            "colorbar": {
             "outlinewidth": 0,
             "ticks": ""
            },
            "colorscale": [
             [
              0,
              "#0d0887"
             ],
             [
              0.1111111111111111,
              "#46039f"
             ],
             [
              0.2222222222222222,
              "#7201a8"
             ],
             [
              0.3333333333333333,
              "#9c179e"
             ],
             [
              0.4444444444444444,
              "#bd3786"
             ],
             [
              0.5555555555555556,
              "#d8576b"
             ],
             [
              0.6666666666666666,
              "#ed7953"
             ],
             [
              0.7777777777777778,
              "#fb9f3a"
             ],
             [
              0.8888888888888888,
              "#fdca26"
             ],
             [
              1,
              "#f0f921"
             ]
            ],
            "type": "histogram2d"
           }
          ],
          "histogram2dcontour": [
           {
            "colorbar": {
             "outlinewidth": 0,
             "ticks": ""
            },
            "colorscale": [
             [
              0,
              "#0d0887"
             ],
             [
              0.1111111111111111,
              "#46039f"
             ],
             [
              0.2222222222222222,
              "#7201a8"
             ],
             [
              0.3333333333333333,
              "#9c179e"
             ],
             [
              0.4444444444444444,
              "#bd3786"
             ],
             [
              0.5555555555555556,
              "#d8576b"
             ],
             [
              0.6666666666666666,
              "#ed7953"
             ],
             [
              0.7777777777777778,
              "#fb9f3a"
             ],
             [
              0.8888888888888888,
              "#fdca26"
             ],
             [
              1,
              "#f0f921"
             ]
            ],
            "type": "histogram2dcontour"
           }
          ],
          "mesh3d": [
           {
            "colorbar": {
             "outlinewidth": 0,
             "ticks": ""
            },
            "type": "mesh3d"
           }
          ],
          "parcoords": [
           {
            "line": {
             "colorbar": {
              "outlinewidth": 0,
              "ticks": ""
             }
            },
            "type": "parcoords"
           }
          ],
          "pie": [
           {
            "automargin": true,
            "type": "pie"
           }
          ],
          "scatter": [
           {
            "fillpattern": {
             "fillmode": "overlay",
             "size": 10,
             "solidity": 0.2
            },
            "type": "scatter"
           }
          ],
          "scatter3d": [
           {
            "line": {
             "colorbar": {
              "outlinewidth": 0,
              "ticks": ""
             }
            },
            "marker": {
             "colorbar": {
              "outlinewidth": 0,
              "ticks": ""
             }
            },
            "type": "scatter3d"
           }
          ],
          "scattercarpet": [
           {
            "marker": {
             "colorbar": {
              "outlinewidth": 0,
              "ticks": ""
             }
            },
            "type": "scattercarpet"
           }
          ],
          "scattergeo": [
           {
            "marker": {
             "colorbar": {
              "outlinewidth": 0,
              "ticks": ""
             }
            },
            "type": "scattergeo"
           }
          ],
          "scattergl": [
           {
            "marker": {
             "colorbar": {
              "outlinewidth": 0,
              "ticks": ""
             }
            },
            "type": "scattergl"
           }
          ],
          "scattermapbox": [
           {
            "marker": {
             "colorbar": {
              "outlinewidth": 0,
              "ticks": ""
             }
            },
            "type": "scattermapbox"
           }
          ],
          "scatterpolar": [
           {
            "marker": {
             "colorbar": {
              "outlinewidth": 0,
              "ticks": ""
             }
            },
            "type": "scatterpolar"
           }
          ],
          "scatterpolargl": [
           {
            "marker": {
             "colorbar": {
              "outlinewidth": 0,
              "ticks": ""
             }
            },
            "type": "scatterpolargl"
           }
          ],
          "scatterternary": [
           {
            "marker": {
             "colorbar": {
              "outlinewidth": 0,
              "ticks": ""
             }
            },
            "type": "scatterternary"
           }
          ],
          "surface": [
           {
            "colorbar": {
             "outlinewidth": 0,
             "ticks": ""
            },
            "colorscale": [
             [
              0,
              "#0d0887"
             ],
             [
              0.1111111111111111,
              "#46039f"
             ],
             [
              0.2222222222222222,
              "#7201a8"
             ],
             [
              0.3333333333333333,
              "#9c179e"
             ],
             [
              0.4444444444444444,
              "#bd3786"
             ],
             [
              0.5555555555555556,
              "#d8576b"
             ],
             [
              0.6666666666666666,
              "#ed7953"
             ],
             [
              0.7777777777777778,
              "#fb9f3a"
             ],
             [
              0.8888888888888888,
              "#fdca26"
             ],
             [
              1,
              "#f0f921"
             ]
            ],
            "type": "surface"
           }
          ],
          "table": [
           {
            "cells": {
             "fill": {
              "color": "#EBF0F8"
             },
             "line": {
              "color": "white"
             }
            },
            "header": {
             "fill": {
              "color": "#C8D4E3"
             },
             "line": {
              "color": "white"
             }
            },
            "type": "table"
           }
          ]
         },
         "layout": {
          "annotationdefaults": {
           "arrowcolor": "#2a3f5f",
           "arrowhead": 0,
           "arrowwidth": 1
          },
          "autotypenumbers": "strict",
          "coloraxis": {
           "colorbar": {
            "outlinewidth": 0,
            "ticks": ""
           }
          },
          "colorscale": {
           "diverging": [
            [
             0,
             "#8e0152"
            ],
            [
             0.1,
             "#c51b7d"
            ],
            [
             0.2,
             "#de77ae"
            ],
            [
             0.3,
             "#f1b6da"
            ],
            [
             0.4,
             "#fde0ef"
            ],
            [
             0.5,
             "#f7f7f7"
            ],
            [
             0.6,
             "#e6f5d0"
            ],
            [
             0.7,
             "#b8e186"
            ],
            [
             0.8,
             "#7fbc41"
            ],
            [
             0.9,
             "#4d9221"
            ],
            [
             1,
             "#276419"
            ]
           ],
           "sequential": [
            [
             0,
             "#0d0887"
            ],
            [
             0.1111111111111111,
             "#46039f"
            ],
            [
             0.2222222222222222,
             "#7201a8"
            ],
            [
             0.3333333333333333,
             "#9c179e"
            ],
            [
             0.4444444444444444,
             "#bd3786"
            ],
            [
             0.5555555555555556,
             "#d8576b"
            ],
            [
             0.6666666666666666,
             "#ed7953"
            ],
            [
             0.7777777777777778,
             "#fb9f3a"
            ],
            [
             0.8888888888888888,
             "#fdca26"
            ],
            [
             1,
             "#f0f921"
            ]
           ],
           "sequentialminus": [
            [
             0,
             "#0d0887"
            ],
            [
             0.1111111111111111,
             "#46039f"
            ],
            [
             0.2222222222222222,
             "#7201a8"
            ],
            [
             0.3333333333333333,
             "#9c179e"
            ],
            [
             0.4444444444444444,
             "#bd3786"
            ],
            [
             0.5555555555555556,
             "#d8576b"
            ],
            [
             0.6666666666666666,
             "#ed7953"
            ],
            [
             0.7777777777777778,
             "#fb9f3a"
            ],
            [
             0.8888888888888888,
             "#fdca26"
            ],
            [
             1,
             "#f0f921"
            ]
           ]
          },
          "colorway": [
           "#636efa",
           "#EF553B",
           "#00cc96",
           "#ab63fa",
           "#FFA15A",
           "#19d3f3",
           "#FF6692",
           "#B6E880",
           "#FF97FF",
           "#FECB52"
          ],
          "font": {
           "color": "#2a3f5f"
          },
          "geo": {
           "bgcolor": "white",
           "lakecolor": "white",
           "landcolor": "#E5ECF6",
           "showlakes": true,
           "showland": true,
           "subunitcolor": "white"
          },
          "hoverlabel": {
           "align": "left"
          },
          "hovermode": "closest",
          "mapbox": {
           "style": "light"
          },
          "paper_bgcolor": "white",
          "plot_bgcolor": "#E5ECF6",
          "polar": {
           "angularaxis": {
            "gridcolor": "white",
            "linecolor": "white",
            "ticks": ""
           },
           "bgcolor": "#E5ECF6",
           "radialaxis": {
            "gridcolor": "white",
            "linecolor": "white",
            "ticks": ""
           }
          },
          "scene": {
           "xaxis": {
            "backgroundcolor": "#E5ECF6",
            "gridcolor": "white",
            "gridwidth": 2,
            "linecolor": "white",
            "showbackground": true,
            "ticks": "",
            "zerolinecolor": "white"
           },
           "yaxis": {
            "backgroundcolor": "#E5ECF6",
            "gridcolor": "white",
            "gridwidth": 2,
            "linecolor": "white",
            "showbackground": true,
            "ticks": "",
            "zerolinecolor": "white"
           },
           "zaxis": {
            "backgroundcolor": "#E5ECF6",
            "gridcolor": "white",
            "gridwidth": 2,
            "linecolor": "white",
            "showbackground": true,
            "ticks": "",
            "zerolinecolor": "white"
           }
          },
          "shapedefaults": {
           "line": {
            "color": "#2a3f5f"
           }
          },
          "ternary": {
           "aaxis": {
            "gridcolor": "white",
            "linecolor": "white",
            "ticks": ""
           },
           "baxis": {
            "gridcolor": "white",
            "linecolor": "white",
            "ticks": ""
           },
           "bgcolor": "#E5ECF6",
           "caxis": {
            "gridcolor": "white",
            "linecolor": "white",
            "ticks": ""
           }
          },
          "title": {
           "x": 0.05
          },
          "xaxis": {
           "automargin": true,
           "gridcolor": "white",
           "linecolor": "white",
           "ticks": "",
           "title": {
            "standoff": 15
           },
           "zerolinecolor": "white",
           "zerolinewidth": 2
          },
          "yaxis": {
           "automargin": true,
           "gridcolor": "white",
           "linecolor": "white",
           "ticks": "",
           "title": {
            "standoff": 15
           },
           "zerolinecolor": "white",
           "zerolinewidth": 2
          }
         }
        },
        "xaxis": {
         "anchor": "y",
         "domain": [
          0,
          1
         ],
         "title": {
          "text": "genres"
         }
        },
        "yaxis": {
         "anchor": "x",
         "domain": [
          0,
          1
         ],
         "title": {
          "text": "value"
         }
        }
       }
      }
     },
     "metadata": {},
     "output_type": "display_data"
    }
   ],
   "source": [
    "top10_genres = genre_data.nlargest(10, 'popularity')\n",
    "\n",
    "fig = px.bar(top10_genres, x='genres', y=['valence', 'energy', 'danceability', 'acousticness'], barmode='group')\n",
    "fig.show()"
   ]
  },
  {
   "cell_type": "code",
   "execution_count": 16,
   "id": "84aa4af0",
   "metadata": {},
   "outputs": [
    {
     "name": "stdout",
     "output_type": "stream",
     "text": [
      "<class 'pandas.core.frame.DataFrame'>\n",
      "Int64Index: 133638 entries, 144877 to 118810\n",
      "Data columns (total 20 columns):\n",
      " #   Column            Non-Null Count   Dtype  \n",
      "---  ------            --------------   -----  \n",
      " 0   valence           133638 non-null  float64\n",
      " 1   year              133638 non-null  int64  \n",
      " 2   acousticness      133638 non-null  float64\n",
      " 3   artists           133638 non-null  object \n",
      " 4   danceability      133638 non-null  float64\n",
      " 5   duration_ms       133638 non-null  int64  \n",
      " 6   energy            133638 non-null  float64\n",
      " 7   explicit          133638 non-null  int64  \n",
      " 8   id                133638 non-null  object \n",
      " 9   instrumentalness  133638 non-null  float64\n",
      " 10  key               133638 non-null  int64  \n",
      " 11  liveness          133638 non-null  float64\n",
      " 12  loudness          133638 non-null  float64\n",
      " 13  mode              133638 non-null  int64  \n",
      " 14  name              133638 non-null  object \n",
      " 15  popularity        133638 non-null  int64  \n",
      " 16  release_date      133638 non-null  object \n",
      " 17  speechiness       133638 non-null  float64\n",
      " 18  tempo             133638 non-null  float64\n",
      " 19  decade            133638 non-null  object \n",
      "dtypes: float64(9), int64(6), object(5)\n",
      "memory usage: 21.4+ MB\n"
     ]
    },
    {
     "data": {
      "text/plain": [
       "<function matplotlib.pyplot.show(close=None, block=None)>"
      ]
     },
     "execution_count": 16,
     "metadata": {},
     "output_type": "execute_result"
    },
    {
     "data": {
      "image/png": "[encoded data removed]",
      "text/plain": [
       "<Figure size 1000x1000 with 1 Axes>"
      ]
     },
     "metadata": {},
     "output_type": "display_data"
    }
   ],
   "source": [
    "def get_decade(year):\n",
    "    period_start = int((year/10) * 10)\n",
    "    decade = '{}s'.format(period_start)\n",
    "    return decade\n",
    "\n",
    "data['decade'] = data['year'].apply(get_decade)\n",
    "\n",
    "data.info()\n",
    "# sns.set(rc={'figure.figsize':(11 ,6)})\n",
    "sns.countplot(x=data['decade'])\n",
    "plt.show"
   ]
  },
  {
   "cell_type": "code",
   "execution_count": 17,
   "id": "0c137826",
   "metadata": {},
   "outputs": [],
   "source": [
    "\"\"\"clustering genre based on genre musical features because consider a genre american pop and canadian pop , \n",
    "their musical features are almost similar so they are clustered together. Now a user listening to american pop \n",
    "will have a higher probability that the user may also like canadian pop\"\"\"\n",
    "\n",
    "from sklearn.cluster import KMeans\n",
    "from sklearn.preprocessing import StandardScaler\n",
    "from sklearn.pipeline import Pipeline\n",
    "\n",
    "\n",
    "model= Pipeline([('scaler',StandardScaler()),('kmeans',KMeans(n_clusters=100))])\n",
    "\n",
    "\n",
    "x=genre_data.select_dtypes(np.number)\n",
    "\n",
    "\n",
    "#model training and prediction to form the cluster column in g\n",
    "model.fit(x)\n",
    "genre_data['cluster']=model.predict(x)\n"
   ]
  },
  {
   "cell_type": "code",
   "execution_count": 18,
   "id": "a943302c",
   "metadata": {},
   "outputs": [
    {
     "name": "stdout",
     "output_type": "stream",
     "text": [
      "[85]\n"
     ]
    }
   ],
   "source": [
    "print(model.predict([x.iloc[1]]))"
   ]
  },
  {
   "cell_type": "code",
   "execution_count": 19,
   "id": "06d9c321",
   "metadata": {},
   "outputs": [
    {
     "data": {
      "text/html": [
       "<style>#sk-container-id-1 {color: black;background-color: white;}#sk-container-id-1 pre{padding: 0;}#sk-container-id-1 div.sk-toggleable {background-color: white;}#sk-container-id-1 label.sk-toggleable__label {cursor: pointer;display: block;width: 100%;margin-bottom: 0;padding: 0.3em;box-sizing: border-box;text-align: center;}#sk-container-id-1 label.sk-toggleable__label-arrow:before {content: \"▸\";float: left;margin-right: 0.25em;color: #696969;}#sk-container-id-1 label.sk-toggleable__label-arrow:hover:before {color: black;}#sk-container-id-1 div.sk-estimator:hover label.sk-toggleable__label-arrow:before {color: black;}#sk-container-id-1 div.sk-toggleable__content {max-height: 0;max-width: 0;overflow: hidden;text-align: left;background-color: #f0f8ff;}#sk-container-id-1 div.sk-toggleable__content pre {margin: 0.2em;color: black;border-radius: 0.25em;background-color: #f0f8ff;}#sk-container-id-1 input.sk-toggleable__control:checked~div.sk-toggleable__content {max-height: 200px;max-width: 100%;overflow: auto;}#sk-container-id-1 input.sk-toggleable__control:checked~label.sk-toggleable__label-arrow:before {content: \"▾\";}#sk-container-id-1 div.sk-estimator input.sk-toggleable__control:checked~label.sk-toggleable__label {background-color: #d4ebff;}#sk-container-id-1 div.sk-label input.sk-toggleable__control:checked~label.sk-toggleable__label {background-color: #d4ebff;}#sk-container-id-1 input.sk-hidden--visually {border: 0;clip: rect(1px 1px 1px 1px);clip: rect(1px, 1px, 1px, 1px);height: 1px;margin: -1px;overflow: hidden;padding: 0;position: absolute;width: 1px;}#sk-container-id-1 div.sk-estimator {font-family: monospace;background-color: #f0f8ff;border: 1px dotted black;border-radius: 0.25em;box-sizing: border-box;margin-bottom: 0.5em;}#sk-container-id-1 div.sk-estimator:hover {background-color: #d4ebff;}#sk-container-id-1 div.sk-parallel-item::after {content: \"\";width: 100%;border-bottom: 1px solid gray;flex-grow: 1;}#sk-container-id-1 div.sk-label:hover label.sk-toggleable__label {background-color: #d4ebff;}#sk-container-id-1 div.sk-serial::before {content: \"\";position: absolute;border-left: 1px solid gray;box-sizing: border-box;top: 0;bottom: 0;left: 50%;z-index: 0;}#sk-container-id-1 div.sk-serial {display: flex;flex-direction: column;align-items: center;background-color: white;padding-right: 0.2em;padding-left: 0.2em;position: relative;}#sk-container-id-1 div.sk-item {position: relative;z-index: 1;}#sk-container-id-1 div.sk-parallel {display: flex;align-items: stretch;justify-content: center;background-color: white;position: relative;}#sk-container-id-1 div.sk-item::before, #sk-container-id-1 div.sk-parallel-item::before {content: \"\";position: absolute;border-left: 1px solid gray;box-sizing: border-box;top: 0;bottom: 0;left: 50%;z-index: -1;}#sk-container-id-1 div.sk-parallel-item {display: flex;flex-direction: column;z-index: 1;position: relative;background-color: white;}#sk-container-id-1 div.sk-parallel-item:first-child::after {align-self: flex-end;width: 50%;}#sk-container-id-1 div.sk-parallel-item:last-child::after {align-self: flex-start;width: 50%;}#sk-container-id-1 div.sk-parallel-item:only-child::after {width: 0;}#sk-container-id-1 div.sk-dashed-wrapped {border: 1px dashed gray;margin: 0 0.4em 0.5em 0.4em;box-sizing: border-box;padding-bottom: 0.4em;background-color: white;}#sk-container-id-1 div.sk-label label {font-family: monospace;font-weight: bold;display: inline-block;line-height: 1.2em;}#sk-container-id-1 div.sk-label-container {text-align: center;}#sk-container-id-1 div.sk-container {/* jupyter's `normalize.less` sets `[hidden] { display: none; }` but bootstrap.min.css set `[hidden] { display: none !important; }` so we also need the `!important` here to be able to override the default hidden behavior on the sphinx rendered scikit-learn.org. See: https://github.com/scikit-learn/scikit-learn/issues/21755 */display: inline-block !important;position: relative;}#sk-container-id-1 div.sk-text-repr-fallback {display: none;}</style><div id=\"sk-container-id-1\" class=\"sk-top-container\"><div class=\"sk-text-repr-fallback\"><pre>GridSearchCV(cv=5,\n",
       "             estimator=Pipeline(steps=[(&#x27;scaler&#x27;, StandardScaler()),\n",
       "                                       (&#x27;kmeans&#x27;, KMeans())]),\n",
       "             param_grid={&#x27;kmeans__n_clusters&#x27;: [10, 20, 50, 100]})</pre><b>In a Jupyter environment, please rerun this cell to show the HTML representation or trust the notebook. <br />On GitHub, the HTML representation is unable to render, please try loading this page with nbviewer.org.</b></div><div class=\"sk-container\" hidden><div class=\"sk-item sk-dashed-wrapped\"><div class=\"sk-label-container\"><div class=\"sk-label sk-toggleable\"><input class=\"sk-toggleable__control sk-hidden--visually\" id=\"sk-estimator-id-1\" type=\"checkbox\" ><label for=\"sk-estimator-id-1\" class=\"sk-toggleable__label sk-toggleable__label-arrow\">GridSearchCV</label><div class=\"sk-toggleable__content\"><pre>GridSearchCV(cv=5,\n",
       "             estimator=Pipeline(steps=[(&#x27;scaler&#x27;, StandardScaler()),\n",
       "                                       (&#x27;kmeans&#x27;, KMeans())]),\n",
       "             param_grid={&#x27;kmeans__n_clusters&#x27;: [10, 20, 50, 100]})</pre></div></div></div><div class=\"sk-parallel\"><div class=\"sk-parallel-item\"><div class=\"sk-item\"><div class=\"sk-label-container\"><div class=\"sk-label sk-toggleable\"><input class=\"sk-toggleable__control sk-hidden--visually\" id=\"sk-estimator-id-2\" type=\"checkbox\" ><label for=\"sk-estimator-id-2\" class=\"sk-toggleable__label sk-toggleable__label-arrow\">estimator: Pipeline</label><div class=\"sk-toggleable__content\"><pre>Pipeline(steps=[(&#x27;scaler&#x27;, StandardScaler()), (&#x27;kmeans&#x27;, KMeans())])</pre></div></div></div><div class=\"sk-serial\"><div class=\"sk-item\"><div class=\"sk-serial\"><div class=\"sk-item\"><div class=\"sk-estimator sk-toggleable\"><input class=\"sk-toggleable__control sk-hidden--visually\" id=\"sk-estimator-id-3\" type=\"checkbox\" ><label for=\"sk-estimator-id-3\" class=\"sk-toggleable__label sk-toggleable__label-arrow\">StandardScaler</label><div class=\"sk-toggleable__content\"><pre>StandardScaler()</pre></div></div></div><div class=\"sk-item\"><div class=\"sk-estimator sk-toggleable\"><input class=\"sk-toggleable__control sk-hidden--visually\" id=\"sk-estimator-id-4\" type=\"checkbox\" ><label for=\"sk-estimator-id-4\" class=\"sk-toggleable__label sk-toggleable__label-arrow\">KMeans</label><div class=\"sk-toggleable__content\"><pre>KMeans()</pre></div></div></div></div></div></div></div></div></div></div></div></div>"
      ],
      "text/plain": [
       "GridSearchCV(cv=5,\n",
       "             estimator=Pipeline(steps=[('scaler', StandardScaler()),\n",
       "                                       ('kmeans', KMeans())]),\n",
       "             param_grid={'kmeans__n_clusters': [10, 20, 50, 100]})"
      ]
     },
     "execution_count": 19,
     "metadata": {},
     "output_type": "execute_result"
    }
   ],
   "source": [
    "from sklearn.model_selection import GridSearchCV\n",
    "\n",
    "pipe=Pipeline([('scaler',StandardScaler()),('kmeans',KMeans())])\n",
    "search_space={\n",
    "    'kmeans__n_clusters':[10,20,50,100]\n",
    "}\n",
    "\n",
    "clf=GridSearchCV(estimator=pipe,\n",
    "                 param_grid=search_space,\n",
    "                 cv=5,\n",
    "                 return_train_score=False)\n",
    "clf.fit(x)\n"
   ]
  },
  {
   "cell_type": "code",
   "execution_count": 20,
   "id": "15fa955c",
   "metadata": {},
   "outputs": [
    {
     "name": "stdout",
     "output_type": "stream",
     "text": [
      "{'kmeans__n_clusters': 100}\n"
     ]
    }
   ],
   "source": [
    "print(clf.best_params_)"
   ]
  },
  {
   "cell_type": "code",
   "execution_count": 21,
   "id": "3596391f",
   "metadata": {},
   "outputs": [
    {
     "data": {
      "text/plain": [
       "{'scaler': StandardScaler(), 'kmeans': KMeans(n_clusters=100)}"
      ]
     },
     "execution_count": 21,
     "metadata": {},
     "output_type": "execute_result"
    }
   ],
   "source": [
    "model.named_steps"
   ]
  },
  {
   "cell_type": "code",
   "execution_count": 22,
   "id": "71241f36",
   "metadata": {},
   "outputs": [
    {
     "data": {
      "text/html": [
       "<div>\n",
       "<style scoped>\n",
       "    .dataframe tbody tr th:only-of-type {\n",
       "        vertical-align: middle;\n",
       "    }\n",
       "\n",
       "    .dataframe tbody tr th {\n",
       "        vertical-align: top;\n",
       "    }\n",
       "\n",
       "    .dataframe thead th {\n",
       "        text-align: right;\n",
       "    }\n",
       "</style>\n",
       "<table border=\"1\" class=\"dataframe\">\n",
       "  <thead>\n",
       "    <tr style=\"text-align: right;\">\n",
       "      <th></th>\n",
       "      <th>mode</th>\n",
       "      <th>genres</th>\n",
       "      <th>acousticness</th>\n",
       "      <th>danceability</th>\n",
       "      <th>duration_ms</th>\n",
       "      <th>energy</th>\n",
       "      <th>instrumentalness</th>\n",
       "      <th>liveness</th>\n",
       "      <th>loudness</th>\n",
       "      <th>speechiness</th>\n",
       "      <th>tempo</th>\n",
       "      <th>valence</th>\n",
       "      <th>popularity</th>\n",
       "      <th>key</th>\n",
       "      <th>cluster</th>\n",
       "    </tr>\n",
       "  </thead>\n",
       "  <tbody>\n",
       "    <tr>\n",
       "      <th>0</th>\n",
       "      <td>1</td>\n",
       "      <td>21st century classical</td>\n",
       "      <td>0.979333</td>\n",
       "      <td>0.162883</td>\n",
       "      <td>1.602977e+05</td>\n",
       "      <td>0.071317</td>\n",
       "      <td>0.606834</td>\n",
       "      <td>0.361600</td>\n",
       "      <td>-31.514333</td>\n",
       "      <td>0.040567</td>\n",
       "      <td>75.336500</td>\n",
       "      <td>0.103783</td>\n",
       "      <td>27.833333</td>\n",
       "      <td>6</td>\n",
       "      <td>21</td>\n",
       "    </tr>\n",
       "    <tr>\n",
       "      <th>1</th>\n",
       "      <td>1</td>\n",
       "      <td>432hz</td>\n",
       "      <td>0.494780</td>\n",
       "      <td>0.299333</td>\n",
       "      <td>1.048887e+06</td>\n",
       "      <td>0.450678</td>\n",
       "      <td>0.477762</td>\n",
       "      <td>0.131000</td>\n",
       "      <td>-16.854000</td>\n",
       "      <td>0.076817</td>\n",
       "      <td>120.285667</td>\n",
       "      <td>0.221750</td>\n",
       "      <td>52.500000</td>\n",
       "      <td>5</td>\n",
       "      <td>85</td>\n",
       "    </tr>\n",
       "    <tr>\n",
       "      <th>2</th>\n",
       "      <td>1</td>\n",
       "      <td>8-bit</td>\n",
       "      <td>0.762000</td>\n",
       "      <td>0.712000</td>\n",
       "      <td>1.151770e+05</td>\n",
       "      <td>0.818000</td>\n",
       "      <td>0.876000</td>\n",
       "      <td>0.126000</td>\n",
       "      <td>-9.180000</td>\n",
       "      <td>0.047000</td>\n",
       "      <td>133.444000</td>\n",
       "      <td>0.975000</td>\n",
       "      <td>48.000000</td>\n",
       "      <td>7</td>\n",
       "      <td>96</td>\n",
       "    </tr>\n",
       "    <tr>\n",
       "      <th>3</th>\n",
       "      <td>1</td>\n",
       "      <td>[]</td>\n",
       "      <td>0.651417</td>\n",
       "      <td>0.529093</td>\n",
       "      <td>2.328809e+05</td>\n",
       "      <td>0.419146</td>\n",
       "      <td>0.205309</td>\n",
       "      <td>0.218696</td>\n",
       "      <td>-12.288965</td>\n",
       "      <td>0.107872</td>\n",
       "      <td>112.857352</td>\n",
       "      <td>0.513604</td>\n",
       "      <td>20.859882</td>\n",
       "      <td>7</td>\n",
       "      <td>50</td>\n",
       "    </tr>\n",
       "    <tr>\n",
       "      <th>4</th>\n",
       "      <td>1</td>\n",
       "      <td>a cappella</td>\n",
       "      <td>0.676557</td>\n",
       "      <td>0.538961</td>\n",
       "      <td>1.906285e+05</td>\n",
       "      <td>0.316434</td>\n",
       "      <td>0.003003</td>\n",
       "      <td>0.172254</td>\n",
       "      <td>-12.479387</td>\n",
       "      <td>0.082851</td>\n",
       "      <td>112.110362</td>\n",
       "      <td>0.448249</td>\n",
       "      <td>45.820071</td>\n",
       "      <td>7</td>\n",
       "      <td>67</td>\n",
       "    </tr>\n",
       "  </tbody>\n",
       "</table>\n",
       "</div>"
      ],
      "text/plain": [
       "   mode                  genres  acousticness  danceability   duration_ms  \\\n",
       "0     1  21st century classical      0.979333      0.162883  1.602977e+05   \n",
       "1     1                   432hz      0.494780      0.299333  1.048887e+06   \n",
       "2     1                   8-bit      0.762000      0.712000  1.151770e+05   \n",
       "3     1                      []      0.651417      0.529093  2.328809e+05   \n",
       "4     1              a cappella      0.676557      0.538961  1.906285e+05   \n",
       "\n",
       "     energy  instrumentalness  liveness   loudness  speechiness       tempo  \\\n",
       "0  0.071317          0.606834  0.361600 -31.514333     0.040567   75.336500   \n",
       "1  0.450678          0.477762  0.131000 -16.854000     0.076817  120.285667   \n",
       "2  0.818000          0.876000  0.126000  -9.180000     0.047000  133.444000   \n",
       "3  0.419146          0.205309  0.218696 -12.288965     0.107872  112.857352   \n",
       "4  0.316434          0.003003  0.172254 -12.479387     0.082851  112.110362   \n",
       "\n",
       "    valence  popularity  key  cluster  \n",
       "0  0.103783   27.833333    6       21  \n",
       "1  0.221750   52.500000    5       85  \n",
       "2  0.975000   48.000000    7       96  \n",
       "3  0.513604   20.859882    7       50  \n",
       "4  0.448249   45.820071    7       67  "
      ]
     },
     "execution_count": 22,
     "metadata": {},
     "output_type": "execute_result"
    }
   ],
   "source": [
    "genre_data.head(5)"
   ]
  },
  {
   "cell_type": "code",
   "execution_count": 23,
   "id": "3aa46001",
   "metadata": {},
   "outputs": [
    {
     "data": {
      "text/html": [
       "<style>#sk-container-id-2 {color: black;background-color: white;}#sk-container-id-2 pre{padding: 0;}#sk-container-id-2 div.sk-toggleable {background-color: white;}#sk-container-id-2 label.sk-toggleable__label {cursor: pointer;display: block;width: 100%;margin-bottom: 0;padding: 0.3em;box-sizing: border-box;text-align: center;}#sk-container-id-2 label.sk-toggleable__label-arrow:before {content: \"▸\";float: left;margin-right: 0.25em;color: #696969;}#sk-container-id-2 label.sk-toggleable__label-arrow:hover:before {color: black;}#sk-container-id-2 div.sk-estimator:hover label.sk-toggleable__label-arrow:before {color: black;}#sk-container-id-2 div.sk-toggleable__content {max-height: 0;max-width: 0;overflow: hidden;text-align: left;background-color: #f0f8ff;}#sk-container-id-2 div.sk-toggleable__content pre {margin: 0.2em;color: black;border-radius: 0.25em;background-color: #f0f8ff;}#sk-container-id-2 input.sk-toggleable__control:checked~div.sk-toggleable__content {max-height: 200px;max-width: 100%;overflow: auto;}#sk-container-id-2 input.sk-toggleable__control:checked~label.sk-toggleable__label-arrow:before {content: \"▾\";}#sk-container-id-2 div.sk-estimator input.sk-toggleable__control:checked~label.sk-toggleable__label {background-color: #d4ebff;}#sk-container-id-2 div.sk-label input.sk-toggleable__control:checked~label.sk-toggleable__label {background-color: #d4ebff;}#sk-container-id-2 input.sk-hidden--visually {border: 0;clip: rect(1px 1px 1px 1px);clip: rect(1px, 1px, 1px, 1px);height: 1px;margin: -1px;overflow: hidden;padding: 0;position: absolute;width: 1px;}#sk-container-id-2 div.sk-estimator {font-family: monospace;background-color: #f0f8ff;border: 1px dotted black;border-radius: 0.25em;box-sizing: border-box;margin-bottom: 0.5em;}#sk-container-id-2 div.sk-estimator:hover {background-color: #d4ebff;}#sk-container-id-2 div.sk-parallel-item::after {content: \"\";width: 100%;border-bottom: 1px solid gray;flex-grow: 1;}#sk-container-id-2 div.sk-label:hover label.sk-toggleable__label {background-color: #d4ebff;}#sk-container-id-2 div.sk-serial::before {content: \"\";position: absolute;border-left: 1px solid gray;box-sizing: border-box;top: 0;bottom: 0;left: 50%;z-index: 0;}#sk-container-id-2 div.sk-serial {display: flex;flex-direction: column;align-items: center;background-color: white;padding-right: 0.2em;padding-left: 0.2em;position: relative;}#sk-container-id-2 div.sk-item {position: relative;z-index: 1;}#sk-container-id-2 div.sk-parallel {display: flex;align-items: stretch;justify-content: center;background-color: white;position: relative;}#sk-container-id-2 div.sk-item::before, #sk-container-id-2 div.sk-parallel-item::before {content: \"\";position: absolute;border-left: 1px solid gray;box-sizing: border-box;top: 0;bottom: 0;left: 50%;z-index: -1;}#sk-container-id-2 div.sk-parallel-item {display: flex;flex-direction: column;z-index: 1;position: relative;background-color: white;}#sk-container-id-2 div.sk-parallel-item:first-child::after {align-self: flex-end;width: 50%;}#sk-container-id-2 div.sk-parallel-item:last-child::after {align-self: flex-start;width: 50%;}#sk-container-id-2 div.sk-parallel-item:only-child::after {width: 0;}#sk-container-id-2 div.sk-dashed-wrapped {border: 1px dashed gray;margin: 0 0.4em 0.5em 0.4em;box-sizing: border-box;padding-bottom: 0.4em;background-color: white;}#sk-container-id-2 div.sk-label label {font-family: monospace;font-weight: bold;display: inline-block;line-height: 1.2em;}#sk-container-id-2 div.sk-label-container {text-align: center;}#sk-container-id-2 div.sk-container {/* jupyter's `normalize.less` sets `[hidden] { display: none; }` but bootstrap.min.css set `[hidden] { display: none !important; }` so we also need the `!important` here to be able to override the default hidden behavior on the sphinx rendered scikit-learn.org. See: https://github.com/scikit-learn/scikit-learn/issues/21755 */display: inline-block !important;position: relative;}#sk-container-id-2 div.sk-text-repr-fallback {display: none;}</style><div id=\"sk-container-id-2\" class=\"sk-top-container\"><div class=\"sk-text-repr-fallback\"><pre>GridSearchCV(cv=5,\n",
       "             estimator=Pipeline(steps=[(&#x27;scaler&#x27;, StandardScaler()),\n",
       "                                       (&#x27;kmeans&#x27;, KMeans())]),\n",
       "             param_grid={&#x27;kmeans__n_clusters&#x27;: [10, 20, 50, 100]})</pre><b>In a Jupyter environment, please rerun this cell to show the HTML representation or trust the notebook. <br />On GitHub, the HTML representation is unable to render, please try loading this page with nbviewer.org.</b></div><div class=\"sk-container\" hidden><div class=\"sk-item sk-dashed-wrapped\"><div class=\"sk-label-container\"><div class=\"sk-label sk-toggleable\"><input class=\"sk-toggleable__control sk-hidden--visually\" id=\"sk-estimator-id-5\" type=\"checkbox\" ><label for=\"sk-estimator-id-5\" class=\"sk-toggleable__label sk-toggleable__label-arrow\">GridSearchCV</label><div class=\"sk-toggleable__content\"><pre>GridSearchCV(cv=5,\n",
       "             estimator=Pipeline(steps=[(&#x27;scaler&#x27;, StandardScaler()),\n",
       "                                       (&#x27;kmeans&#x27;, KMeans())]),\n",
       "             param_grid={&#x27;kmeans__n_clusters&#x27;: [10, 20, 50, 100]})</pre></div></div></div><div class=\"sk-parallel\"><div class=\"sk-parallel-item\"><div class=\"sk-item\"><div class=\"sk-label-container\"><div class=\"sk-label sk-toggleable\"><input class=\"sk-toggleable__control sk-hidden--visually\" id=\"sk-estimator-id-6\" type=\"checkbox\" ><label for=\"sk-estimator-id-6\" class=\"sk-toggleable__label sk-toggleable__label-arrow\">estimator: Pipeline</label><div class=\"sk-toggleable__content\"><pre>Pipeline(steps=[(&#x27;scaler&#x27;, StandardScaler()), (&#x27;kmeans&#x27;, KMeans())])</pre></div></div></div><div class=\"sk-serial\"><div class=\"sk-item\"><div class=\"sk-serial\"><div class=\"sk-item\"><div class=\"sk-estimator sk-toggleable\"><input class=\"sk-toggleable__control sk-hidden--visually\" id=\"sk-estimator-id-7\" type=\"checkbox\" ><label for=\"sk-estimator-id-7\" class=\"sk-toggleable__label sk-toggleable__label-arrow\">StandardScaler</label><div class=\"sk-toggleable__content\"><pre>StandardScaler()</pre></div></div></div><div class=\"sk-item\"><div class=\"sk-estimator sk-toggleable\"><input class=\"sk-toggleable__control sk-hidden--visually\" id=\"sk-estimator-id-8\" type=\"checkbox\" ><label for=\"sk-estimator-id-8\" class=\"sk-toggleable__label sk-toggleable__label-arrow\">KMeans</label><div class=\"sk-toggleable__content\"><pre>KMeans()</pre></div></div></div></div></div></div></div></div></div></div></div></div>"
      ],
      "text/plain": [
       "GridSearchCV(cv=5,\n",
       "             estimator=Pipeline(steps=[('scaler', StandardScaler()),\n",
       "                                       ('kmeans', KMeans())]),\n",
       "             param_grid={'kmeans__n_clusters': [10, 20, 50, 100]})"
      ]
     },
     "execution_count": 23,
     "metadata": {},
     "output_type": "execute_result"
    }
   ],
   "source": [
    "\"\"\"clustering songs\"\"\"\n",
    "\n",
    "X=data.select_dtypes(np.number)\n",
    "pipe2=Pipeline([('scaler',StandardScaler()),('kmeans',KMeans())])\n",
    "\n",
    "search_space_song={\n",
    "    'kmeans__n_clusters':[10,20,50,100]\n",
    "}\n",
    "\n",
    "gs=GridSearchCV(estimator=pipe2,\n",
    "               param_grid=search_space_song,\n",
    "               cv=5,\n",
    "               return_train_score=False)\n",
    "gs.fit(X)"
   ]
  },
  {
   "cell_type": "code",
   "execution_count": 24,
   "id": "35d510f9",
   "metadata": {},
   "outputs": [
    {
     "name": "stdout",
     "output_type": "stream",
     "text": [
      "{'kmeans__n_clusters': 100}\n"
     ]
    }
   ],
   "source": [
    "print(gs.best_params_)"
   ]
  },
  {
   "cell_type": "code",
   "execution_count": 25,
   "id": "ac2587e6",
   "metadata": {},
   "outputs": [],
   "source": [
    "song_cluster_pipeline=Pipeline([('scaler',StandardScaler()),('kmeans',KMeans(n_clusters=100,verbose=False))])\n",
    "number_cols=list(X.columns)\n",
    "\n",
    "#training song clustering model\n",
    "song_cluster_pipeline.fit(X)\n",
    "song_cluster_labels=song_cluster_pipeline.predict(X)\n",
    "data['cluster_label']=song_cluster_labels\n"
   ]
  },
  {
   "cell_type": "code",
   "execution_count": 26,
   "id": "1137ddfc",
   "metadata": {},
   "outputs": [
    {
     "data": {
      "text/html": [
       "<div>\n",
       "<style scoped>\n",
       "    .dataframe tbody tr th:only-of-type {\n",
       "        vertical-align: middle;\n",
       "    }\n",
       "\n",
       "    .dataframe tbody tr th {\n",
       "        vertical-align: top;\n",
       "    }\n",
       "\n",
       "    .dataframe thead th {\n",
       "        text-align: right;\n",
       "    }\n",
       "</style>\n",
       "<table border=\"1\" class=\"dataframe\">\n",
       "  <thead>\n",
       "    <tr style=\"text-align: right;\">\n",
       "      <th></th>\n",
       "      <th>valence</th>\n",
       "      <th>year</th>\n",
       "      <th>acousticness</th>\n",
       "      <th>artists</th>\n",
       "      <th>danceability</th>\n",
       "      <th>duration_ms</th>\n",
       "      <th>energy</th>\n",
       "      <th>explicit</th>\n",
       "      <th>id</th>\n",
       "      <th>instrumentalness</th>\n",
       "      <th>...</th>\n",
       "      <th>liveness</th>\n",
       "      <th>loudness</th>\n",
       "      <th>mode</th>\n",
       "      <th>name</th>\n",
       "      <th>popularity</th>\n",
       "      <th>release_date</th>\n",
       "      <th>speechiness</th>\n",
       "      <th>tempo</th>\n",
       "      <th>decade</th>\n",
       "      <th>cluster_label</th>\n",
       "    </tr>\n",
       "  </thead>\n",
       "  <tbody>\n",
       "    <tr>\n",
       "      <th>144877</th>\n",
       "      <td>0.547</td>\n",
       "      <td>1966</td>\n",
       "      <td>0.525000</td>\n",
       "      <td>['Love']</td>\n",
       "      <td>0.600</td>\n",
       "      <td>220560</td>\n",
       "      <td>0.540</td>\n",
       "      <td>0</td>\n",
       "      <td>0gNNToCW3qjabgTyBSjt3H</td>\n",
       "      <td>0.00305</td>\n",
       "      <td>...</td>\n",
       "      <td>0.100</td>\n",
       "      <td>-11.803</td>\n",
       "      <td>1</td>\n",
       "      <td>!Que Vida! - Mono Version</td>\n",
       "      <td>26</td>\n",
       "      <td>1966-11-01</td>\n",
       "      <td>0.0328</td>\n",
       "      <td>125.898</td>\n",
       "      <td>1966s</td>\n",
       "      <td>59</td>\n",
       "    </tr>\n",
       "    <tr>\n",
       "      <th>148311</th>\n",
       "      <td>0.338</td>\n",
       "      <td>1983</td>\n",
       "      <td>0.228000</td>\n",
       "      <td>['U2']</td>\n",
       "      <td>0.368</td>\n",
       "      <td>157840</td>\n",
       "      <td>0.480</td>\n",
       "      <td>0</td>\n",
       "      <td>0tMgFpOrXZR6irEOLNWwJL</td>\n",
       "      <td>0.70700</td>\n",
       "      <td>...</td>\n",
       "      <td>0.159</td>\n",
       "      <td>-11.605</td>\n",
       "      <td>1</td>\n",
       "      <td>\"40\"</td>\n",
       "      <td>23</td>\n",
       "      <td>1983-02-28</td>\n",
       "      <td>0.0306</td>\n",
       "      <td>150.166</td>\n",
       "      <td>1983s</td>\n",
       "      <td>22</td>\n",
       "    </tr>\n",
       "    <tr>\n",
       "      <th>117521</th>\n",
       "      <td>0.279</td>\n",
       "      <td>1983</td>\n",
       "      <td>0.099800</td>\n",
       "      <td>['U2']</td>\n",
       "      <td>0.272</td>\n",
       "      <td>226200</td>\n",
       "      <td>0.684</td>\n",
       "      <td>0</td>\n",
       "      <td>2ZywW3VyVx6rrlrX75n3JB</td>\n",
       "      <td>0.01450</td>\n",
       "      <td>...</td>\n",
       "      <td>0.946</td>\n",
       "      <td>-9.728</td>\n",
       "      <td>1</td>\n",
       "      <td>\"40\" - Live</td>\n",
       "      <td>39</td>\n",
       "      <td>1983-08-20</td>\n",
       "      <td>0.0505</td>\n",
       "      <td>143.079</td>\n",
       "      <td>1983s</td>\n",
       "      <td>57</td>\n",
       "    </tr>\n",
       "    <tr>\n",
       "      <th>85098</th>\n",
       "      <td>0.310</td>\n",
       "      <td>1983</td>\n",
       "      <td>0.185000</td>\n",
       "      <td>['U2']</td>\n",
       "      <td>0.371</td>\n",
       "      <td>157667</td>\n",
       "      <td>0.545</td>\n",
       "      <td>0</td>\n",
       "      <td>3vMmwsAiLDCfyc1jl76lQE</td>\n",
       "      <td>0.58200</td>\n",
       "      <td>...</td>\n",
       "      <td>0.183</td>\n",
       "      <td>-9.315</td>\n",
       "      <td>1</td>\n",
       "      <td>\"40\" - Remastered 2008</td>\n",
       "      <td>35</td>\n",
       "      <td>1983-02-28</td>\n",
       "      <td>0.0307</td>\n",
       "      <td>150.316</td>\n",
       "      <td>1983s</td>\n",
       "      <td>22</td>\n",
       "    </tr>\n",
       "    <tr>\n",
       "      <th>90728</th>\n",
       "      <td>0.423</td>\n",
       "      <td>2012</td>\n",
       "      <td>0.000696</td>\n",
       "      <td>['The Gaslight Anthem']</td>\n",
       "      <td>0.315</td>\n",
       "      <td>202493</td>\n",
       "      <td>0.970</td>\n",
       "      <td>0</td>\n",
       "      <td>25Sd73fleKUVPNqITPZkn1</td>\n",
       "      <td>0.00000</td>\n",
       "      <td>...</td>\n",
       "      <td>0.277</td>\n",
       "      <td>-4.709</td>\n",
       "      <td>1</td>\n",
       "      <td>\"45\"</td>\n",
       "      <td>50</td>\n",
       "      <td>2012-01-01</td>\n",
       "      <td>0.1020</td>\n",
       "      <td>178.068</td>\n",
       "      <td>2012s</td>\n",
       "      <td>10</td>\n",
       "    </tr>\n",
       "  </tbody>\n",
       "</table>\n",
       "<p>5 rows × 21 columns</p>\n",
       "</div>"
      ],
      "text/plain": [
       "        valence  year  acousticness                  artists  danceability  \\\n",
       "144877    0.547  1966      0.525000                 ['Love']         0.600   \n",
       "148311    0.338  1983      0.228000                   ['U2']         0.368   \n",
       "117521    0.279  1983      0.099800                   ['U2']         0.272   \n",
       "85098     0.310  1983      0.185000                   ['U2']         0.371   \n",
       "90728     0.423  2012      0.000696  ['The Gaslight Anthem']         0.315   \n",
       "\n",
       "        duration_ms  energy  explicit                      id  \\\n",
       "144877       220560   0.540         0  0gNNToCW3qjabgTyBSjt3H   \n",
       "148311       157840   0.480         0  0tMgFpOrXZR6irEOLNWwJL   \n",
       "117521       226200   0.684         0  2ZywW3VyVx6rrlrX75n3JB   \n",
       "85098        157667   0.545         0  3vMmwsAiLDCfyc1jl76lQE   \n",
       "90728        202493   0.970         0  25Sd73fleKUVPNqITPZkn1   \n",
       "\n",
       "        instrumentalness  ...  liveness  loudness  mode  \\\n",
       "144877           0.00305  ...     0.100   -11.803     1   \n",
       "148311           0.70700  ...     0.159   -11.605     1   \n",
       "117521           0.01450  ...     0.946    -9.728     1   \n",
       "85098            0.58200  ...     0.183    -9.315     1   \n",
       "90728            0.00000  ...     0.277    -4.709     1   \n",
       "\n",
       "                             name popularity  release_date speechiness  \\\n",
       "144877  !Que Vida! - Mono Version         26    1966-11-01      0.0328   \n",
       "148311                       \"40\"         23    1983-02-28      0.0306   \n",
       "117521                \"40\" - Live         39    1983-08-20      0.0505   \n",
       "85098      \"40\" - Remastered 2008         35    1983-02-28      0.0307   \n",
       "90728                        \"45\"         50    2012-01-01      0.1020   \n",
       "\n",
       "          tempo  decade cluster_label  \n",
       "144877  125.898   1966s            59  \n",
       "148311  150.166   1983s            22  \n",
       "117521  143.079   1983s            57  \n",
       "85098   150.316   1983s            22  \n",
       "90728   178.068   2012s            10  \n",
       "\n",
       "[5 rows x 21 columns]"
      ]
     },
     "execution_count": 26,
     "metadata": {},
     "output_type": "execute_result"
    }
   ],
   "source": [
    "data.head(5)"
   ]
  },
  {
   "cell_type": "code",
   "execution_count": 27,
   "id": "c0c867ed",
   "metadata": {},
   "outputs": [
    {
     "name": "stdout",
     "output_type": "stream",
     "text": [
      "[t-SNE] Computing 91 nearest neighbors...\n",
      "[t-SNE] Indexed 2973 samples in 0.002s...\n",
      "[t-SNE] Computed neighbors for 2973 samples in 0.215s...\n",
      "[t-SNE] Computed conditional probabilities for sample 1000 / 2973\n",
      "[t-SNE] Computed conditional probabilities for sample 2000 / 2973\n",
      "[t-SNE] Computed conditional probabilities for sample 2973 / 2973\n",
      "[t-SNE] Mean sigma: 0.777516\n",
      "[t-SNE] KL divergence after 250 iterations with early exaggeration: 76.106094\n",
      "[t-SNE] KL divergence after 1000 iterations: 1.393208\n"
     ]
    },
    {
     "data": {
      "application/vnd.plotly.v1+json": {
       "config": {
        "plotlyServerURL": "https://plot.ly"
       },
       "data": [
        {
         "customdata": [
          [
           "21st century classical"
          ],
          [
           "432hz"
          ],
          [
           "8-bit"
          ],
          [
           "[]"
          ],
          [
           "a cappella"
          ],
          [
           "abstract"
          ],
          [
           "abstract beats"
          ],
          [
           "abstract hip hop"
          ],
          [
           "accordeon"
          ],
          [
           "accordion"
          ],
          [
           "acid house"
          ],
          [
           "acid rock"
          ],
          [
           "acid trance"
          ],
          [
           "acousmatic"
          ],
          [
           "acoustic blues"
          ],
          [
           "acoustic pop"
          ],
          [
           "acoustic punk"
          ],
          [
           "acoustic rock"
          ],
          [
           "action rock"
          ],
          [
           "adoracion"
          ],
          [
           "adult standards"
          ],
          [
           "adventista"
          ],
          [
           "afghan pop"
          ],
          [
           "afghan traditional"
          ],
          [
           "african percussion"
          ],
          [
           "african reggae"
          ],
          [
           "african rock"
          ],
          [
           "african-american classical"
          ],
          [
           "afro dancehall"
          ],
          [
           "afro house"
          ],
          [
           "afro psych"
          ],
          [
           "afro soul"
          ],
          [
           "afro-funk"
          ],
          [
           "afrobeat"
          ],
          [
           "afrofuturism"
          ],
          [
           "afrofuturismo brasileiro"
          ],
          [
           "afropop"
          ],
          [
           "afroswing"
          ],
          [
           "aggrotech"
          ],
          [
           "alabama indie"
          ],
          [
           "alabama metal"
          ],
          [
           "alabama rap"
          ],
          [
           "alaska indie"
          ],
          [
           "albanian pop"
          ],
          [
           "albany ny indie"
          ],
          [
           "alberta country"
          ],
          [
           "alberta hip hop"
          ],
          [
           "album rock"
          ],
          [
           "albuquerque indie"
          ],
          [
           "alt-idol"
          ],
          [
           "alte"
          ],
          [
           "alternative americana"
          ],
          [
           "alternative country"
          ],
          [
           "alternative dance"
          ],
          [
           "alternative emo"
          ],
          [
           "alternative hip hop"
          ],
          [
           "alternative metal"
          ],
          [
           "alternative pop"
          ],
          [
           "alternative pop rock"
          ],
          [
           "alternative r&b"
          ],
          [
           "alternative rock"
          ],
          [
           "alternative roots rock"
          ],
          [
           "ambeat"
          ],
          [
           "ambient"
          ],
          [
           "ambient black metal"
          ],
          [
           "ambient folk"
          ],
          [
           "ambient house"
          ],
          [
           "ambient idm"
          ],
          [
           "ambient industrial"
          ],
          [
           "ambient pop"
          ],
          [
           "ambient techno"
          ],
          [
           "ambient worship"
          ],
          [
           "american 21st century classical"
          ],
          [
           "american choir"
          ],
          [
           "american classical piano"
          ],
          [
           "american contemporary classical"
          ],
          [
           "american early music"
          ],
          [
           "american folk revival"
          ],
          [
           "american metalcore"
          ],
          [
           "american modern classical"
          ],
          [
           "american oi"
          ],
          [
           "american orchestra"
          ],
          [
           "american post-rock"
          ],
          [
           "american primitive"
          ],
          [
           "american romanticism"
          ],
          [
           "american shoegaze"
          ],
          [
           "anadolu rock"
          ],
          [
           "anarcho-punk"
          ],
          [
           "anglican liturgy"
          ],
          [
           "animal singing"
          ],
          [
           "anime"
          ],
          [
           "anime latino"
          ],
          [
           "anime rock"
          ],
          [
           "anime score"
          ],
          [
           "ann arbor indie"
          ],
          [
           "anthem emo"
          ],
          [
           "anthem worship"
          ],
          [
           "anti-folk"
          ],
          [
           "antilliaanse folklore"
          ],
          [
           "antiviral pop"
          ],
          [
           "appalachian folk"
          ],
          [
           "arab folk"
          ],
          [
           "arab groove"
          ],
          [
           "arab pop"
          ],
          [
           "arabesk"
          ],
          [
           "arabic hip hop"
          ],
          [
           "arabic jazz"
          ],
          [
           "argentine ambient"
          ],
          [
           "argentine hardcore"
          ],
          [
           "argentine heavy metal"
          ],
          [
           "argentine hip hop"
          ],
          [
           "argentine indie"
          ],
          [
           "argentine metal"
          ],
          [
           "argentine punk"
          ],
          [
           "argentine reggae"
          ],
          [
           "argentine rock"
          ],
          [
           "argentine telepop"
          ],
          [
           "arizona punk"
          ],
          [
           "arkansas country"
          ],
          [
           "arkansas hip hop"
          ],
          [
           "arkansas indie"
          ],
          [
           "armenian folk"
          ],
          [
           "art pop"
          ],
          [
           "art punk"
          ],
          [
           "art rock"
          ],
          [
           "art song"
          ],
          [
           "asbury park indie"
          ],
          [
           "asheville indie"
          ],
          [
           "asian american hip hop"
          ],
          [
           "asmr"
          ],
          [
           "athens indie"
          ],
          [
           "atl hip hop"
          ],
          [
           "atl trap"
          ],
          [
           "atlanta indie"
          ],
          [
           "atlanta metal"
          ],
          [
           "atlanta punk"
          ],
          [
           "atmosphere"
          ],
          [
           "atmospheric black metal"
          ],
          [
           "atmospheric dnb"
          ],
          [
           "atmospheric post-metal"
          ],
          [
           "atmospheric post-rock"
          ],
          [
           "atmospheric sludge"
          ],
          [
           "auckland indie"
          ],
          [
           "audiophile vocal"
          ],
          [
           "aussietronica"
          ],
          [
           "austin americana"
          ],
          [
           "austin singer-songwriter"
          ],
          [
           "austindie"
          ],
          [
           "australian alternative pop"
          ],
          [
           "australian alternative rock"
          ],
          [
           "australian ambient"
          ],
          [
           "australian children's music"
          ],
          [
           "australian choir"
          ],
          [
           "australian classical"
          ],
          [
           "australian classical piano"
          ],
          [
           "australian country"
          ],
          [
           "australian dance"
          ],
          [
           "australian electropop"
          ],
          [
           "australian garage punk"
          ],
          [
           "australian hip hop"
          ],
          [
           "australian house"
          ],
          [
           "australian indie"
          ],
          [
           "australian indie folk"
          ],
          [
           "australian indie rock"
          ],
          [
           "australian indigenous"
          ],
          [
           "australian metal"
          ],
          [
           "australian metalcore"
          ],
          [
           "australian pop"
          ],
          [
           "australian post-hardcore"
          ],
          [
           "australian post-punk"
          ],
          [
           "australian psych"
          ],
          [
           "australian r&b"
          ],
          [
           "australian reggae fusion"
          ],
          [
           "australian rock"
          ],
          [
           "australian singer-songwriter"
          ],
          [
           "australian ska"
          ],
          [
           "australian talent show"
          ],
          [
           "australian trap"
          ],
          [
           "australian underground hip hop"
          ],
          [
           "austrian choir"
          ],
          [
           "austrian classical piano"
          ],
          [
           "austrian orchestra"
          ],
          [
           "austrian pop"
          ],
          [
           "austro-german modernism"
          ],
          [
           "austropop"
          ],
          [
           "autoharp"
          ],
          [
           "autonomous black metal"
          ],
          [
           "avant-garde"
          ],
          [
           "avant-garde jazz"
          ],
          [
           "avant-garde metal"
          ],
          [
           "axe"
          ],
          [
           "azeri traditional"
          ],
          [
           "azonto"
          ],
          [
           "azontobeats"
          ],
          [
           "bachata"
          ],
          [
           "bachata dominicana"
          ],
          [
           "background music"
          ],
          [
           "background piano"
          ],
          [
           "baglama"
          ],
          [
           "bahai"
          ],
          [
           "bahamian folk"
          ],
          [
           "bahamian pop"
          ],
          [
           "baiao"
          ],
          [
           "bajki"
          ],
          [
           "bakersfield sound"
          ],
          [
           "balearic"
          ],
          [
           "balkan brass"
          ],
          [
           "balkan classical piano"
          ],
          [
           "ballet class"
          ],
          [
           "ballroom"
          ],
          [
           "baltic classical"
          ],
          [
           "baltimore hip hop"
          ],
          [
           "baltimore indie"
          ],
          [
           "banda"
          ],
          [
           "banda caliente"
          ],
          [
           "banda carnavalera"
          ],
          [
           "bandinhas"
          ],
          [
           "bandolim"
          ],
          [
           "bandoneon"
          ],
          [
           "bangla"
          ],
          [
           "banjo"
          ],
          [
           "bansuri"
          ],
          [
           "barbadian pop"
          ],
          [
           "barbershop"
          ],
          [
           "bard"
          ],
          [
           "barnmusik"
          ],
          [
           "barockinterpreten"
          ],
          [
           "baroque"
          ],
          [
           "baroque brass"
          ],
          [
           "baroque ensemble"
          ],
          [
           "baroque pop"
          ],
          [
           "baroque singing"
          ],
          [
           "baroque violin"
          ],
          [
           "baroque woodwind"
          ],
          [
           "bass house"
          ],
          [
           "bass music"
          ],
          [
           "bass trap"
          ],
          [
           "basshall"
          ],
          [
           "bassline"
          ],
          [
           "bath indie"
          ],
          [
           "baton rouge indie"
          ],
          [
           "baton rouge rap"
          ],
          [
           "battle rap"
          ],
          [
           "bay area hip hop"
          ],
          [
           "bay area indie"
          ],
          [
           "bboy"
          ],
          [
           "bc underground hip hop"
          ],
          [
           "beach music"
          ],
          [
           "beat italiano"
          ],
          [
           "beat poetry"
          ],
          [
           "beatboxing"
          ],
          [
           "beatlesque"
          ],
          [
           "bebop"
          ],
          [
           "bedroom pop"
          ],
          [
           "bedroom soul"
          ],
          [
           "belarusian indie"
          ],
          [
           "belarusian pop"
          ],
          [
           "belarusian rock"
          ],
          [
           "belgian classical piano"
          ],
          [
           "belgian contemporary classical"
          ],
          [
           "belgian dance"
          ],
          [
           "belgian edm"
          ],
          [
           "belgian hardcore"
          ],
          [
           "belgian indie"
          ],
          [
           "belgian indie rock"
          ],
          [
           "belgian jazz"
          ],
          [
           "belgian new wave"
          ],
          [
           "belgian pop"
          ],
          [
           "belgian rock"
          ],
          [
           "belgian singer-songwriter"
          ],
          [
           "belgian techno"
          ],
          [
           "belly dance"
          ],
          [
           "bengali folk"
          ],
          [
           "beninese pop"
          ],
          [
           "bergen indie"
          ],
          [
           "berlin minimal techno"
          ],
          [
           "berlin school"
          ],
          [
           "bhajan"
          ],
          [
           "bhangra"
          ],
          [
           "bible"
          ],
          [
           "big band"
          ],
          [
           "big beat"
          ],
          [
           "big room"
          ],
          [
           "binaural"
          ],
          [
           "birdsong"
          ],
          [
           "birmingham grime"
          ],
          [
           "birmingham hip hop"
          ],
          [
           "birmingham metal"
          ],
          [
           "bitpop"
          ],
          [
           "black 'n' roll"
          ],
          [
           "black comedy"
          ],
          [
           "black metal"
          ],
          [
           "black punk"
          ],
          [
           "black thrash"
          ],
          [
           "blackened crust"
          ],
          [
           "blackgaze"
          ],
          [
           "bleep techno"
          ],
          [
           "bluegrass"
          ],
          [
           "bluegrass fiddle"
          ],
          [
           "bluegrass gospel"
          ],
          [
           "blues"
          ],
          [
           "blues latinoamericano"
          ],
          [
           "blues mexicano"
          ],
          [
           "blues rock"
          ],
          [
           "bmore"
          ],
          [
           "bolero"
          ],
          [
           "bolero cubano"
          ],
          [
           "boogaloo"
          ],
          [
           "boogie"
          ],
          [
           "boogie-woogie"
          ],
          [
           "boom bap"
          ],
          [
           "boom bap brasileiro"
          ],
          [
           "bossa nova"
          ],
          [
           "bossa nova jazz"
          ],
          [
           "boston folk"
          ],
          [
           "boston hardcore"
          ],
          [
           "boston hip hop"
          ],
          [
           "boston indie"
          ],
          [
           "boston metal"
          ],
          [
           "boston punk"
          ],
          [
           "boston rock"
          ],
          [
           "bounce"
          ],
          [
           "bouncy house"
          ],
          [
           "bouzouki"
          ],
          [
           "bow pop"
          ],
          [
           "boy band"
          ],
          [
           "boy pop"
          ],
          [
           "boy soprano"
          ],
          [
           "brain waves"
          ],
          [
           "braindance"
          ],
          [
           "brass band"
          ],
          [
           "brass ensemble"
          ],
          [
           "brass quintet"
          ],
          [
           "brazilian boogie"
          ],
          [
           "brazilian classical"
          ],
          [
           "brazilian classical piano"
          ],
          [
           "brazilian contemporary classical"
          ],
          [
           "brazilian edm"
          ],
          [
           "brazilian groove metal"
          ],
          [
           "brazilian hip hop"
          ],
          [
           "brazilian indie"
          ],
          [
           "brazilian jazz"
          ],
          [
           "brazilian metal"
          ],
          [
           "brazilian modern jazz"
          ],
          [
           "brazilian percussion"
          ],
          [
           "brazilian punk"
          ],
          [
           "brazilian reggae"
          ],
          [
           "brazilian rock"
          ],
          [
           "brazilian ska"
          ],
          [
           "brazilian soul"
          ],
          [
           "brazilian thrash metal"
          ],
          [
           "breakbeat"
          ],
          [
           "breakcore"
          ],
          [
           "brega"
          ],
          [
           "breton folk"
          ],
          [
           "brighton indie"
          ],
          [
           "brill building pop"
          ],
          [
           "brisbane indie"
          ],
          [
           "bristol electronic"
          ],
          [
           "bristol indie"
          ],
          [
           "brit funk"
          ],
          [
           "british alternative rock"
          ],
          [
           "british black metal"
          ],
          [
           "british blues"
          ],
          [
           "british children's music"
          ],
          [
           "british choir"
          ],
          [
           "british classical piano"
          ],
          [
           "british comedy"
          ],
          [
           "british contemporary classical"
          ],
          [
           "british dance band"
          ],
          [
           "british death metal"
          ],
          [
           "british experimental"
          ],
          [
           "british folk"
          ],
          [
           "british grindcore"
          ],
          [
           "british indie rock"
          ],
          [
           "british industrial"
          ],
          [
           "british invasion"
          ],
          [
           "british jazz"
          ],
          [
           "british modern classical"
          ],
          [
           "british orchestra"
          ],
          [
           "british post-rock"
          ],
          [
           "british power metal"
          ],
          [
           "british singer-songwriter"
          ],
          [
           "british soul"
          ],
          [
           "british soundtrack"
          ],
          [
           "britpop"
          ],
          [
           "broadway"
          ],
          [
           "broken beat"
          ],
          [
           "bronx hip hop"
          ],
          [
           "brooklyn drill"
          ],
          [
           "brooklyn indie"
          ],
          [
           "brostep"
          ],
          [
           "brutal death metal"
          ],
          [
           "brutal deathcore"
          ],
          [
           "bubble trance"
          ],
          [
           "bubblegrunge"
          ],
          [
           "bubblegum dance"
          ],
          [
           "bubblegum pop"
          ],
          [
           "buffalo hip hop"
          ],
          [
           "buffalo ny indie"
          ],
          [
           "buffalo ny metal"
          ],
          [
           "bulgarian experimental"
          ],
          [
           "burmese traditional"
          ],
          [
           "bush ballad"
          ],
          [
           "c-pop"
          ],
          [
           "c86"
          ],
          [
           "cabaret"
          ],
          [
           "cajun"
          ],
          [
           "calgary indie"
          ],
          [
           "cali rap"
          ],
          [
           "calming instrumental"
          ],
          [
           "calypso"
          ],
          [
           "cambodian rock"
          ],
          [
           "cambridge choir"
          ],
          [
           "cambridgeshire indie"
          ],
          [
           "cameroonian pop"
          ],
          [
           "canadian americana"
          ],
          [
           "canadian blues"
          ],
          [
           "canadian ccm"
          ],
          [
           "canadian celtic"
          ],
          [
           "canadian children's music"
          ],
          [
           "canadian choir"
          ],
          [
           "canadian classical"
          ],
          [
           "canadian classical piano"
          ],
          [
           "canadian comedy"
          ],
          [
           "canadian contemporary country"
          ],
          [
           "canadian contemporary r&b"
          ],
          [
           "canadian country"
          ],
          [
           "canadian electronic"
          ],
          [
           "canadian electropop"
          ],
          [
           "canadian experimental"
          ],
          [
           "canadian folk"
          ],
          [
           "canadian hardcore"
          ],
          [
           "canadian hip hop"
          ],
          [
           "canadian house"
          ],
          [
           "canadian indie"
          ],
          [
           "canadian indie folk"
          ],
          [
           "canadian indigenous"
          ],
          [
           "canadian indigenous hip hop"
          ],
          [
           "canadian latin"
          ],
          [
           "canadian metal"
          ],
          [
           "canadian metalcore"
          ],
          [
           "canadian modern jazz"
          ],
          [
           "canadian pop"
          ],
          [
           "canadian pop punk"
          ],
          [
           "canadian post-hardcore"
          ],
          [
           "canadian post-rock"
          ],
          [
           "canadian psychedelic"
          ],
          [
           "canadian punk"
          ],
          [
           "canadian rock"
          ],
          [
           "canadian rockabilly"
          ],
          [
           "canadian singer-songwriter"
          ],
          [
           "canadian soundtrack"
          ],
          [
           "cancion melodica"
          ],
          [
           "candy pop"
          ],
          [
           "cantautor"
          ],
          [
           "cante flamenco"
          ],
          [
           "canterbury scene"
          ],
          [
           "canto popular uruguayo"
          ],
          [
           "cantopop"
          ],
          [
           "canzone d'autore"
          ],
          [
           "canzone genovese"
          ],
          [
           "canzone napoletana"
          ],
          [
           "cape town indie"
          ],
          [
           "cape verdean folk"
          ],
          [
           "capoeira"
          ],
          [
           "caracas indie"
          ],
          [
           "carnatic"
          ],
          [
           "carnatic instrumental"
          ],
          [
           "carnatic vocal"
          ],
          [
           "cartoon"
          ],
          [
           "cathedral choir"
          ],
          [
           "caucasian classical"
          ],
          [
           "caucasian classical piano"
          ],
          [
           "ccm"
          ],
          [
           "cedm"
          ],
          [
           "cello"
          ],
          [
           "celtic"
          ],
          [
           "celtic harp"
          ],
          [
           "celtic metal"
          ],
          [
           "celtic punk"
          ],
          [
           "celtic rock"
          ],
          [
           "cha-cha-cha"
          ],
          [
           "chakra"
          ],
          [
           "chamame"
          ],
          [
           "chamber choir"
          ],
          [
           "chamber ensemble"
          ],
          [
           "chamber folk"
          ],
          [
           "chamber orchestra"
          ],
          [
           "chamber pop"
          ],
          [
           "chamber psych"
          ],
          [
           "champeta"
          ],
          [
           "channel islands indie"
          ],
          [
           "channel pop"
          ],
          [
           "chanson"
          ],
          [
           "chanson paillarde"
          ],
          [
           "chaotic hardcore"
          ],
          [
           "charanga"
          ],
          [
           "charango"
          ],
          [
           "charlotte nc indie"
          ],
          [
           "charlottesville indie"
          ],
          [
           "chattanooga indie"
          ],
          [
           "chicago blues"
          ],
          [
           "chicago drill"
          ],
          [
           "chicago hardcore"
          ],
          [
           "chicago house"
          ],
          [
           "chicago indie"
          ],
          [
           "chicago pop punk"
          ],
          [
           "chicago punk"
          ],
          [
           "chicago rap"
          ],
          [
           "chicago soul"
          ],
          [
           "chicano punk"
          ],
          [
           "chicano rap"
          ],
          [
           "chicha"
          ],
          [
           "chihuahua indie"
          ],
          [
           "children's choir"
          ],
          [
           "children's folk"
          ],
          [
           "children's music"
          ],
          [
           "children's story"
          ],
          [
           "chilean hardcore"
          ],
          [
           "chilean indie"
          ],
          [
           "chilean rock"
          ],
          [
           "chilena"
          ],
          [
           "chill beats"
          ],
          [
           "chill guitar"
          ],
          [
           "chill lounge"
          ],
          [
           "chill out"
          ],
          [
           "chill pop"
          ],
          [
           "chill r&b"
          ],
          [
           "chillhop"
          ],
          [
           "chillstep"
          ],
          [
           "chillwave"
          ],
          [
           "chinese audiophile"
          ],
          [
           "chinese classical"
          ],
          [
           "chinese classical performance"
          ],
          [
           "chinese classical piano"
          ],
          [
           "chinese electropop"
          ],
          [
           "chinese hip hop"
          ],
          [
           "chinese idol pop"
          ],
          [
           "chinese indie"
          ],
          [
           "chinese indie rock"
          ],
          [
           "chinese instrumental"
          ],
          [
           "chinese jazz"
          ],
          [
           "chinese r&b"
          ],
          [
           "chinese soundtrack"
          ],
          [
           "chinese traditional"
          ],
          [
           "chiptune"
          ],
          [
           "chopped and screwed"
          ],
          [
           "choral"
          ],
          [
           "choro"
          ],
          [
           "christchurch indie"
          ],
          [
           "christelijk"
          ],
          [
           "christian a cappella"
          ],
          [
           "christian alternative rock"
          ],
          [
           "christian dance"
          ],
          [
           "christian hard rock"
          ],
          [
           "christian hardcore"
          ],
          [
           "christian hip hop"
          ],
          [
           "christian indie"
          ],
          [
           "christian metal"
          ],
          [
           "christian metalcore"
          ],
          [
           "christian music"
          ],
          [
           "christian pop"
          ],
          [
           "christian power metal"
          ],
          [
           "christian punk"
          ],
          [
           "christian relaxative"
          ],
          [
           "christian rock"
          ],
          [
           "christian trap"
          ],
          [
           "christian uplift"
          ],
          [
           "christmas instrumental"
          ],
          [
           "christmas product"
          ],
          [
           "chunchaca"
          ],
          [
           "chutney"
          ],
          [
           "cincinnati rap"
          ],
          [
           "cinematic post-rock"
          ],
          [
           "circuit"
          ],
          [
           "circus"
          ],
          [
           "classic afrobeat"
          ],
          [
           "classic arab pop"
          ],
          [
           "classic australian country"
          ],
          [
           "classic belgian pop"
          ],
          [
           "classic bhangra"
          ],
          [
           "classic bollywood"
          ],
          [
           "classic canadian rock"
          ],
          [
           "classic cantopop"
          ],
          [
           "classic colombian pop"
          ],
          [
           "classic country pop"
          ],
          [
           "classic czech pop"
          ],
          [
           "classic danish pop"
          ],
          [
           "classic dubstep"
          ],
          [
           "classic eurovision"
          ],
          [
           "classic finnish pop"
          ],
          [
           "classic french pop"
          ],
          [
           "classic garage rock"
          ],
          [
           "classic girl group"
          ],
          [
           "classic greek pop"
          ],
          [
           "classic hardstyle"
          ],
          [
           "classic icelandic pop"
          ],
          [
           "classic indo pop"
          ],
          [
           "classic iskelma"
          ],
          [
           "classic israeli pop"
          ],
          [
           "classic italian folk pop"
          ],
          [
           "classic italian pop"
          ],
          [
           "classic j-rock"
          ],
          [
           "classic japanese jazz"
          ],
          [
           "classic korean pop"
          ],
          [
           "classic latvian pop"
          ],
          [
           "classic mandopop"
          ],
          [
           "classic norwegian pop"
          ],
          [
           "classic opm"
          ],
          [
           "classic pakistani pop"
          ],
          [
           "classic persian pop"
          ],
          [
           "classic peruvian pop"
          ],
          [
           "classic polish pop"
          ],
          [
           "classic praise"
          ],
          [
           "classic psychedelic rock"
          ],
          [
           "classic punjabi pop"
          ],
          [
           "classic rock"
          ],
          [
           "classic russian pop"
          ],
          [
           "classic russian rock"
          ],
          [
           "classic schlager"
          ],
          [
           "classic soul"
          ],
          [
           "classic soundtrack"
          ],
          [
           "classic swedish pop"
          ],
          [
           "classic thai pop"
          ],
          [
           "classic tunisian pop"
          ],
          [
           "classic turkish pop"
          ],
          [
           "classic uk pop"
          ],
          [
           "classic venezuelan pop"
          ],
          [
           "classical"
          ],
          [
           "classical accordion"
          ],
          [
           "classical baritone"
          ],
          [
           "classical bass"
          ],
          [
           "classical cello"
          ],
          [
           "classical clarinet"
          ],
          [
           "classical contralto"
          ],
          [
           "classical countertenor"
          ],
          [
           "classical era"
          ],
          [
           "classical flute"
          ],
          [
           "classical guitar"
          ],
          [
           "classical harp"
          ],
          [
           "classical horn"
          ],
          [
           "classical mandolin"
          ],
          [
           "classical mezzo-soprano"
          ],
          [
           "classical oboe"
          ],
          [
           "classical organ"
          ],
          [
           "classical performance"
          ],
          [
           "classical piano"
          ],
          [
           "classical piano duo"
          ],
          [
           "classical piano trio"
          ],
          [
           "classical saxophone"
          ],
          [
           "classical soprano"
          ],
          [
           "classical tenor"
          ],
          [
           "classical trumpet"
          ],
          [
           "classify"
          ],
          [
           "clawhammer banjo"
          ],
          [
           "clean comedy"
          ],
          [
           "cleveland metal"
          ],
          [
           "coco"
          ],
          [
           "collage pop"
          ],
          [
           "college a cappella"
          ],
          [
           "colombian hip hop"
          ],
          [
           "colombian pop"
          ],
          [
           "colombian rock"
          ],
          [
           "columbus ohio indie"
          ],
          [
           "comedy"
          ],
          [
           "comedy rap"
          ],
          [
           "comedy rock"
          ],
          [
           "comic"
          ],
          [
           "comic metal"
          ],
          [
           "commons"
          ],
          [
           "complextro"
          ],
          [
           "compositional ambient"
          ],
          [
           "concepcion indie"
          ],
          [
           "concert band"
          ],
          [
           "connecticut hardcore"
          ],
          [
           "connecticut indie"
          ],
          [
           "conscious hip hop"
          ],
          [
           "contemporary choir"
          ],
          [
           "contemporary classical"
          ],
          [
           "contemporary classical piano"
          ],
          [
           "contemporary country"
          ],
          [
           "contemporary folk"
          ],
          [
           "contemporary gospel"
          ],
          [
           "contemporary jazz"
          ],
          [
           "contemporary post-bop"
          ],
          [
           "contemporary vocal jazz"
          ],
          [
           "contrabass"
          ],
          [
           "cool jazz"
          ],
          [
           "copla"
          ],
          [
           "cornish folk"
          ],
          [
           "cornwall indie"
          ],
          [
           "corrido"
          ],
          [
           "corridos cristianos"
          ],
          [
           "corridos tumbados"
          ],
          [
           "corrosion"
          ],
          [
           "cosmic american"
          ],
          [
           "cosmic post-rock"
          ],
          [
           "country"
          ],
          [
           "country blues"
          ],
          [
           "country boogie"
          ],
          [
           "country dawn"
          ],
          [
           "country gospel"
          ],
          [
           "country pop"
          ],
          [
           "country rap"
          ],
          [
           "country road"
          ],
          [
           "country rock"
          ],
          [
           "coverchill"
          ],
          [
           "cowboy western"
          ],
          [
           "cowpunk"
          ],
          [
           "crack rock steady"
          ],
          [
           "croatian folk"
          ],
          [
           "croatian pop"
          ],
          [
           "croatian rock"
          ],
          [
           "crossover thrash"
          ],
          [
           "crunk"
          ],
          [
           "crust punk"
          ],
          [
           "cuarteto"
          ],
          [
           "cuatro venezolano"
          ],
          [
           "cuban alternative"
          ],
          [
           "cuban rumba"
          ],
          [
           "cubaton"
          ],
          [
           "cumbia"
          ],
          [
           "cumbia andina mexicana"
          ],
          [
           "cumbia chilena"
          ],
          [
           "cumbia colombiana regia"
          ],
          [
           "cumbia ecuatoriana"
          ],
          [
           "cumbia funk"
          ],
          [
           "cumbia lagunera"
          ],
          [
           "cumbia paraguaya"
          ],
          [
           "cumbia peruana"
          ],
          [
           "cumbia pop"
          ],
          [
           "cumbia ranchera"
          ],
          [
           "cumbia salvadorena"
          ],
          [
           "cumbia santafesina"
          ],
          [
           "cumbia sonidera"
          ],
          [
           "cumbia villera"
          ],
          [
           "cyberpunk"
          ],
          [
           "cymraeg"
          ],
          [
           "cypriot pop"
          ],
          [
           "czech classical"
          ],
          [
           "czech classical piano"
          ],
          [
           "czech contemporary classical"
          ],
          [
           "d-beat"
          ],
          [
           "dabke"
          ],
          [
           "dakke dak"
          ],
          [
           "dallas indie"
          ],
          [
           "dance pop"
          ],
          [
           "dance rock"
          ],
          [
           "dance-punk"
          ],
          [
           "dancehall"
          ],
          [
           "dangdut"
          ],
          [
           "danish alternative rock"
          ],
          [
           "danish classical"
          ],
          [
           "danish electronic"
          ],
          [
           "danish electropop"
          ],
          [
           "danish hip hop"
          ],
          [
           "danish jazz"
          ],
          [
           "danish metal"
          ],
          [
           "danish pop"
          ],
          [
           "danish pop rock"
          ],
          [
           "danish post-punk"
          ],
          [
           "danish punk"
          ],
          [
           "danish rock"
          ],
          [
           "danish singer-songwriter"
          ],
          [
           "dansband"
          ],
          [
           "danseband"
          ],
          [
           "dansktop"
          ],
          [
           "danspunk"
          ],
          [
           "dark cabaret"
          ],
          [
           "dark clubbing"
          ],
          [
           "dark disco"
          ],
          [
           "dark hardcore"
          ],
          [
           "dark jazz"
          ],
          [
           "dark minimal techno"
          ],
          [
           "dark post-punk"
          ],
          [
           "dark techno"
          ],
          [
           "dark trap"
          ],
          [
           "dark wave"
          ],
          [
           "darksynth"
          ],
          [
           "dayton indie"
          ],
          [
           "dc hardcore"
          ],
          [
           "dc indie"
          ],
          [
           "death 'n' roll"
          ],
          [
           "death metal"
          ],
          [
           "deathcore"
          ],
          [
           "deathgrass"
          ],
          [
           "deathgrind"
          ],
          [
           "deathrash"
          ],
          [
           "deathrock"
          ],
          [
           "deathstep"
          ],
          [
           "deep acoustic pop"
          ],
          [
           "deep adult standards"
          ],
          [
           "deep big room"
          ],
          [
           "deep ccm"
          ],
          [
           "deep christian rock"
          ],
          [
           "deep classic garage rock"
          ],
          [
           "deep comedy"
          ],
          [
           "deep contemporary country"
          ],
          [
           "deep dance pop"
          ],
          [
           "deep delta blues"
          ],
          [
           "deep disco"
          ],
          [
           "deep disco house"
          ],
          [
           "deep dnb"
          ],
          [
           "deep east coast hip hop"
          ],
          [
           "deep euro house"
          ],
          [
           "deep flow"
          ],
          [
           "deep free jazz"
          ],
          [
           "deep freestyle"
          ],
          [
           "deep full on"
          ],
          [
           "deep funk"
          ],
          [
           "deep g funk"
          ],
          [
           "deep gothic post-punk"
          ],
          [
           "deep groove house"
          ],
          [
           "deep house"
          ],
          [
           "deep idm"
          ],
          [
           "deep indian pop"
          ],
          [
           "deep indie singer-songwriter"
          ],
          [
           "deep latin alternative"
          ],
          [
           "deep latin christian"
          ],
          [
           "deep melodic metalcore"
          ],
          [
           "deep minimal techno"
          ],
          [
           "deep motown"
          ],
          [
           "deep new americana"
          ],
          [
           "deep new wave"
          ],
          [
           "deep norteno"
          ],
          [
           "deep northern soul"
          ],
          [
           "deep pop edm"
          ],
          [
           "deep progressive house"
          ],
          [
           "deep psychobilly"
          ],
          [
           "deep punk rock"
          ],
          [
           "deep r&b"
          ],
          [
           "deep ragga"
          ],
          [
           "deep regional mexican"
          ],
          [
           "deep smooth jazz"
          ],
          [
           "deep soft rock"
          ],
          [
           "deep soul house"
          ],
          [
           "deep soundtrack"
          ],
          [
           "deep southern soul"
          ],
          [
           "deep southern trap"
          ],
          [
           "deep space rock"
          ],
          [
           "deep talent show"
          ],
          [
           "deep tech house"
          ],
          [
           "deep techno"
          ],
          [
           "deep tropical house"
          ],
          [
           "deep underground hip hop"
          ],
          [
           "deep uplifting trance"
          ],
          [
           "delta blues"
          ],
          [
           "dembow"
          ],
          [
           "denpa-kei"
          ],
          [
           "denton tx indie"
          ],
          [
           "denver indie"
          ],
          [
           "depressive black metal"
          ],
          [
           "derby indie"
          ],
          [
           "desert blues"
          ],
          [
           "desi hip hop"
          ],
          [
           "desi pop"
          ],
          [
           "destroy techno"
          ],
          [
           "detroit hip hop"
          ],
          [
           "detroit house"
          ],
          [
           "detroit techno"
          ],
          [
           "detroit trap"
          ],
          [
           "detske pisnicky"
          ],
          [
           "detskie pesni"
          ],
          [
           "devon indie"
          ],
          [
           "dfw rap"
          ],
          [
           "dhrupad"
          ],
          [
           "digital hardcore"
          ],
          [
           "dinner jazz"
          ],
          [
           "dirty south rap"
          ],
          [
           "dirty texas rap"
          ],
          [
           "disco"
          ],
          [
           "disco house"
          ],
          [
           "disney"
          ],
          [
           "diva house"
          ],
          [
           "dixieland"
          ],
          [
           "diy emo"
          ],
          [
           "djent"
          ],
          [
           "dmv rap"
          ],
          [
           "dominican pop"
          ],
          [
           "dong-yo"
          ],
          [
           "doo-wop"
          ],
          [
           "doom metal"
          ],
          [
           "double drumming"
          ],
          [
           "downtempo"
          ],
          [
           "drama"
          ],
          [
           "dream pop"
          ],
          [
           "dream trance"
          ],
          [
           "dreamgaze"
          ],
          [
           "dreamo"
          ],
          [
           "drift"
          ],
          [
           "drill"
          ],
          [
           "drill and bass"
          ],
          [
           "drone"
          ],
          [
           "drone folk"
          ],
          [
           "drone metal"
          ],
          [
           "drum and bass"
          ],
          [
           "dub"
          ],
          [
           "dub metal"
          ],
          [
           "dub poetry"
          ],
          [
           "dub techno"
          ],
          [
           "dubstep"
          ],
          [
           "dubsteppe"
          ],
          [
           "duduk"
          ],
          [
           "duluth indie"
          ],
          [
           "dunedin indie"
          ],
          [
           "dunedin sound"
          ],
          [
           "dungeon synth"
          ],
          [
           "duranguense"
          ],
          [
           "dusseldorf electronic"
          ],
          [
           "dutch blues"
          ],
          [
           "dutch cabaret"
          ],
          [
           "dutch classical piano"
          ],
          [
           "dutch death metal"
          ],
          [
           "dutch dnb"
          ],
          [
           "dutch edm"
          ],
          [
           "dutch folk"
          ],
          [
           "dutch hip hop"
          ],
          [
           "dutch house"
          ],
          [
           "dutch indie"
          ],
          [
           "dutch jazz"
          ],
          [
           "dutch metal"
          ],
          [
           "dutch pop"
          ],
          [
           "dutch prog"
          ],
          [
           "dutch rap pop"
          ],
          [
           "dutch rock"
          ],
          [
           "dutch trance"
          ],
          [
           "e6fi"
          ],
          [
           "early american folk"
          ],
          [
           "early avant garde"
          ],
          [
           "early modern classical"
          ],
          [
           "early music"
          ],
          [
           "early music choir"
          ],
          [
           "early music ensemble"
          ],
          [
           "early reggae"
          ],
          [
           "early romantic era"
          ],
          [
           "early synthpop"
          ],
          [
           "early us punk"
          ],
          [
           "east coast hip hop"
          ],
          [
           "east coast reggae"
          ],
          [
           "eastern bloc groove"
          ],
          [
           "easy listening"
          ],
          [
           "easycore"
          ],
          [
           "eau claire indie"
          ],
          [
           "ebm"
          ],
          [
           "ecm-style jazz"
          ],
          [
           "ectofolk"
          ],
          [
           "ecuadorian pop"
          ],
          [
           "edm"
          ],
          [
           "edmonton indie"
          ],
          [
           "egyptian pop"
          ],
          [
           "egyptian traditional"
          ],
          [
           "el paso indie"
          ],
          [
           "electra"
          ],
          [
           "electric bass"
          ],
          [
           "electric blues"
          ],
          [
           "electro"
          ],
          [
           "electro house"
          ],
          [
           "electro jazz"
          ],
          [
           "electro latino"
          ],
          [
           "electro swing"
          ],
          [
           "electro-industrial"
          ],
          [
           "electro-pop francais"
          ],
          [
           "electroclash"
          ],
          [
           "electrofox"
          ],
          [
           "electronic djent"
          ],
          [
           "electronic rock"
          ],
          [
           "electronic trap"
          ],
          [
           "electronica"
          ],
          [
           "electronica argentina"
          ],
          [
           "electropop"
          ],
          [
           "electropowerpop"
          ],
          [
           "emo"
          ],
          [
           "emo mexicano"
          ],
          [
           "emo punk"
          ],
          [
           "emo rap"
          ],
          [
           "emocore"
          ],
          [
           "english baroque"
          ],
          [
           "english indie rock"
          ],
          [
           "english renaissance"
          ],
          [
           "enka"
          ],
          [
           "entehno"
          ],
          [
           "environmental"
          ],
          [
           "epic doom"
          ],
          [
           "epicore"
          ],
          [
           "erhu"
          ],
          [
           "escape room"
          ],
          [
           "esperanto"
          ],
          [
           "essex indie"
          ],
          [
           "estonian hip hop"
          ],
          [
           "estonian pop"
          ],
          [
           "ethereal wave"
          ],
          [
           "etherpop"
          ],
          [
           "ethio-jazz"
          ],
          [
           "ethiopian pop"
          ],
          [
           "ethnomusicology"
          ],
          [
           "ethnotronica"
          ],
          [
           "eugene indie"
          ],
          [
           "euphoric hardstyle"
          ],
          [
           "eurobeat"
          ],
          [
           "eurodance"
          ],
          [
           "europop"
          ],
          [
           "euroska"
          ],
          [
           "eurovision"
          ],
          [
           "exotica"
          ],
          [
           "experimental"
          ],
          [
           "experimental ambient"
          ],
          [
           "experimental big band"
          ],
          [
           "experimental dub"
          ],
          [
           "experimental folk"
          ],
          [
           "experimental guitar"
          ],
          [
           "experimental hip hop"
          ],
          [
           "experimental house"
          ],
          [
           "experimental indie"
          ],
          [
           "experimental jazz"
          ],
          [
           "experimental pop"
          ],
          [
           "experimental rock"
          ],
          [
           "experimental vocal"
          ],
          [
           "fado"
          ],
          [
           "family gospel"
          ],
          [
           "faroese pop"
          ],
          [
           "fast melodic punk"
          ],
          [
           "fidget house"
          ],
          [
           "filmi"
          ],
          [
           "filter house"
          ],
          [
           "filthstep"
          ],
          [
           "final fantasy"
          ],
          [
           "fingerstyle"
          ],
          [
           "finnish alternative rock"
          ],
          [
           "finnish classical"
          ],
          [
           "finnish contemporary classical"
          ],
          [
           "finnish death metal"
          ],
          [
           "finnish edm"
          ],
          [
           "finnish hard rock"
          ],
          [
           "finnish heavy metal"
          ],
          [
           "finnish metal"
          ],
          [
           "finnish power metal"
          ],
          [
           "finnish soul"
          ],
          [
           "flamenco"
          ],
          [
           "flamenco guitar"
          ],
          [
           "flick hop"
          ],
          [
           "flint hip hop"
          ],
          [
           "float house"
          ],
          [
           "florida death metal"
          ],
          [
           "florida rap"
          ],
          [
           "fluxwork"
          ],
          [
           "fo jing"
          ],
          [
           "focus"
          ],
          [
           "focus beats"
          ],
          [
           "focus trance"
          ],
          [
           "folclor afrocolombiano"
          ],
          [
           "folclor colombiano"
          ],
          [
           "folclore extremeno"
          ],
          [
           "folclore jujeno"
          ],
          [
           "folclore navarra"
          ],
          [
           "folclore salteno"
          ],
          [
           "folclore tucumano"
          ],
          [
           "folk"
          ],
          [
           "folk metal"
          ],
          [
           "folk punk"
          ],
          [
           "folk rock"
          ],
          [
           "folk rock italiano"
          ],
          [
           "folk-pop"
          ],
          [
           "folklore argentino"
          ],
          [
           "folklore boliviano"
          ],
          [
           "folklore chileno"
          ],
          [
           "folklore ecuatoriano"
          ],
          [
           "folklore peruano"
          ],
          [
           "folklore venezolano"
          ],
          [
           "folklore veracruzano"
          ],
          [
           "folkmusik"
          ],
          [
           "folktronica"
          ],
          [
           "footwork"
          ],
          [
           "forro"
          ],
          [
           "forro tradicional"
          ],
          [
           "fort worth indie"
          ],
          [
           "fourth world"
          ],
          [
           "francoton"
          ],
          [
           "freak folk"
          ],
          [
           "freakbeat"
          ],
          [
           "free folk"
          ],
          [
           "free improvisation"
          ],
          [
           "free jazz"
          ],
          [
           "freestyle"
          ],
          [
           "french baroque"
          ],
          [
           "french classical piano"
          ],
          [
           "french contemporary classical"
          ],
          [
           "french death metal"
          ],
          [
           "french dnb"
          ],
          [
           "french hip hop"
          ],
          [
           "french indie folk"
          ],
          [
           "french indie pop"
          ],
          [
           "french indietronica"
          ],
          [
           "french jazz"
          ],
          [
           "french metal"
          ],
          [
           "french movie tunes"
          ],
          [
           "french opera"
          ],
          [
           "french orchestra"
          ],
          [
           "french pop"
          ],
          [
           "french post-punk"
          ],
          [
           "french psychedelic"
          ],
          [
           "french reggae"
          ],
          [
           "french rock"
          ],
          [
           "french romanticism"
          ],
          [
           "french shoegaze"
          ],
          [
           "french soundtrack"
          ],
          [
           "french synthpop"
          ],
          [
           "french techno"
          ],
          [
           "frenchcore"
          ],
          [
           "full on"
          ],
          [
           "funana"
          ],
          [
           "funeral doom"
          ],
          [
           "funk"
          ],
          [
           "funk 150 bpm"
          ],
          [
           "funk carioca"
          ],
          [
           "funk das antigas"
          ],
          [
           "funk metal"
          ],
          [
           "funk mexicano"
          ],
          [
           "funk ostentacao"
          ],
          [
           "funk paulista"
          ],
          [
           "funk pop"
          ],
          [
           "funk rock"
          ],
          [
           "funky breaks"
          ],
          [
           "funky tech house"
          ],
          [
           "future bass"
          ],
          [
           "future funk"
          ],
          [
           "future garage"
          ],
          [
           "future house"
          ],
          [
           "future rock"
          ],
          [
           "futurepop"
          ],
          [
           "g funk"
          ],
          [
           "gabba"
          ],
          [
           "gabonese pop"
          ],
          [
           "gaian doom"
          ],
          [
           "gainesville indie"
          ],
          [
           "gaita zuliana"
          ],
          [
           "galante era"
          ],
          [
           "gamelan"
          ],
          [
           "gaming dubstep"
          ],
          [
           "gaming edm"
          ],
          [
           "gangster rap"
          ],
          [
           "garage house"
          ],
          [
           "garage pop"
          ],
          [
           "garage psych"
          ],
          [
           "garage punk"
          ],
          [
           "garage punk blues"
          ],
          [
           "garage rock"
          ],
          [
           "garage rock revival"
          ],
          [
           "gauze pop"
          ],
          [
           "gbvfi"
          ],
          [
           "geek folk"
          ],
          [
           "geek rock"
          ],
          [
           "georgian folk"
          ],
          [
           "german alternative rock"
          ],
          [
           "german baroque"
          ],
          [
           "german choir"
          ],
          [
           "german classical piano"
          ],
          [
           "german country"
          ],
          [
           "german dance"
          ],
          [
           "german hard rock"
          ],
          [
           "german heavy metal"
          ],
          [
           "german house"
          ],
          [
           "german indie"
          ],
          [
           "german jazz"
          ],
          [
           "german literature"
          ],
          [
           "german metal"
          ],
          [
           "german oi"
          ],
          [
           "german opera"
          ],
          [
           "german orchestra"
          ],
          [
           "german pop"
          ],
          [
           "german pop rock"
          ],
          [
           "german post-hardcore"
          ],
          [
           "german power metal"
          ],
          [
           "german punk"
          ],
          [
           "german renaissance"
          ],
          [
           "german rock"
          ],
          [
           "german romanticism"
          ],
          [
           "german show tunes"
          ],
          [
           "german soundtrack"
          ],
          [
           "german techno"
          ],
          [
           "german thrash metal"
          ],
          [
           "german trance"
          ],
          [
           "german underground rap"
          ],
          [
           "ghanaian hip hop"
          ],
          [
           "ghanaian traditional"
          ],
          [
           "ghazal"
          ],
          [
           "ghent indie"
          ],
          [
           "girl group"
          ],
          [
           "glam metal"
          ],
          [
           "glam punk"
          ],
          [
           "glam rock"
          ],
          [
           "glee club"
          ],
          [
           "glitch"
          ],
          [
           "glitch hop"
          ],
          [
           "glitch pop"
          ],
          [
           "glitchcore"
          ],
          [
           "go-go"
          ],
          [
           "goregrind"
          ],
          [
           "gospel"
          ],
          [
           "gospel antigas"
          ],
          [
           "gospel blues"
          ],
          [
           "gospel italiano"
          ],
          [
           "gospel r&b"
          ],
          [
           "gospel rap"
          ],
          [
           "gospel singers"
          ],
          [
           "gospel soul"
          ],
          [
           "gothabilly"
          ],
          [
           "gothenburg indie"
          ],
          [
           "gothenburg metal"
          ],
          [
           "gothic alternative"
          ],
          [
           "gothic americana"
          ],
          [
           "gothic black metal"
          ],
          [
           "gothic metal"
          ],
          [
           "gothic post-punk"
          ],
          [
           "gothic rock"
          ],
          [
           "gothic symphonic metal"
          ],
          [
           "gqom"
          ],
          [
           "grand rapids indie"
          ],
          [
           "grave wave"
          ],
          [
           "greek clarinet"
          ],
          [
           "greek contemporary classical"
          ],
          [
           "greek folk"
          ],
          [
           "greek guitar"
          ],
          [
           "greek house"
          ],
          [
           "greek jazz"
          ],
          [
           "greek pop"
          ],
          [
           "greek swing"
          ],
          [
           "gregorian chant"
          ],
          [
           "grime"
          ],
          [
           "grindcore"
          ],
          [
           "griot"
          ],
          [
           "groove metal"
          ],
          [
           "groove room"
          ],
          [
           "grunge"
          ],
          [
           "grunge pop"
          ],
          [
           "grupera"
          ],
          [
           "gruperas inmortales"
          ],
          [
           "guadalajara indie"
          ],
          [
           "guam indie"
          ],
          [
           "guaracha"
          ],
          [
           "guatemalan pop"
          ],
          [
           "guidance"
          ],
          [
           "guinean pop"
          ],
          [
           "guitarra argentina"
          ],
          [
           "guitarra clasica"
          ],
          [
           "guitarra portuguesa"
          ],
          [
           "gujarati garba"
          ],
          [
           "gujarati pop"
          ],
          [
           "guzheng"
          ],
          [
           "gymcore"
          ],
          [
           "gypsy"
          ],
          [
           "gypsy jazz"
          ],
          [
           "gypsy punk"
          ],
          [
           "haitian traditional"
          ],
          [
           "halifax indie"
          ],
          [
           "halloween"
          ],
          [
           "hamburg electronic"
          ],
          [
           "hammered dulcimer"
          ],
          [
           "hammond organ"
          ],
          [
           "hands up"
          ],
          [
           "hangpan"
          ],
          [
           "happy hardcore"
          ],
          [
           "hard alternative"
          ],
          [
           "hard bop"
          ],
          [
           "hard minimal techno"
          ],
          [
           "hard rock"
          ],
          [
           "hard rock brasileiro"
          ],
          [
           "hardcore"
          ],
          [
           "hardcore hip hop"
          ],
          [
           "hardcore punk"
          ],
          [
           "hardcore techno"
          ],
          [
           "hardstyle"
          ],
          [
           "harlem hip hop"
          ],
          [
           "harlem renaissance"
          ],
          [
           "harmonica blues"
          ],
          [
           "harmonica jazz"
          ],
          [
           "harp"
          ],
          [
           "harpsichord"
          ],
          [
           "haryanvi pop"
          ],
          [
           "hauntology"
          ],
          [
           "hawaiian"
          ],
          [
           "hawaiian hip hop"
          ],
          [
           "hawaiian indie"
          ],
          [
           "healing"
          ],
          [
           "heartland rock"
          ],
          [
           "hi-nrg"
          ],
          [
           "highlife"
          ],
          [
           "hindi hip hop"
          ],
          [
           "hindi indie"
          ],
          [
           "hindustani classical"
          ],
          [
           "hindustani instrumental"
          ],
          [
           "hindustani vocal"
          ],
          [
           "hip hop"
          ],
          [
           "hip hop cubano"
          ],
          [
           "hip house"
          ],
          [
           "hip pop"
          ],
          [
           "hiplife"
          ],
          [
           "histoire pour enfants"
          ],
          [
           "historic classical performance"
          ],
          [
           "historic orchestral performance"
          ],
          [
           "historic piano performance"
          ],
          [
           "historic string quartet"
          ],
          [
           "historical keyboard"
          ],
          [
           "historically informed performance"
          ],
          [
           "hoerspiel"
          ],
          [
           "hokkien pop"
          ],
          [
           "hollywood"
          ],
          [
           "hong kong hip hop"
          ],
          [
           "hong kong indie"
          ],
          [
           "hong kong rock"
          ],
          [
           "honky tonk"
          ],
          [
           "honky-tonk piano"
          ],
          [
           "hopebeat"
          ],
          [
           "horror punk"
          ],
          [
           "horror synth"
          ],
          [
           "horrorcore"
          ],
          [
           "house"
          ],
          [
           "houston rap"
          ],
          [
           "huapango"
          ],
          [
           "huayno"
          ],
          [
           "hula"
          ],
          [
           "humppa"
          ],
          [
           "hungarian choir"
          ],
          [
           "hungarian classical performance"
          ],
          [
           "hungarian classical piano"
          ],
          [
           "hungarian contemporary classical"
          ],
          [
           "hungarian edm"
          ],
          [
           "hungarian folk"
          ],
          [
           "hungarian pop"
          ],
          [
           "hungarian rock"
          ],
          [
           "hungarian techno"
          ],
          [
           "hurdy-gurdy"
          ],
          [
           "hyperpop"
          ],
          [
           "hyphy"
          ],
          [
           "icelandic classical"
          ],
          [
           "icelandic electronic"
          ],
          [
           "icelandic experimental"
          ],
          [
           "icelandic folk"
          ],
          [
           "icelandic indie"
          ],
          [
           "icelandic jazz"
          ],
          [
           "icelandic pop"
          ],
          [
           "icelandic rock"
          ],
          [
           "idaho indie"
          ],
          [
           "idol"
          ],
          [
           "idol rock"
          ],
          [
           "ilahiler"
          ],
          [
           "ilocano pop"
          ],
          [
           "impressionism"
          ],
          [
           "indian classical"
          ],
          [
           "indian edm"
          ],
          [
           "indian folk"
          ],
          [
           "indian fusion"
          ],
          [
           "indian indie"
          ],
          [
           "indian instrumental"
          ],
          [
           "indian jazz"
          ],
          [
           "indiana hip hop"
          ],
          [
           "indie anthem-folk"
          ],
          [
           "indie cafe pop"
          ],
          [
           "indie deutschrap"
          ],
          [
           "indie dream pop"
          ],
          [
           "indie electronica"
          ],
          [
           "indie electropop"
          ],
          [
           "indie folk"
          ],
          [
           "indie game soundtrack"
          ],
          [
           "indie garage rock"
          ],
          [
           "indie hip hop"
          ],
          [
           "indie jazz"
          ],
          [
           "indie pop"
          ],
          [
           "indie pop rap"
          ],
          [
           "indie poptimism"
          ],
          [
           "indie psych-pop"
          ],
          [
           "indie punk"
          ],
          [
           "indie quebecois"
          ],
          [
           "indie r&b"
          ],
          [
           "indie rock"
          ],
          [
           "indie rock mexicano"
          ],
          [
           "indie rockism"
          ],
          [
           "indie shoegaze"
          ],
          [
           "indie singer-songwriter"
          ],
          [
           "indie soul"
          ],
          [
           "indie surf"
          ],
          [
           "indie triste"
          ],
          [
           "indiecoustica"
          ],
          [
           "indietronica"
          ],
          [
           "indonesian hip hop"
          ],
          [
           "indonesian indie"
          ],
          [
           "indonesian pop"
          ],
          [
           "indonesian r&b"
          ],
          [
           "indonesian worship"
          ],
          [
           "industrial"
          ],
          [
           "industrial hardcore"
          ],
          [
           "industrial hip hop"
          ],
          [
           "industrial metal"
          ],
          [
           "industrial rock"
          ],
          [
           "indy indie"
          ],
          [
           "instrumental acoustic guitar"
          ],
          [
           "instrumental bluegrass"
          ],
          [
           "instrumental funk"
          ],
          [
           "instrumental grime"
          ],
          [
           "instrumental math rock"
          ],
          [
           "instrumental post-rock"
          ],
          [
           "instrumental progressive metal"
          ],
          [
           "instrumental rock"
          ],
          [
           "instrumental soul"
          ],
          [
           "instrumental stoner rock"
          ],
          [
           "instrumental surf"
          ],
          [
           "intelligent dance music"
          ],
          [
           "iowa hip hop"
          ],
          [
           "irish accordion"
          ],
          [
           "irish ballad"
          ],
          [
           "irish banjo"
          ],
          [
           "irish classical"
          ],
          [
           "irish country"
          ],
          [
           "irish dance"
          ],
          [
           "irish fiddle"
          ],
          [
           "irish folk"
          ],
          [
           "irish hip hop"
          ],
          [
           "irish indie"
          ],
          [
           "irish metal"
          ],
          [
           "irish pop"
          ],
          [
           "irish pub song"
          ],
          [
           "irish rock"
          ],
          [
           "irish singer-songwriter"
          ],
          [
           "iskelma"
          ],
          [
           "islamic recitation"
          ],
          [
           "isle of wight indie"
          ],
          [
           "israeli classical"
          ],
          [
           "israeli classical piano"
          ],
          [
           "israeli folk"
          ],
          [
           "israeli hip hop"
          ],
          [
           "israeli mediterranean"
          ],
          [
           "israeli pop"
          ],
          [
           "israeli rock"
          ],
          [
           "israeli singer-songwriter"
          ],
          [
           "israeli techno"
          ],
          [
           "italian adult pop"
          ],
          [
           "italian baritone"
          ],
          [
           "italian baroque"
          ],
          [
           "italian baroque ensemble"
          ],
          [
           "italian bass"
          ],
          [
           "italian blues"
          ],
          [
           "italian classical guitar"
          ],
          [
           "italian classical piano"
          ],
          [
           "italian contemporary jazz"
          ],
          [
           "italian disco"
          ],
          [
           "italian gothic"
          ],
          [
           "italian gothic metal"
          ],
          [
           "italian indie pop"
          ],
          [
           "italian jazz"
          ],
          [
           "italian library music"
          ],
          [
           "italian mandolin"
          ],
          [
           "italian metal"
          ],
          [
           "italian mezzo-soprano"
          ],
          [
           "italian modern prog"
          ],
          [
           "italian opera"
          ],
          [
           "italian orchestra"
          ],
          [
           "italian pop rock"
          ],
          [
           "italian power metal"
          ],
          [
           "italian progressive metal"
          ],
          [
           "italian progressive rock"
          ],
          [
           "italian renaissance"
          ],
          [
           "italian romanticism"
          ],
          [
           "italian soprano"
          ],
          [
           "italian soundtrack"
          ],
          [
           "italian techno"
          ],
          [
           "italian tenor"
          ],
          [
           "italian violin"
          ],
          [
           "italo dance"
          ],
          [
           "italo house"
          ],
          [
           "j-acoustic"
          ],
          [
           "j-ambient"
          ],
          [
           "j-dance"
          ],
          [
           "j-division"
          ],
          [
           "j-idol"
          ],
          [
           "j-metal"
          ],
          [
           "j-pixie"
          ],
          [
           "j-pop"
          ],
          [
           "j-pop girl group"
          ],
          [
           "j-poprock"
          ],
          [
           "j-punk"
          ],
          [
           "j-reggae"
          ],
          [
           "j-rock"
          ],
          [
           "jacksonville indie"
          ],
          [
           "jam band"
          ],
          [
           "jamgrass"
          ],
          [
           "jamtronica"
          ],
          [
           "jangle pop"
          ],
          [
           "japanese alternative rock"
          ],
          [
           "japanese chillhop"
          ],
          [
           "japanese city pop"
          ],
          [
           "japanese classical"
          ],
          [
           "japanese classical performance"
          ],
          [
           "japanese classical piano"
          ],
          [
           "japanese concert band"
          ],
          [
           "japanese dream pop"
          ],
          [
           "japanese electronic"
          ],
          [
           "japanese electropop"
          ],
          [
           "japanese emo"
          ],
          [
           "japanese experimental"
          ],
          [
           "japanese folk"
          ],
          [
           "japanese garage rock"
          ],
          [
           "japanese girl punk"
          ],
          [
           "japanese heavy metal"
          ],
          [
           "japanese idm"
          ],
          [
           "japanese indie folk"
          ],
          [
           "japanese indie rock"
          ],
          [
           "japanese instrumental"
          ],
          [
           "japanese jazz"
          ],
          [
           "japanese jazz fusion"
          ],
          [
           "japanese jazztronica"
          ],
          [
           "japanese metalcore"
          ],
          [
           "japanese new wave"
          ],
          [
           "japanese piano"
          ],
          [
           "japanese pop punk"
          ],
          [
           "japanese post-hardcore"
          ],
          [
           "japanese power metal"
          ],
          [
           "japanese prog"
          ],
          [
           "japanese psychedelic"
          ],
          [
           "japanese punk rock"
          ],
          [
           "japanese r&b"
          ],
          [
           "japanese rockabilly"
          ],
          [
           "japanese singer-songwriter"
          ],
          [
           "japanese soundtrack"
          ],
          [
           "japanese traditional"
          ],
          [
           "japanese vgm"
          ],
          [
           "japanese vocal jazz"
          ],
          [
           "jawaiian"
          ],
          [
           "jazz"
          ],
          [
           "jazz accordion"
          ],
          [
           "jazz blues"
          ],
          [
           "jazz boom bap"
          ],
          [
           "jazz brass"
          ],
          [
           "jazz chileno"
          ],
          [
           "jazz clarinet"
          ],
          [
           "jazz colombiano"
          ],
          [
           "jazz cubano"
          ],
          [
           "jazz double bass"
          ],
          [
           "jazz drums"
          ],
          [
           "jazz flute"
          ],
          [
           "jazz funk"
          ],
          [
           "jazz fusion"
          ],
          [
           "jazz guitar"
          ],
          [
           "jazz harp"
          ],
          [
           "jazz metal"
          ],
          [
           "jazz mexicano"
          ],
          [
           "jazz orchestra"
          ],
          [
           "jazz organ"
          ],
          [
           "jazz piano"
          ],
          [
           "jazz pop"
          ],
          [
           "jazz quartet"
          ],
          [
           "jazz rap"
          ],
          [
           "jazz rock"
          ],
          [
           "jazz saxophone"
          ],
          [
           "jazz trio"
          ],
          [
           "jazz trombone"
          ],
          [
           "jazz trumpet"
          ],
          [
           "jazz tuba"
          ],
          [
           "jazz venezolano"
          ],
          [
           "jazz vibraphone"
          ],
          [
           "jazz violin"
          ],
          [
           "jazztronica"
          ],
          [
           "jewish cantorial"
          ],
          [
           "jewish hip hop"
          ],
          [
           "jig and reel"
          ],
          [
           "jordanian pop"
          ],
          [
           "joropo"
          ],
          [
           "jovem guarda"
          ],
          [
           "jug band"
          ],
          [
           "juju"
          ],
          [
           "jump blues"
          ],
          [
           "jump up"
          ],
          [
           "k-indie"
          ],
          [
           "k-pop"
          ],
          [
           "k-pop boy group"
          ],
          [
           "k-pop girl group"
          ],
          [
           "k-rap"
          ],
          [
           "kabarett"
          ],
          [
           "kabyle"
          ],
          [
           "kaneka"
          ],
          [
           "kannada bhava geethe"
          ],
          [
           "kansas city hip hop"
          ],
          [
           "kashmiri pop"
          ],
          [
           "kawaii future bass"
          ],
          [
           "kawaii metal"
          ],
          [
           "kayokyoku"
          ],
          [
           "kc indie"
          ],
          [
           "kent indie"
          ],
          [
           "kentucky hip hop"
          ],
          [
           "kentucky indie"
          ],
          [
           "kentucky metal"
          ],
          [
           "kentucky mountain folk"
          ],
          [
           "kentucky punk"
          ],
          [
           "kentucky roots"
          ],
          [
           "keroncong"
          ],
          [
           "khaleeji iraqi"
          ],
          [
           "khmer"
          ],
          [
           "kids dance party"
          ],
          [
           "kindie rock"
          ],
          [
           "kingston on indie"
          ],
          [
           "kirtan"
          ],
          [
           "kiwi rock"
          ],
          [
           "kizomba antigas"
          ],
          [
           "kleine hoerspiel"
          ],
          [
           "klezmer"
          ],
          [
           "knoxville indie"
          ],
          [
           "kodomo no ongaku"
          ],
          [
           "kolsche karneval"
          ],
          [
           "komedi"
          ],
          [
           "kompa"
          ],
          [
           "kora"
          ],
          [
           "korean classical performance"
          ],
          [
           "korean classical piano"
          ],
          [
           "korean indie rock"
          ],
          [
           "korean mask singer"
          ],
          [
           "korean pop"
          ],
          [
           "korean r&b"
          ],
          [
           "korean trap"
          ],
          [
           "koto"
          ],
          [
           "krautrock"
          ],
          [
           "kundiman"
          ],
          [
           "la indie"
          ],
          [
           "la pop"
          ],
          [
           "laboratorio"
          ],
          [
           "lafayette indie"
          ],
          [
           "laiko"
          ],
          [
           "lancashire indie"
          ],
          [
           "lancaster pa indie"
          ],
          [
           "late romantic era"
          ],
          [
           "latin"
          ],
          [
           "latin afrobeat"
          ],
          [
           "latin alternative"
          ],
          [
           "latin american classical piano"
          ],
          [
           "latin arena pop"
          ],
          [
           "latin christian"
          ],
          [
           "latin classical"
          ],
          [
           "latin funk"
          ],
          [
           "latin hip hop"
          ],
          [
           "latin house"
          ],
          [
           "latin jazz"
          ],
          [
           "latin metal"
          ],
          [
           "latin pop"
          ],
          [
           "latin rock"
          ],
          [
           "latin ska"
          ],
          [
           "latin soundtrack"
          ],
          [
           "latin talent show"
          ],
          [
           "latin tech house"
          ],
          [
           "latin viral pop"
          ],
          [
           "latin worship"
          ],
          [
           "latincore"
          ],
          [
           "latino comedy"
          ],
          [
           "latintronica"
          ],
          [
           "latinx alternative"
          ],
          [
           "latvian pop"
          ],
          [
           "lds"
          ],
          [
           "lds youth"
          ],
          [
           "lebanese pop"
          ],
          [
           "leicester indie"
          ],
          [
           "lexington ky indie"
          ],
          [
           "lgbtq+ hip hop"
          ],
          [
           "library music"
          ],
          [
           "liedermacher"
          ],
          [
           "light music"
          ],
          [
           "lilith"
          ],
          [
           "liquid funk"
          ],
          [
           "lithuanian electronic"
          ],
          [
           "liverpool indie"
          ],
          [
           "livetronica"
          ],
          [
           "lldm"
          ],
          [
           "lo star"
          ],
          [
           "lo-fi"
          ],
          [
           "lo-fi beats"
          ],
          [
           "lo-fi brasileiro"
          ],
          [
           "lo-fi chill"
          ],
          [
           "lo-fi cover"
          ],
          [
           "lo-fi emo"
          ],
          [
           "lo-fi house"
          ],
          [
           "lo-fi indie"
          ],
          [
           "lo-fi vgm"
          ],
          [
           "london rap"
          ],
          [
           "louisiana blues"
          ],
          [
           "louisiana metal"
          ],
          [
           "louisville indie"
          ],
          [
           "louisville underground"
          ],
          [
           "lounge"
          ],
          [
           "louvor"
          ],
          [
           "lovers rock"
          ],
          [
           "lullaby"
          ],
          [
           "lund indie"
          ],
          [
           "lute"
          ],
          [
           "macedonian folk"
          ],
          [
           "madchester"
          ],
          [
           "madrigal"
          ],
          [
           "magyar alternative"
          ],
          [
           "maine hip hop"
          ],
          [
           "maine indie"
          ],
          [
           "mainland chinese pop"
          ],
          [
           "makossa"
          ],
          [
           "malaysian mandopop"
          ],
          [
           "malaysian pop"
          ],
          [
           "malian blues"
          ],
          [
           "mallet"
          ],
          [
           "malmo indie"
          ],
          [
           "mambo"
          ],
          [
           "manchester hip hop"
          ],
          [
           "manchester indie"
          ],
          [
           "mande pop"
          ],
          [
           "mandolin"
          ],
          [
           "mandopop"
          ],
          [
           "manguebeat"
          ],
          [
           "manila sound"
          ],
          [
           "manitoba indie"
          ],
          [
           "mantra"
          ],
          [
           "marathi pop"
          ],
          [
           "marathi traditional"
          ],
          [
           "marching band"
          ],
          [
           "mariachi"
          ],
          [
           "mariachi cristiano"
          ],
          [
           "marimba orquesta"
          ],
          [
           "martial industrial"
          ],
          [
           "mashup"
          ],
          [
           "math rock"
          ],
          [
           "mathcore"
          ],
          [
           "mbalax"
          ],
          [
           "medieval"
          ],
          [
           "medieval folk"
          ],
          [
           "medieval rock"
          ],
          [
           "meditation"
          ],
          [
           "melancholia"
          ],
          [
           "melbourne bounce"
          ],
          [
           "melbourne bounce international"
          ],
          [
           "melbourne indie"
          ],
          [
           "mellow gold"
          ],
          [
           "melodic death metal"
          ],
          [
           "melodic deathcore"
          ],
          [
           "melodic dubstep"
          ],
          [
           "melodic groove metal"
          ],
          [
           "melodic hard rock"
          ],
          [
           "melodic hardcore"
          ],
          [
           "melodic metal"
          ],
          [
           "melodic metalcore"
          ],
          [
           "melodic power metal"
          ],
          [
           "melodic rap"
          ],
          [
           "melodic thrash"
          ],
          [
           "meme rap"
          ],
          [
           "memphis americana"
          ],
          [
           "memphis blues"
          ],
          [
           "memphis hip hop"
          ],
          [
           "memphis indie"
          ],
          [
           "memphis soul"
          ],
          [
           "mento"
          ],
          [
           "merengue"
          ],
          [
           "merengue tipico"
          ],
          [
           "merseybeat"
          ],
          [
           "messianic praise"
          ],
          [
           "metal"
          ],
          [
           "metal guitar"
          ],
          [
           "metal mineiro"
          ],
          [
           "metalcore"
          ],
          [
           "metropopolis"
          ],
          [
           "mexican classic rock"
          ],
          [
           "mexican classical"
          ],
          [
           "mexican hip hop"
          ],
          [
           "mexican indie"
          ],
          [
           "mexican pop"
          ],
          [
           "mexican pop punk"
          ],
          [
           "mexican rock"
          ],
          [
           "mexican rock-and-roll"
          ],
          [
           "mexican son"
          ],
          [
           "mexican traditional"
          ],
          [
           "miami bass"
          ],
          [
           "miami hip hop"
          ],
          [
           "miami indie"
          ],
          [
           "miami metal"
          ],
          [
           "michigan indie"
          ],
          [
           "microhouse"
          ],
          [
           "microtonal"
          ],
          [
           "middle earth"
          ],
          [
           "middle east hip hop"
          ],
          [
           "middle eastern traditional"
          ],
          [
           "midwest americana"
          ],
          [
           "midwest emo"
          ],
          [
           "military cadence"
          ],
          [
           "military rap"
          ],
          [
           "milwaukee indie"
          ],
          [
           "mindfulness"
          ],
          [
           "minecraft"
          ],
          [
           "minimal melodic techno"
          ],
          [
           "minimal tech house"
          ],
          [
           "minimal techno"
          ],
          [
           "minimal wave"
          ],
          [
           "minimalism"
          ],
          [
           "minneapolis indie"
          ],
          [
           "minneapolis metal"
          ],
          [
           "minneapolis punk"
          ],
          [
           "minneapolis sound"
          ],
          [
           "minnesota hip hop"
          ],
          [
           "mississippi hip hop"
          ],
          [
           "mississippi indie"
          ],
          [
           "mizrahi"
          ],
          [
           "mod revival"
          ],
          [
           "modern alternative pop"
          ],
          [
           "modern alternative rock"
          ],
          [
           "modern big band"
          ],
          [
           "modern blues"
          ],
          [
           "modern blues rock"
          ],
          [
           "modern bollywood"
          ],
          [
           "modern country rock"
          ],
          [
           "modern dream pop"
          ],
          [
           "modern folk rock"
          ],
          [
           "modern funk"
          ],
          [
           "modern hard rock"
          ],
          [
           "modern indie pop"
          ],
          [
           "modern jazz piano"
          ],
          [
           "modern jazz trio"
          ],
          [
           "modern old-time"
          ],
          [
           "modern performance"
          ],
          [
           "modern power pop"
          ],
          [
           "modern psychedelic folk"
          ],
          [
           "modern reggae"
          ],
          [
           "modern rock"
          ],
          [
           "modern salsa"
          ],
          [
           "modern ska punk"
          ],
          [
           "modern southern rock"
          ],
          [
           "modern string quartet"
          ],
          [
           "modern swing"
          ],
          [
           "modern uplift"
          ],
          [
           "modular synth"
          ],
          [
           "moldovan pop"
          ],
          [
           "mollywood"
          ],
          [
           "mongolian hip hop"
          ],
          [
           "mongolian pop"
          ],
          [
           "monterrey indie"
          ],
          [
           "montreal indie"
          ],
          [
           "moog"
          ],
          [
           "moombahton"
          ],
          [
           "morna"
          ],
          [
           "motivation"
          ],
          [
           "motown"
          ],
          [
           "mountain dulcimer"
          ],
          [
           "movie tunes"
          ],
          [
           "mpb"
          ],
          [
           "music box"
          ],
          [
           "music hall"
          ],
          [
           "musica afroperuana"
          ],
          [
           "musica alagoana"
          ],
          [
           "musica andina"
          ],
          [
           "musica andina colombiana"
          ],
          [
           "musica antigua"
          ],
          [
           "musica aragonesa"
          ],
          [
           "musica ayacuchana"
          ],
          [
           "musica canaria"
          ],
          [
           "musica costarricense"
          ],
          [
           "musica costena"
          ],
          [
           "musica cristiana guatemalteca"
          ],
          [
           "musica de fondo"
          ],
          [
           "musica gaucha tradicionalista"
          ],
          [
           "musica hondurena"
          ],
          [
           "musica infantil"
          ],
          [
           "musica jibara"
          ],
          [
           "musica juiz-forana"
          ],
          [
           "musica llanera"
          ],
          [
           "musica nicaraguense"
          ],
          [
           "musica para criancas"
          ],
          [
           "musica para ninos"
          ],
          [
           "musica paraibana"
          ],
          [
           "musica piemonteisa"
          ],
          [
           "musica popular colombiana"
          ],
          [
           "musica popular mineira"
          ],
          [
           "musica popular paraense"
          ],
          [
           "musica potosina"
          ],
          [
           "musica prehispanica"
          ],
          [
           "musica sarda"
          ],
          [
           "musica tradicional cubana"
          ],
          [
           "musica tropical guatemalteca"
          ],
          [
           "musical advocacy"
          ],
          [
           "musikkorps"
          ],
          [
           "musique concrete"
          ],
          [
           "musique peule"
          ],
          [
           "musique pour enfant quebecois"
          ],
          [
           "musique pour enfants"
          ],
          [
           "musique touareg"
          ],
          [
           "muzica populara"
          ],
          [
           "muzika l'yeladim"
          ],
          [
           "naija worship"
          ],
          [
           "nantes indie"
          ],
          [
           "narodna muzika"
          ],
          [
           "nashville americana"
          ],
          [
           "nashville hip hop"
          ],
          [
           "nashville indie"
          ],
          [
           "nashville singer-songwriter"
          ],
          [
           "nashville sound"
          ],
          [
           "native american"
          ],
          [
           "native american contemporary"
          ],
          [
           "native american flute"
          ],
          [
           "native american hip hop"
          ],
          [
           "native american spiritual"
          ],
          [
           "navajo"
          ],
          [
           "nederlandse hardstyle"
          ],
          [
           "nederpop"
          ],
          [
           "neo classical metal"
          ],
          [
           "neo kyma"
          ],
          [
           "neo mellow"
          ],
          [
           "neo r&b"
          ],
          [
           "neo soul"
          ],
          [
           "neo-classical"
          ],
          [
           "neo-kraut"
          ],
          [
           "neo-pagan"
          ],
          [
           "neo-progressive"
          ],
          [
           "neo-psychedelic"
          ],
          [
           "neo-rockabilly"
          ],
          [
           "neo-singer-songwriter"
          ],
          [
           "neo-synthpop"
          ],
          [
           "neo-trad metal"
          ],
          [
           "neo-traditional bluegrass"
          ],
          [
           "neo-traditional country"
          ],
          [
           "neoclassical darkwave"
          ],
          [
           "neoclassicism"
          ],
          [
           "neofolk"
          ],
          [
           "neon pop punk"
          ],
          [
           "neotango"
          ],
          [
           "nepali indie"
          ],
          [
           "nepali pop"
          ],
          [
           "nerdcore"
          ],
          [
           "neue deutsche harte"
          ],
          [
           "neue deutsche todeskunst"
          ],
          [
           "neue deutsche welle"
          ],
          [
           "neurofunk"
          ],
          [
           "new age"
          ],
          [
           "new age piano"
          ],
          [
           "new americana"
          ],
          [
           "new beat"
          ],
          [
           "new comedy"
          ],
          [
           "new england americana"
          ],
          [
           "new england emo"
          ],
          [
           "new french touch"
          ],
          [
           "new isolationism"
          ],
          [
           "new jack swing"
          ],
          [
           "new jersey hardcore"
          ],
          [
           "new jersey indie"
          ],
          [
           "new jersey punk"
          ],
          [
           "new jersey rap"
          ],
          [
           "new mexico music"
          ],
          [
           "new orleans blues"
          ],
          [
           "new orleans funk"
          ],
          [
           "new orleans indie"
          ],
          [
           "new orleans jazz"
          ],
          [
           "new orleans rap"
          ],
          [
           "new rave"
          ],
          [
           "new romantic"
          ],
          [
           "new tribe"
          ],
          [
           "new wave"
          ],
          [
           "new wave of thrash metal"
          ],
          [
           "new wave pop"
          ],
          [
           "new weird america"
          ],
          [
           "new york death metal"
          ],
          [
           "new york drill"
          ],
          [
           "new zealand classical"
          ],
          [
           "newcastle indie"
          ],
          [
           "newcastle nsw indie"
          ],
          [
           "nigerian hip hop"
          ],
          [
           "nigerian pop"
          ],
          [
           "nightcore"
          ],
          [
           "nightrun"
          ],
          [
           "ninja"
          ],
          [
           "nintendocore"
          ],
          [
           "nisiotika"
          ],
          [
           "nl folk"
          ],
          [
           "no wave"
          ],
          [
           "noise pop"
          ],
          [
           "noise punk"
          ],
          [
           "noise rock"
          ],
          [
           "nordic classical piano"
          ],
          [
           "nordic contemporary classical"
          ],
          [
           "nordic folk"
          ],
          [
           "nordic house"
          ],
          [
           "nordic orchestra"
          ],
          [
           "nordic post-rock"
          ],
          [
           "nordic soundtrack"
          ],
          [
           "norman ok indie"
          ],
          [
           "norsk lovsang"
          ],
          [
           "norteno"
          ],
          [
           "norteno-sax"
          ],
          [
           "north carolina emo"
          ],
          [
           "north carolina hip hop"
          ],
          [
           "north carolina indie"
          ],
          [
           "north carolina metal"
          ],
          [
           "north carolina roots"
          ],
          [
           "north east england indie"
          ],
          [
           "northern irish indie"
          ],
          [
           "northern irish punk"
          ],
          [
           "northern soul"
          ],
          [
           "norwegian black metal"
          ],
          [
           "norwegian choir"
          ],
          [
           "norwegian classical"
          ],
          [
           "norwegian contemporary jazz"
          ],
          [
           "norwegian death metal"
          ],
          [
           "norwegian experimental"
          ],
          [
           "norwegian hip hop"
          ],
          [
           "norwegian indie"
          ],
          [
           "norwegian jazz"
          ],
          [
           "norwegian metal"
          ],
          [
           "norwegian pop"
          ],
          [
           "norwegian pop rap"
          ],
          [
           "norwegian punk rock"
          ],
          [
           "norwegian rock"
          ],
          [
           "norwegian singer-songwriter"
          ],
          [
           "norwegian space disco"
          ],
          [
           "nottingham indie"
          ],
          [
           "nouvelle chanson francaise"
          ],
          [
           "nova canco"
          ],
          [
           "nova mpb"
          ],
          [
           "nova musica pernambucana"
          ],
          [
           "novelty"
          ],
          [
           "nu age"
          ],
          [
           "nu disco"
          ],
          [
           "nu gaze"
          ],
          [
           "nu jazz"
          ],
          [
           "nu metal"
          ],
          [
           "nu skool breaks"
          ],
          [
           "nu-cumbia"
          ],
          [
           "nu-metalcore"
          ],
          [
           "nubian traditional"
          ],
          [
           "nueva cancion"
          ],
          [
           "nueva ola chilena"
          ],
          [
           "nueva ola peruana"
          ],
          [
           "nuevo flamenco"
          ],
          [
           "nuevo folklore mexicano"
          ],
          [
           "nuevo regional mexicano"
          ],
          [
           "nuevo tango"
          ],
          [
           "nursery"
          ],
          [
           "nwobhm"
          ],
          [
           "nwothm"
          ],
          [
           "ny roots"
          ],
          [
           "nyc pop"
          ],
          [
           "nyc rap"
          ],
          [
           "nyhc"
          ],
          [
           "nz christian"
          ],
          [
           "nz folk"
          ],
          [
           "nz hardcore"
          ],
          [
           "nz indie"
          ],
          [
           "nz pop"
          ],
          [
           "nz punk"
          ],
          [
           "nz reggae"
          ],
          [
           "nz singer-songwriter"
          ],
          [
           "oakland hip hop"
          ],
          [
           "oakland indie"
          ],
          [
           "oc indie"
          ],
          [
           "oc rap"
          ],
          [
           "oceania soundtrack"
          ],
          [
           "ohio hip hop"
          ],
          [
           "ohio indie"
          ],
          [
           "oi"
          ],
          [
           "ok indie"
          ],
          [
           "okc indie"
          ],
          [
           "okinawan pop"
          ],
          [
           "oklahoma country"
          ],
          [
           "old school dancehall"
          ],
          [
           "old school hip hop"
          ],
          [
           "old school rap francais"
          ],
          [
           "old school thrash"
          ],
          [
           "old school uk hip hop"
          ],
          [
           "old west"
          ],
          [
           "old-time"
          ],
          [
           "old-time fiddle"
          ],
          [
           "olympia wa indie"
          ],
          [
           "omaha indie"
          ],
          [
           "one-person band"
          ],
          [
           "ontario indie"
          ],
          [
           "opera"
          ],
          [
           "opera chorus"
          ],
          [
           "opera metal"
          ],
          [
           "operatic pop"
          ],
          [
           "operetta"
          ],
          [
           "opm"
          ],
          [
           "oratory"
          ],
          [
           "orchestra"
          ],
          [
           "orchestral performance"
          ],
          [
           "orebro indie"
          ],
          [
           "organic ambient"
          ],
          [
           "organic electronic"
          ],
          [
           "organic house"
          ],
          [
           "orgcore"
          ],
          [
           "oriental classical"
          ],
          [
           "orkney and shetland folk"
          ],
          [
           "orlando indie"
          ],
          [
           "orquesta tipica"
          ],
          [
           "orthodox chant"
          ],
          [
           "oshare kei"
          ],
          [
           "otacore"
          ],
          [
           "oth indie"
          ],
          [
           "ottawa indie"
          ],
          [
           "ottawa rap"
          ],
          [
           "oud"
          ],
          [
           "outer hip hop"
          ],
          [
           "outlaw country"
          ],
          [
           "outsider"
          ],
          [
           "outsider house"
          ],
          [
           "oxford choir"
          ],
          [
           "oxford indie"
          ],
          [
           "p funk"
          ],
          [
           "pagan black metal"
          ],
          [
           "pagode"
          ],
          [
           "pagode baiano"
          ],
          [
           "paisley underground"
          ],
          [
           "pakistani folk"
          ],
          [
           "pakistani hip hop"
          ],
          [
           "pakistani pop"
          ],
          [
           "palestinian pop"
          ],
          [
           "palm desert scene"
          ],
          [
           "panamanian pop"
          ],
          [
           "panamanian rock"
          ],
          [
           "panpipe"
          ],
          [
           "papuri"
          ],
          [
           "parody"
          ],
          [
           "partido alto"
          ],
          [
           "partyschlager"
          ],
          [
           "pei indie"
          ],
          [
           "permanent wave"
          ],
          [
           "perreo"
          ],
          [
           "persian pop"
          ],
          [
           "persian traditional"
          ],
          [
           "perth indie"
          ],
          [
           "peruvian hip hop"
          ],
          [
           "peruvian rock"
          ],
          [
           "pet calming"
          ],
          [
           "philly indie"
          ],
          [
           "philly rap"
          ],
          [
           "philly soul"
          ],
          [
           "phoenix indie"
          ],
          [
           "phonk"
          ],
          [
           "pianissimo"
          ],
          [
           "piano blues"
          ],
          [
           "piano cover"
          ],
          [
           "piano mpb"
          ],
          [
           "piano rock"
          ],
          [
           "pibroch"
          ],
          [
           "piedmont blues"
          ],
          [
           "pinoy hip hop"
          ],
          [
           "pinoy indie"
          ],
          [
           "pinoy pop punk"
          ],
          [
           "pinoy praise"
          ],
          [
           "pinoy r&b"
          ],
          [
           "pinoy reggae"
          ],
          [
           "pinoy rock"
          ],
          [
           "pinoy traditional"
          ],
          [
           "pinoy trap"
          ],
          [
           "pirate"
          ],
          [
           "pittsburgh indie"
          ],
          [
           "pittsburgh rap"
          ],
          [
           "pittsburgh rock"
          ],
          [
           "pixie"
          ],
          [
           "plunderphonics"
          ],
          [
           "poetry"
          ],
          [
           "polca paraguaya"
          ],
          [
           "polish blues"
          ],
          [
           "polish classical"
          ],
          [
           "polish classical piano"
          ],
          [
           "polish contemporary classical"
          ],
          [
           "polish jazz"
          ],
          [
           "polish modern jazz"
          ],
          [
           "polish pop"
          ],
          [
           "polish post-rock"
          ],
          [
           "polish reggae"
          ],
          [
           "polish rock"
          ],
          [
           "political hip hop"
          ],
          [
           "polka"
          ],
          [
           "polynesian hip hop"
          ],
          [
           "polynesian pop"
          ],
          [
           "polyphony"
          ],
          [
           "pony"
          ],
          [
           "pop"
          ],
          [
           "pop argentino"
          ],
          [
           "pop chileno"
          ],
          [
           "pop dance"
          ],
          [
           "pop edm"
          ],
          [
           "pop electronico"
          ],
          [
           "pop emo"
          ],
          [
           "pop flamenco"
          ],
          [
           "pop folk"
          ],
          [
           "pop house"
          ],
          [
           "pop nacional"
          ],
          [
           "pop nacional antigas"
          ],
          [
           "pop peruano"
          ],
          [
           "pop punk"
          ],
          [
           "pop quebecois"
          ],
          [
           "pop r&b"
          ],
          [
           "pop rap"
          ],
          [
           "pop reggaeton"
          ],
          [
           "pop rock"
          ],
          [
           "pop rock brasileiro"
          ],
          [
           "pop romantico"
          ],
          [
           "pop soul"
          ],
          [
           "pop venezolano"
          ],
          [
           "pop violin"
          ],
          [
           "popgaze"
          ],
          [
           "popping"
          ],
          [
           "pops orchestra"
          ],
          [
           "popwave"
          ],
          [
           "pornogrind"
          ],
          [
           "porro"
          ],
          [
           "portland hip hop"
          ],
          [
           "portland indie"
          ],
          [
           "portland metal"
          ],
          [
           "portland punk"
          ],
          [
           "portuguese early music"
          ],
          [
           "post-disco"
          ],
          [
           "post-disco soul"
          ],
          [
           "post-doom metal"
          ],
          [
           "post-grunge"
          ],
          [
           "post-hardcore"
          ],
          [
           "post-metal"
          ],
          [
           "post-minimalism"
          ],
          [
           "post-post-hardcore"
          ],
          [
           "post-punk"
          ],
          [
           "post-punk argentina"
          ],
          [
           "post-rock"
          ],
          [
           "post-romantic era"
          ],
          [
           "post-screamo"
          ],
          [
           "post-teen pop"
          ],
          [
           "power metal"
          ],
          [
           "power pop"
          ],
          [
           "power thrash"
          ],
          [
           "power-pop punk"
          ],
          [
           "praise"
          ],
          [
           "prepared piano"
          ],
          [
           "preschool children's music"
          ],
          [
           "prog quebec"
          ],
          [
           "progressive alternative"
          ],
          [
           "progressive bluegrass"
          ],
          [
           "progressive deathcore"
          ],
          [
           "progressive electro house"
          ],
          [
           "progressive groove metal"
          ],
          [
           "progressive house"
          ],
          [
           "progressive jazz fusion"
          ],
          [
           "progressive metal"
          ],
          [
           "progressive metalcore"
          ],
          [
           "progressive post-hardcore"
          ],
          [
           "progressive power metal"
          ],
          [
           "progressive psytrance"
          ],
          [
           "progressive rock"
          ],
          [
           "progressive sludge"
          ],
          [
           "progressive trance"
          ],
          [
           "progressive trance house"
          ],
          [
           "progressive uplifting trance"
          ],
          [
           "proto-rap"
          ],
          [
           "proto-techno"
          ],
          [
           "protopunk"
          ],
          [
           "psalmen"
          ],
          [
           "psicodelia brasileira"
          ],
          [
           "psybass"
          ],
          [
           "psychedelic blues-rock"
          ],
          [
           "psychedelic doom"
          ],
          [
           "psychedelic folk"
          ],
          [
           "psychedelic folk rock"
          ],
          [
           "psychedelic hip hop"
          ],
          [
           "psychedelic pop"
          ],
          [
           "psychedelic punk"
          ],
          [
           "psychedelic rock"
          ],
          [
           "psychedelic soul"
          ],
          [
           "psychedelic trance"
          ],
          [
           "psychill"
          ],
          [
           "psychobilly"
          ],
          [
           "pub rock"
          ],
          [
           "puerto rican folk"
          ],
          [
           "puerto rican pop"
          ],
          [
           "puerto rican rock"
          ],
          [
           "punjabi folk"
          ],
          [
           "punjabi hip hop"
          ],
          [
           "punjabi pop"
          ],
          [
           "punk"
          ],
          [
           "punk 'n' roll"
          ],
          [
           "punk blues"
          ],
          [
           "punk rock italiano"
          ],
          [
           "punk rock mexicano"
          ],
          [
           "punta"
          ],
          [
           "purple sound"
          ],
          [
           "qawwali"
          ],
          [
           "quartetto d'archi"
          ],
          [
           "quatuor a cordes"
          ],
          [
           "quebec death metal"
          ],
          [
           "quebec indie"
          ],
          [
           "queens hip hop"
          ],
          [
           "queer country"
          ],
          [
           "queercore"
          ],
          [
           "quiet storm"
          ],
          [
           "quran"
          ],
          [
           "r&b"
          ],
          [
           "r&b en espanol"
          ],
          [
           "rabindra sangeet"
          ],
          [
           "radio symphony"
          ],
          [
           "ragtime"
          ],
          [
           "rai"
          ],
          [
           "ranchera"
          ],
          [
           "rap"
          ],
          [
           "rap chileno"
          ],
          [
           "rap conciencia"
          ],
          [
           "rap conscient"
          ],
          [
           "rap cristiano"
          ],
          [
           "rap dominicano"
          ],
          [
           "rap kreyol"
          ],
          [
           "rap latina"
          ],
          [
           "rap metal"
          ],
          [
           "rap nacional antigo"
          ],
          [
           "rap napoletano"
          ],
          [
           "rap rock"
          ],
          [
           "rap underground mexicano"
          ],
          [
           "rare groove"
          ],
          [
           "rave"
          ],
          [
           "rawstyle"
          ],
          [
           "reading"
          ],
          [
           "reading indie"
          ],
          [
           "rebel blues"
          ],
          [
           "rebetiko"
          ],
          [
           "recorder"
          ],
          [
           "red dirt"
          ],
          [
           "redneck"
          ],
          [
           "reggae"
          ],
          [
           "reggae en espanol"
          ],
          [
           "reggae fusion"
          ],
          [
           "reggae rock"
          ],
          [
           "reggaeton"
          ],
          [
           "reggaeton colombiano"
          ],
          [
           "reggaeton cristiano"
          ],
          [
           "reggaeton flow"
          ],
          [
           "reggaeton mexicano"
          ],
          [
           "regional mexican"
          ],
          [
           "relaxative"
          ],
          [
           "renaissance"
          ],
          [
           "rennes indie"
          ],
          [
           "retro metal"
          ],
          [
           "retro soul"
          ],
          [
           "rhode island indie"
          ],
          [
           "rhode island rap"
          ],
          [
           "rhythm and blues"
          ],
          [
           "riddim"
          ],
          [
           "rif"
          ],
          [
           "riot grrrl"
          ],
          [
           "ritmo kombina"
          ],
          [
           "rochester mn indie"
          ],
          [
           "rochester ny indie"
          ],
          [
           "rock"
          ],
          [
           "rock alternatif francais"
          ],
          [
           "rock alternativo brasileiro"
          ],
          [
           "rock andaluz"
          ],
          [
           "rock baiano"
          ],
          [
           "rock brasiliense"
          ],
          [
           "rock chapin"
          ],
          [
           "rock cristiano"
          ],
          [
           "rock drums"
          ],
          [
           "rock en espanol"
          ],
          [
           "rock gaucho"
          ],
          [
           "rock independant francais"
          ],
          [
           "rock kapak"
          ],
          [
           "rock keyboard"
          ],
          [
           "rock nacional"
          ],
          [
           "rock nacional brasileiro"
          ],
          [
           "rock pernambucano"
          ],
          [
           "rock progressif francais"
          ],
          [
           "rock steady"
          ],
          [
           "rock urbano mexicano"
          ],
          [
           "rock-and-roll"
          ],
          [
           "rockabilly"
          ],
          [
           "rockabilly en espanol"
          ],
          [
           "roda de samba"
          ],
          [
           "romanian classical piano"
          ],
          [
           "romanian electronic"
          ],
          [
           "romanian folk"
          ],
          [
           "romanian pop"
          ],
          [
           "romanian rock"
          ],
          [
           "romantico"
          ],
          [
           "roots americana"
          ],
          [
           "roots reggae"
          ],
          [
           "roots rock"
          ],
          [
           "roots worship"
          ],
          [
           "rosary"
          ],
          [
           "rumba"
          ],
          [
           "rumba congolaise"
          ],
          [
           "rune folk"
          ],
          [
           "russian alternative rock"
          ],
          [
           "russian ccm"
          ],
          [
           "russian chanson"
          ],
          [
           "russian choir"
          ],
          [
           "russian classical piano"
          ],
          [
           "russian dance"
          ],
          [
           "russian edm"
          ],
          [
           "russian folk"
          ],
          [
           "russian folk rock"
          ],
          [
           "russian jazz"
          ],
          [
           "russian metal"
          ],
          [
           "russian metalcore"
          ],
          [
           "russian modern classical"
          ],
          [
           "russian orchestra"
          ],
          [
           "russian pop"
          ],
          [
           "russian post-punk"
          ],
          [
           "russian punk"
          ],
          [
           "russian rock"
          ],
          [
           "russian romanticism"
          ],
          [
           "russian shoegaze"
          ],
          [
           "russian trance"
          ],
          [
           "rva indie"
          ],
          [
           "rwandan traditional"
          ],
          [
           "ryukyu ongaku"
          ],
          [
           "sacramento hip hop"
          ],
          [
           "sacramento indie"
          ],
          [
           "sacred steel"
          ],
          [
           "sad rap"
          ],
          [
           "salsa"
          ],
          [
           "salsa choke"
          ],
          [
           "salsa colombiana"
          ],
          [
           "salsa cubana"
          ],
          [
           "salsa international"
          ],
          [
           "salsa peruana"
          ],
          [
           "salsa puertorriquena"
          ],
          [
           "salsa venezolana"
          ],
          [
           "samba"
          ],
          [
           "samba de roda"
          ],
          [
           "samba moderno"
          ],
          [
           "samba-enredo"
          ],
          [
           "samba-jazz"
          ],
          [
           "samba-rock"
          ],
          [
           "san antonio rap"
          ],
          [
           "san diego indie"
          ],
          [
           "san diego rap"
          ],
          [
           "san marcos tx indie"
          ],
          [
           "sandalwood"
          ],
          [
           "sarod"
          ],
          [
           "saskatchewan indie"
          ],
          [
           "scam rap"
          ],
          [
           "scandinavian r&b"
          ],
          [
           "scandipop"
          ],
          [
           "schlager"
          ],
          [
           "scorecore"
          ],
          [
           "scottish electronic"
          ],
          [
           "scottish fiddle"
          ],
          [
           "scottish folk"
          ],
          [
           "scottish hip hop"
          ],
          [
           "scottish indie"
          ],
          [
           "scottish jazz"
          ],
          [
           "scottish metal"
          ],
          [
           "scottish new wave"
          ],
          [
           "scottish rock"
          ],
          [
           "scottish singer-songwriter"
          ],
          [
           "scratch"
          ],
          [
           "scream rap"
          ],
          [
           "screamo"
          ],
          [
           "seattle hip hop"
          ],
          [
           "seattle indie"
          ],
          [
           "second line"
          ],
          [
           "sefardi"
          ],
          [
           "serbian electronic"
          ],
          [
           "serialism"
          ],
          [
           "sertanejo"
          ],
          [
           "sertanejo pop"
          ],
          [
           "sertanejo tradicional"
          ],
          [
           "sertanejo universitario"
          ],
          [
           "sevdah"
          ],
          [
           "sevillanas"
          ],
          [
           "shaabi"
          ],
          [
           "shabad"
          ],
          [
           "shakuhachi"
          ],
          [
           "shamanic"
          ],
          [
           "shanty"
          ],
          [
           "sheffield indie"
          ],
          [
           "shibuya-kei"
          ],
          [
           "shimmer pop"
          ],
          [
           "shimmer psych"
          ],
          [
           "shiver pop"
          ],
          [
           "shoegaze"
          ],
          [
           "show tunes"
          ],
          [
           "shred"
          ],
          [
           "shush"
          ],
          [
           "sierreno"
          ],
          [
           "singaporean mandopop"
          ],
          [
           "singaporean pop"
          ],
          [
           "singaporean singer-songwriter"
          ],
          [
           "singer-songwriter"
          ],
          [
           "singing bowl"
          ],
          [
           "sitar"
          ],
          [
           "ska"
          ],
          [
           "ska argentino"
          ],
          [
           "ska chileno"
          ],
          [
           "ska jazz"
          ],
          [
           "ska mexicano"
          ],
          [
           "ska punk"
          ],
          [
           "ska revival"
          ],
          [
           "skate punk"
          ],
          [
           "skiffle"
          ],
          [
           "skramz"
          ],
          [
           "sky room"
          ],
          [
           "slack-key guitar"
          ],
          [
           "slam poetry"
          ],
          [
           "slamming deathcore"
          ],
          [
           "slavic folk metal"
          ],
          [
           "slayer"
          ],
          [
           "slc indie"
          ],
          [
           "sleaze rock"
          ],
          [
           "sleep"
          ],
          [
           "slovak electronic"
          ],
          [
           "slovenian electronic"
          ],
          [
           "slovenian metal"
          ],
          [
           "slow game"
          ],
          [
           "slowcore"
          ],
          [
           "sludge metal"
          ],
          [
           "small room"
          ],
          [
           "smooth jazz"
          ],
          [
           "smooth saxophone"
          ],
          [
           "smooth soul"
          ],
          [
           "soca"
          ],
          [
           "socal pop punk"
          ],
          [
           "social media pop"
          ],
          [
           "soda pop"
          ],
          [
           "soft rock"
          ],
          [
           "solipsynthm"
          ],
          [
           "son cubano"
          ],
          [
           "son cubano clasico"
          ],
          [
           "son jarocho"
          ],
          [
           "sophisti-pop"
          ],
          [
           "sotalaulut"
          ],
          [
           "soukous"
          ],
          [
           "soul"
          ],
          [
           "soul blues"
          ],
          [
           "soul flow"
          ],
          [
           "soul jazz"
          ],
          [
           "souldies"
          ],
          [
           "sound"
          ],
          [
           "sound art"
          ],
          [
           "sound effects"
          ],
          [
           "sound team"
          ],
          [
           "soundtrack"
          ],
          [
           "south african alternative"
          ],
          [
           "south african choral"
          ],
          [
           "south african country"
          ],
          [
           "south african hip hop"
          ],
          [
           "south african house"
          ],
          [
           "south african jazz"
          ],
          [
           "south african pop"
          ],
          [
           "south african pop dance"
          ],
          [
           "south african rock"
          ],
          [
           "south carolina hip hop"
          ],
          [
           "south carolina indie"
          ],
          [
           "south carolina metal"
          ],
          [
           "south dakota indie"
          ],
          [
           "southampton indie"
          ],
          [
           "southern americana"
          ],
          [
           "southern gospel"
          ],
          [
           "southern hip hop"
          ],
          [
           "southern metal"
          ],
          [
           "southern rock"
          ],
          [
           "southern soul"
          ],
          [
           "southern soul blues"
          ],
          [
           "soviet synthpop"
          ],
          [
           "sovietwave"
          ],
          [
           "spa"
          ],
          [
           "space age pop"
          ],
          [
           "space ambient"
          ],
          [
           "space rock"
          ],
          [
           "spanish baroque"
          ],
          [
           "spanish classical"
          ],
          [
           "spanish classical piano"
          ],
          [
           "spanish folk metal"
          ],
          [
           "spanish hip hop"
          ],
          [
           "spanish indie pop"
          ],
          [
           "spanish invasion"
          ],
          [
           "spanish metal"
          ],
          [
           "spanish modern rock"
          ],
          [
           "spanish new wave"
          ],
          [
           "spanish noise pop"
          ],
          [
           "spanish pop"
          ],
          [
           "spanish pop rock"
          ],
          [
           "spanish renaissance"
          ],
          [
           "spanish rock"
          ],
          [
           "spanish synthpop"
          ],
          [
           "spanish techno"
          ],
          [
           "speed garage"
          ],
          [
           "speed metal"
          ],
          [
           "speedcore"
          ],
          [
           "spiritual hip hop"
          ],
          [
           "spiritual jazz"
          ],
          [
           "spirituals"
          ],
          [
           "springfield mo indie"
          ],
          [
           "spytrack"
          ],
          [
           "st louis rap"
          ],
          [
           "steampunk"
          ],
          [
           "steel guitar"
          ],
          [
           "steelpan"
          ],
          [
           "stl indie"
          ],
          [
           "stomp and flutter"
          ],
          [
           "stomp and holler"
          ],
          [
           "stomp and whittle"
          ],
          [
           "stomp pop"
          ],
          [
           "stoner metal"
          ],
          [
           "stoner rock"
          ],
          [
           "straight edge"
          ],
          [
           "straight-ahead jazz"
          ],
          [
           "street band"
          ],
          [
           "street punk"
          ],
          [
           "streichquartett"
          ],
          [
           "stride"
          ],
          [
           "string band"
          ],
          [
           "string folk"
          ],
          [
           "string orchestra"
          ],
          [
           "string quartet"
          ],
          [
           "strut"
          ],
          [
           "substep"
          ],
          [
           "sudanese pop"
          ],
          [
           "sufi"
          ],
          [
           "sufi chant"
          ],
          [
           "sunshine pop"
          ],
          [
           "supergroup"
          ],
          [
           "surf music"
          ],
          [
           "surf punk"
          ],
          [
           "svensk progg"
          ],
          [
           "swamp blues"
          ],
          [
           "swamp pop"
          ],
          [
           "swamp rock"
          ],
          [
           "swancore"
          ],
          [
           "swedish alternative rock"
          ],
          [
           "swedish americana"
          ],
          [
           "swedish black metal"
          ],
          [
           "swedish choir"
          ],
          [
           "swedish country"
          ],
          [
           "swedish dancehall"
          ],
          [
           "swedish death metal"
          ],
          [
           "swedish doom metal"
          ],
          [
           "swedish electronic"
          ],
          [
           "swedish electropop"
          ],
          [
           "swedish eurodance"
          ],
          [
           "swedish garage rock"
          ],
          [
           "swedish hard rock"
          ],
          [
           "swedish hardcore"
          ],
          [
           "swedish heavy metal"
          ],
          [
           "swedish house"
          ],
          [
           "swedish idol pop"
          ],
          [
           "swedish indie folk"
          ],
          [
           "swedish indie pop"
          ],
          [
           "swedish indie rock"
          ],
          [
           "swedish jazz"
          ],
          [
           "swedish jazz orkester"
          ],
          [
           "swedish melodic rock"
          ],
          [
           "swedish metal"
          ],
          [
           "swedish metalcore"
          ],
          [
           "swedish pop"
          ],
          [
           "swedish post-hardcore"
          ],
          [
           "swedish power metal"
          ],
          [
           "swedish prog"
          ],
          [
           "swedish progressive metal"
          ],
          [
           "swedish rock-and-roll"
          ],
          [
           "swedish singer-songwriter"
          ],
          [
           "swedish soul"
          ],
          [
           "swedish stoner rock"
          ],
          [
           "swedish synth"
          ],
          [
           "swedish synthpop"
          ],
          [
           "swedish tropical house"
          ],
          [
           "swedish underground rap"
          ],
          [
           "swing"
          ],
          [
           "swing italiano"
          ],
          [
           "swing revival"
          ],
          [
           "swiss black metal"
          ],
          [
           "swiss classical piano"
          ],
          [
           "swiss country"
          ],
          [
           "swiss metal"
          ],
          [
           "swiss pop"
          ],
          [
           "swiss rock"
          ],
          [
           "swiss worship"
          ],
          [
           "sydney indie"
          ],
          [
           "symphonic black metal"
          ],
          [
           "symphonic metal"
          ],
          [
           "symphonic rock"
          ],
          [
           "synth funk"
          ],
          [
           "synthpop"
          ],
          [
           "synthwave"
          ],
          [
           "syrian pop"
          ],
          [
           "tabla"
          ],
          [
           "tagalog rap"
          ],
          [
           "tagalog worship"
          ],
          [
           "taiwan campus folk"
          ],
          [
           "taiwan classical performance"
          ],
          [
           "taiwan hip hop"
          ],
          [
           "taiwan indie"
          ],
          [
           "taiwan pop"
          ],
          [
           "taiwan singer-songwriter"
          ],
          [
           "tajik pop"
          ],
          [
           "talent show"
          ],
          [
           "tamaulipas indie"
          ],
          [
           "tamaulipas rap"
          ],
          [
           "tamborazo"
          ],
          [
           "tamil hip hop"
          ],
          [
           "tamil pop"
          ],
          [
           "tamil worship"
          ],
          [
           "tampa indie"
          ],
          [
           "tango"
          ],
          [
           "tango cancion"
          ],
          [
           "tape club"
          ],
          [
           "tech house"
          ],
          [
           "technical death metal"
          ],
          [
           "technical deathcore"
          ],
          [
           "technical groove metal"
          ],
          [
           "technical melodic death metal"
          ],
          [
           "technical thrash"
          ],
          [
           "techno"
          ],
          [
           "techno kayo"
          ],
          [
           "tecnobanda"
          ],
          [
           "teen pop"
          ],
          [
           "tejano"
          ],
          [
           "tempe indie"
          ],
          [
           "tennessee hip hop"
          ],
          [
           "tennessee metal"
          ],
          [
           "tex-mex"
          ],
          [
           "texas blues"
          ],
          [
           "texas country"
          ],
          [
           "texas latin rap"
          ],
          [
           "texas pop punk"
          ],
          [
           "texas punk"
          ],
          [
           "thai folk"
          ],
          [
           "thai folk rock"
          ],
          [
           "thai idol"
          ],
          [
           "thai indie rock"
          ],
          [
           "thai pop"
          ],
          [
           "thall"
          ],
          [
           "theme"
          ],
          [
           "theremin"
          ],
          [
           "thrash core"
          ],
          [
           "thrash metal"
          ],
          [
           "timba"
          ],
          [
           "tin pan alley"
          ],
          [
           "tipico"
          ],
          [
           "tolkien metal"
          ],
          [
           "tollywood"
          ],
          [
           "tone"
          ],
          [
           "torch song"
          ],
          [
           "toronto indie"
          ],
          [
           "toronto rap"
          ],
          [
           "trad jazz catala"
          ],
          [
           "traditional bluegrass"
          ],
          [
           "traditional blues"
          ],
          [
           "traditional british folk"
          ],
          [
           "traditional country"
          ],
          [
           "traditional folk"
          ],
          [
           "traditional funk"
          ],
          [
           "traditional rockabilly"
          ],
          [
           "traditional ska"
          ],
          [
           "traditional soul"
          ],
          [
           "trance"
          ],
          [
           "trance mexicano"
          ],
          [
           "trancecore"
          ],
          [
           "transpop"
          ],
          [
           "trap"
          ],
          [
           "trap argentino"
          ],
          [
           "trap chileno"
          ],
          [
           "trap dominicano"
          ],
          [
           "trap latino"
          ],
          [
           "trap mexicano"
          ],
          [
           "trap queen"
          ],
          [
           "trap soul"
          ],
          [
           "trap triste"
          ],
          [
           "trap venezolano"
          ],
          [
           "traprun"
          ],
          [
           "trash rock"
          ],
          [
           "triangle indie"
          ],
          [
           "tribal house"
          ],
          [
           "trinidadian reggae"
          ],
          [
           "trio cubano"
          ],
          [
           "trip hop"
          ],
          [
           "trival"
          ],
          [
           "tropical"
          ],
          [
           "tropical house"
          ],
          [
           "tropicalia"
          ],
          [
           "trova"
          ],
          [
           "trova mexicana"
          ],
          [
           "truck-driving country"
          ],
          [
           "tuareg guitar"
          ],
          [
           "tucson indie"
          ],
          [
           "tulsa indie"
          ],
          [
           "tuna estudiantil"
          ],
          [
           "tunisian pop"
          ],
          [
           "turbo folk"
          ],
          [
           "turkish classical"
          ],
          [
           "turkish classical performance"
          ],
          [
           "turkish edm"
          ],
          [
           "turkish experimental"
          ],
          [
           "turkish folk"
          ],
          [
           "turkish jazz"
          ],
          [
           "turkish modern jazz"
          ],
          [
           "turkish pop"
          ],
          [
           "turkish psych"
          ],
          [
           "turkish trap"
          ],
          [
           "turkish trap pop"
          ],
          [
           "turntablism"
          ],
          [
           "twee pop"
          ],
          [
           "twoubadou"
          ],
          [
           "tzadik"
          ],
          [
           "ugandan pop"
          ],
          [
           "uilleann pipes"
          ],
          [
           "uk alternative hip hop"
          ],
          [
           "uk alternative pop"
          ],
          [
           "uk americana"
          ],
          [
           "uk contemporary jazz"
          ],
          [
           "uk contemporary r&b"
          ],
          [
           "uk dance"
          ],
          [
           "uk dancehall"
          ],
          [
           "uk diy punk"
          ],
          [
           "uk dnb"
          ],
          [
           "uk doom metal"
          ],
          [
           "uk dub"
          ],
          [
           "uk experimental electronic"
          ],
          [
           "uk funky"
          ],
          [
           "uk garage"
          ],
          [
           "uk hip hop"
          ],
          [
           "uk house"
          ],
          [
           "uk metalcore"
          ],
          [
           "uk noise rock"
          ],
          [
           "uk pop"
          ],
          [
           "uk pop punk"
          ],
          [
           "uk post-hardcore"
          ],
          [
           "uk post-punk"
          ],
          [
           "uk reggae"
          ],
          [
           "uk rockabilly"
          ],
          [
           "uk stoner rock"
          ],
          [
           "uk worship"
          ],
          [
           "uk82"
          ],
          [
           "ukrainian choir"
          ],
          [
           "ukrainian classical"
          ],
          [
           "ukrainian classical piano"
          ],
          [
           "ukrainian electronic"
          ],
          [
           "ukrainian pop"
          ],
          [
           "ukulele"
          ],
          [
           "umbanda"
          ],
          [
           "underground hip hop"
          ],
          [
           "underground power pop"
          ],
          [
           "underground rap"
          ],
          [
           "university choir"
          ],
          [
           "uplifting trance"
          ],
          [
           "uptempo hardcore"
          ],
          [
           "urban contemporary"
          ],
          [
           "urbano espanol"
          ],
          [
           "us power metal"
          ],
          [
           "utah indie"
          ],
          [
           "uzbek pop"
          ],
          [
           "uzbek traditional"
          ],
          [
           "v-pop"
          ],
          [
           "vallenato"
          ],
          [
           "vallenato moderno"
          ],
          [
           "vancouver indie"
          ],
          [
           "vancouver metal"
          ],
          [
           "vancouver punk"
          ],
          [
           "vapor pop"
          ],
          [
           "vapor soul"
          ],
          [
           "vapor trap"
          ],
          [
           "vapor twitch"
          ],
          [
           "vaporwave"
          ],
          [
           "variete francaise"
          ],
          [
           "vaudeville"
          ],
          [
           "vbs"
          ],
          [
           "veena"
          ],
          [
           "vegan straight edge"
          ],
          [
           "vegas indie"
          ],
          [
           "velha guarda"
          ],
          [
           "venezuelan hip hop"
          ],
          [
           "venezuelan indie"
          ],
          [
           "venezuelan rock"
          ],
          [
           "veracruz indie"
          ],
          [
           "vermont indie"
          ],
          [
           "vgm instrumental"
          ],
          [
           "vgm remix"
          ],
          [
           "victoria bc indie"
          ],
          [
           "victorian britain"
          ],
          [
           "video game music"
          ],
          [
           "vienna indie"
          ],
          [
           "vietnamese bolero"
          ],
          [
           "vietnamese pop"
          ],
          [
           "viking black metal"
          ],
          [
           "viking folk"
          ],
          [
           "viking metal"
          ],
          [
           "villancicos"
          ],
          [
           "vintage chanson"
          ],
          [
           "vintage chinese pop"
          ],
          [
           "vintage classical singing"
          ],
          [
           "vintage country folk"
          ],
          [
           "vintage dutch pop"
          ],
          [
           "vintage french electronic"
          ],
          [
           "vintage gospel"
          ],
          [
           "vintage hollywood"
          ],
          [
           "vintage italian pop"
          ],
          [
           "vintage italian soundtrack"
          ],
          [
           "vintage jazz"
          ],
          [
           "vintage old-time"
          ],
          [
           "vintage rockabilly"
          ],
          [
           "vintage schlager"
          ],
          [
           "vintage spanish pop"
          ],
          [
           "vintage swedish pop"
          ],
          [
           "vintage swing"
          ],
          [
           "vintage tango"
          ],
          [
           "viola"
          ],
          [
           "violao"
          ],
          [
           "violao classico"
          ],
          [
           "violin"
          ],
          [
           "viral pop"
          ],
          [
           "viral rap"
          ],
          [
           "viral trap"
          ],
          [
           "virgin islands reggae"
          ],
          [
           "virginia hip hop"
          ],
          [
           "virginia metal"
          ],
          [
           "virginia punk"
          ],
          [
           "visor"
          ],
          [
           "visual kei"
          ],
          [
           "vocal ensemble"
          ],
          [
           "vocal harmony group"
          ],
          [
           "vocal house"
          ],
          [
           "vocal jazz"
          ],
          [
           "vocal trance"
          ],
          [
           "vocaloid"
          ],
          [
           "vogue"
          ],
          [
           "volksmusik"
          ],
          [
           "warm drone"
          ],
          [
           "washboard"
          ],
          [
           "washington indie"
          ],
          [
           "wassoulou"
          ],
          [
           "water"
          ],
          [
           "wave"
          ],
          [
           "welsh folk"
          ],
          [
           "welsh indie"
          ],
          [
           "welsh metal"
          ],
          [
           "welsh rock"
          ],
          [
           "west african jazz"
          ],
          [
           "west australian hip hop"
          ],
          [
           "west coast rap"
          ],
          [
           "west coast reggae"
          ],
          [
           "west coast trap"
          ],
          [
           "west end"
          ],
          [
           "west virginia indie"
          ],
          [
           "western americana"
          ],
          [
           "western mass indie"
          ],
          [
           "western saharan folk"
          ],
          [
           "western swing"
          ],
          [
           "white noise"
          ],
          [
           "wind ensemble"
          ],
          [
           "wind quintet"
          ],
          [
           "wisconsin indie"
          ],
          [
           "witch house"
          ],
          [
           "women's choir"
          ],
          [
           "women's music"
          ],
          [
           "wonky"
          ],
          [
           "worcester ma indie"
          ],
          [
           "world"
          ],
          [
           "world fusion"
          ],
          [
           "world meditation"
          ],
          [
           "world worship"
          ],
          [
           "worship"
          ],
          [
           "wrestling"
          ],
          [
           "wu fam"
          ],
          [
           "wyoming indie"
          ],
          [
           "wyoming roots"
          ],
          [
           "xhosa"
          ],
          [
           "xtra raw"
          ],
          [
           "yacht rock"
          ],
          [
           "ye ye"
          ],
          [
           "yiddish folk"
          ],
          [
           "yodeling"
          ],
          [
           "yoga"
          ],
          [
           "yoik"
          ],
          [
           "york indie"
          ],
          [
           "yorkshire folk"
          ],
          [
           "yugoslav new wave"
          ],
          [
           "yugoslav rock"
          ],
          [
           "zambian pop"
          ],
          [
           "zeuhl"
          ],
          [
           "zhongguo feng"
          ],
          [
           "zimdancehall"
          ],
          [
           "zolo"
          ],
          [
           "zouglou"
          ],
          [
           "zouk"
          ],
          [
           "zurich indie"
          ],
          [
           "zydeco"
          ]
         ],
         "hovertemplate": "x=%{x}<br>y=%{y}<br>genres=%{customdata[0]}<br>cluster=%{marker.color}<extra></extra>",
         "legendgroup": "",
         "marker": {
          "color": [
           21,
           85,
           96,
           50,
           67,
           95,
           20,
           3,
           14,
           76,
           56,
           11,
           87,
           68,
           50,
           67,
           0,
           67,
           41,
           23,
           76,
           50,
           69,
           51,
           10,
           69,
           69,
           58,
           56,
           81,
           69,
           30,
           59,
           44,
           6,
           93,
           69,
           77,
           5,
           6,
           73,
           3,
           81,
           30,
           62,
           6,
           30,
           38,
           6,
           40,
           35,
           67,
           67,
           5,
           73,
           3,
           40,
           38,
           32,
           6,
           38,
           38,
           17,
           98,
           71,
           67,
           56,
           89,
           44,
           37,
           17,
           72,
           21,
           57,
           31,
           31,
           54,
           51,
           93,
           74,
           4,
           1,
           95,
           63,
           68,
           71,
           65,
           90,
           57,
           24,
           39,
           39,
           2,
           6,
           60,
           73,
           23,
           67,
           96,
           5,
           50,
           74,
           49,
           10,
           67,
           36,
           27,
           4,
           84,
           32,
           3,
           72,
           90,
           84,
           81,
           6,
           48,
           2,
           0,
           56,
           72,
           31,
           67,
           38,
           38,
           19,
           5,
           76,
           3,
           27,
           38,
           3,
           3,
           32,
           40,
           48,
           21,
           71,
           59,
           42,
           17,
           42,
           5,
           91,
           10,
           6,
           23,
           6,
           72,
           39,
           92,
           81,
           19,
           98,
           58,
           76,
           56,
           93,
           6,
           6,
           5,
           6,
           72,
           90,
           39,
           88,
           73,
           5,
           38,
           38,
           5,
           72,
           10,
           38,
           0,
           93,
           6,
           3,
           26,
           57,
           1,
           79,
           10,
           79,
           30,
           43,
           61,
           1,
           74,
           9,
           81,
           65,
           77,
           69,
           81,
           81,
           21,
           98,
           13,
           54,
           50,
           30,
           51,
           67,
           50,
           11,
           60,
           27,
           98,
           16,
           92,
           35,
           73,
           81,
           81,
           81,
           7,
           96,
           16,
           13,
           50,
           31,
           35,
           8,
           99,
           43,
           68,
           68,
           98,
           98,
           38,
           21,
           98,
           14,
           6,
           20,
           6,
           35,
           56,
           5,
           0,
           3,
           3,
           77,
           6,
           69,
           47,
           50,
           76,
           83,
           66,
           38,
           74,
           67,
           6,
           87,
           93,
           93,
           58,
           63,
           56,
           56,
           39,
           20,
           15,
           16,
           9,
           47,
           10,
           52,
           15,
           69,
           13,
           69,
           81,
           62,
           37,
           74,
           59,
           27,
           16,
           20,
           56,
           53,
           64,
           47,
           55,
           88,
           93,
           25,
           29,
           61,
           2,
           61,
           25,
           95,
           56,
           0,
           16,
           0,
           76,
           93,
           90,
           38,
           6,
           76,
           50,
           76,
           30,
           50,
           77,
           77,
           50,
           65,
           67,
           38,
           66,
           32,
           89,
           73,
           39,
           66,
           90,
           16,
           95,
           5,
           39,
           31,
           53,
           49,
           50,
           7,
           31,
           69,
           68,
           31,
           58,
           84,
           88,
           66,
           0,
           50,
           88,
           99,
           51,
           26,
           69,
           38,
           80,
           17,
           88,
           20,
           87,
           50,
           82,
           38,
           0,
           5,
           10,
           9,
           69,
           84,
           40,
           38,
           35,
           1,
           21,
           81,
           31,
           13,
           71,
           11,
           76,
           61,
           6,
           11,
           0,
           95,
           68,
           31,
           95,
           40,
           72,
           6,
           37,
           38,
           8,
           69,
           3,
           55,
           32,
           5,
           71,
           38,
           87,
           6,
           32,
           0,
           77,
           41,
           40,
           34,
           68,
           91,
           67,
           38,
           51,
           48,
           52,
           3,
           98,
           51,
           39,
           31,
           10,
           24,
           63,
           69,
           6,
           81,
           50,
           57,
           27,
           21,
           8,
           6,
           67,
           76,
           5,
           41,
           98,
           67,
           88,
           3,
           33,
           38,
           99,
           76,
           47,
           32,
           40,
           18,
           41,
           5,
           89,
           73,
           45,
           67,
           73,
           38,
           17,
           67,
           98,
           67,
           6,
           6,
           0,
           23,
           67,
           67,
           67,
           16,
           57,
           89,
           99,
           83,
           59,
           74,
           16,
           74,
           66,
           31,
           79,
           53,
           23,
           39,
           98,
           67,
           27,
           56,
           81,
           38,
           50,
           27,
           99,
           1,
           58,
           67,
           31,
           67,
           20,
           32,
           66,
           67,
           67,
           30,
           40,
           24,
           30,
           3,
           6,
           99,
           76,
           3,
           56,
           47,
           5,
           89,
           2,
           3,
           0,
           39,
           3,
           17,
           48,
           76,
           76,
           76,
           83,
           32,
           41,
           41,
           59,
           9,
           21,
           50,
           9,
           24,
           6,
           66,
           89,
           20,
           67,
           68,
           31,
           21,
           70,
           60,
           41,
           67,
           90,
           1,
           99,
           67,
           68,
           68,
           63,
           66,
           98,
           50,
           20,
           13,
           60,
           38,
           47,
           73,
           39,
           3,
           5,
           73,
           73,
           5,
           5,
           38,
           39,
           98,
           73,
           3,
           72,
           68,
           54,
           69,
           81,
           55,
           11,
           87,
           10,
           59,
           74,
           76,
           81,
           17,
           50,
           39,
           67,
           65,
           0,
           19,
           50,
           89,
           19,
           14,
           17,
           0,
           0,
           65,
           80,
           33,
           40,
           14,
           67,
           19,
           67,
           20,
           63,
           91,
           57,
           72,
           90,
           76,
           50,
           52,
           48,
           14,
           91,
           89,
           0,
           38,
           65,
           23,
           76,
           0,
           79,
           76,
           90,
           59,
           52,
           0,
           81,
           79,
           5,
           57,
           57,
           31,
           1,
           79,
           27,
           79,
           92,
           31,
           31,
           21,
           63,
           57,
           31,
           98,
           1,
           21,
           53,
           27,
           95,
           57,
           57,
           68,
           63,
           16,
           29,
           88,
           24,
           32,
           77,
           55,
           32,
           59,
           84,
           29,
           66,
           76,
           26,
           40,
           43,
           84,
           37,
           30,
           75,
           2,
           6,
           3,
           21,
           31,
           27,
           6,
           76,
           11,
           98,
           74,
           67,
           37,
           74,
           76,
           54,
           93,
           81,
           69,
           30,
           20,
           0,
           95,
           6,
           76,
           50,
           6,
           76,
           6,
           32,
           6,
           0,
           51,
           50,
           38,
           84,
           13,
           6,
           6,
           40,
           3,
           88,
           69,
           81,
           28,
           50,
           35,
           81,
           81,
           35,
           69,
           17,
           17,
           81,
           35,
           76,
           32,
           24,
           69,
           30,
           81,
           35,
           71,
           90,
           13,
           79,
           79,
           16,
           2,
           57,
           56,
           39,
           6,
           38,
           38,
           3,
           40,
           84,
           79,
           20,
           27,
           30,
           79,
           88,
           30,
           43,
           61,
           81,
           40,
           61,
           51,
           54,
           13,
           32,
           38,
           95,
           30,
           80,
           37,
           62,
           20,
           62,
           3,
           11,
           87,
           73,
           73,
           10,
           61,
           88,
           73,
           38,
           71,
           71,
           2,
           93,
           38,
           76,
           56,
           23,
           72,
           24,
           29,
           0,
           3,
           19,
           30,
           44,
           89,
           77,
           6,
           35,
           60,
           69,
           62,
           81,
           70,
           11,
           6,
           69,
           49,
           50,
           93,
           99,
           10,
           73,
           62,
           51,
           67,
           59,
           24,
           54,
           89,
           42,
           62,
           39,
           90,
           66,
           81,
           49,
           0,
           49,
           21,
           24,
           66,
           4,
           6,
           4,
           15,
           47,
           3,
           15,
           50,
           35,
           32,
           5,
           5,
           62,
           30,
           67,
           30,
           69,
           6,
           3,
           44,
           9,
           56,
           54,
           14,
           60,
           3,
           13,
           56,
           49,
           3,
           3,
           69,
           56,
           76,
           69,
           16,
           23,
           40,
           47,
           81,
           35,
           0,
           88,
           23,
           20,
           83,
           20,
           87,
           88,
           2,
           92,
           3,
           20,
           37,
           63,
           71,
           40,
           69,
           9,
           28,
           63,
           32,
           62,
           31,
           0,
           99,
           76,
           71,
           81,
           11,
           93,
           29,
           31,
           40,
           89,
           32,
           51,
           66,
           5,
           67,
           75,
           88,
           41,
           41,
           30,
           0,
           56,
           38,
           50,
           83,
           79,
           79,
           98,
           91,
           24,
           79,
           11,
           2,
           3,
           32,
           44,
           16,
           2,
           67,
           20,
           37,
           67,
           81,
           32,
           6,
           30,
           91,
           93,
           6,
           63,
           0,
           69,
           32,
           87,
           35,
           69,
           9,
           72,
           32,
           59,
           95,
           56,
           5,
           20,
           47,
           6,
           2,
           2,
           90,
           2,
           5,
           73,
           68,
           93,
           68,
           52,
           50,
           78,
           97,
           10,
           8,
           3,
           79,
           11,
           91,
           84,
           20,
           41,
           44,
           37,
           96,
           15,
           6,
           80,
           39,
           56,
           6,
           48,
           17,
           16,
           11,
           31,
           49,
           28,
           43,
           58,
           67,
           47,
           62,
           54,
           6,
           38,
           63,
           50,
           72,
           60,
           70,
           56,
           50,
           5,
           40,
           95,
           98,
           41,
           1,
           68,
           71,
           41,
           39,
           39,
           40,
           25,
           59,
           0,
           4,
           57,
           3,
           44,
           88,
           66,
           95,
           65,
           21,
           69,
           62,
           17,
           59,
           51,
           65,
           19,
           91,
           76,
           67,
           2,
           39,
           0,
           67,
           5,
           8,
           30,
           13,
           65,
           81,
           81,
           0,
           91,
           23,
           3,
           24,
           24,
           84,
           37,
           6,
           67,
           0,
           20,
           74,
           74,
           69,
           68,
           31,
           99,
           40,
           18,
           35,
           95,
           6,
           87,
           16,
           40,
           65,
           57,
           1,
           67,
           28,
           23,
           81,
           0,
           57,
           2,
           16,
           6,
           56,
           18,
           15,
           30,
           18,
           69,
           82,
           47,
           28,
           38,
           5,
           65,
           3,
           28,
           38,
           30,
           62,
           6,
           32,
           10,
           35,
           73,
           69,
           3,
           18,
           44,
           71,
           5,
           48,
           16,
           7,
           18,
           93,
           3,
           69,
           2,
           38,
           73,
           88,
           2,
           32,
           41,
           38,
           72,
           0,
           11,
           73,
           68,
           19,
           1,
           67,
           47,
           52,
           2,
           47,
           59,
           98,
           12,
           93,
           18,
           57,
           79,
           6,
           5,
           84,
           93,
           48,
           21,
           39,
           79,
           57,
           98,
           87,
           40,
           87,
           35,
           30,
           12,
           50,
           15,
           6,
           38,
           2,
           38,
           6,
           20,
           23,
           95,
           6,
           17,
           88,
           11,
           19,
           50,
           12,
           5,
           26,
           50,
           0,
           88,
           5,
           84,
           17,
           69,
           25,
           93,
           56,
           38,
           93,
           32,
           6,
           20,
           51,
           7,
           96,
           16,
           42,
           74,
           65,
           65,
           19,
           32,
           71,
           52,
           73,
           69,
           38,
           2,
           81,
           81,
           30,
           47,
           87,
           6,
           12,
           10,
           7,
           27,
           65,
           36,
           99,
           27,
           39,
           51,
           16,
           0,
           16,
           90,
           8,
           47,
           68,
           44,
           32,
           92,
           18,
           73,
           74,
           62,
           38,
           0,
           40,
           3,
           73,
           38,
           80,
           66,
           51,
           50,
           16,
           98,
           68,
           7,
           37,
           50,
           66,
           59,
           92,
           38,
           69,
           69,
           44,
           30,
           74,
           74,
           13,
           3,
           55,
           32,
           3,
           80,
           46,
           79,
           1,
           79,
           79,
           31,
           91,
           12,
           43,
           67,
           70,
           72,
           72,
           50,
           16,
           6,
           73,
           63,
           77,
           32,
           3,
           35,
           81,
           91,
           14,
           31,
           31,
           1,
           53,
           15,
           12,
           96,
           96,
           15,
           20,
           6,
           3,
           21,
           49,
           98,
           72,
           72,
           44,
           23,
           95,
           20,
           6,
           2,
           65,
           50,
           1,
           74,
           30,
           5,
           37,
           32,
           16,
           49,
           3,
           72,
           5,
           14,
           95,
           63,
           6,
           67,
           87,
           6,
           66,
           72,
           6,
           3,
           6,
           99,
           39,
           72,
           6,
           6,
           89,
           6,
           97,
           72,
           6,
           39,
           99,
           67,
           32,
           5,
           40,
           10,
           55,
           57,
           11,
           15,
           66,
           40,
           11,
           67,
           63,
           50,
           44,
           30,
           93,
           95,
           39,
           20,
           63,
           71,
           48,
           95,
           26,
           24,
           19,
           43,
           19,
           76,
           95,
           96,
           50,
           6,
           98,
           25,
           67,
           43,
           5,
           99,
           14,
           8,
           60,
           82,
           1,
           19,
           69,
           90,
           5,
           76,
           76,
           62,
           67,
           57,
           79,
           98,
           57,
           40,
           53,
           1,
           5,
           30,
           93,
           93,
           5,
           31,
           4,
           4,
           93,
           57,
           97,
           57,
           79,
           72,
           10,
           54,
           11,
           79,
           57,
           57,
           98,
           62,
           57,
           99,
           84,
           30,
           33,
           92,
           60,
           73,
           84,
           2,
           89,
           32,
           32,
           39,
           2,
           41,
           73,
           38,
           38,
           0,
           77,
           38,
           87,
           66,
           69,
           37,
           1,
           31,
           92,
           20,
           98,
           32,
           2,
           95,
           76,
           48,
           48,
           93,
           98,
           99,
           32,
           63,
           63,
           44,
           2,
           2,
           52,
           9,
           39,
           2,
           89,
           73,
           11,
           39,
           41,
           94,
           84,
           49,
           7,
           63,
           44,
           81,
           74,
           91,
           50,
           66,
           74,
           50,
           16,
           17,
           50,
           4,
           74,
           74,
           44,
           63,
           63,
           74,
           2,
           98,
           91,
           44,
           74,
           72,
           74,
           66,
           23,
           74,
           68,
           51,
           16,
           16,
           24,
           16,
           16,
           20,
           82,
           77,
           8,
           47,
           24,
           0,
           50,
           30,
           50,
           18,
           6,
           32,
           47,
           47,
           3,
           65,
           65,
           35,
           13,
           3,
           51,
           5,
           40,
           0,
           89,
           72,
           66,
           8,
           28,
           16,
           28,
           32,
           51,
           36,
           39,
           66,
           76,
           81,
           92,
           23,
           44,
           12,
           51,
           39,
           91,
           57,
           57,
           17,
           91,
           27,
           53,
           93,
           5,
           32,
           6,
           3,
           27,
           95,
           76,
           6,
           6,
           91,
           30,
           65,
           10,
           72,
           79,
           32,
           69,
           32,
           31,
           5,
           23,
           16,
           35,
           3,
           35,
           24,
           2,
           5,
           6,
           32,
           10,
           84,
           42,
           5,
           23,
           32,
           29,
           35,
           35,
           57,
           91,
           72,
           65,
           84,
           6,
           66,
           16,
           84,
           79,
           67,
           73,
           11,
           8,
           20,
           99,
           39,
           38,
           99,
           69,
           99,
           82,
           67,
           63,
           95,
           49,
           66,
           50,
           88,
           5,
           71,
           16,
           60,
           69,
           37,
           67,
           7,
           50,
           38,
           91,
           12,
           26,
           72,
           67,
           69,
           72,
           93,
           67,
           27,
           87,
           50,
           6,
           40,
           67,
           0,
           72,
           24,
           76,
           67,
           74,
           59,
           13,
           16,
           76,
           6,
           48,
           10,
           6,
           20,
           93,
           52,
           7,
           72,
           20,
           92,
           67,
           84,
           32,
           39,
           0,
           73,
           88,
           73,
           73,
           73,
           73,
           10,
           73,
           89,
           3,
           89,
           3,
           72,
           50,
           47,
           41,
           76,
           51,
           81,
           81,
           0,
           8,
           88,
           71,
           88,
           40,
           6,
           0,
           7,
           66,
           6,
           6,
           32,
           32,
           0,
           43,
           81,
           66,
           3,
           35,
           56,
           5,
           63,
           85,
           31,
           36,
           36,
           10,
           38,
           8,
           32,
           60,
           64,
           67,
           15,
           6,
           95,
           20,
           1,
           38,
           20,
           2,
           69,
           66,
           3,
           67,
           27,
           48,
           41,
           5,
           23,
           38,
           6,
           69,
           6,
           5,
           6,
           44,
           32,
           5,
           37,
           37,
           81,
           79,
           73,
           30,
           77,
           6,
           17,
           2,
           32,
           98,
           18,
           2,
           75,
           5,
           13,
           86,
           86,
           10,
           66,
           98,
           5,
           99,
           12,
           76,
           19,
           76,
           76,
           19,
           51,
           47,
           0,
           65,
           59,
           7,
           56,
           81,
           35,
           72,
           59,
           72,
           21,
           7,
           59,
           76,
           24,
           0,
           0,
           65,
           59,
           99,
           43,
           50,
           81,
           10,
           76,
           35,
           51,
           14,
           50,
           43,
           72,
           76,
           52,
           93,
           81,
           46,
           72,
           13,
           99,
           84,
           84,
           41,
           99,
           66,
           6,
           67,
           50,
           27,
           0,
           27,
           66,
           58,
           65,
           80,
           38,
           88,
           4,
           5,
           77,
           32,
           37,
           4,
           91,
           72,
           20,
           48,
           67,
           6,
           40,
           0,
           43,
           63,
           68,
           10,
           39,
           47,
           65,
           65,
           5,
           40,
           52,
           69,
           89,
           98,
           98,
           67,
           56,
           29,
           76,
           6,
           6,
           1,
           69,
           73,
           6,
           73,
           66,
           0,
           76,
           69,
           32,
           16,
           55,
           32,
           38,
           95,
           38,
           40,
           38,
           67,
           71,
           55,
           27,
           90,
           6,
           56,
           32,
           90,
           41,
           95,
           93,
           4,
           0,
           20,
           38,
           9,
           38,
           31,
           36,
           49,
           41,
           31,
           11,
           37,
           13,
           90,
           81,
           35,
           89,
           66,
           67,
           73,
           67,
           90,
           39,
           2,
           76,
           61,
           82,
           31,
           68,
           25,
           27,
           47,
           6,
           98,
           25,
           41,
           93,
           89,
           89,
           41,
           42,
           10,
           81,
           8,
           76,
           66,
           0,
           58,
           5,
           20,
           44,
           40,
           9,
           59,
           2,
           91,
           67,
           76,
           0,
           0,
           54,
           81,
           4,
           99,
           88,
           40,
           59,
           6,
           3,
           73,
           57,
           60,
           84,
           76,
           5,
           84,
           5,
           72,
           66,
           6,
           39,
           32,
           98,
           3,
           38,
           2,
           17,
           52,
           32,
           0,
           66,
           66,
           35,
           88,
           32,
           4,
           50,
           91,
           5,
           2,
           0,
           6,
           57,
           19,
           97,
           91,
           57,
           67,
           22,
           79,
           1,
           71,
           63,
           42,
           62,
           2,
           82,
           57,
           41,
           51,
           92,
           84,
           5,
           87,
           17,
           5,
           74,
           80,
           0,
           76,
           49,
           82,
           38,
           69,
           61,
           81,
           47,
           38,
           50,
           47,
           8,
           36,
           11,
           32,
           48,
           37,
           23,
           0,
           35,
           59,
           60,
           38,
           3,
           76,
           10,
           70,
           55,
           81,
           49,
           39,
           66,
           76,
           69,
           3,
           35,
           50,
           58,
           65,
           67,
           68,
           50,
           81,
           90,
           5,
           23,
           65,
           67,
           6,
           4,
           24,
           84,
           84,
           3,
           39,
           73,
           84,
           12,
           27,
           14,
           79,
           1,
           27,
           82,
           31,
           65,
           89,
           67,
           14,
           3,
           50,
           47,
           69,
           21,
           41,
           5,
           84,
           72,
           6,
           6,
           47,
           73,
           76,
           72,
           47,
           47,
           60,
           59,
           39,
           5,
           6,
           3,
           32,
           6,
           6,
           76,
           5,
           5,
           20,
           81,
           69,
           68,
           23,
           60,
           17,
           20,
           0,
           88,
           6,
           19,
           69,
           69,
           71,
           2,
           2,
           71,
           31,
           2,
           38,
           6,
           95,
           79,
           73,
           6,
           73,
           39,
           88,
           2,
           11,
           68,
           81,
           72,
           76,
           0,
           25,
           32,
           40,
           56,
           20,
           88,
           40,
           2,
           97,
           62,
           11,
           61,
           10,
           62,
           15,
           77,
           11,
           38,
           13,
           0,
           33,
           38,
           71,
           91,
           0,
           3,
           0,
           2,
           76,
           76,
           62,
           20,
           2,
           38,
           24,
           6,
           43,
           51,
           47,
           17,
           2,
           2,
           2,
           84,
           90,
           59,
           55,
           63,
           74,
           58,
           61,
           60,
           3,
           6,
           38,
           69,
           8,
           5,
           55,
           19,
           1,
           16,
           74,
           76,
           3,
           66,
           3,
           66,
           5,
           35,
           3,
           3,
           73,
           77,
           19,
           39,
           66,
           38,
           20,
           18,
           12,
           71,
           47,
           51,
           60,
           6,
           6,
           69,
           3,
           3,
           69,
           3,
           32,
           33,
           47,
           55,
           81,
           67,
           68,
           69,
           11,
           6,
           0,
           47,
           50,
           3,
           52,
           2,
           47,
           87,
           30,
           38,
           17,
           0,
           38,
           0,
           6,
           6,
           23,
           38,
           6,
           6,
           20,
           17,
           38,
           6,
           38,
           24,
           4,
           24,
           6,
           0,
           0,
           0,
           24,
           79,
           15,
           37,
           35,
           74,
           16,
           0,
           69,
           0,
           67,
           91,
           49,
           44,
           63,
           93,
           40,
           65,
           31,
           1,
           9,
           40,
           65,
           41,
           14,
           40,
           40,
           1,
           31,
           41,
           87,
           8,
           41,
           79,
           20,
           15,
           59,
           79,
           65,
           66,
           38,
           5,
           66,
           81,
           3,
           59,
           59,
           24,
           81,
           81,
           0,
           50,
           91,
           81,
           43,
           50,
           17,
           55,
           20,
           66,
           0,
           13,
           37,
           99,
           32,
           41,
           6,
           72,
           98,
           6,
           68,
           72,
           55,
           38,
           99,
           2,
           38,
           38,
           6,
           3,
           3,
           73,
           55,
           5,
           69,
           17,
           15,
           79,
           0,
           8,
           50,
           0,
           41,
           10,
           5,
           13,
           98,
           98,
           50,
           2,
           44,
           6,
           41,
           41,
           20,
           8,
           20,
           78,
           81,
           72,
           67,
           23,
           67,
           92,
           98,
           81,
           32,
           32,
           28,
           56,
           2,
           81,
           39,
           76,
           54,
           62,
           91,
           5,
           40,
           89,
           2,
           67,
           73,
           78,
           15,
           35,
           25,
           84,
           63,
           88,
           67,
           44,
           41,
           0,
           35,
           39,
           6,
           51,
           0,
           32,
           0,
           50,
           24,
           69,
           14,
           44,
           76,
           0,
           77,
           74,
           0,
           78,
           31,
           78,
           39,
           98,
           6,
           91,
           59,
           66,
           35,
           50,
           35,
           30,
           89,
           47,
           67,
           25,
           39,
           23,
           81,
           8,
           3,
           73,
           38,
           0,
           69,
           17,
           87,
           78,
           16,
           37,
           20,
           7,
           13,
           92,
           93,
           55,
           67,
           76,
           10,
           41,
           84,
           41,
           5,
           6,
           68,
           6,
           6,
           62,
           33,
           88,
           15,
           77,
           74,
           19,
           10,
           63,
           6,
           38,
           16,
           17,
           32,
           99,
           67,
           14,
           6,
           71,
           71,
           73,
           98,
           69,
           2,
           1,
           16,
           50,
           68,
           31,
           79,
           69,
           10,
           49,
           76,
           65,
           0,
           38,
           38,
           73,
           40,
           24,
           76,
           0,
           73,
           39,
           72,
           61,
           27,
           6,
           35,
           73,
           97,
           49,
           6,
           41,
           2,
           73,
           84,
           67,
           49,
           5,
           99,
           6,
           39,
           98,
           7,
           38,
           88,
           70,
           5,
           84,
           93,
           40,
           97,
           39,
           72,
           67,
           11,
           58,
           6,
           6,
           56,
           16,
           50,
           56,
           25,
           79,
           68,
           25,
           87,
           38,
           91,
           60,
           25,
           93,
           11,
           69,
           69,
           20,
           74,
           51,
           24,
           43,
           8,
           98,
           91,
           67,
           67,
           72,
           51,
           6,
           32,
           55,
           59,
           16,
           50,
           51,
           18,
           16,
           8,
           38,
           44,
           71,
           38,
           25,
           61,
           61,
           44,
           5,
           81,
           5,
           81,
           39,
           66,
           88,
           81,
           76,
           6,
           66,
           32,
           38,
           24,
           38,
           50,
           24,
           24,
           39,
           16,
           68,
           2,
           40,
           24,
           13,
           52,
           71,
           13,
           92,
           19,
           72,
           47,
           50,
           50,
           76,
           54,
           50,
           50,
           54,
           24,
           59,
           0,
           56,
           42,
           73,
           38,
           3,
           55,
           5,
           84,
           3,
           66,
           3,
           5,
           32,
           35,
           47,
           48,
           38,
           59,
           24,
           65,
           11,
           69,
           81,
           32,
           76,
           67,
           99,
           50,
           72,
           32,
           94,
           81,
           59,
           17,
           4,
           31,
           70,
           52,
           8,
           8,
           4,
           65,
           76,
           33,
           80,
           3,
           38,
           52,
           27,
           44,
           16,
           55,
           5,
           72,
           67,
           6,
           6,
           17,
           70,
           73,
           88,
           28,
           95,
           6,
           47,
           66,
           6,
           70,
           77,
           6,
           48,
           40,
           38,
           69,
           48,
           71,
           72,
           2,
           92,
           31,
           31,
           62,
           59,
           63,
           24,
           3,
           39,
           66,
           82,
           10,
           80,
           5,
           35,
           40,
           72,
           51,
           13,
           30,
           81,
           81,
           72,
           9,
           38,
           6,
           6,
           3,
           5,
           56,
           67,
           43,
           48,
           51,
           88,
           89,
           50,
           32,
           35,
           81,
           5,
           67,
           82,
           87,
           81,
           79,
           95,
           10,
           30,
           30,
           61,
           49,
           2,
           24,
           13,
           8,
           57,
           51,
           29,
           38,
           19,
           19,
           51,
           68,
           16,
           16,
           17,
           19,
           51,
           19,
           50,
           51,
           79,
           65,
           74,
           79,
           6,
           3,
           55,
           5,
           66,
           40,
           73,
           91,
           89,
           31,
           50,
           69,
           91,
           10,
           70,
           59,
           51,
           82,
           50,
           6,
           69,
           78,
           77,
           27,
           39,
           40,
           40,
           52,
           26,
           3,
           30,
           3,
           8,
           41,
           67,
           69,
           72,
           50,
           53,
           58,
           82,
           63,
           67,
           90,
           67,
           20,
           73,
           67,
           63,
           92,
           23,
           23,
           73,
           55,
           2,
           60,
           8,
           18,
           0,
           8,
           82,
           50,
           21,
           82,
           99,
           72,
           81,
           6,
           80,
           97,
           90,
           56,
           38,
           30,
           44,
           83,
           0
          ],
          "coloraxis": "coloraxis",
          "symbol": "circle"
         },
         "mode": "markers",
         "name": "",
         "showlegend": false,
         "type": "scattergl",
         "x": [
          46.696014404296875,
          41.04428482055664,
          -5.33966588973999,
          29.542037963867188,
          11.369261741638184,
          15.772098541259766,
          -18.19916534423828,
          -53.44636535644531,
          20.181455612182617,
          13.879142761230469,
          6.339375019073486,
          7.524552822113037,
          -6.266337871551514,
          47.91172790527344,
          18.62183380126953,
          2.6543281078338623,
          3.133843183517456,
          4.4443793296813965,
          8.150810241699219,
          -8.115327835083008,
          12.994170188903809,
          18.236852645874023,
          -10.142168045043945,
          36.78090286254883,
          5.532958030700684,
          -16.710203170776367,
          -12.342023849487305,
          41.39362335205078,
          8.276896476745605,
          -14.039588928222656,
          -11.644573211669922,
          13.575395584106445,
          -22.618791580200195,
          10.473388671875,
          -27.383882522583008,
          -2.3385348320007324,
          -8.552796363830566,
          13.008516311645508,
          -48.84851837158203,
          -17.561107635498047,
          -35.44704055786133,
          -49.30961227416992,
          -16.86343765258789,
          16.807994842529297,
          -1.8501777648925781,
          -33.473270416259766,
          14.66700267791748,
          -15.586685180664062,
          -13.099514961242676,
          -51.37465286254883,
          -26.27323341369629,
          -1.302002191543579,
          6.04857873916626,
          -46.679054260253906,
          -32.40628433227539,
          -50.91956329345703,
          -46.555442810058594,
          -17.20555305480957,
          -24.067495346069336,
          -28.55055809020996,
          -19.674800872802734,
          -13.855080604553223,
          19.822065353393555,
          32.31167221069336,
          -17.95983123779297,
          10.197319030761719,
          5.8298540115356445,
          5.775389194488525,
          10.733268737792969,
          40.01575469970703,
          17.97372817993164,
          14.82922077178955,
          51.5387077331543,
          43.29634475708008,
          51.291542053222656,
          49.49037551879883,
          40.84711456298828,
          17.809730529785156,
          -1.7333855628967285,
          33.24713134765625,
          30.3264217376709,
          43.54296875,
          15.369536399841309,
          30.653345108032227,
          46.396366119384766,
          -19.717456817626953,
          25.343280792236328,
          -38.725128173828125,
          45.11078643798828,
          17.750497817993164,
          -47.22425079345703,
          -48.812530517578125,
          -39.118587493896484,
          -3.019824504852295,
          -3.8847224712371826,
          -32.539161682128906,
          -10.326518058776855,
          -0.8205039501190186,
          37.867401123046875,
          -44.56485366821289,
          21.662887573242188,
          32.01106262207031,
          22.4863224029541,
          21.57949447631836,
          1.3832826614379883,
          23.166179656982422,
          37.20377731323242,
          15.443469047546387,
          -17.174280166625977,
          -28.6689510345459,
          -46.89424133300781,
          -12.177569389343262,
          -55.66112518310547,
          -17.241596221923828,
          -16.998477935791016,
          -13.789710998535156,
          -22.54987144470215,
          -26.287063598632812,
          4.950108051300049,
          8.501886367797852,
          -2.3790323734283447,
          48.42620849609375,
          -1.6152217388153076,
          -15.809990882873535,
          -12.996639251708984,
          40.1551628112793,
          -39.958927154541016,
          -2.8224682807922363,
          -45.50156021118164,
          43.66572189331055,
          -15.201226234436035,
          -50.55279541015625,
          -52.11934280395508,
          -19.257369995117188,
          -46.727020263671875,
          -48.23772430419922,
          51.920448303222656,
          -17.960979461669922,
          -21.680644989013672,
          21.97142219543457,
          20.304719924926758,
          21.97142219543457,
          -26.507444381713867,
          17.784399032592773,
          11.980831146240234,
          -11.94560432434082,
          -10.903203964233398,
          -14.06851863861084,
          0.7867147922515869,
          -43.43131637573242,
          47.97050476074219,
          -2.975554943084717,
          39.29672622680664,
          40.2665901184082,
          36.30411148071289,
          6.284407138824463,
          5.720052242279053,
          5.541569709777832,
          -23.827495574951172,
          -28.206871032714844,
          -47.80295181274414,
          -23.133346557617188,
          -5.690734386444092,
          -53.726314544677734,
          -42.936588287353516,
          -29.664871215820312,
          -28.46186065673828,
          -43.036651611328125,
          -16.389923095703125,
          -12.896278381347656,
          -47.97171401977539,
          -2.192932367324829,
          12.818595886230469,
          -19.223237991333008,
          -15.847180366516113,
          -1.6886074542999268,
          -20.9345645904541,
          -55.17597579956055,
          -48.150875091552734,
          49.89930725097656,
          52.263214111328125,
          52.86658477783203,
          14.469292640686035,
          48.286155700683594,
          16.159088134765625,
          1.9327021837234497,
          -21.147066116333008,
          48.962589263916016,
          30.474620819091797,
          -19.599353790283203,
          -20.17146110534668,
          26.45664405822754,
          8.95213794708252,
          -5.311836242675781,
          -13.79987621307373,
          -14.02157211303711,
          54.12032699584961,
          31.190162658691406,
          35.78478240966797,
          15.856757164001465,
          24.84964942932129,
          14.040672302246094,
          27.094770431518555,
          14.636178016662598,
          17.2711124420166,
          4.869653701782227,
          -2.9379281997680664,
          41.32238006591797,
          35.0086555480957,
          33.641754150390625,
          45.06215286254883,
          -41.2375373840332,
          -24.031869888305664,
          -13.574216842651367,
          -12.490243911743164,
          -18.729745864868164,
          35.127235412597656,
          24.865720748901367,
          28.87136459350586,
          36.673431396484375,
          10.20578384399414,
          49.97449493408203,
          -20.35988426208496,
          21.592681884765625,
          15.972647666931152,
          -2.614680051803589,
          38.285152435302734,
          44.65403366088867,
          33.61311340332031,
          36.84297561645508,
          -12.249826431274414,
          43.55748748779297,
          34.98820114135742,
          29.154067993164062,
          -29.23015785217285,
          -3.9994213581085205,
          -26.39830780029297,
          -41.96815872192383,
          9.30659294128418,
          -47.228702545166016,
          -19.989479064941406,
          -50.359535217285156,
          -50.133033752441406,
          8.41573429107666,
          -19.72422218322754,
          -24.148841857910156,
          9.718786239624023,
          16.24522590637207,
          6.3916850090026855,
          28.026338577270508,
          -35.94850158691406,
          -16.165395736694336,
          29.990020751953125,
          -15.665497779846191,
          -15.049895286560059,
          -38.37460708618164,
          -5.541609287261963,
          -5.541609287261963,
          54.15249252319336,
          30.24028778076172,
          4.719067096710205,
          5.246018886566162,
          -40.4495964050293,
          -10.66666316986084,
          5.783917427062988,
          37.559349060058594,
          -14.013873100280762,
          10.266571998596191,
          16.639204025268555,
          26.420835494995117,
          0.28211092948913574,
          -7.944924354553223,
          35.46696090698242,
          -18.43880844116211,
          -16.48398780822754,
          0.3795352876186371,
          18.842092514038086,
          30.48740005493164,
          -24.369462966918945,
          37.55267333984375,
          30.447355270385742,
          -10.981081008911133,
          4.5151190757751465,
          54.54916763305664,
          22.987606048583984,
          12.488801956176758,
          -56.13422775268555,
          -23.62093162536621,
          -0.11746806651353836,
          -1.4253432750701904,
          23.85120391845703,
          -23.432296752929688,
          -39.205230712890625,
          -22.93630027770996,
          -1.4253432750701904,
          17.46047592163086,
          1.0126014947891235,
          9.530962944030762,
          19.488637924194336,
          9.764739036560059,
          12.585376739501953,
          -1.1654056310653687,
          -44.73643112182617,
          -14.443229675292969,
          -29.240013122558594,
          14.888120651245117,
          17.41035270690918,
          10.298243522644043,
          18.18490982055664,
          25.38214111328125,
          3.7974705696105957,
          4.274240493774414,
          14.501422882080078,
          30.098451614379883,
          11.528675079345703,
          -22.618404388427734,
          -30.21796417236328,
          -25.51615333557129,
          -32.1882438659668,
          -31.288158416748047,
          -43.38203811645508,
          -32.699005126953125,
          -45.00883102416992,
          25.36348533630371,
          13.329072952270508,
          -44.23323059082031,
          -41.76982498168945,
          50.61884689331055,
          54.54916763305664,
          18.926244735717773,
          25.45382308959961,
          45.1401481628418,
          50.88518524169922,
          -8.955865859985352,
          38.52364730834961,
          50.01742172241211,
          35.735130310058594,
          -22.34565544128418,
          -28.363353729248047,
          -35.62916946411133,
          4.635396957397461,
          24.680078506469727,
          -28.363842010498047,
          13.509342193603516,
          12.59965705871582,
          -48.38700866699219,
          -27.074947357177734,
          -11.868088722229004,
          -2.6957569122314453,
          23.272794723510742,
          -28.363842010498047,
          -24.986888885498047,
          -29.990814208984375,
          7.286369323730469,
          38.604942321777344,
          -14.491771697998047,
          7.555624485015869,
          -52.2791633605957,
          12.936408996582031,
          -16.53973388671875,
          -14.54755973815918,
          -8.631840705871582,
          -26.216503143310547,
          -13.958826065063477,
          -21.860187530517578,
          43.77193069458008,
          50.298004150390625,
          -4.960752010345459,
          46.73814010620117,
          34.037845611572266,
          -22.663610458374023,
          8.961925506591797,
          13.251178741455078,
          -24.187047958374023,
          -34.86598205566406,
          8.94507884979248,
          3.7666656970977783,
          10.63154125213623,
          46.968257904052734,
          48.129486083984375,
          26.067890167236328,
          -48.23026657104492,
          0.7949699759483337,
          -26.83523178100586,
          39.74224853515625,
          -20.933687210083008,
          10.400607109069824,
          -9.905620574951172,
          -51.89944839477539,
          -35.076690673828125,
          -22.101076126098633,
          -49.0875358581543,
          -23.083194732666016,
          -15.989761352539062,
          -10.511399269104004,
          -14.720541000366211,
          -24.611011505126953,
          5.825121879577637,
          3.310091972351074,
          17.36338996887207,
          -23.7926025390625,
          39.757171630859375,
          39.56230163574219,
          19.69188690185547,
          4.9367804527282715,
          -17.554668426513672,
          34.031700134277344,
          6.893027305603027,
          5.532047748565674,
          -53.81560134887695,
          33.09456253051758,
          28.48253059387207,
          -41.27599334716797,
          46.496063232421875,
          14.259170532226562,
          -6.225487232208252,
          25.02503204345703,
          -14.574042320251465,
          -36.988468170166016,
          -2.837562322616577,
          15.124430656433105,
          44.43979263305664,
          38.413665771484375,
          51.7988166809082,
          11.132024765014648,
          -21.51508903503418,
          8.348902702331543,
          6.987827301025391,
          -48.304359436035156,
          14.991490364074707,
          31.43688201904297,
          11.547272682189941,
          -28.69601821899414,
          -51.02235412597656,
          -1.7218385934829712,
          -12.551190376281738,
          13.985869407653809,
          5.73221492767334,
          10.56135082244873,
          -23.123491287231445,
          -45.247711181640625,
          -31.907623291015625,
          16.569814682006836,
          -42.8402099609375,
          -43.45343780517578,
          -35.22041320800781,
          42.11773681640625,
          0.1514611691236496,
          -30.254928588867188,
          -27.409513473510742,
          22.479087829589844,
          9.00385856628418,
          30.13469886779785,
          7.458574295043945,
          -29.41948699951172,
          -11.673537254333496,
          9.883875846862793,
          -9.74205493927002,
          11.771713256835938,
          4.043726444244385,
          8.504240989685059,
          21.315271377563477,
          47.69828796386719,
          -29.359718322753906,
          1.8204127550125122,
          -5.985086441040039,
          -20.440641403198242,
          27.514802932739258,
          28.87026596069336,
          27.513505935668945,
          -4.253756523132324,
          45.91217803955078,
          53.621002197265625,
          53.622215270996094,
          -10.571063041687012,
          -46.6757926940918,
          29.925630569458008,
          10.053768157958984,
          35.96413040161133,
          2.1891684532165527,
          -9.089332580566406,
          -18.317604064941406,
          20.117477416992188,
          40.143348693847656,
          13.112516403198242,
          44.23517990112305,
          35.801422119140625,
          0.46919894218444824,
          48.276123046875,
          5.3201775550842285,
          -1.9109604358673096,
          -28.568971633911133,
          -24.892194747924805,
          2.649940013885498,
          9.386069297790527,
          23.87555503845215,
          -47.75836181640625,
          3.2393431663513184,
          20.257822036743164,
          -51.71253967285156,
          -25.278642654418945,
          0.28279656171798706,
          13.157108306884766,
          -50.62607192993164,
          0.8745452165603638,
          16.897930145263672,
          -44.704498291015625,
          -29.883018493652344,
          -35.49253463745117,
          -51.832332611083984,
          8.193607330322266,
          -32.60139846801758,
          -53.48625564575195,
          20.71248435974121,
          4.541666030883789,
          13.163914680480957,
          10.20439338684082,
          9.742878913879395,
          28.172922134399414,
          -29.327167510986328,
          19.25611686706543,
          18.51788330078125,
          -19.4948787689209,
          -10.091176986694336,
          51.307212829589844,
          25.01351547241211,
          -10.967290878295898,
          1.7221744060516357,
          -30.054048538208008,
          -6.21962308883667,
          -38.7560920715332,
          -11.960021018981934,
          13.710373878479004,
          41.509891510009766,
          53.48311233520508,
          52.189247131347656,
          8.354768753051758,
          -5.595840930938721,
          12.864753723144531,
          2.672957420349121,
          -45.30248260498047,
          42.254547119140625,
          0.9016829133033752,
          2.0442562103271484,
          41.509891510009766,
          38.431846618652344,
          29.185932159423828,
          -31.923566818237305,
          43.925453186035156,
          21.4638614654541,
          -7.814411640167236,
          50.71023178100586,
          9.864791870117188,
          -11.618439674377441,
          11.213891983032227,
          -32.8519287109375,
          -44.39737319946289,
          -48.260101318359375,
          -5.524142742156982,
          -27.02174186706543,
          -28.521821975708008,
          -5.357810974121094,
          -40.093360900878906,
          -20.261083602905273,
          -41.42641067504883,
          30.67940902709961,
          -32.71588134765625,
          -49.94332504272461,
          1.2264536619186401,
          37.33376693725586,
          16.050085067749023,
          -15.020051002502441,
          -10.725998878479004,
          -53.99656677246094,
          5.655179023742676,
          -31.42466926574707,
          14.019365310668945,
          -24.79347038269043,
          27.787939071655273,
          9.913705825805664,
          -18.34754180908203,
          19.039644241333008,
          27.752809524536133,
          -38.71028518676758,
          5.199198246002197,
          29.90878677368164,
          7.710694313049316,
          39.34678268432617,
          16.66942596435547,
          -38.7745361328125,
          38.456260681152344,
          26.871135711669922,
          11.415719032287598,
          3.495131015777588,
          5.107195854187012,
          29.109708786010742,
          -0.6202265024185181,
          -1.8905935287475586,
          -11.198165893554688,
          27.45118522644043,
          8.439355850219727,
          36.924652099609375,
          9.205114364624023,
          -10.087180137634277,
          26.811328887939453,
          17.857711791992188,
          50.501827239990234,
          4.901237487792969,
          -8.661055564880371,
          -1.7951500415802002,
          27.63518714904785,
          25.047971725463867,
          7.480310916900635,
          26.155807495117188,
          20.203683853149414,
          2.156709909439087,
          4.958065986633301,
          -14.63405990600586,
          28.050790786743164,
          -20.78573226928711,
          8.465134620666504,
          3.255089044570923,
          48.50723648071289,
          8.411050796508789,
          -9.341721534729004,
          -24.470006942749023,
          26.37281608581543,
          2.0922839641571045,
          -0.8546682000160217,
          50.417476654052734,
          -3.7861733436584473,
          48.48699188232422,
          48.39155578613281,
          50.39523696899414,
          43.37345886230469,
          52.71973419189453,
          36.68293762207031,
          48.447540283203125,
          44.622318267822266,
          53.22079849243164,
          52.98863983154297,
          48.76120376586914,
          24.0965633392334,
          49.21193313598633,
          46.93690872192383,
          47.93814468383789,
          43.16954040527344,
          49.84293746948242,
          54.33036804199219,
          39.772796630859375,
          6.7826433181762695,
          49.01032638549805,
          49.06241226196289,
          40.4461555480957,
          24.220436096191406,
          26.326108932495117,
          24.313087463378906,
          -29.013710021972656,
          10.575429916381836,
          -20.327259063720703,
          10.119508743286133,
          -34.194095611572266,
          -23.31429672241211,
          -21.113574981689453,
          -18.613994598388672,
          24.11555290222168,
          -30.88323974609375,
          14.595772743225098,
          -5.448174953460693,
          -47.894737243652344,
          30.595129013061523,
          -26.213268280029297,
          40.82169723510742,
          18.340110778808594,
          35.105995178222656,
          -33.97281265258789,
          -26.207767486572266,
          -50.90079116821289,
          51.53864288330078,
          49.909725189208984,
          39.683372497558594,
          -22.33711051940918,
          11.497525215148926,
          3.783055067062378,
          32.655784606933594,
          30.202421188354492,
          12.795418739318848,
          42.11369323730469,
          30.194841384887695,
          15.970231056213379,
          17.29464340209961,
          -4.634947299957275,
          -15.010126113891602,
          -20.361730575561523,
          13.70656681060791,
          -16.26180076599121,
          12.297423362731934,
          16.650461196899414,
          -16.756681442260742,
          15.428383827209473,
          18.68750762939453,
          -17.65375518798828,
          15.265037536621094,
          -22.775146484375,
          -28.694713592529297,
          -21.016677856445312,
          2.4889209270477295,
          34.139007568359375,
          17.894628524780273,
          -15.949161529541016,
          -6.9622955322265625,
          47.60543441772461,
          -18.53889274597168,
          -18.538602828979492,
          -24.810245513916016,
          -51.01337432861328,
          -32.162803649902344,
          -21.373779296875,
          -1.0196970701217651,
          8.94688892364502,
          21.836944580078125,
          -23.573196411132812,
          -12.945025444030762,
          -13.528904914855957,
          -20.458206176757812,
          -17.94379997253418,
          25.521163940429688,
          17.925979614257812,
          -14.344175338745117,
          -19.934280395507812,
          15.337660789489746,
          -24.048141479492188,
          7.063326835632324,
          -15.119508743286133,
          15.429079055786133,
          -14.470312118530273,
          -20.085973739624023,
          -15.877166748046875,
          -54.107242584228516,
          37.23674011230469,
          52.17969512939453,
          51.71495056152344,
          35.937095642089844,
          -33.33272933959961,
          47.03765869140625,
          6.936521053314209,
          -42.348140716552734,
          -25.902273178100586,
          -11.544578552246094,
          -29.397926330566406,
          -49.64255142211914,
          -11.198165893554688,
          -19.64038848876953,
          51.8780632019043,
          -13.669407844543457,
          35.089683532714844,
          11.418959617614746,
          32.255306243896484,
          -23.29291343688965,
          9.313921928405762,
          -1.2748292684555054,
          -11.20784854888916,
          -27.95752716064453,
          -46.275447845458984,
          -11.20784854888916,
          12.223739624023438,
          -8.570887565612793,
          36.209571838378906,
          -24.104768753051758,
          -26.968368530273438,
          11.867220878601074,
          17.733076095581055,
          -2.757476568222046,
          41.848758697509766,
          -2.08113169670105,
          -14.291488647460938,
          -2.0343170166015625,
          -50.956199645996094,
          7.693491458892822,
          -9.605024337768555,
          -30.818328857421875,
          -31.874292373657227,
          13.144031524658203,
          -23.58501625061035,
          -24.434640884399414,
          -28.99242401123047,
          -14.728111267089844,
          -22.64743995666504,
          -23.977275848388672,
          -17.209394454956055,
          1.2452079057693481,
          -24.567020416259766,
          15.976462364196777,
          4.782620429992676,
          -6.608266353607178,
          5.90267276763916,
          -27.931562423706055,
          24.228130340576172,
          4.181268692016602,
          -53.15083312988281,
          37.78479766845703,
          18.324779510498047,
          6.932548999786377,
          -41.55205154418945,
          8.818414688110352,
          -22.64069366455078,
          -26.322189331054688,
          19.69361686706543,
          -13.966028213500977,
          -1.002318263053894,
          -18.74038314819336,
          7.779463291168213,
          -16.984277725219727,
          -29.122020721435547,
          -24.405298233032227,
          35.26597213745117,
          16.133800506591797,
          -0.46451327204704285,
          5.520752906799316,
          14.40185260772705,
          -35.0360221862793,
          -0.19059626758098602,
          16.602636337280273,
          2.9316704273223877,
          -14.026215553283691,
          -12.54155158996582,
          17.166587829589844,
          -9.845160484313965,
          4.326543807983398,
          -2.250431537628174,
          -40.033817291259766,
          -44.25971603393555,
          -29.389514923095703,
          -13.994043350219727,
          21.910789489746094,
          -0.990884006023407,
          17.408702850341797,
          52.164649963378906,
          4.211063861846924,
          -33.29814147949219,
          28.236310958862305,
          -18.115480422973633,
          18.27471160888672,
          0.28211092948913574,
          12.963075637817383,
          -51.77574920654297,
          -0.8699399828910828,
          21.67982292175293,
          -42.70063018798828,
          -20.452598571777344,
          -42.4284782409668,
          -42.623008728027344,
          0.19525264203548431,
          17.202083587646484,
          6.124752998352051,
          12.873442649841309,
          -8.53178596496582,
          -27.173059463500977,
          -49.417823791503906,
          8.891151428222656,
          -11.870271682739258,
          9.061161041259766,
          17.09284019470215,
          28.447296142578125,
          -3.5542209148406982,
          -54.367069244384766,
          37.427391052246094,
          2.845167875289917,
          39.98269271850586,
          -51.249752044677734,
          -52.495059967041016,
          -10.360681533813477,
          10.651426315307617,
          12.270746231079102,
          -16.64405059814453,
          26.269882202148438,
          -20.791061401367188,
          -45.885013580322266,
          9.511893272399902,
          -14.205076217651367,
          -44.43362808227539,
          7.845666408538818,
          -23.538410186767578,
          -20.948461532592773,
          -6.736936092376709,
          28.26031494140625,
          -0.5625708699226379,
          -11.235419273376465,
          -26.008275985717773,
          -25.71141242980957,
          45.97239303588867,
          -50.59376525878906,
          -9.593785285949707,
          41.2752685546875,
          29.800600051879883,
          -16.61745262145996,
          -45.68696975708008,
          -28.286060333251953,
          -19.32784652709961,
          9.714383125305176,
          24.77681541442871,
          -26.057025909423828,
          -0.4717530608177185,
          48.42601013183594,
          -10.838062286376953,
          12.43828010559082,
          10.342883110046387,
          -17.960979461669922,
          -13.18014144897461,
          8.57959270477295,
          -5.348553657531738,
          25.36836051940918,
          53.458587646484375,
          -27.6318359375,
          -41.706443786621094,
          -24.83284568786621,
          33.09302520751953,
          -26.2235164642334,
          -48.79372024536133,
          14.640775680541992,
          20.704099655151367,
          -27.541431427001953,
          16.078275680541992,
          18.3770751953125,
          14.211018562316895,
          21.354049682617188,
          2.5297884941101074,
          -13.914911270141602,
          15.529271125793457,
          28.015796661376953,
          49.7426643371582,
          48.245662689208984,
          42.35672378540039,
          43.24517059326172,
          1.8537541627883911,
          50.194644927978516,
          7.688030242919922,
          -37.11878967285156,
          -51.65375518798828,
          -16.051557540893555,
          12.085284233093262,
          31.445159912109375,
          -35.878658294677734,
          6.0293426513671875,
          -13.524382591247559,
          40.95875549316406,
          10.519604682922363,
          -18.327556610107422,
          -25.09882354736328,
          -28.616384506225586,
          14.751749038696289,
          18.711990356445312,
          1.1128331422805786,
          -28.071571350097656,
          26.617481231689453,
          -13.425958633422852,
          -29.658164978027344,
          -25.16687774658203,
          -6.05627965927124,
          -26.61652946472168,
          -23.845478057861328,
          -13.623589515686035,
          -34.1041374206543,
          -28.525592803955078,
          -16.073827743530273,
          12.77835464477539,
          4.403299808502197,
          -49.298213958740234,
          -9.749903678894043,
          11.716931343078613,
          -25.751630783081055,
          -30.12373924255371,
          -27.843271255493164,
          -43.80452346801758,
          -26.68808937072754,
          -49.392425537109375,
          -30.817779541015625,
          45.44782638549805,
          -3.345628023147583,
          44.43358612060547,
          26.404457092285156,
          28.111225128173828,
          25.70867156982422,
          -26.900007247924805,
          16.160781860351562,
          46.68178939819336,
          -49.975364685058594,
          46.41043472290039,
          -16.984277725219727,
          17.42695426940918,
          -32.41807556152344,
          -0.3697035014629364,
          14.507052421569824,
          12.651861190795898,
          41.16727828979492,
          32.03010177612305,
          4.126805782318115,
          -37.086910247802734,
          -1.0866175889968872,
          -41.02715301513672,
          6.942333698272705,
          -24.00127601623535,
          -48.49890899658203,
          20.513408660888672,
          31.951282501220703,
          10.02037239074707,
          47.0067253112793,
          36.92584228515625,
          9.709405899047852,
          0.19047099351882935,
          33.98798751831055,
          -19.382505416870117,
          13.080972671508789,
          -1.5642048120498657,
          7.607009410858154,
          -2.0335276126861572,
          -2.510899782180786,
          25.342044830322266,
          18.1994571685791,
          6.066273212432861,
          15.709916114807129,
          -5.501094341278076,
          5.68022346496582,
          16.02132225036621,
          -47.71940612792969,
          -47.29936981201172,
          10.582408905029297,
          35.228057861328125,
          12.727320671081543,
          51.354583740234375,
          47.822147369384766,
          -17.413776397705078,
          16.093996047973633,
          -39.62507629394531,
          -39.426639556884766,
          -44.55154800415039,
          3.272779703140259,
          -22.465576171875,
          -0.3819177746772766,
          22.787927627563477,
          45.0527458190918,
          -50.23844528198242,
          -7.194860458374023,
          -25.225322723388672,
          -28.842750549316406,
          25.779268264770508,
          27.319904327392578,
          54.14961242675781,
          -7.474838733673096,
          -1.3102762699127197,
          25.539562225341797,
          -22.749296188354492,
          28.492202758789062,
          28.037242889404297,
          39.69158935546875,
          18.516700744628906,
          3.1523635387420654,
          8.977008819580078,
          -20.791263580322266,
          -43.99726104736328,
          3.0240650177001953,
          7.500644207000732,
          -3.928838014602661,
          7.711780548095703,
          20.258020401000977,
          38.15678405761719,
          29.759729385375977,
          -11.507345199584961,
          -1.081050992012024,
          10.309746742248535,
          36.07020568847656,
          -9.243084907531738,
          -40.765350341796875,
          11.887504577636719,
          11.860045433044434,
          -32.69163131713867,
          41.18686294555664,
          -26.927650451660156,
          -1.149592638015747,
          3.599133014678955,
          -7.267788887023926,
          31.642539978027344,
          30.45914649963379,
          -14.182333946228027,
          39.38758087158203,
          52.9195671081543,
          14.62698745727539,
          -27.16756820678711,
          -33.37641143798828,
          -44.17704772949219,
          15.183478355407715,
          -13.801972389221191,
          -5.722014904022217,
          32.074554443359375,
          -27.16756820678711,
          27.000478744506836,
          47.44635009765625,
          43.12541198730469,
          4.315242290496826,
          7.250892162322998,
          -9.099027633666992,
          -14.340988159179688,
          -12.812228202819824,
          47.608665466308594,
          -25.319133758544922,
          34.39118576049805,
          -18.10883140563965,
          5.791080951690674,
          -35.53593444824219,
          -0.9041834473609924,
          16.596176147460938,
          -33.68865203857422,
          -9.370845794677734,
          29.108638763427734,
          10.296624183654785,
          6.573139667510986,
          -23.111879348754883,
          -38.03782272338867,
          22.46273422241211,
          -45.64320755004883,
          6.572746753692627,
          -18.234235763549805,
          7.7130961418151855,
          -3.050785779953003,
          -25.947219848632812,
          -24.448694229125977,
          12.493969917297363,
          -27.0233097076416,
          -35.77566146850586,
          -8.404023170471191,
          -51.82283401489258,
          -35.749725341796875,
          10.4033842086792,
          -19.948671340942383,
          -40.423439025878906,
          -11.420890808105469,
          35.55411911010742,
          45.26740264892578,
          -54.90349197387695,
          5.196588039398193,
          -51.55601119995117,
          -16.327991485595703,
          -36.03084945678711,
          -18.430355072021484,
          -32.64857482910156,
          -22.078262329101562,
          -27.763959884643555,
          -22.532024383544922,
          13.687779426574707,
          -16.722219467163086,
          1.462440848350525,
          -9.4351224899292,
          11.017012596130371,
          -35.02228927612305,
          44.85778045654297,
          41.961090087890625,
          50.07504653930664,
          1.6008386611938477,
          12.12517261505127,
          0.8455689549446106,
          -22.260560989379883,
          13.970404624938965,
          -21.316389083862305,
          31.920223236083984,
          26.33310317993164,
          2.514526844024658,
          -40.34603500366211,
          49.750614166259766,
          51.407875061035156,
          -14.756237983703613,
          -42.15260696411133,
          -18.78622055053711,
          0.5144177675247192,
          -19.613292694091797,
          49.93069839477539,
          -44.17156982421875,
          50.33475875854492,
          50.766544342041016,
          30.304750442504883,
          -23.9078369140625,
          -25.281688690185547,
          -6.334897518157959,
          -46.29770278930664,
          12.685831069946289,
          28.078319549560547,
          27.936052322387695,
          5.783917427062988,
          -24.804790496826172,
          -22.236164093017578,
          -35.93804931640625,
          -16.74744415283203,
          -20.850635528564453,
          -6.861391544342041,
          -13.703548431396484,
          11.867119789123535,
          -28.716829299926758,
          12.102725982666016,
          -24.3736572265625,
          3.8189010620117188,
          38.70344543457031,
          20.288469314575195,
          26.311429977416992,
          3.8154184818267822,
          -1.8768515586853027,
          14.456729888916016,
          5.71398401260376,
          -18.674419403076172,
          -6.662190914154053,
          -20.8144588470459,
          11.217679977416992,
          -20.575544357299805,
          1.8975740671157837,
          0.9097759127616882,
          0.5689349174499512,
          -15.341422080993652,
          -2.6948904991149902,
          -26.02185821533203,
          -32.32180404663086,
          -11.687291145324707,
          36.60841369628906,
          34.13593673706055,
          37.28392791748047,
          32.00080490112305,
          4.762191295623779,
          54.01008605957031,
          29.533199310302734,
          31.219810485839844,
          35.786216735839844,
          -28.124284744262695,
          -22.27427101135254,
          23.360395431518555,
          -28.445331573486328,
          -3.6509127616882324,
          -19.569259643554688,
          -26.60352325439453,
          -10.78461742401123,
          -11.008479118347168,
          15.376307487487793,
          13.482014656066895,
          -31.42466926574707,
          -11.346166610717773,
          26.564876556396484,
          20.7900390625,
          38.5072135925293,
          40.75986099243164,
          31.478490829467773,
          21.75214385986328,
          1.0109177827835083,
          39.668212890625,
          -46.88383865356445,
          33.29114532470703,
          22.460084915161133,
          -10.806841850280762,
          31.259414672851562,
          -48.37763977050781,
          -5.37318754196167,
          14.332944869995117,
          37.83148956298828,
          11.352210998535156,
          -28.812408447265625,
          35.44154739379883,
          -35.82209396362305,
          -31.753192901611328,
          29.645021438598633,
          -1.6650289297103882,
          -21.941162109375,
          1.6110553741455078,
          -48.34111022949219,
          -51.53277587890625,
          -32.29189682006836,
          -16.64026641845703,
          -1.945263147354126,
          -31.248794555664062,
          33.994258880615234,
          19.9847469329834,
          37.559329986572266,
          34.22555160522461,
          38.92576217651367,
          39.43437957763672,
          43.50638198852539,
          17.94365692138672,
          -35.651397705078125,
          -20.683977127075195,
          45.187801361083984,
          -16.016155242919922,
          -15.514406204223633,
          -11.495866775512695,
          -4.309521675109863,
          17.30754852294922,
          32.179893493652344,
          31.659143447875977,
          36.84059524536133,
          -51.259605407714844,
          -37.54282760620117,
          -15.291152000427246,
          -48.76385498046875,
          2.187467575073242,
          40.04480743408203,
          51.97679901123047,
          50.7723503112793,
          49.420406341552734,
          53.805538177490234,
          49.114173889160156,
          36.650691986083984,
          26.80022621154785,
          -3.795288562774658,
          9.257599830627441,
          9.965478897094727,
          2.432067632675171,
          2.432067632675171,
          17.68894386291504,
          37.50013732910156,
          -23.13668441772461,
          -33.52102279663086,
          26.962732315063477,
          4.677350997924805,
          -23.971059799194336,
          -52.02602005004883,
          -19.087438583374023,
          -11.345660209655762,
          20.997949600219727,
          26.871135711669922,
          47.491554260253906,
          48.25324249267578,
          49.539459228515625,
          54.14652633666992,
          -0.38689225912094116,
          27.35120391845703,
          37.8818359375,
          37.88182067871094,
          -0.38689225912094116,
          -6.934637546539307,
          -29.199596405029297,
          -52.81562423706055,
          54.53217697143555,
          17.381319046020508,
          30.884326934814453,
          4.839901447296143,
          13.163382530212402,
          9.8916597366333,
          5.266653060913086,
          14.908727645874023,
          -6.418942928314209,
          -15.119650840759277,
          -40.261146545410156,
          32.59282302856445,
          22.406951904296875,
          49.97069549560547,
          31.803302764892578,
          17.20712661743164,
          -45.31642150878906,
          40.129737854003906,
          -14.879473686218262,
          28.34406852722168,
          24.747228622436523,
          -52.98774337768555,
          2.5101234912872314,
          -2.9773738384246826,
          19.33503532409668,
          12.071208953857422,
          24.435089111328125,
          -26.893526077270508,
          3.2579517364501953,
          -8.381231307983398,
          -14.87325668334961,
          -35.83968734741211,
          10.136002540588379,
          -19.972196578979492,
          -51.51167297363281,
          -25.32292938232422,
          0.016669515520334244,
          -43.69016647338867,
          -7.758235454559326,
          -28.643619537353516,
          -19.54553985595703,
          -43.05080795288086,
          -23.67247772216797,
          -26.56909942626953,
          -3.6685428619384766,
          -28.519502639770508,
          -44.640647888183594,
          5.579207897186279,
          2.15384578704834,
          -22.630054473876953,
          -45.118812561035156,
          -11.198165893554688,
          13.767548561096191,
          -31.37060546875,
          44.73300552368164,
          7.839704990386963,
          2.619248628616333,
          -30.440383911132812,
          -45.77837371826172,
          -44.61963653564453,
          4.588014602661133,
          24.999902725219727,
          19.179540634155273,
          11.124342918395996,
          13.427960395812988,
          -5.913910865783691,
          17.050933837890625,
          -39.98752212524414,
          -15.4060640335083,
          26.385351181030273,
          -17.970272064208984,
          -17.518217086791992,
          14.866174697875977,
          22.60855484008789,
          -27.261051177978516,
          39.219024658203125,
          0.9460691213607788,
          39.466487884521484,
          5.043145656585693,
          15.329789161682129,
          25.344438552856445,
          11.681242942810059,
          -31.26930046081543,
          23.744531631469727,
          4.134119033813477,
          1.310355305671692,
          1.056534767150879,
          -5.2637248039245605,
          0.20438839495182037,
          26.871135711669922,
          21.77030372619629,
          16.606475830078125,
          29.035114288330078,
          49.52009201049805,
          39.10127258300781,
          -20.38196563720703,
          -45.542110443115234,
          -39.75664138793945,
          6.4102067947387695,
          6.041285991668701,
          0.596318781375885,
          6.648071765899658,
          48.61467742919922,
          48.51717758178711,
          32.71825408935547,
          48.84336471557617,
          -39.560333251953125,
          53.847442626953125,
          49.86125183105469,
          -3.7861733436584473,
          17.56708335876465,
          0.6240828037261963,
          0.6240828037261963,
          -44.52660369873047,
          44.817970275878906,
          19.658891677856445,
          32.178470611572266,
          0.6240828037261963,
          48.625823974609375,
          -26.844261169433594,
          43.75757598876953,
          43.53767395019531,
          2.7932536602020264,
          10.415369987487793,
          17.9364070892334,
          9.803427696228027,
          48.62238311767578,
          47.6678466796875,
          48.83926010131836,
          29.916044235229492,
          -0.6005470752716064,
          48.21879959106445,
          36.77127456665039,
          -24.33790397644043,
          16.705671310424805,
          -12.977102279663086,
          43.49396514892578,
          -6.683623790740967,
          -35.03765106201172,
          -32.466461181640625,
          -41.26781463623047,
          -43.27614212036133,
          -38.91423797607422,
          -20.735198974609375,
          -47.17638397216797,
          -39.390106201171875,
          17.96398162841797,
          -33.56182098388672,
          -26.064788818359375,
          -7.375988960266113,
          -6.9138288497924805,
          10.03001880645752,
          -17.11888885498047,
          -31.69593620300293,
          -6.359951972961426,
          -12.096638679504395,
          32.9752082824707,
          50.205501556396484,
          51.76787185668945,
          44.466651916503906,
          -8.2893648147583,
          31.346004486083984,
          -25.634180068969727,
          -27.56952667236328,
          14.089731216430664,
          6.102873802185059,
          0.1789819300174713,
          -50.70011901855469,
          -0.3877868354320526,
          31.346004486083984,
          16.507251739501953,
          -43.044883728027344,
          27.17918586730957,
          27.65320587158203,
          -5.30907678604126,
          -39.94391632080078,
          -40.20481872558594,
          4.28822660446167,
          -12.254133224487305,
          -49.76015853881836,
          -40.37224197387695,
          -42.07711410522461,
          -15.84260368347168,
          6.6985907554626465,
          -50.36383819580078,
          17.964435577392578,
          16.232440948486328,
          -17.937976837158203,
          16.792394638061523,
          49.5650520324707,
          28.67083740234375,
          10.611837387084961,
          -2.8882579803466797,
          29.821125030517578,
          21.80141258239746,
          18.278301239013672,
          -29.427871704101562,
          30.7130126953125,
          18.021459579467773,
          31.09233283996582,
          23.714845657348633,
          23.255956649780273,
          37.7540397644043,
          29.837142944335938,
          28.82928466796875,
          25.90202522277832,
          28.287450790405273,
          28.556089401245117,
          29.352825164794922,
          -16.36603355407715,
          34.5405158996582,
          23.447479248046875,
          25.296646118164062,
          30.61383056640625,
          2.9992945194244385,
          28.855695724487305,
          -29.9913272857666,
          -11.091419219970703,
          29.23417091369629,
          37.42032241821289,
          34.57197189331055,
          29.889490127563477,
          37.45949172973633,
          12.526549339294434,
          29.760385513305664,
          28.74922752380371,
          -8.61434268951416,
          29.307775497436523,
          8.34052848815918,
          -5.839128017425537,
          14.14369010925293,
          -2.3051469326019287,
          -11.953137397766113,
          22.397384643554688,
          18.405057907104492,
          17.488821029663086,
          -33.37641143798828,
          -30.32819366455078,
          -24.44844627380371,
          11.638412475585938,
          11.2533597946167,
          -48.71054458618164,
          30.674755096435547,
          26.848154067993164,
          -21.69529914855957,
          36.31083297729492,
          -53.02490234375,
          34.14936447143555,
          -48.967403411865234,
          -51.37465286254883,
          7.887283802032471,
          2.4519424438476562,
          -2.7381529808044434,
          -34.31648635864258,
          6.287915229797363,
          8.785213470458984,
          22.271991729736328,
          8.808552742004395,
          -13.283096313476562,
          17.528749465942383,
          22.78266716003418,
          -41.27874755859375,
          -29.478742599487305,
          10.339494705200195,
          -11.24167537689209,
          43.24490737915039,
          -9.752617835998535,
          10.403376579284668,
          26.04035758972168,
          16.385662078857422,
          -42.50447463989258,
          42.24027633666992,
          49.14759063720703,
          49.9576416015625,
          21.217836380004883,
          35.99088668823242,
          40.01169967651367,
          54.56330871582031,
          5.79643440246582,
          -44.86663055419922,
          -14.929605484008789,
          -29.569547653198242,
          -51.5001220703125,
          37.38406753540039,
          18.657100677490234,
          11.649073600769043,
          -21.265779495239258,
          -26.80121421813965,
          32.909610748291016,
          16.687265396118164,
          29.61823844909668,
          12.87156867980957,
          -5.707283973693848,
          51.135311126708984,
          -22.967025756835938,
          -20.528474807739258,
          -22.620954513549805,
          51.30805206298828,
          -43.53078842163086,
          -8.230710983276367,
          34.90800094604492,
          -19.5792236328125,
          -47.14406967163086,
          -18.612491607666016,
          -1.3822293281555176,
          -24.313020706176758,
          -44.14072036743164,
          -21.17345428466797,
          -21.5444278717041,
          18.166929244995117,
          -31.22232437133789,
          4.37969446182251,
          -44.434349060058594,
          -8.283146858215332,
          -33.4257926940918,
          23.04927635192871,
          -22.60708999633789,
          -23.39048194885254,
          50.501827239990234,
          40.758724212646484,
          1.7278118133544922,
          25.20037269592285,
          -25.013288497924805,
          -21.135143280029297,
          -30.3419189453125,
          33.573020935058594,
          -4.207212448120117,
          49.4874267578125,
          5.625149726867676,
          -24.321935653686523,
          -40.7163200378418,
          6.60439395904541,
          -6.675762176513672,
          17.034725189208984,
          -41.06463623046875,
          -2.3886992931365967,
          -6.054388523101807,
          -7.474838733673096,
          -5.75119686126709,
          27.078289031982422,
          -0.1939876526594162,
          20.90744972229004,
          13.71561050415039,
          17.277238845825195,
          -26.801244735717773,
          11.776113510131836,
          -24.4167423248291,
          -48.79664611816406,
          -17.772628784179688,
          31.20246124267578,
          8.788618087768555,
          -28.8931941986084,
          37.5252571105957,
          5.613567352294922,
          38.93217849731445,
          10.328633308410645,
          -20.43402862548828,
          42.17716979980469,
          27.35120391845703,
          -2.373746633529663,
          -0.4848038852214813,
          -8.437962532043457,
          -10.223909378051758,
          0.23378142714500427,
          3.9426827430725098,
          9.455353736877441,
          37.56465530395508,
          -8.371662139892578,
          22.431737899780273,
          -22.16456413269043,
          -44.813846588134766,
          9.26224422454834,
          9.489517211914062,
          -2.336378574371338,
          -6.026479244232178,
          5.740306377410889,
          3.189478635787964,
          30.930011749267578,
          -18.519712448120117,
          36.768516540527344,
          33.02186584472656,
          11.666004180908203,
          -16.048818588256836,
          -48.76703643798828,
          17.169424057006836,
          -31.031879425048828,
          -1.8423128128051758,
          -1.3431529998779297,
          23.656389236450195,
          45.675601959228516,
          6.355296611785889,
          -12.919207572937012,
          45.22675323486328,
          5.632905006408691,
          -30.519580841064453,
          -22.668298721313477,
          -40.73894119262695,
          1.883357048034668,
          -27.166318893432617,
          -29.122631072998047,
          -25.029603958129883,
          -30.77427864074707,
          -23.117279052734375,
          -33.91239547729492,
          3.035818099975586,
          -28.928329467773438,
          -41.990821838378906,
          -49.99224853515625,
          -31.538063049316406,
          -53.45391082763672,
          -1.4794968366622925,
          18.85114097595215,
          8.801226615905762,
          8.150810241699219,
          11.641484260559082,
          28.569189071655273,
          -11.305438041687012,
          -10.925154685974121,
          6.106202125549316,
          20.019933700561523,
          -24.635364532470703,
          -21.122350692749023,
          -28.363603591918945,
          -47.10581970214844,
          -24.33318519592285,
          5.110504150390625,
          45.684593200683594,
          -29.393482208251953,
          -23.80340003967285,
          -22.27893829345703,
          -39.02368927001953,
          -28.57327651977539,
          7.864267826080322,
          0.6041923761367798,
          -0.5865878462791443,
          -31.551666259765625,
          -51.52613067626953,
          -23.976591110229492,
          3.5645928382873535,
          -43.44709777832031,
          24.915271759033203,
          40.958709716796875,
          45.6861457824707,
          23.166179656982422,
          22.78266716003418,
          13.057010650634766,
          -29.600488662719727,
          12.922242164611816,
          -29.244253158569336,
          -1.9343451261520386,
          23.883216857910156,
          -18.135757446289062,
          -0.34308740496635437,
          -23.163259506225586,
          15.53604507446289,
          -12.078697204589844,
          42.74092102050781,
          -14.907601356506348,
          -16.761934280395508,
          -38.43671798706055,
          -14.50816535949707,
          -29.208208084106445,
          -47.55228042602539,
          -18.556806564331055,
          39.18818664550781,
          -36.67631530761719,
          15.673148155212402,
          -45.515235900878906,
          -10.167112350463867,
          -12.731372833251953,
          -19.428245544433594,
          -8.524258613586426,
          -22.060165405273438,
          10.630213737487793,
          -13.854264259338379,
          10.528714179992676,
          -20.968292236328125,
          -47.25978088378906,
          41.80509567260742,
          37.758094787597656,
          -2.7860190868377686,
          53.0081672668457,
          -30.833715438842773,
          16.883174896240234,
          9.248273849487305,
          -22.64020347595215,
          20.98137664794922,
          -36.799381256103516,
          -20.79070281982422,
          32.02511215209961,
          -36.527488708496094,
          -43.41360092163086,
          20.914213180541992,
          -44.83949279785156,
          35.32037353515625,
          -1.892074465751648,
          -1.892074465751648,
          6.640501022338867,
          -31.822101593017578,
          32.79151916503906,
          -48.53727722167969,
          1.8204127550125122,
          26.564876556396484,
          10.03021240234375,
          41.34635925292969,
          12.372197151184082,
          7.679832458496094,
          22.321670532226562,
          33.90472412109375,
          15.31503963470459,
          -11.73836612701416,
          23.914657592773438,
          -22.749296188354492,
          45.208805084228516,
          2.1204140186309814,
          -11.345466613769531,
          -22.21513557434082,
          -2.1939101219177246,
          -19.812124252319336,
          -2.8669426441192627,
          51.290283203125,
          35.127235412597656,
          -22.834062576293945,
          7.489799976348877,
          2.1006224155426025,
          -2.1576101779937744,
          -0.7609786987304688,
          28.457059860229492,
          2.798335075378418,
          11.666036605834961,
          -3.1541476249694824,
          24.51446533203125,
          -11.790799140930176,
          25.256305694580078,
          9.231244087219238,
          -19.632036209106445,
          31.176916122436523,
          28.31049919128418,
          18.937726974487305,
          4.574160575866699,
          -3.8836371898651123,
          14.866691589355469,
          7.264002323150635,
          -4.237177848815918,
          -2.2488021850585938,
          40.04480743408203,
          19.970569610595703,
          36.26470947265625,
          11.668403625488281,
          -5.23392391204834,
          -6.5806756019592285,
          23.398216247558594,
          -0.37284815311431885,
          -29.627639770507812,
          -21.649761199951172,
          4.614556789398193,
          17.235279083251953,
          39.538055419921875,
          -1.1339373588562012,
          39.813777923583984,
          -36.16474533081055,
          34.76571273803711,
          30.165027618408203,
          -3.5963387489318848,
          -16.806434631347656,
          -23.787748336791992,
          31.352224349975586,
          -4.5117106437683105,
          9.92464828491211,
          -15.91489028930664,
          37.74827194213867,
          28.236310958862305,
          17.820436477661133,
          9.912454605102539,
          -21.904565811157227,
          0.5053502917289734,
          2.658486843109131,
          -23.857912063598633,
          -34.849464416503906,
          5.393739700317383,
          0.8848815560340881,
          28.320022583007812,
          49.57948303222656,
          17.169389724731445,
          -45.80897903442383,
          16.39390754699707,
          33.503761291503906,
          33.503761291503906,
          1.3168776035308838,
          -44.85337829589844,
          4.200869560241699,
          -13.45295524597168,
          -41.55205154418945,
          32.12424850463867,
          32.2100944519043,
          3.3150551319122314,
          6.524867057800293,
          24.258668899536133,
          6.681798458099365,
          -36.19917297363281,
          -28.61944580078125,
          43.78887176513672,
          -15.33513069152832,
          -29.092077255249023,
          -18.922687530517578,
          -29.227781295776367,
          -33.123958587646484,
          8.799028396606445,
          14.025494575500488,
          -9.243766784667969,
          -22.751569747924805,
          25.73671531677246,
          -33.13429260253906,
          -24.09945297241211,
          -11.896538734436035,
          17.822988510131836,
          -11.48762035369873,
          -32.535972595214844,
          -12.189932823181152,
          9.728497505187988,
          -19.967208862304688,
          -31.9243221282959,
          40.379844665527344,
          -43.87992477416992,
          -23.520475387573242,
          7.977176666259766,
          -26.635730743408203,
          -54.71479797363281,
          12.418992042541504,
          12.48276138305664,
          2.355483055114746,
          31.153902053833008,
          6.861574172973633,
          -13.642924308776855,
          -19.463014602661133,
          -20.58346939086914,
          -20.753395080566406,
          53.36416244506836,
          23.417682647705078,
          18.375972747802734,
          13.302871704101562,
          45.91423416137695,
          5.954665660858154,
          46.612422943115234,
          33.96215057373047,
          -43.263031005859375,
          -14.37742805480957,
          -19.520633697509766,
          -30.980798721313477,
          -34.435550689697266,
          4.229842662811279,
          -35.93076705932617,
          4.955968379974365,
          -43.90282440185547,
          -46.34157943725586,
          -36.34437561035156,
          9.659266471862793,
          -22.298524856567383,
          40.0887336730957,
          48.349464416503906,
          37.27949905395508,
          -1.4253432750701904,
          40.0884895324707,
          11.618510246276855,
          -14.430038452148438,
          39.42532730102539,
          -0.8767405152320862,
          14.13477897644043,
          -4.77288293838501,
          -41.84701156616211,
          -38.25474166870117,
          14.501502990722656,
          4.6294965744018555,
          13.30540943145752,
          -5.589639663696289,
          6.9350738525390625,
          6.545319557189941,
          -18.472213745117188,
          7.077594757080078,
          46.67859649658203,
          -47.65504837036133,
          -13.049354553222656,
          -6.244728088378906,
          -46.71413040161133,
          -13.344539642333984,
          -23.834287643432617,
          -27.772520065307617,
          18.71129608154297,
          8.850245475769043,
          13.240159034729004,
          5.58901309967041,
          -0.12171021103858948,
          17.192358016967773,
          -15.350616455078125,
          31.873130798339844,
          10.155020713806152,
          -24.8944149017334,
          -35.16826629638672,
          -22.988567352294922,
          -27.55949592590332,
          -53.978721618652344,
          -30.420757293701172,
          42.44376754760742,
          -3.492520570755005,
          -40.469764709472656,
          8.046937942504883,
          -42.203407287597656,
          -40.46983337402344,
          -23.43810272216797,
          4.198611259460449,
          -30.399703979492188,
          -24.38074493408203,
          -38.87479782104492,
          -19.545137405395508,
          40.44734191894531,
          -52.33625793457031,
          -14.73587417602539,
          -36.47621154785156,
          21.279129028320312,
          22.99124526977539,
          -37.89986038208008,
          6.623391151428223,
          -29.908235549926758,
          -30.094970703125,
          -44.17704772949219,
          -24.942991256713867,
          -23.091201782226562,
          16.575191497802734,
          20.191286087036133,
          41.330108642578125,
          -13.768348693847656,
          -21.078157424926758,
          -12.874185562133789,
          -15.923524856567383,
          49.16033935546875,
          41.72774124145508,
          -26.870166778564453,
          40.662025451660156,
          47.356876373291016,
          2.6664772033691406,
          27.677350997924805,
          51.12678527832031,
          43.246517181396484,
          -18.50904655456543,
          29.271770477294922,
          4.762191295623779,
          -2.5722479820251465,
          -37.942543029785156,
          29.125905990600586,
          44.513275146484375,
          19.059267044067383,
          28.807771682739258,
          46.28960418701172,
          -18.246767044067383,
          -45.57004165649414,
          -5.935103893280029,
          20.933700561523438,
          -46.00035858154297,
          28.42939567565918,
          1.2299500703811646,
          2.174717903137207,
          13.532087326049805,
          35.75431823730469,
          44.705169677734375,
          -23.872703552246094,
          -13.940597534179688,
          -21.147066116333008,
          -6.084380149841309,
          10.705918312072754,
          -16.63340950012207,
          24.644039154052734,
          10.405878067016602,
          27.249996185302734,
          23.16615867614746,
          10.49310302734375,
          -25.626203536987305,
          -49.380393981933594,
          39.684574127197266,
          6.611862659454346,
          -4.7106733322143555,
          -26.603801727294922,
          -44.89213562011719,
          14.85943603515625,
          -18.488048553466797,
          -47.762046813964844,
          7.101508140563965,
          21.962879180908203,
          4.450341701507568,
          -33.7619743347168,
          -20.005855560302734,
          23.59530258178711,
          -41.720516204833984,
          -33.896873474121094,
          9.96532917022705,
          -16.635385513305664,
          -49.808109283447266,
          -24.12041664123535,
          25.233362197875977,
          34.2415885925293,
          25.43284034729004,
          -11.699359893798828,
          37.79990005493164,
          15.740318298339844,
          -13.064151763916016,
          -8.834495544433594,
          -38.83677291870117,
          -7.525031089782715,
          31.458179473876953,
          0.229715958237648,
          -6.10435676574707,
          30.316946029663086,
          4.439007759094238,
          -17.750974655151367,
          -29.564332962036133,
          -48.46037673950195,
          -42.7062873840332,
          -32.800785064697266,
          -6.648639678955078,
          26.835386276245117,
          36.61125564575195,
          24.533897399902344,
          48.238285064697266,
          50.350128173828125,
          40.28192901611328,
          24.43023681640625,
          47.635929107666016,
          26.28571891784668,
          -30.29316520690918,
          9.245311737060547,
          24.533679962158203,
          -50.60634994506836,
          20.694856643676758,
          9.401997566223145,
          -18.228229522705078,
          43.85358428955078,
          15.863183975219727,
          -42.625770568847656,
          -31.656129837036133,
          -3.002829074859619,
          -26.098188400268555,
          -25.68016815185547,
          13.061554908752441,
          -32.78155517578125,
          0.9105465412139893,
          0.7378031015396118,
          5.627712249755859,
          11.445357322692871,
          -7.667202949523926,
          -17.95577049255371,
          -45.98691177368164,
          -4.294832706451416,
          -28.248188018798828,
          -49.60711669921875,
          -19.09705352783203,
          -20.64359474182129,
          -26.827289581298828,
          8.031742095947266,
          -40.955726623535156,
          -36.04863357543945,
          -8.097594261169434,
          -16.852237701416016,
          -18.284934997558594,
          39.2404670715332,
          -10.21786880493164,
          17.34992218017578,
          24.785146713256836,
          -17.68366813659668,
          -9.246940612792969,
          -25.761625289916992,
          -17.871604919433594,
          44.15101623535156,
          -11.885079383850098,
          -13.001919746398926,
          -15.96224594116211,
          -26.771602630615234,
          -26.748031616210938,
          -16.105377197265625,
          54.38734436035156,
          -27.138826370239258,
          -15.51667594909668,
          -13.241401672363281,
          16.381893157958984,
          50.0914421081543,
          -32.59586715698242,
          -25.60477066040039,
          -28.08682632446289,
          -39.54203414916992,
          -27.21417808532715,
          -36.95235061645508,
          4.027130603790283,
          46.31436538696289,
          -3.678203821182251,
          4.192046165466309,
          6.085302829742432,
          9.4298734664917,
          -5.400237560272217,
          -25.192148208618164,
          -26.439132690429688,
          2.915907621383667,
          -11.892901420593262,
          -23.77495002746582,
          -47.49160385131836,
          -27.482215881347656,
          -2.3951265811920166,
          -2.5944058895111084,
          9.494894981384277,
          -21.824237823486328,
          4.7621073722839355,
          -3.5961990356445312,
          -0.8185148239135742,
          10.925414085388184,
          7.9048848152160645,
          -16.396366119384766,
          50.71023178100586,
          8.188307762145996,
          -14.902528762817383,
          -11.532654762268066,
          -18.813095092773438,
          21.76936912536621,
          6.247552871704102,
          -48.97136306762695,
          -9.879433631896973,
          -24.210153579711914,
          7.335519790649414,
          7.349991321563721,
          -2.9609882831573486,
          -7.66176176071167,
          -36.528480529785156,
          -16.466543197631836,
          6.4344563484191895,
          -11.137937545776367,
          -0.9178513288497925,
          35.32242202758789,
          13.941986083984375,
          21.939361572265625,
          -36.49436950683594,
          -35.202171325683594,
          -35.17316818237305,
          -30.568496704101562,
          -43.80454635620117,
          -22.83384895324707,
          -56.85024642944336,
          24.210466384887695,
          35.83480453491211,
          36.64022445678711,
          -21.87623405456543,
          -5.442873477935791,
          -51.50389099121094,
          -16.68803596496582,
          -17.76226043701172,
          -15.053658485412598,
          21.770692825317383,
          -45.52262878417969,
          -32.500484466552734,
          37.959022521972656,
          43.076045989990234,
          27.384859085083008,
          21.303775787353516,
          11.674872398376465,
          -51.208740234375,
          -5.934238433837891,
          -47.64015579223633,
          -31.556856155395508,
          -4.135317325592041,
          -21.06443977355957,
          -49.68879699707031,
          -46.23408508300781,
          -33.91902160644531,
          4.274240493774414,
          40.654701232910156,
          -46.690521240234375,
          -29.2206974029541,
          -9.269450187683105,
          -24.959095001220703,
          -39.81386947631836,
          26.55474853515625,
          -18.337675094604492,
          11.778707504272461,
          36.020469665527344,
          17.223712921142578,
          -19.019311904907227,
          -25.801416397094727,
          -28.355613708496094,
          -46.14484405517578,
          -48.95210266113281,
          -16.404726028442383,
          -46.77254104614258,
          -26.244979858398438,
          -33.7348747253418,
          9.321310043334961,
          -56.13767623901367,
          -14.7489013671875,
          11.553661346435547,
          44.79127502441406,
          -17.047550201416016,
          -19.495887756347656,
          -19.61573028564453,
          5.819117546081543,
          9.461359024047852,
          8.120126724243164,
          -52.017642974853516,
          24.511018753051758,
          -35.726036071777344,
          10.893918991088867,
          -28.744844436645508,
          14.882428169250488,
          -19.08551597595215,
          21.258052825927734,
          1.6110804080963135,
          -8.835906982421875,
          -2.744337558746338,
          -13.53686809539795,
          -11.346166610717773,
          -8.223909378051758,
          -13.576972007751465,
          -21.333877563476562,
          -26.827289581298828,
          -22.70928955078125,
          23.7821044921875,
          -13.98036003112793,
          -13.180428504943848,
          -18.908586502075195,
          4.287818908691406,
          19.315052032470703,
          -4.056509971618652,
          -37.01860427856445,
          6.8605055809021,
          5.6081156730651855,
          11.191740989685059,
          -4.746510982513428,
          50.42366027832031,
          1.1077206134796143,
          39.684574127197266,
          -18.815717697143555,
          30.590843200683594,
          30.113393783569336,
          -12.105361938476562,
          -28.80693817138672,
          1.750354290008545,
          4.94191837310791,
          20.653560638427734,
          22.65757942199707,
          11.137052536010742,
          27.14191436767578,
          3.4508612155914307,
          -11.149751663208008,
          25.769018173217773,
          53.705562591552734,
          49.69439697265625,
          -15.422211647033691,
          -49.88249969482422,
          27.682592391967773,
          23.929357528686523,
          28.657089233398438,
          -48.889610290527344,
          -48.88980484008789,
          50.10830307006836,
          50.91806411743164,
          16.902446746826172,
          -37.703853607177734,
          9.825050354003906,
          24.584388732910156,
          50.641319274902344,
          -10.643672943115234,
          -0.32573601603507996,
          -22.109739303588867,
          46.9389533996582,
          33.76945877075195,
          -30.97625732421875,
          -21.698551177978516,
          3.4622092247009277,
          -30.54231834411621,
          -2.1537106037139893,
          -32.19027328491211,
          -17.927112579345703,
          -24.227224349975586,
          -1.9397674798965454,
          -10.15030574798584,
          -2.2559072971343994,
          -0.8367127776145935,
          11.886911392211914,
          18.642370223999023,
          -2.6206743717193604,
          0.15052638947963715,
          14.522100448608398,
          23.26362419128418,
          -34.59019088745117,
          -13.302522659301758,
          -29.83991813659668,
          -10.778704643249512,
          36.803306579589844,
          41.80553436279297,
          -0.02871573716402054,
          -21.270301818847656,
          15.774231910705566,
          -26.56663703918457,
          6.48610782623291,
          29.489959716796875,
          -21.677719116210938,
          38.00102233886719,
          4.538981914520264,
          -56.85024642944336,
          -19.210582733154297,
          16.62784194946289,
          -37.49552536010742,
          -11.879888534545898,
          -19.121553421020508,
          -24.281057357788086,
          -53.55623245239258,
          -54.53486633300781,
          -28.662309646606445,
          -34.78506088256836,
          -4.971429347991943,
          -26.49471092224121,
          22.81995391845703,
          0.5327290296554565,
          48.899681091308594,
          1.556093454360962,
          -5.753592014312744,
          18.310314178466797,
          0.8293484449386597,
          23.174604415893555,
          20.65057373046875,
          -35.4354133605957,
          39.10038375854492,
          47.97425079345703,
          31.68810272216797,
          14.180012702941895,
          -25.07990837097168,
          10.198273658752441,
          -23.006196975708008,
          18.263111114501953,
          13.351232528686523,
          -0.6566616892814636,
          9.820920944213867,
          -15.834028244018555,
          26.549156188964844,
          -15.792807579040527,
          -2.7594070434570312,
          3.1744744777679443,
          -7.287741661071777,
          8.795193672180176,
          45.84065246582031,
          48.991943359375,
          -10.415650367736816,
          -22.35504150390625,
          -29.32730484008789,
          11.091031074523926,
          7.098034858703613,
          -36.63117980957031,
          -11.20873737335205,
          -33.993812561035156,
          9.276115417480469,
          17.77055549621582,
          -3.916283130645752,
          22.102108001708984,
          -50.30973815917969,
          -45.64829635620117,
          -42.69715118408203,
          -28.537561416625977,
          5.686790466308594,
          -23.336654663085938,
          26.48676300048828,
          0.8493539094924927,
          -23.573450088500977,
          -5.400237560272217,
          -32.14564514160156,
          5.933225631713867,
          -23.643272399902344,
          4.662079811096191,
          13.134180068969727,
          17.27898406982422,
          0.023572459816932678,
          -31.578401565551758,
          -45.97500228881836,
          -28.40085220336914,
          12.519125938415527,
          1.6575967073440552,
          -24.927753448486328,
          -0.3984539806842804,
          18.864788055419922,
          -6.542550563812256,
          -12.326194763183594,
          26.871135711669922,
          13.137874603271484,
          9.952436447143555,
          3.848154306411743,
          4.381664276123047,
          27.987878799438477,
          9.166488647460938,
          25.93449592590332,
          48.41225051879883,
          25.702917098999023,
          -43.378578186035156,
          30.45285987854004,
          -29.549131393432617,
          18.329910278320312,
          -22.904531478881836,
          -30.783790588378906,
          -27.220712661743164,
          13.351227760314941,
          -43.78262710571289,
          13.8751859664917,
          -25.61171531677246,
          9.87766170501709,
          6.590453624725342,
          1.5229144096374512,
          -39.58589553833008,
          -8.89794635772705,
          -14.639973640441895,
          7.982776641845703,
          -51.170127868652344,
          -27.024709701538086,
          -15.104634284973145,
          3.8086938858032227,
          -9.374929428100586,
          15.273674964904785,
          -38.37460708618164,
          25.71774673461914,
          31.957279205322266,
          39.83332443237305,
          -10.263565063476562,
          32.44169235229492,
          46.83295440673828,
          44.35683822631836,
          2.1033685207366943,
          -33.72245788574219,
          -0.016900651156902313,
          8.588048934936523,
          3.0685582160949707,
          11.268430709838867,
          -18.56781578063965,
          11.268430709838867,
          -44.19861602783203,
          -13.701056480407715,
          43.96778869628906,
          -20.13128662109375,
          -27.24452781677246,
          -0.33198773860931396,
          -0.7013256549835205,
          -25.34235954284668,
          2.619248628616333,
          6.978443145751953,
          27.586837768554688,
          38.32091522216797,
          14.617399215698242,
          33.90998840332031,
          -29.50102996826172,
          -27.03583335876465,
          32.658329010009766,
          24.962169647216797,
          -20.110979080200195,
          0.34946271777153015,
          2.4984071254730225,
          25.453859329223633,
          -26.224271774291992,
          -20.75929069519043,
          -20.684368133544922,
          -31.916366577148438,
          33.28801345825195,
          -25.819921493530273,
          -36.388519287109375,
          43.59670639038086,
          30.850332260131836,
          20.688013076782227,
          38.35575866699219,
          46.77299499511719,
          53.04764175415039,
          -15.621820449829102,
          13.141151428222656,
          19.362592697143555,
          9.448461532592773,
          32.592655181884766,
          5.102028846740723,
          -19.111616134643555,
          -16.84516716003418,
          -43.998268127441406,
          -45.2003288269043,
          1.7556483745574951,
          10.791783332824707,
          1.191399097442627,
          -30.14105796813965,
          -45.300140380859375,
          1.8430404663085938,
          -21.680370330810547,
          43.996665954589844,
          -23.922386169433594,
          -20.940235137939453,
          -26.893938064575195,
          -26.900007247924805,
          18.088438034057617,
          -24.54509162902832,
          6.076335906982422,
          -37.97835922241211,
          -22.440322875976562,
          -20.534759521484375,
          -3.413926124572754,
          18.088438034057617,
          -38.45183563232422,
          -0.9163883924484253,
          -22.371381759643555,
          -45.24356460571289,
          34.16127395629883,
          32.663360595703125,
          -16.419130325317383,
          -24.813547134399414,
          2.0517690181732178,
          -43.21680450439453,
          -20.534759521484375,
          1.6477235555648804,
          -45.19987487792969,
          -26.426799774169922,
          -41.91569519042969,
          2.757439136505127,
          -0.11662330478429794,
          10.706988334655762,
          34.59193801879883,
          -21.67580795288086,
          -10.681885719299316,
          2.8110904693603516,
          30.330934524536133,
          24.403236389160156,
          3.2748634815216064,
          -5.181825160980225,
          48.588897705078125,
          37.23705291748047,
          1.75400972366333,
          -29.781139373779297,
          -14.442646980285645,
          41.85618591308594,
          13.378870964050293,
          1.754051685333252,
          0.9809321165084839,
          9.140510559082031,
          -14.613598823547363,
          -11.819494247436523,
          -11.999570846557617,
          32.071929931640625,
          29.228530883789062,
          4.439007759094238,
          -2.148752212524414,
          10.391225814819336,
          37.35186004638672,
          20.113197326660156,
          -0.7366678714752197,
          3.592714786529541,
          -1.4237616062164307,
          28.725801467895508,
          -24.82491683959961,
          -33.4257926940918,
          -34.31924819946289,
          -19.27181053161621,
          26.72022247314453,
          16.10382843017578,
          28.621919631958008,
          -51.119625091552734,
          30.48192596435547,
          29.466686248779297,
          -17.531110763549805,
          7.392627239227295,
          -23.347196578979492,
          -13.86531925201416,
          -0.379682332277298,
          -21.74722671508789,
          -23.173046112060547,
          8.331172943115234,
          4.86190128326416,
          -12.431926727294922,
          -43.83211135864258,
          -11.58548355102539,
          -39.76472091674805,
          -29.486839294433594,
          -29.026830673217773,
          -13.596351623535156,
          10.214238166809082,
          -18.34201431274414,
          -29.032142639160156,
          -37.72916030883789,
          -15.984901428222656,
          -3.055079698562622,
          -2.216724395751953,
          31.257116317749023,
          7.413025856018066,
          -2.381434202194214,
          -39.98752212524414,
          33.72404479980469,
          47.60011291503906,
          -32.23386764526367,
          -24.596548080444336,
          -5.706268787384033,
          35.625797271728516,
          20.382675170898438,
          -18.47815704345703,
          35.209739685058594,
          44.47127914428711,
          36.01631164550781,
          2.8029494285583496,
          9.334672927856445,
          25.714828491210938,
          23.9893856048584,
          14.790494918823242,
          15.38326358795166,
          21.716861724853516,
          17.8580379486084,
          15.942445755004883,
          17.384357452392578,
          -20.532257080078125,
          2.5233001708984375,
          -0.7653383612632751,
          5.202293395996094,
          -32.4623908996582,
          -9.802545547485352,
          -50.991851806640625,
          -32.1558952331543,
          -53.240291595458984,
          -6.078305244445801,
          -46.861507415771484,
          -33.09485626220703,
          -53.239810943603516,
          -48.90601348876953,
          -26.554706573486328,
          -42.37535095214844,
          6.325582027435303,
          -36.478675842285156,
          -18.075939178466797,
          -17.397722244262695,
          4.418572425842285,
          31.11223602294922,
          11.13004207611084,
          -32.076507568359375,
          -15.900557518005371,
          -25.086217880249023,
          8.458956718444824,
          9.126639366149902,
          14.323055267333984,
          13.779874801635742,
          19.970569610595703,
          -11.759024620056152,
          16.251848220825195,
          -2.835141181945801,
          -24.47007942199707,
          23.234851837158203,
          31.509296417236328,
          51.97663497924805,
          8.493803977966309,
          7.264002323150635,
          12.683098793029785,
          46.95551300048828,
          31.138456344604492,
          24.955171585083008,
          14.880393028259277,
          -0.9803926348686218,
          0.282682329416275,
          -52.34956741333008,
          -16.160737991333008,
          20.56177520751953,
          39.969852447509766,
          10.4033842086792,
          32.030879974365234,
          -32.07341003417969,
          -43.56897735595703,
          -1.0291985273361206,
          8.612183570861816,
          -30.289390563964844,
          -28.108253479003906,
          11.234275817871094,
          -12.867733001708984,
          -24.295352935791016,
          -25.793642044067383,
          10.028200149536133,
          14.800026893615723,
          -29.814945220947266,
          8.609090805053711,
          -29.8446102142334,
          -13.53463077545166,
          2.501272201538086,
          5.597476959228516,
          -26.490047454833984,
          -27.648578643798828,
          -48.244720458984375,
          -15.640254974365234,
          -27.484323501586914,
          -38.655006408691406,
          -19.16431999206543,
          -4.19740104675293,
          -36.14115905761719,
          42.994075775146484,
          46.81846618652344,
          51.132320404052734,
          -2.4007179737091064,
          -20.348005294799805,
          34.296958923339844,
          -5.128911018371582,
          -51.326377868652344,
          -39.60038757324219,
          -31.477510452270508,
          44.705169677734375,
          4.6815080642700195,
          -2.593357563018799,
          -45.484840393066406,
          -42.026588439941406,
          -34.535850524902344,
          2.012155532836914,
          28.725801467895508,
          35.75565719604492,
          22.07143783569336,
          -12.250670433044434,
          -17.532901763916016,
          3.915726900100708,
          -19.747455596923828,
          -20.22939682006836,
          -14.671236991882324,
          -25.977439880371094,
          -52.60733413696289,
          -41.09516143798828,
          5.4935197830200195,
          0.4973054528236389,
          29.40781593322754,
          0.9284760355949402,
          35.575584411621094,
          -22.955595016479492,
          -43.16117858886719,
          19.6965274810791,
          -27.347209930419922,
          -18.811798095703125,
          -13.007527351379395,
          -44.87636947631836,
          -29.497541427612305,
          40.73361587524414,
          -9.63170051574707,
          0.8981139659881592,
          52.47052764892578,
          13.98257064819336,
          15.690211296081543,
          22.07172393798828,
          22.07158088684082,
          -21.680370330810547,
          18.375978469848633,
          -21.18431854248047,
          -6.564852714538574,
          35.29172897338867,
          11.774589538574219,
          47.476722717285156,
          33.61991500854492,
          25.167470932006836,
          -15.0933256149292,
          37.08368682861328,
          35.333282470703125,
          34.57448196411133,
          39.08555221557617,
          26.354433059692383,
          37.30586624145508,
          25.10567283630371,
          34.831642150878906,
          26.711774826049805,
          35.79734802246094,
          25.3573055267334,
          34.93743133544922,
          52.312164306640625,
          28.78559684753418,
          19.89446449279785,
          51.988426208496094,
          -15.52530574798584,
          -53.33199691772461,
          -54.25923538208008,
          -48.444862365722656,
          -29.858585357666016,
          -46.64023208618164,
          -34.02362823486328,
          41.477195739746094,
          -41.64855194091797,
          42.33444595336914,
          19.197189331054688,
          -16.794944763183594,
          22.765687942504883,
          5.283900737762451,
          5.194278717041016,
          -22.33361053466797,
          31.23529052734375,
          36.576663970947266,
          22.902114868164062,
          -17.72317123413086,
          -3.0785975456237793,
          25.53172492980957,
          12.223512649536133,
          36.4562873840332,
          -45.09341049194336,
          -47.399330139160156,
          -46.993717193603516,
          24.367231369018555,
          -2.290457010269165,
          -51.94688415527344,
          17.117115020751953,
          -52.81214904785156,
          11.5713472366333,
          11.626424789428711,
          6.237920761108398,
          -17.055456161499023,
          19.970569610595703,
          18.06294059753418,
          51.8678092956543,
          36.03432846069336,
          44.386383056640625,
          28.0191707611084,
          -19.956449508666992,
          -44.31443786621094,
          8.948623657226562,
          -18.667211532592773,
          -32.68726348876953,
          9.619608879089355,
          28.948854446411133,
          43.87309646606445,
          -6.64748477935791,
          -6.485785007476807,
          -34.02332305908203,
          -37.08997344970703,
          -38.057804107666016,
          -7.750400066375732,
          7.832921504974365,
          -34.5335578918457,
          -2.225368022918701,
          9.965835571289062,
          24.572101593017578,
          21.51164436340332,
          49.618003845214844,
          40.0887336730957,
          0.20330967009067535,
          3.5667550563812256,
          -11.554503440856934,
          -18.535694122314453,
          28.170156478881836,
          2.4082047939300537,
          -8.735729217529297,
          10.005855560302734,
          -14.370112419128418,
          14.340896606445312,
          -21.413253784179688,
          39.21369552612305,
          7.0700578689575195
         ],
         "xaxis": "x",
         "y": [
          1.4737650156021118,
          16.720436096191406,
          20.970394134521484,
          -25.287870407104492,
          -10.079384803771973,
          13.63574504852295,
          -20.794267654418945,
          -28.38565444946289,
          43.41819381713867,
          -23.256731033325195,
          56.691776275634766,
          9.80540657043457,
          20.2135066986084,
          -5.0095133781433105,
          -31.830951690673828,
          -8.655311584472656,
          -34.66558837890625,
          -1.9589966535568237,
          47.01027297973633,
          -0.10856499522924423,
          -19.747650146484375,
          -26.056909561157227,
          -35.76487731933594,
          -29.90782356262207,
          44.60773468017578,
          -39.28561782836914,
          -29.004440307617188,
          0.6508597135543823,
          62.81488800048828,
          -38.521820068359375,
          -32.44005584716797,
          61.86328125,
          -49.23098373413086,
          18.249732971191406,
          -20.263916015625,
          54.282981872558594,
          -33.07352828979492,
          63.955631256103516,
          -6.794919490814209,
          -13.627321243286133,
          4.319772720336914,
          -21.83269691467285,
          -42.506683349609375,
          57.94132614135742,
          31.081256866455078,
          -13.036971092224121,
          62.68264389038086,
          5.099247932434082,
          -18.798810958862305,
          3.4364078044891357,
          -43.71662521362305,
          -1.1491883993148804,
          -6.897685527801514,
          -5.482173442840576,
          5.223021984100342,
          -28.59150505065918,
          2.673647880554199,
          9.408120155334473,
          -27.351476669311523,
          -19.4793758392334,
          8.169981002807617,
          -3.2553369998931885,
          52.75978088378906,
          8.407039642333984,
          28.291444778442383,
          -6.58583402633667,
          55.976959228515625,
          2.4636199474334717,
          21.654644012451172,
          9.781149864196777,
          50.4990119934082,
          8.319038391113281,
          15.267138481140137,
          -16.21296501159668,
          6.8708906173706055,
          4.869940280914307,
          1.1430394649505615,
          -21.489097595214844,
          50.914947509765625,
          -7.026174068450928,
          42.51524353027344,
          5.199800968170166,
          12.419944763183594,
          7.96754264831543,
          -8.257584571838379,
          30.003555297851562,
          47.4735221862793,
          17.930932998657227,
          -9.155071258544922,
          -37.674564361572266,
          -1.0743627548217773,
          -0.6061170101165771,
          9.392820358276367,
          -0.4525489807128906,
          -17.859058380126953,
          5.260648727416992,
          -1.1090748310089111,
          -1.5041736364364624,
          -34.113338470458984,
          -15.803566932678223,
          -30.167490005493164,
          -5.823217391967773,
          42.0394401550293,
          47.272071838378906,
          -2.052762746810913,
          15.886261940002441,
          27.559572219848633,
          41.228607177734375,
          -4.462932109832764,
          -0.9769991040229797,
          -21.659996032714844,
          -13.673422813415527,
          -10.89066219329834,
          -4.275176048278809,
          -42.01741027832031,
          -14.01586627960205,
          -24.236831665039062,
          9.089164733886719,
          -35.594032287597656,
          56.38954544067383,
          -16.969669342041016,
          8.976101875305176,
          -0.6450342535972595,
          7.7198405265808105,
          5.524322032928467,
          -17.683225631713867,
          -9.626083374023438,
          -7.108519077301025,
          -20.119478225708008,
          24.643861770629883,
          10.188945770263672,
          -23.115398406982422,
          -22.444019317626953,
          1.940527319908142,
          2.9463021755218506,
          13.082159042358398,
          12.554216384887695,
          28.292068481445312,
          -51.39756774902344,
          24.342777252197266,
          62.63970184326172,
          24.342777252197266,
          -8.99695110321045,
          -16.2409610748291,
          47.25391387939453,
          -15.463029861450195,
          2.296360492706299,
          -21.780162811279297,
          -11.075846672058105,
          -4.358161926269531,
          13.725736618041992,
          -45.94954299926758,
          -17.70213508605957,
          3.5407774448394775,
          7.13306188583374,
          -20.227462768554688,
          52.60366439819336,
          51.29265594482422,
          -12.345726013183594,
          -16.603193283081055,
          -7.080933570861816,
          -10.507326126098633,
          -7.051912307739258,
          -8.170415878295898,
          -0.528355598449707,
          20.272329330444336,
          11.689383506774902,
          -12.561309814453125,
          -15.724481582641602,
          8.367003440856934,
          -2.3567123413085938,
          -15.294465065002441,
          46.41822814941406,
          3.3964037895202637,
          -18.158042907714844,
          50.9598274230957,
          -20.261960983276367,
          -20.703702926635742,
          -29.8531494140625,
          -9.71392822265625,
          5.439093589782715,
          0.9693173170089722,
          43.77427291870117,
          -5.042377948760986,
          59.92317199707031,
          12.530332565307617,
          24.56783676147461,
          4.244112968444824,
          -4.829662799835205,
          21.196868896484375,
          -34.16054153442383,
          47.106971740722656,
          63.79612731933594,
          -31.28765869140625,
          -42.75788879394531,
          -41.99789810180664,
          11.037757873535156,
          5.060064315795898,
          -20.486072540283203,
          0.0070534804835915565,
          -35.875484466552734,
          60.63837814331055,
          -33.9214973449707,
          -3.591459274291992,
          -34.79241943359375,
          23.41374969482422,
          -19.841978073120117,
          24.338558197021484,
          -0.6146804094314575,
          -12.965662956237793,
          14.826090812683105,
          -23.55927085876465,
          14.617276191711426,
          -44.254756927490234,
          -45.12770080566406,
          -47.5715217590332,
          -37.97163009643555,
          -34.63180923461914,
          -29.96007537841797,
          -22.87843894958496,
          -32.42255783081055,
          10.938313484191895,
          -38.96147918701172,
          -26.28820037841797,
          -20.48554229736328,
          6.520642280578613,
          -0.8607552647590637,
          -7.137587547302246,
          4.736400127410889,
          -0.8022100329399109,
          -17.859155654907227,
          1.27560293674469,
          -0.8371818661689758,
          50.152435302734375,
          -12.188031196594238,
          0.27850788831710815,
          -11.660538673400879,
          -23.710233688354492,
          56.965641021728516,
          -4.976133823394775,
          -25.690467834472656,
          -23.59073829650879,
          -29.524700164794922,
          65.22855377197266,
          -8.645286560058594,
          -35.701995849609375,
          52.52579879760742,
          -29.81020736694336,
          8.479399681091309,
          -20.34197425842285,
          -34.03599166870117,
          4.114217281341553,
          -6.566443920135498,
          -20.97576904296875,
          -21.19980812072754,
          0.7128185629844666,
          54.21176528930664,
          54.21176528930664,
          7.343170642852783,
          9.713517189025879,
          58.73912048339844,
          58.60240173339844,
          26.349018096923828,
          14.123411178588867,
          39.969486236572266,
          -10.36000919342041,
          21.44312858581543,
          52.38547134399414,
          43.33772659301758,
          44.55733108520508,
          36.50050354003906,
          -32.3636474609375,
          -23.936294555664062,
          -26.480724334716797,
          -43.72956466674805,
          28.84746551513672,
          12.568976402282715,
          -24.445512771606445,
          -47.10700607299805,
          24.41234588623047,
          -26.719314575195312,
          15.715269088745117,
          57.691898345947266,
          14.022246360778809,
          23.760465621948242,
          54.94015121459961,
          -11.983304977416992,
          20.577394485473633,
          52.50252914428711,
          48.066261291503906,
          -18.68378448486328,
          23.827938079833984,
          12.506479263305664,
          23.755889892578125,
          48.066261291503906,
          13.09064769744873,
          56.10035705566406,
          -31.79926300048828,
          -29.651756286621094,
          -32.593353271484375,
          -22.111515045166016,
          52.82063674926758,
          19.40476417541504,
          4.646669387817383,
          -7.788777828216553,
          -26.905719757080078,
          -33.31093978881836,
          -23.061378479003906,
          58.725685119628906,
          -26.68305015563965,
          63.80183029174805,
          65.2850341796875,
          -27.63017463684082,
          47.84906768798828,
          -5.638613700866699,
          6.914117336273193,
          -30.826936721801758,
          -3.369161605834961,
          18.573368072509766,
          13.779629707336426,
          -2.4857559204101562,
          -34.47703552246094,
          15.835370063781738,
          -33.419857025146484,
          11.074597358703613,
          -11.975974082946777,
          -3.169461727142334,
          4.6963114738464355,
          14.022246360778809,
          41.79344177246094,
          -7.328216075897217,
          -5.148708820343018,
          7.237597465515137,
          -29.392892837524414,
          -2.6049749851226807,
          7.762424468994141,
          8.221612930297852,
          -0.5150794386863708,
          22.307538986206055,
          -34.913883209228516,
          -36.27506637573242,
          -10.466751098632812,
          22.307294845581055,
          -8.873604774475098,
          -40.8889045715332,
          -30.13507843017578,
          -33.97783279418945,
          -21.436586380004883,
          42.99439239501953,
          52.84175491333008,
          22.307294845581055,
          1.405178189277649,
          -0.15920475125312805,
          -30.126346588134766,
          30.13525390625,
          -1.4904749393463135,
          -33.44402313232422,
          -8.554636001586914,
          42.00598907470703,
          13.588730812072754,
          -28.116926193237305,
          2.9374077320098877,
          31.291812896728516,
          3.881350040435791,
          -41.11572265625,
          3.054079532623291,
          13.546812057495117,
          -42.323978424072266,
          3.713494062423706,
          -24.735830307006836,
          29.37120819091797,
          13.962735176086426,
          -19.775856018066406,
          24.409032821655273,
          -3.196676015853882,
          14.11721420288086,
          -34.12388610839844,
          11.027807235717773,
          -8.819940567016602,
          5.358431339263916,
          8.185972213745117,
          0.897916316986084,
          -14.190732955932617,
          -19.1586856842041,
          9.663660049438477,
          4.2600860595703125,
          -12.747400283813477,
          -31.230234146118164,
          -28.97098159790039,
          -31.32762336730957,
          3.31017804145813,
          -4.790225982666016,
          31.3129825592041,
          1.444396734237671,
          18.99075698852539,
          -7.953731536865234,
          -22.855430603027344,
          -33.19318389892578,
          64.3498306274414,
          55.25434875488281,
          31.276968002319336,
          17.521936416625977,
          -11.354104042053223,
          -13.809200286865234,
          -10.293627738952637,
          11.428348541259766,
          -29.450706481933594,
          -28.66177749633789,
          54.28499221801758,
          -26.14438819885254,
          6.251906394958496,
          -35.791812896728516,
          1.3463528156280518,
          3.583199977874756,
          45.28684997558594,
          -49.536949157714844,
          -0.3946480453014374,
          -24.849645614624023,
          -6.649204254150391,
          -30.216028213500977,
          -34.730491638183594,
          1.8869695663452148,
          26.797542572021484,
          13.721360206604004,
          -14.172381401062012,
          -13.192115783691406,
          -12.618351936340332,
          -19.708160400390625,
          -4.586360931396484,
          52.46217727661133,
          3.482760429382324,
          -5.665981292724609,
          24.24984359741211,
          -21.797119140625,
          9.634947776794434,
          -18.24388885498047,
          -2.198823928833008,
          -20.891517639160156,
          53.461978912353516,
          -29.256977081298828,
          4.591627597808838,
          20.36339569091797,
          52.68711471557617,
          -12.499229431152344,
          14.48816204071045,
          6.7674384117126465,
          15.042943000793457,
          0.07775996625423431,
          5.972531795501709,
          6.77991247177124,
          54.0586051940918,
          -8.59505558013916,
          6.0573577880859375,
          -8.596344947814941,
          4.506300449371338,
          -15.334527969360352,
          -34.77138137817383,
          8.090934753417969,
          -6.649675369262695,
          -9.630294799804688,
          -7.344630241394043,
          -27.73626708984375,
          -15.216253280639648,
          9.698803901672363,
          -18.750797271728516,
          -52.31256103515625,
          -50.95908737182617,
          -23.72357177734375,
          -31.589250564575195,
          -23.687482833862305,
          -46.092308044433594,
          2.7039899826049805,
          -3.296677827835083,
          16.015535354614258,
          -1.1162192821502686,
          -2.77628231048584,
          2.8430747985839844,
          -10.929118156433105,
          23.777551651000977,
          53.36635971069336,
          -38.85013961791992,
          -16.341276168823242,
          -33.63128662109375,
          22.085350036621094,
          -9.168717384338379,
          3.7886600494384766,
          6.56214714050293,
          -6.581591606140137,
          6.34938383102417,
          -3.653158187866211,
          0.6736941933631897,
          0.8259371519088745,
          -30.973331451416016,
          -4.911868095397949,
          -10.9802827835083,
          53.5012321472168,
          5.711105823516846,
          -43.23249816894531,
          59.922916412353516,
          -20.07466697692871,
          -8.874027252197266,
          -20.095584869384766,
          -22.14243507385254,
          -21.0765323638916,
          54.107757568359375,
          50.06556701660156,
          -3.4474756717681885,
          9.442038536071777,
          14.37162971496582,
          -22.72230339050293,
          -34.250022888183594,
          12.948476791381836,
          -27.593843460083008,
          52.836116790771484,
          -27.227888107299805,
          -17.23000144958496,
          -25.510513305664062,
          -25.473957061767578,
          -21.090208053588867,
          -2.4397385120391846,
          55.697078704833984,
          55.67656707763672,
          -48.26271057128906,
          17.950105667114258,
          11.968008041381836,
          -36.05170822143555,
          23.929349899291992,
          -44.00091552734375,
          -19.0032901763916,
          -22.891569137573242,
          21.59980583190918,
          13.589739799499512,
          -2.391890525817871,
          -6.386123180389404,
          10.442300796508789,
          14.065594673156738,
          49.92864227294922,
          -18.126333236694336,
          52.221920013427734,
          -4.294497966766357,
          19.869094848632812,
          6.494882106781006,
          -24.051481246948242,
          -4.6322197914123535,
          -6.386123180389404,
          0.4515112638473511,
          6.7178449630737305,
          -30.541057586669922,
          2.563631057739258,
          -33.48456954956055,
          10.051745414733887,
          -17.32330322265625,
          -5.193838596343994,
          -1.3022706508636475,
          53.0079345703125,
          7.8068437576293945,
          -6.744604587554932,
          -22.972394943237305,
          -11.942934036254883,
          11.611693382263184,
          15.399772644042969,
          -11.199831008911133,
          -8.210916519165039,
          10.159833908081055,
          -2.660217046737671,
          3.9133384227752686,
          6.884064197540283,
          -24.260889053344727,
          -9.79670524597168,
          4.595293998718262,
          0.4621378779411316,
          -36.47471618652344,
          -42.45148468017578,
          -16.219289779663086,
          14.981016159057617,
          -6.2836527824401855,
          47.26588439941406,
          -47.03688430786133,
          -9.335185050964355,
          -19.213623046875,
          -17.574047088623047,
          52.9768180847168,
          -26.37238121032715,
          -3.1740598678588867,
          -10.401531219482422,
          48.066429138183594,
          -32.24440383911133,
          -21.463050842285156,
          -31.445772171020508,
          21.68100357055664,
          -21.43282699584961,
          56.7033576965332,
          59.68132019042969,
          -33.82805633544922,
          -35.31718063354492,
          46.46220779418945,
          41.32966232299805,
          9.30551815032959,
          33.210899353027344,
          53.23738479614258,
          -10.840996742248535,
          -21.786237716674805,
          -9.667469024658203,
          15.860818862915039,
          -2.7334482669830322,
          -8.941065788269043,
          -16.10514259338379,
          -10.874138832092285,
          -8.29466438293457,
          -12.760424613952637,
          -26.299850463867188,
          45.0604248046875,
          -28.67287826538086,
          49.45060348510742,
          -9.418733596801758,
          1.3641782999038696,
          -37.185298919677734,
          4.823741912841797,
          49.261077880859375,
          12.534241676330566,
          -19.219148635864258,
          -31.153013229370117,
          -3.435716390609741,
          -21.691280364990234,
          -11.14527702331543,
          -49.90020751953125,
          44.12504577636719,
          -30.806533813476562,
          -42.13457107543945,
          -0.7310570478439331,
          -9.032649040222168,
          -12.688100814819336,
          -11.2427978515625,
          7.426846981048584,
          6.475874900817871,
          -2.2049307823181152,
          23.86536979675293,
          -2.236022710800171,
          7.8501152992248535,
          8.75909423828125,
          10.191125869750977,
          12.071076393127441,
          -2.7387189865112305,
          -11.508901596069336,
          6.8339667320251465,
          4.908300399780273,
          6.138134956359863,
          12.750309944152832,
          13.011068344116211,
          24.546539306640625,
          2.6845171451568604,
          -12.159317016601562,
          -12.129400253295898,
          -4.10050630569458,
          -2.3110694885253906,
          -30.182790756225586,
          -18.084125518798828,
          22.691740036010742,
          -40.8459587097168,
          -1.12741219997406,
          63.77462387084961,
          -38.217247009277344,
          -28.80240821838379,
          -44.86484909057617,
          1.0716578960418701,
          -18.443113327026367,
          -36.895896911621094,
          -19.190858840942383,
          -35.13178634643555,
          2.1615359783172607,
          -32.585044860839844,
          -0.4552116096019745,
          8.14426326751709,
          57.23666000366211,
          23.399641036987305,
          15.658063888549805,
          -10.641722679138184,
          -28.538421630859375,
          15.26728343963623,
          5.243999004364014,
          24.039634704589844,
          -12.70616626739502,
          -20.46415138244629,
          9.10683822631836,
          1.4002383947372437,
          -5.440490245819092,
          -8.216409683227539,
          9.92673110961914,
          -6.6143107414245605,
          -21.245506286621094,
          -0.982665479183197,
          51.90705871582031,
          -43.36249542236328,
          -36.46537399291992,
          58.00562286376953,
          14.914463996887207,
          -29.70223045349121,
          11.534061431884766,
          -13.666501998901367,
          -22.67378044128418,
          -36.286895751953125,
          -12.71440315246582,
          -23.31209373474121,
          -13.003368377685547,
          -28.891048431396484,
          -12.572053909301758,
          -30.54762840270996,
          -33.19300842285156,
          -29.13444709777832,
          2.733520030975342,
          5.19619607925415,
          -17.715017318725586,
          -14.376955032348633,
          -14.376666069030762,
          29.896595001220703,
          -24.98779296875,
          16.209136962890625,
          -29.24151039123535,
          -42.27720642089844,
          66.3855209350586,
          -35.21104431152344,
          -39.90971374511719,
          -40.903404235839844,
          -43.96352767944336,
          -40.44953918457031,
          -31.770883560180664,
          54.437767028808594,
          50.48565673828125,
          -40.098854064941406,
          -39.94676208496094,
          -16.553466796875,
          -24.812145233154297,
          -42.35359191894531,
          -41.00656509399414,
          60.91880798339844,
          -42.30046844482422,
          -39.79044723510742,
          28.390615463256836,
          -8.108979225158691,
          -31.11737632751465,
          -2.0263659954071045,
          -1.6371912956237793,
          -12.819650650024414,
          16.519529342651367,
          -18.509382247924805,
          59.23883056640625,
          -4.193685531616211,
          -15.276569366455078,
          -26.36431312561035,
          5.4420037269592285,
          -25.790040969848633,
          33.210899353027344,
          16.947996139526367,
          -4.603767395019531,
          18.48200035095215,
          27.517724990844727,
          62.34748840332031,
          -2.0636444091796875,
          20.62874412536621,
          58.4891357421875,
          8.170183181762695,
          24.477783203125,
          -5.530242919921875,
          2.381376028060913,
          24.477783203125,
          -40.14015197753906,
          -9.218324661254883,
          -26.749984741210938,
          -24.52613067626953,
          4.889256477355957,
          14.929312705993652,
          56.809574127197266,
          42.394412994384766,
          10.280158042907715,
          27.146535873413086,
          13.262310028076172,
          30.184436798095703,
          -20.224790573120117,
          13.273276329040527,
          20.015714645385742,
          7.773376941680908,
          15.617606163024902,
          44.36587142944336,
          23.714479446411133,
          23.020645141601562,
          18.3140926361084,
          -1.409621238708496,
          29.38209342956543,
          30.194915771484375,
          14.85410213470459,
          50.06605529785156,
          5.039836406707764,
          -22.91678810119629,
          57.961585998535156,
          -1.7683385610580444,
          -14.153886795043945,
          -47.49576187133789,
          -18.184553146362305,
          -33.13531494140625,
          -15.949609756469727,
          -21.564680099487305,
          60.0731315612793,
          6.03518533706665,
          21.760696411132812,
          65.61150360107422,
          -16.4326229095459,
          -44.17405319213867,
          -11.295339584350586,
          -34.88835525512695,
          28.475318908691406,
          -46.76154327392578,
          54.842716217041016,
          33.99502182006836,
          -12.430157661437988,
          -35.046653747558594,
          28.78760528564453,
          -31.121070861816406,
          51.64913558959961,
          -24.076379776000977,
          46.18975830078125,
          2.919285535812378,
          28.569074630737305,
          -33.50006866455078,
          -7.904341697692871,
          -35.71223068237305,
          -40.29323196411133,
          1.7242341041564941,
          -6.597638130187988,
          27.812530517578125,
          29.17218780517578,
          4.081934452056885,
          16.863842010498047,
          -36.98835754394531,
          -44.239952087402344,
          41.796485900878906,
          -33.97103500366211,
          38.10279083251953,
          12.040094375610352,
          -43.859432220458984,
          -32.78611755371094,
          38.076351165771484,
          -13.331100463867188,
          41.58714294433594,
          36.50050354003906,
          50.72647476196289,
          -21.49785041809082,
          39.5857048034668,
          -30.15808868408203,
          -24.95694923400879,
          -22.083436965942383,
          -7.564322471618652,
          -6.862213134765625,
          30.114910125732422,
          47.18238067626953,
          1.6667420864105225,
          57.582237243652344,
          -33.81217575073242,
          -10.751473426818848,
          -29.19915008544922,
          18.33367156982422,
          21.599594116210938,
          63.407386779785156,
          1.7246570587158203,
          49.57522201538086,
          -17.912446975708008,
          -21.874418258666992,
          -27.77291488647461,
          58.59933090209961,
          27.442466735839844,
          -24.901338577270508,
          -25.592031478881836,
          -33.423118591308594,
          57.62369918823242,
          -17.91285514831543,
          -34.81881332397461,
          -31.9771785736084,
          13.44875717163086,
          4.399553298950195,
          52.02497482299805,
          -41.70569610595703,
          -21.83576202392578,
          -33.24195098876953,
          22.439550399780273,
          12.401412010192871,
          13.437772750854492,
          -21.253814697265625,
          2.3306009769439697,
          17.16532325744629,
          25.28339195251465,
          10.248997688293457,
          11.569981575012207,
          -21.413801193237305,
          13.818711280822754,
          8.089287757873535,
          2.251850128173828,
          29.427183151245117,
          4.417025089263916,
          -37.71760177612305,
          24.20980453491211,
          67.10685729980469,
          5.983429431915283,
          -0.13737823069095612,
          29.467510223388672,
          8.9761381149292,
          -20.520069122314453,
          -17.171133041381836,
          -26.255943298339844,
          28.292068481445312,
          -44.99166488647461,
          16.65673828125,
          53.666316986083984,
          -19.101591110229492,
          6.140587329864502,
          31.3459415435791,
          20.826387405395508,
          -1.3305225372314453,
          -33.40802001953125,
          -31.01727867126465,
          -5.778414249420166,
          -10.443123817443848,
          22.58687973022461,
          22.127582550048828,
          53.65753173828125,
          55.12466049194336,
          61.85385513305664,
          -36.2290153503418,
          58.06969451904297,
          2.9436252117156982,
          -34.5606689453125,
          -20.464324951171875,
          -1.9625983238220215,
          -0.7139773368835449,
          0.7414072155952454,
          2.2916929721832275,
          -43.71999740600586,
          -3.4819748401641846,
          7.330896854400635,
          14.201827049255371,
          -28.754823684692383,
          -27.58608055114746,
          16.399307250976562,
          -13.960186004638672,
          9.473502159118652,
          -2.066387891769409,
          20.59705924987793,
          7.183182716369629,
          -5.776824951171875,
          -30.304283142089844,
          -0.8627530932426453,
          -15.656024932861328,
          57.52681350708008,
          -14.220213890075684,
          52.951393127441406,
          -10.523784637451172,
          -6.531880855560303,
          4.62536096572876,
          -35.30573654174805,
          -1.014204978942871,
          14.719222068786621,
          -23.485607147216797,
          -35.88558578491211,
          20.831727981567383,
          -17.696348190307617,
          0.9593526124954224,
          -46.6715087890625,
          13.188763618469238,
          56.6972541809082,
          -4.8627142906188965,
          14.605310440063477,
          55.71259689331055,
          -13.395500183105469,
          3.910125970840454,
          11.488560676574707,
          16.03219223022461,
          14.843184471130371,
          -19.25491714477539,
          15.10682201385498,
          -7.854254245758057,
          54.172454833984375,
          -8.181238174438477,
          44.00544357299805,
          -27.60693359375,
          22.30660629272461,
          33.43312454223633,
          43.015628814697266,
          -19.30025863647461,
          -21.071521759033203,
          -4.797554969787598,
          33.99502182006836,
          -16.685434341430664,
          1.723647952079773,
          2.475829601287842,
          50.663570404052734,
          17.2683048248291,
          10.71504020690918,
          -35.4224739074707,
          30.90045928955078,
          -6.351056098937988,
          41.63180160522461,
          -1.051283359527588,
          58.96147155761719,
          -21.969085693359375,
          14.887605667114258,
          51.92908477783203,
          -13.066583633422852,
          10.476468086242676,
          8.867536544799805,
          29.462358474731445,
          67.11463165283203,
          10.009625434875488,
          7.653493404388428,
          -21.50684928894043,
          53.88663101196289,
          29.718887329101562,
          2.56449031829834,
          -0.2775658369064331,
          2.3251874446868896,
          -0.38803863525390625,
          -25.951454162597656,
          -14.489164352416992,
          -7.141397953033447,
          54.485530853271484,
          59.51641082763672,
          -31.257308959960938,
          -8.022651672363281,
          4.188230514526367,
          13.651154518127441,
          4.030148506164551,
          48.46832275390625,
          -7.2120232582092285,
          -7.132697582244873,
          25.825252532958984,
          48.52476501464844,
          -4.781517028808594,
          -5.874940872192383,
          4.330345153808594,
          47.38707733154297,
          -51.156219482421875,
          -38.082550048828125,
          40.943355560302734,
          -10.598979949951172,
          -27.760089874267578,
          15.465354919433594,
          22.83091926574707,
          -30.182785034179688,
          8.331506729125977,
          44.19842529296875,
          10.672721862792969,
          -44.611488342285156,
          27.728885650634766,
          55.19981384277344,
          -48.442989349365234,
          -36.45833206176758,
          47.54597854614258,
          -21.79572868347168,
          -21.144948959350586,
          7.877340316772461,
          -9.31943416595459,
          19.804189682006836,
          -1.7968202829360962,
          -30.771358489990234,
          -7.0279669761657715,
          -13.851624488830566,
          -15.893369674682617,
          59.92273712158203,
          -23.29805564880371,
          45.72016143798828,
          -48.703025817871094,
          -41.82795715332031,
          -40.5341796875,
          -2.721519708633423,
          3.4660134315490723,
          -19.709423065185547,
          -40.95793914794922,
          -40.956851959228516,
          0.00408290745690465,
          7.802145004272461,
          -15.585536003112793,
          -0.3181658089160919,
          -33.74943923950195,
          17.322370529174805,
          -4.121700763702393,
          -4.950009346008301,
          -34.79768371582031,
          -8.641825675964355,
          10.049036026000977,
          -3.560487985610962,
          31.504552841186523,
          29.735687255859375,
          -28.44367218017578,
          10.16464614868164,
          -15.247404098510742,
          13.690386772155762,
          -12.416772842407227,
          31.504552841186523,
          44.81724166870117,
          -9.323404312133789,
          4.6634955406188965,
          -8.390996932983398,
          61.3732795715332,
          0.6622270345687866,
          -39.80500030517578,
          -22.529726028442383,
          -9.517670631408691,
          11.565764427185059,
          -13.96878719329834,
          -34.62883758544922,
          40.2745475769043,
          25.727428436279297,
          38.28973388671875,
          62.36790084838867,
          24.210664749145508,
          -33.165218353271484,
          32.01787567138672,
          56.55641174316406,
          69.70955657958984,
          9.037541389465332,
          -7.024151802062988,
          46.72901153564453,
          -22.262348175048828,
          69.69589233398438,
          3.8415815830230713,
          60.111961364746094,
          29.800024032592773,
          -9.411266326904297,
          -2.8545753955841064,
          46.12493896484375,
          -23.717254638671875,
          6.697335243225098,
          -26.956193923950195,
          -28.25250816345215,
          25.79787254333496,
          21.18380355834961,
          30.832239151000977,
          -12.14122486114502,
          -45.49479293823242,
          -12.861318588256836,
          -4.775976181030273,
          -16.11952018737793,
          51.70810317993164,
          -27.103713989257812,
          -35.905921936035156,
          13.264047622680664,
          8.75551986694336,
          11.778325080871582,
          16.0218563079834,
          7.571903228759766,
          3.2607390880584717,
          50.295413970947266,
          9.245500564575195,
          -8.965452194213867,
          -40.556278228759766,
          5.518388271331787,
          3.155686616897583,
          -7.408788204193115,
          -15.93349552154541,
          12.89409065246582,
          -6.096861839294434,
          56.26142120361328,
          54.092620849609375,
          10.346476554870605,
          54.88980484008789,
          -51.61883544921875,
          6.305218696594238,
          -18.66229248046875,
          49.06157684326172,
          26.399425506591797,
          -10.541461944580078,
          -2.541057825088501,
          -21.215335845947266,
          -14.637598037719727,
          -26.015356063842773,
          52.40602493286133,
          -1.3851354122161865,
          9.130702018737793,
          0.6911959648132324,
          -3.571411609649658,
          -12.148238182067871,
          5.529318332672119,
          1.1205261945724487,
          31.044103622436523,
          20.19109344482422,
          -26.206026077270508,
          57.562660217285156,
          -19.197324752807617,
          -26.413591384887695,
          39.969486236572266,
          -21.207353591918945,
          10.02237319946289,
          14.775057792663574,
          4.641295433044434,
          -10.996248245239258,
          12.303812980651855,
          18.94110679626465,
          14.750832557678223,
          -16.698083877563477,
          59.308082580566406,
          24.07045555114746,
          8.981765747070312,
          -22.005876541137695,
          -28.10507583618164,
          -19.267709732055664,
          7.749423980712891,
          12.503883361816406,
          -32.5208625793457,
          -30.422090530395508,
          15.138336181640625,
          -11.812808990478516,
          19.823556900024414,
          58.06737518310547,
          -26.170427322387695,
          46.87513732910156,
          51.791664123535156,
          55.53156280517578,
          10.97510814666748,
          53.9359016418457,
          -27.01059913635254,
          4.471743583679199,
          15.556254386901855,
          -31.276968002319336,
          -10.554409980773926,
          -32.09810256958008,
          -11.18968391418457,
          28.497461318969727,
          -3.627046585083008,
          46.86195373535156,
          46.34321594238281,
          -14.852021217346191,
          -23.738676071166992,
          31.05746841430664,
          43.93453598022461,
          16.775789260864258,
          -26.94949722290039,
          9.387344360351562,
          12.686996459960938,
          -41.08154296875,
          -41.05269241333008,
          58.37252426147461,
          54.00223922729492,
          -6.2836527824401855,
          -8.600207328796387,
          -17.40229606628418,
          46.2344856262207,
          -9.816346168518066,
          25.06155776977539,
          46.4297981262207,
          17.66238784790039,
          -17.878421783447266,
          21.587968826293945,
          0.2949340343475342,
          -27.877830505371094,
          -39.17753601074219,
          -18.836383819580078,
          -30.59419059753418,
          15.322635650634766,
          -35.134735107421875,
          56.30225372314453,
          1.5606763362884521,
          18.39664077758789,
          -0.3014490604400635,
          11.264613151550293,
          26.263492584228516,
          9.953099250793457,
          -6.6202802658081055,
          29.834980010986328,
          10.086055755615234,
          -38.55592346191406,
          6.395631790161133,
          -29.19725799560547,
          13.318656921386719,
          19.145217895507812,
          41.911651611328125,
          -31.050405502319336,
          -30.021512985229492,
          -31.265174865722656,
          -10.3599853515625,
          2.053955078125,
          -4.253040790557861,
          -24.003774642944336,
          10.478545188903809,
          -27.804636001586914,
          -31.756540298461914,
          -51.01811218261719,
          11.46369743347168,
          4.347808837890625,
          -35.23542404174805,
          -33.997108459472656,
          16.684772491455078,
          59.424442291259766,
          -6.603543758392334,
          -3.0295403003692627,
          -27.77223014831543,
          -27.26595115661621,
          -31.00429916381836,
          -29.356538772583008,
          -24.252880096435547,
          40.41481399536133,
          17.292613983154297,
          -3.091435432434082,
          -8.19009017944336,
          -1.2430659532546997,
          -0.4965260624885559,
          3.053056478500366,
          -1.0551213026046753,
          -18.266279220581055,
          6.224970817565918,
          -12.48671817779541,
          60.083431243896484,
          -21.63145637512207,
          -21.63145637512207,
          -34.8316650390625,
          -11.386724472045898,
          -13.203407287597656,
          11.530716896057129,
          7.753225803375244,
          62.687564849853516,
          -0.6600361466407776,
          -25.432056427001953,
          -43.47981643676758,
          -48.83953857421875,
          -11.43316650390625,
          56.7033576965332,
          7.109548568725586,
          6.358164310455322,
          12.546927452087402,
          13.780298233032227,
          35.41826629638672,
          -17.03205108642578,
          -34.02691650390625,
          -34.026893615722656,
          35.41826629638672,
          11.037367820739746,
          -16.751583099365234,
          -27.928056716918945,
          10.425646781921387,
          38.1519775390625,
          5.157553195953369,
          -11.844499588012695,
          -7.569024085998535,
          21.19938850402832,
          -12.142834663391113,
          8.813724517822266,
          10.69432258605957,
          -7.859896183013916,
          15.154499053955078,
          44.65595245361328,
          -39.15776443481445,
          -7.270852088928223,
          -7.314877510070801,
          57.34443664550781,
          -14.373686790466309,
          8.975154876708984,
          -22.80778694152832,
          -28.001373291015625,
          41.91044998168945,
          -22.697391510009766,
          -10.731264114379883,
          -13.973254203796387,
          47.88505554199219,
          14.182424545288086,
          5.974033355712891,
          -12.635615348815918,
          -8.595954895019531,
          18.176715850830078,
          -7.538089275360107,
          -33.4238395690918,
          -0.1377313733100891,
          -10.64516830444336,
          -21.968788146972656,
          -13.094927787780762,
          -15.72227668762207,
          -2.604923725128174,
          -15.37739372253418,
          -19.315765380859375,
          -9.0894775390625,
          17.681169509887695,
          -14.524319648742676,
          26.49118995666504,
          -6.053691864013672,
          -19.74764060974121,
          -3.308501958847046,
          -16.40543556213379,
          -8.018718719482422,
          -3.339958667755127,
          -19.33962059020996,
          33.210899353027344,
          44.034175872802734,
          -21.611066818237305,
          -11.321768760681152,
          14.047635078430176,
          39.04948043823242,
          -30.065223693847656,
          2.2707223892211914,
          2.575209856033325,
          -4.8482770919799805,
          -4.9182610511779785,
          -29.900888442993164,
          17.811914443969727,
          62.03567886352539,
          49.608150482177734,
          12.028756141662598,
          4.278141021728516,
          15.36214542388916,
          -2.592480182647705,
          33.108802795410156,
          12.447267532348633,
          13.252042770385742,
          -19.13077163696289,
          -47.387977600097656,
          -21.175098419189453,
          12.513339042663574,
          -15.196367263793945,
          -18.9789981842041,
          10.529626846313477,
          -34.30598831176758,
          -32.83296203613281,
          -21.55040168762207,
          1.3985159397125244,
          47.201416015625,
          -4.1172919273376465,
          13.972189903259277,
          -10.609110832214355,
          -13.672868728637695,
          56.7033576965332,
          -25.377363204956055,
          -8.535313606262207,
          32.11454772949219,
          13.511103630065918,
          -18.389833450317383,
          -26.747346878051758,
          20.056154251098633,
          -14.923084259033203,
          -20.694589614868164,
          -22.375696182250977,
          28.039936065673828,
          -7.277274131774902,
          -14.101232528686523,
          -0.8975735902786255,
          4.819062232971191,
          -13.66299819946289,
          27.341489791870117,
          16.021530151367188,
          13.398039817810059,
          -9.032649040222168,
          60.06536102294922,
          51.47339630126953,
          51.47339630126953,
          -12.873164176940918,
          9.154645919799805,
          42.607051849365234,
          39.10235595703125,
          51.47339630126953,
          -13.65267276763916,
          34.19582748413086,
          -14.181147575378418,
          -15.062024116516113,
          -20.439556121826172,
          47.906288146972656,
          3.0913262367248535,
          8.649762153625488,
          0.4492345452308655,
          -13.824021339416504,
          -13.360966682434082,
          4.877941608428955,
          28.750598907470703,
          -14.74122428894043,
          -1.5002498626708984,
          -23.6229248046875,
          59.59783935546875,
          43.39348602294922,
          11.634672164916992,
          -17.936662673950195,
          2.883028268814087,
          -14.384149551391602,
          14.718276977539062,
          14.845596313476562,
          9.085970878601074,
          -31.024120330810547,
          -0.7367750406265259,
          13.795992851257324,
          55.9669189453125,
          6.288483142852783,
          4.0241379737854,
          -27.556472778320312,
          -27.548458099365234,
          61.59204864501953,
          6.716202735900879,
          -9.623796463012695,
          -23.108247756958008,
          -28.0361328125,
          2.2294602394104004,
          0.21564623713493347,
          8.055381774902344,
          13.163740158081055,
          15.395040512084961,
          9.212736129760742,
          -22.453166961669922,
          7.860527038574219,
          13.845340728759766,
          6.539046287536621,
          16.57851791381836,
          -0.021670445799827576,
          53.385074615478516,
          9.212736129760742,
          -12.79869270324707,
          11.899666786193848,
          2.430309772491455,
          -3.046638011932373,
          18.193233489990234,
          14.398746490478516,
          16.20577621459961,
          56.19766616821289,
          21.75113296508789,
          -0.10325990617275238,
          16.17912483215332,
          16.194168090820312,
          0.25491371750831604,
          15.152233123779297,
          -0.03962938115000725,
          55.96702194213867,
          30.967988967895508,
          -1.976511836051941,
          42.36396789550781,
          2.123476982116699,
          6.828189373016357,
          20.496627807617188,
          -33.73590087890625,
          -6.448484897613525,
          -11.739557266235352,
          -31.13517189025879,
          -32.33021926879883,
          -7.345870018005371,
          -36.590518951416016,
          -9.040482521057129,
          51.44472885131836,
          -34.14931869506836,
          27.260269165039062,
          -5.717973232269287,
          -3.8499298095703125,
          -6.735788822174072,
          -5.27811861038208,
          -2.9451076984405518,
          -4.730538368225098,
          16.172876358032227,
          1.0735548734664917,
          -10.497091293334961,
          -6.713525772094727,
          -6.277093887329102,
          -12.951169967651367,
          -7.678558826446533,
          -34.39189529418945,
          7.693709373474121,
          -7.089704513549805,
          -3.19380784034729,
          -31.19923973083496,
          -8.30657958984375,
          -23.769363403320312,
          -35.57149887084961,
          -7.856367111206055,
          -30.07162094116211,
          14.870603561401367,
          31.699180603027344,
          65.2169189453125,
          7.898234844207764,
          55.90349197387695,
          -40.33065414428711,
          -4.9035964012146,
          -29.212047576904297,
          58.864749908447266,
          -33.43825912475586,
          29.735687255859375,
          -18.943876266479492,
          -27.494600296020508,
          56.194393157958984,
          56.68930435180664,
          -21.111188888549805,
          45.20561981201172,
          48.109683990478516,
          -39.562259674072266,
          -28.526708602905273,
          -24.103605270385742,
          -33.0778694152832,
          -6.598210334777832,
          3.4364078044891357,
          -17.80010986328125,
          -2.5943641662597656,
          -9.98078727722168,
          -27.163433074951172,
          -9.403510093688965,
          69.06185913085938,
          -28.23468017578125,
          68.99635314941406,
          -19.64287757873535,
          -22.862606048583984,
          17.39901351928711,
          1.380230188369751,
          -38.07222366333008,
          -25.235557556152344,
          -38.42824935913086,
          13.250678062438965,
          2.5982003211975098,
          21.183786392211914,
          -18.3592472076416,
          -23.42344093322754,
          -3.871946096420288,
          -1.3100814819335938,
          -14.488032341003418,
          -15.078603744506836,
          55.03139114379883,
          -2.527012825012207,
          25.008466720581055,
          13.222616195678711,
          48.54401397705078,
          -19.277070999145508,
          -22.12980842590332,
          -19.22330093383789,
          -19.087406158447266,
          28.194101333618164,
          12.555950164794922,
          -23.260517120361328,
          -12.0359468460083,
          -12.564092636108398,
          -3.9105780124664307,
          62.11793518066406,
          46.90764617919922,
          41.86788558959961,
          -9.676165580749512,
          -2.2247703075408936,
          -28.1289119720459,
          -34.24401092529297,
          -26.976634979248047,
          6.559000492095947,
          -12.899870872497559,
          -0.02249927818775177,
          -12.39358139038086,
          -39.46974182128906,
          -23.988737106323242,
          -38.729862213134766,
          -39.449424743652344,
          7.464447975158691,
          -13.064943313598633,
          -16.073251724243164,
          -31.009124755859375,
          43.20555877685547,
          -14.381425857543945,
          30.84771728515625,
          -15.815750122070312,
          0.3163580298423767,
          -10.071145057678223,
          -18.995330810546875,
          -36.038909912109375,
          -35.94780731201172,
          -16.10514259338379,
          -1.5451743602752686,
          -10.418270111083984,
          46.52751159667969,
          8.498443603515625,
          -20.001585006713867,
          -25.618364334106445,
          -11.836841583251953,
          5.8931989669799805,
          -4.027889251708984,
          -6.705082416534424,
          14.641984939575195,
          -19.695268630981445,
          10.375012397766113,
          13.635942459106445,
          -13.516770362854004,
          -4.059403896331787,
          1.3251153230667114,
          -22.824687957763672,
          -44.611488342285156,
          -22.58970832824707,
          42.981781005859375,
          1.0099226236343384,
          5.681414604187012,
          11.330509185791016,
          44.43104934692383,
          -30.55148696899414,
          -33.69670486450195,
          21.042680740356445,
          -3.0058374404907227,
          29.9696102142334,
          -13.974230766296387,
          -4.415332794189453,
          -37.52051544189453,
          5.025890827178955,
          -2.3483262062072754,
          -8.154021263122559,
          -36.60025405883789,
          3.8196089267730713,
          -13.30515193939209,
          -17.03205108642578,
          13.32400894165039,
          -11.610904693603516,
          -6.264744281768799,
          -31.445098876953125,
          -10.732976913452148,
          51.30060577392578,
          -0.8677916526794434,
          29.179067611694336,
          18.23295783996582,
          -34.33445358276367,
          -17.45903968811035,
          8.255156517028809,
          -1.2922548055648804,
          -30.50715446472168,
          -12.314069747924805,
          -41.22754669189453,
          -24.150869369506836,
          -3.6496496200561523,
          -23.249103546142578,
          -49.174949645996094,
          -29.23568344116211,
          -13.876087188720703,
          -21.360715866088867,
          -12.22162914276123,
          13.210677146911621,
          42.0125732421875,
          -10.008310317993164,
          1.8214831352233887,
          51.01378631591797,
          43.994564056396484,
          -2.5521492958068848,
          -0.20380675792694092,
          14.36031436920166,
          10.573119163513184,
          -3.124629497528076,
          -14.584366798400879,
          -0.42337238788604736,
          -6.419323444366455,
          -30.276844024658203,
          17.7149658203125,
          18.766889572143555,
          13.845404624938965,
          18.56507110595703,
          12.004789352416992,
          10.781060218811035,
          48.062744140625,
          17.066804885864258,
          20.3221492767334,
          -19.875770568847656,
          18.918752670288086,
          -20.815025329589844,
          -10.80887508392334,
          -32.89226150512695,
          53.02657699584961,
          47.01027297973633,
          -22.1942195892334,
          -37.03739547729492,
          -43.82606887817383,
          -44.840843200683594,
          -33.285621643066406,
          -8.917884826660156,
          20.081491470336914,
          28.77490234375,
          22.307031631469727,
          5.0522871017456055,
          -9.872199058532715,
          -31.8145809173584,
          -2.770651340484619,
          -31.040369033813477,
          -9.47266960144043,
          -15.97819709777832,
          8.725884437561035,
          2.6235907077789307,
          -32.74929428100586,
          12.37453842163086,
          -44.822784423828125,
          -35.27671432495117,
          -23.272247314453125,
          -41.436546325683594,
          54.59959030151367,
          -9.7521390914917,
          4.632084846496582,
          16.788515090942383,
          2.8208234310150146,
          15.886261940002441,
          17.39901351928711,
          47.79569625854492,
          7.298181056976318,
          -12.878016471862793,
          -23.05379295349121,
          -19.797317504882812,
          23.555011749267578,
          -20.834157943725586,
          37.03862380981445,
          -8.49299430847168,
          15.721403121948242,
          16.895099639892578,
          7.2576727867126465,
          6.641491413116455,
          21.102863311767578,
          16.568992614746094,
          -28.079593658447266,
          -29.548851013183594,
          -25.348514556884766,
          -22.265670776367188,
          26.825790405273438,
          17.14507293701172,
          52.24116134643555,
          -4.105001449584961,
          5.6285576820373535,
          4.689996242523193,
          -9.415220260620117,
          -33.87239456176758,
          -12.569497108459473,
          14.32848834991455,
          -14.76155948638916,
          18.121482849121094,
          3.1367897987365723,
          -18.670860290527344,
          9.369112968444824,
          4.36721658706665,
          -30.18922996520996,
          2.0019659996032715,
          6.3849663734436035,
          60.63258361816406,
          64.476806640625,
          -11.166691780090332,
          53.843196868896484,
          11.483033180236816,
          3.049995183944702,
          7.93864107131958,
          25.459918975830078,
          14.045917510986328,
          22.861230850219727,
          -8.627069473266602,
          -27.349885940551758,
          22.503374099731445,
          22.503374099731445,
          43.721717834472656,
          -18.304847717285156,
          0.08197495341300964,
          -6.3162312507629395,
          -18.750797271728516,
          -17.40229606628418,
          -21.93605613708496,
          -17.895429611206055,
          -17.971242904663086,
          -20.763492584228516,
          -12.751927375793457,
          -33.15659713745117,
          56.04169845581055,
          -23.302595138549805,
          46.72848129272461,
          -48.442989349365234,
          -3.6863837242126465,
          54.288429260253906,
          -48.83966064453125,
          -38.37347412109375,
          -11.28396224975586,
          -47.88019943237305,
          -19.993907928466797,
          15.474386215209961,
          -37.97163009643555,
          -45.198333740234375,
          -25.42535400390625,
          -43.02685546875,
          -34.3551025390625,
          -42.084266662597656,
          46.81177520751953,
          -25.009145736694336,
          -18.319137573242188,
          7.096619129180908,
          -29.870752334594727,
          -43.10127639770508,
          49.06999588012695,
          -25.37251091003418,
          -43.34200668334961,
          -31.03771209716797,
          48.33171463012695,
          -33.71198272705078,
          23.661964416503906,
          -16.46039581298828,
          -24.7722225189209,
          31.60013771057129,
          51.653961181640625,
          -46.656036376953125,
          17.292613983154297,
          -4.607148170471191,
          -23.582244873046875,
          -26.30206298828125,
          5.2652268409729,
          5.828655242919922,
          50.09529495239258,
          -14.018522262573242,
          -31.28365707397461,
          -10.235593795776367,
          -6.517455101013184,
          -29.160335540771484,
          26.770919799804688,
          -33.99531936645508,
          25.907793045043945,
          -34.52120590209961,
          25.549856185913086,
          44.958065032958984,
          42.13662338256836,
          -14.437846183776855,
          19.41555404663086,
          39.6184196472168,
          -12.965807914733887,
          64.39716339111328,
          -25.325469970703125,
          5.093632221221924,
          38.076351165771484,
          -8.914239883422852,
          8.5300931930542,
          4.510803699493408,
          16.183513641357422,
          -5.4558796882629395,
          -10.401500701904297,
          21.143030166625977,
          -27.934858322143555,
          13.686209678649902,
          5.061842918395996,
          -7.666627407073975,
          42.01255416870117,
          -1.698727011680603,
          48.410743713378906,
          47.329010009765625,
          47.329010009765625,
          6.125260829925537,
          2.3723018169403076,
          55.62687301635742,
          -27.27727508544922,
          21.760696411132812,
          6.81355094909668,
          7.4923014640808105,
          -8.147892951965332,
          58.30971145629883,
          -17.874359130859375,
          -16.549068450927734,
          -6.764430522918701,
          -11.009184837341309,
          2.885723114013672,
          -26.617366790771484,
          14.65268611907959,
          -8.511244773864746,
          15.109644889831543,
          -32.627201080322266,
          -34.541011810302734,
          -22.815874099731445,
          -29.53078842163086,
          -30.518495559692383,
          -32.48728942871094,
          -34.13518524169922,
          0.21305109560489655,
          -26.881227493286133,
          12.028264999389648,
          -26.484676361083984,
          21.497568130493164,
          -26.46616554260254,
          -8.545689582824707,
          32.34632110595703,
          -28.769977569580078,
          21.04463005065918,
          17.348777770996094,
          -14.68436336517334,
          62.54334259033203,
          -28.22083854675293,
          -7.480136394500732,
          48.82636642456055,
          14.808439254760742,
          50.1281623840332,
          42.951210021972656,
          -37.89988327026367,
          10.21408748626709,
          8.503557205200195,
          17.877365112304688,
          15.891854286193848,
          10.884441375732422,
          18.743022918701172,
          39.839481353759766,
          52.163734436035156,
          10.058568954467773,
          15.058345794677734,
          8.602904319763184,
          -24.88968276977539,
          8.501701354980469,
          -43.090389251708984,
          -43.472843170166016,
          8.902451515197754,
          -31.80475616455078,
          -5.5425639152526855,
          4.872798442840576,
          -9.628897666931152,
          18.41424560546875,
          -2.19834041595459,
          16.741769790649414,
          -22.581653594970703,
          25.755006790161133,
          31.12301254272461,
          9.05428409576416,
          -3.2711691856384277,
          48.066261291503906,
          23.206613540649414,
          53.44959259033203,
          -10.08702278137207,
          7.268285274505615,
          48.30068588256836,
          52.01727294921875,
          52.03605651855469,
          17.435609817504883,
          21.25404930114746,
          50.59583282470703,
          24.176801681518555,
          42.75269317626953,
          -38.17364501953125,
          -9.064352989196777,
          -20.393970489501953,
          -29.071508407592773,
          -37.873748779296875,
          12.284594535827637,
          -8.40474796295166,
          14.429983139038086,
          14.249330520629883,
          2.405696153640747,
          19.368154525756836,
          -47.134735107421875,
          10.45358657836914,
          -14.219874382019043,
          -8.314108848571777,
          -20.872875213623047,
          -30.549365997314453,
          -37.32147216796875,
          -0.7206895351409912,
          -43.519683837890625,
          39.667022705078125,
          -18.405132293701172,
          19.792638778686523,
          21.41060447692871,
          -47.53502655029297,
          -18.140472412109375,
          -23.32918357849121,
          14.851271629333496,
          -3.3392436504364014,
          -17.8172607421875,
          11.576703071594238,
          9.97785758972168,
          -13.391469955444336,
          11.576701164245605,
          -7.194991111755371,
          -16.322404861450195,
          -31.246389389038086,
          -18.44139862060547,
          1.8803515434265137,
          -21.88593101501465,
          3.563173294067383,
          -23.49308204650879,
          -0.17018775641918182,
          15.785531044006348,
          50.37022018432617,
          44.408599853515625,
          9.718663215637207,
          -32.080711364746094,
          -37.10822296142578,
          -35.010589599609375,
          -28.44367218017578,
          22.607444763183594,
          -1.3209600448608398,
          40.950199127197266,
          -30.63669204711914,
          -13.545162200927734,
          -7.320977210998535,
          16.62495994567871,
          1.8515808582305908,
          -14.028250694274902,
          -12.266446113586426,
          -16.43518829345703,
          33.089698791503906,
          -1.6281787157058716,
          -14.76911735534668,
          -9.778847694396973,
          -16.2900390625,
          -0.27109774947166443,
          5.563036918640137,
          32.23918914794922,
          0.5545487999916077,
          28.497461318969727,
          27.127521514892578,
          14.282004356384277,
          31.99164390563965,
          -14.170011520385742,
          48.291160583496094,
          -32.10844039916992,
          11.93968677520752,
          -3.368086338043213,
          -3.743705987930298,
          18.931156158447266,
          51.187992095947266,
          -16.068634033203125,
          -9.775264739990234,
          41.82490158081055,
          -31.614900588989258,
          -21.65052032470703,
          28.986936569213867,
          23.942405700683594,
          7.584361553192139,
          -31.628461837768555,
          24.56783676147461,
          -41.33922576904297,
          55.50153350830078,
          8.584234237670898,
          -26.49933433532715,
          54.865665435791016,
          -9.930112838745117,
          15.886281967163086,
          14.24211311340332,
          -28.97645378112793,
          13.580822944641113,
          11.152198791503906,
          -11.717879295349121,
          -31.210044860839844,
          -47.31804656982422,
          -8.771688461303711,
          -6.741130828857422,
          4.773079872131348,
          -22.950334548950195,
          -25.390817642211914,
          46.8436279296875,
          53.2788200378418,
          -29.08856964111328,
          -31.257465362548828,
          38.21574020385742,
          -1.8331432342529297,
          -33.245323181152344,
          -21.733625411987305,
          -37.33694839477539,
          -20.43256187438965,
          -42.41157531738281,
          -26.790313720703125,
          7.356496334075928,
          48.66501998901367,
          -1.5934174060821533,
          1.5055683851242065,
          -25.893991470336914,
          -43.085628509521484,
          -6.457705020904541,
          -8.134693145751953,
          -2.9161059856414795,
          46.772682189941406,
          -5.09177827835083,
          -3.8503119945526123,
          41.49217987060547,
          -42.50105667114258,
          -1.8819811344146729,
          -27.310571670532227,
          -19.37419891357422,
          -8.958296775817871,
          7.010286331176758,
          4.891557693481445,
          -18.917987823486328,
          26.87994384765625,
          58.02790832519531,
          -2.5889930725097656,
          -6.783670902252197,
          21.68433380126953,
          37.1224250793457,
          10.124223709106445,
          49.083106994628906,
          11.181625366210938,
          -28.913827896118164,
          58.02786636352539,
          -28.666616439819336,
          -32.56730651855469,
          55.654090881347656,
          -29.860200881958008,
          1.417262077331543,
          53.68667984008789,
          -13.689754486083984,
          -14.19482135772705,
          -10.93260383605957,
          -14.20698356628418,
          -11.539068222045898,
          56.22161102294922,
          6.716370105743408,
          9.435038566589355,
          -13.994686126708984,
          45.46281051635742,
          56.39482116699219,
          -16.420869827270508,
          -46.15443801879883,
          -1.1757769584655762,
          -13.888733863830566,
          -19.23906135559082,
          -22.19428253173828,
          -30.499666213989258,
          -11.598684310913086,
          -6.625415802001953,
          -19.024070739746094,
          -14.076672554016113,
          -12.68599796295166,
          7.988022804260254,
          -30.64548683166504,
          -29.214101791381836,
          -1.4372440576553345,
          -1.8017033338546753,
          -8.711387634277344,
          54.22314453125,
          -23.62266731262207,
          -21.744016647338867,
          21.425321578979492,
          -8.278105735778809,
          -12.561720848083496,
          -34.2874641418457,
          -34.45961380004883,
          28.854782104492188,
          9.869314193725586,
          14.946414947509766,
          29.327152252197266,
          9.43432903289795,
          12.968979835510254,
          8.702580451965332,
          -13.864981651306152,
          12.038017272949219,
          -1.9442459344863892,
          8.802967071533203,
          -14.615729331970215,
          16.6070613861084,
          -2.9450674057006836,
          22.474773406982422,
          15.485503196716309,
          8.992018699645996,
          -3.3272039890289307,
          -45.95180130004883,
          1.0079940557479858,
          -16.550338745117188,
          -31.107646942138672,
          49.02467727661133,
          -0.6016584038734436,
          31.38351821899414,
          57.250064849853516,
          15.169601440429688,
          19.645904541015625,
          4.230447769165039,
          13.708157539367676,
          46.99732208251953,
          27.712345123291016,
          9.253701210021973,
          21.040611267089844,
          44.511260986328125,
          29.461172103881836,
          39.24970626831055,
          65.20549011230469,
          15.434864044189453,
          6.850176811218262,
          -17.32330322265625,
          -13.860601425170898,
          26.417234420776367,
          7.758607387542725,
          32.07908630371094,
          -10.533238410949707,
          -29.053380966186523,
          -27.787517547607422,
          2.991245985031128,
          18.543657302856445,
          9.547163963317871,
          8.395115852355957,
          27.365690231323242,
          12.930254936218262,
          13.288365364074707,
          6.457927703857422,
          -42.31670379638672,
          -17.41140365600586,
          11.672770500183105,
          -30.35392951965332,
          56.12348937988281,
          52.88204574584961,
          13.739774703979492,
          14.540314674377441,
          13.289505004882812,
          13.843334197998047,
          16.032026290893555,
          -45.19847106933594,
          -14.11467170715332,
          -1.478846549987793,
          -6.838251113891602,
          8.540032386779785,
          26.075668334960938,
          -18.771909713745117,
          -29.39500617980957,
          -12.268508911132812,
          -15.518460273742676,
          -26.80486297607422,
          -25.377429962158203,
          -12.22475814819336,
          -27.442358016967773,
          -22.448158264160156,
          5.520395755767822,
          -32.794002532958984,
          -3.6937122344970703,
          -21.19306182861328,
          -24.26495933532715,
          -50.21440505981445,
          -26.714801788330078,
          -27.805017471313477,
          -12.395054817199707,
          -39.08586120605469,
          -22.767711639404297,
          -23.093280792236328,
          7.897021293640137,
          65.2850341796875,
          -17.601518630981445,
          1.2224903106689453,
          -33.212100982666016,
          -30.211931228637695,
          1.3380484580993652,
          26.851449966430664,
          -18.2041072845459,
          30.120267868041992,
          48.45347595214844,
          -31.37156867980957,
          -17.112117767333984,
          -11.165853500366211,
          -15.597726821899414,
          -37.693382263183594,
          -24.2858829498291,
          -24.18614959716797,
          -38.40703201293945,
          -23.037731170654297,
          -27.932395935058594,
          -0.46826040744781494,
          52.8015251159668,
          -12.087021827697754,
          -43.24996566772461,
          -7.315777778625488,
          -7.983453273773193,
          -31.579343795776367,
          34.20610809326172,
          -15.93796157836914,
          -28.312570571899414,
          51.59516143798828,
          -33.48000717163086,
          -30.206254959106445,
          44.71152877807617,
          14.024307250976562,
          54.26453399658203,
          -9.647241592407227,
          58.58130645751953,
          4.993343353271484,
          53.720645904541016,
          -38.55583190917969,
          -38.4798698425293,
          -30.216299057006836,
          -12.238006591796875,
          -8.600207328796387,
          0.5343478918075562,
          6.790077209472656,
          -16.095365524291992,
          -6.625415802001953,
          5.335651874542236,
          52.00076675415039,
          6.795316219329834,
          -13.97762393951416,
          -16.803163528442383,
          -45.03162384033203,
          42.203941345214844,
          -43.987213134765625,
          -5.833410739898682,
          -33.66743850708008,
          -34.478858947753906,
          -39.611785888671875,
          -42.544395446777344,
          1.4948887825012207,
          36.165855407714844,
          11.152198791503906,
          -37.12238311767578,
          -24.33814239501953,
          -11.898818969726562,
          -18.189699172973633,
          -37.4583740234375,
          -30.048147201538086,
          -4.730236530303955,
          -9.755878448486328,
          41.10831832885742,
          5.438370704650879,
          4.810721397399902,
          52.3726921081543,
          33.13229751586914,
          47.54530334472656,
          7.389737129211426,
          13.269417762756348,
          23.32112693786621,
          2.102501153945923,
          46.33456802368164,
          48.65348815917969,
          49.547828674316406,
          2.5638010501861572,
          2.564086437225342,
          -7.736566066741943,
          6.338075637817383,
          54.08925247192383,
          0.7374517321586609,
          -13.66070556640625,
          47.7662353515625,
          -0.9327150583267212,
          12.584680557250977,
          37.30598831176758,
          -47.5183219909668,
          -0.994979977607727,
          47.10771942138672,
          -31.961681365966797,
          6.4937286376953125,
          6.470569610595703,
          -21.058530807495117,
          -39.4565544128418,
          -37.437217712402344,
          -48.03701400756836,
          -49.08741760253906,
          -39.562599182128906,
          -35.86631393432617,
          -39.380516052246094,
          -38.09156036376953,
          -33.26628875732422,
          -16.115962982177734,
          -43.34445571899414,
          12.247671127319336,
          -28.126800537109375,
          52.95640182495117,
          -26.697250366210938,
          16.064924240112305,
          -28.082603454589844,
          -17.67306137084961,
          -26.430809020996094,
          5.846030235290527,
          -19.13900375366211,
          -22.24334716796875,
          51.5562858581543,
          -17.270389556884766,
          -18.816728591918945,
          6.056446552276611,
          -8.079413414001465,
          0.9263696074485779,
          -0.011303216218948364,
          -14.11467170715332,
          8.23033332824707,
          -12.791373252868652,
          10.293543815612793,
          -26.244693756103516,
          4.09787654876709,
          -18.505674362182617,
          -29.013446807861328,
          -22.922100067138672,
          13.902521133422852,
          -31.392417907714844,
          -12.549605369567871,
          -36.772403717041016,
          54.537193298339844,
          35.243534088134766,
          -1.0626194477081299,
          -32.68821334838867,
          7.929602146148682,
          -31.789926528930664,
          -34.894264221191406,
          49.405517578125,
          49.927791595458984,
          -17.556421279907227,
          -23.996814727783203,
          5.1787238121032715,
          1.6490954160690308,
          -35.64590072631836,
          10.953618049621582,
          18.256351470947266,
          -11.542765617370605,
          47.34088134765625,
          49.964271545410156,
          2.849799871444702,
          -12.807125091552734,
          15.494612693786621,
          22.67386817932129,
          -43.66413116455078,
          -12.6485013961792,
          -5.639270305633545,
          -4.137465000152588,
          -8.833222389221191,
          13.953865051269531,
          2.7257137298583984,
          -39.64750289916992,
          -27.028406143188477,
          -2.439751148223877,
          67.9809341430664,
          60.051414489746094,
          11.370346069335938,
          -40.33394241333008,
          10.867250442504883,
          -17.27658462524414,
          0.685102105140686,
          29.23029327392578,
          -10.761693000793457,
          -3.7678444385528564,
          5.2169060707092285,
          16.899463653564453,
          11.9813871383667,
          2.5366146564483643,
          11.05064868927002,
          22.514684677124023,
          35.6434211730957,
          -39.69171905517578,
          49.02467727661133,
          -16.87063980102539,
          0.03843577206134796,
          22.079164505004883,
          -2.8464252948760986,
          17.470640182495117,
          48.51896667480469,
          -30.579601287841797,
          -37.514713287353516,
          -0.8330138921737671,
          -17.76154899597168,
          -42.05292510986328,
          -30.28172492980957,
          -3.123464822769165,
          -34.51237487792969,
          -35.14979934692383,
          -40.11410140991211,
          -27.62155532836914,
          56.7033576965332,
          5.1558685302734375,
          -21.61837387084961,
          -29.873289108276367,
          63.21302795410156,
          -6.295683860778809,
          -33.651485443115234,
          22.47783660888672,
          10.611018180847168,
          22.721485137939453,
          -4.433407306671143,
          5.801601409912109,
          -21.857166290283203,
          -14.551029205322266,
          -46.79997634887695,
          -29.02054786682129,
          -43.393341064453125,
          -31.201292037963867,
          -16.724262237548828,
          61.71736526489258,
          -7.359766483306885,
          52.856353759765625,
          -4.2593092918396,
          46.10945510864258,
          -5.905697822570801,
          -0.403787761926651,
          -39.23308563232422,
          -9.601719856262207,
          -24.336946487426758,
          17.568204879760742,
          3.8921167850494385,
          -31.39881706237793,
          -33.8311767578125,
          57.218570709228516,
          0.7128185629844666,
          23.339799880981445,
          -13.213595390319824,
          10.989325523376465,
          10.6576509475708,
          38.861629486083984,
          -15.35306453704834,
          12.21961498260498,
          54.35354995727539,
          -29.07465362548828,
          -7.51978874206543,
          -22.971872329711914,
          49.14803695678711,
          43.296714782714844,
          -2.361382484436035,
          43.296714782714844,
          -13.431144714355469,
          -21.675745010375977,
          -6.573619365692139,
          -15.628308296203613,
          -6.308087348937988,
          29.019010543823242,
          11.065998077392578,
          22.055221557617188,
          39.04948043823242,
          65.1328353881836,
          -5.14987325668335,
          -20.010831832885742,
          47.60554122924805,
          -11.259785652160645,
          -23.467529296875,
          5.426987171173096,
          -12.157382011413574,
          50.11421585083008,
          -13.825366020202637,
          -14.433462142944336,
          -7.82488489151001,
          57.45180892944336,
          -13.941243171691895,
          29.39483642578125,
          29.384262084960938,
          13.762191772460938,
          1.133638620376587,
          -36.491302490234375,
          15.993541717529297,
          7.656802654266357,
          -7.883721351623535,
          -30.185121536254883,
          -0.3648277521133423,
          8.680990219116211,
          1.531882882118225,
          -34.25133514404297,
          42.40128707885742,
          39.40977096557617,
          -20.824031829833984,
          44.65555953979492,
          -33.720664978027344,
          6.753819942474365,
          12.251741409301758,
          4.69651985168457,
          7.819439888000488,
          -41.133480072021484,
          -22.818565368652344,
          -31.049320220947266,
          8.459803581237793,
          -1.9180028438568115,
          -13.346854209899902,
          24.711023330688477,
          24.561119079589844,
          -13.618770599365234,
          -39.814781188964844,
          18.171966552734375,
          33.43312454223633,
          46.36447525024414,
          -11.481537818908691,
          49.1981086730957,
          11.838677406311035,
          12.494996070861816,
          -4.997892379760742,
          1.400575876235962,
          46.36447525024414,
          -7.162303447723389,
          -15.15471363067627,
          -3.663581132888794,
          -0.7872780561447144,
          1.2325749397277832,
          38.71666717529297,
          19.133882522583008,
          21.786537170410156,
          48.454200744628906,
          -13.896012306213379,
          -4.997892379760742,
          51.10546112060547,
          7.819471836090088,
          26.358308792114258,
          -5.052611827850342,
          -11.446462631225586,
          -6.687325477600098,
          10.165879249572754,
          8.080734252929688,
          -8.338459968566895,
          -6.805566787719727,
          59.55500030517578,
          -26.772541046142578,
          -30.191661834716797,
          56.56586837768555,
          48.809288024902344,
          -1.7806389331817627,
          3.5110042095184326,
          48.17992401123047,
          -11.697254180908203,
          8.513218879699707,
          -0.9767304062843323,
          -6.181985855102539,
          46.8001823425293,
          52.3629035949707,
          9.526400566101074,
          -29.324617385864258,
          -27.107263565063477,
          14.936554908752441,
          -21.6101131439209,
          -31.500795364379883,
          -42.50105667114258,
          7.65513801574707,
          -8.796826362609863,
          12.205827713012695,
          -9.751805305480957,
          -5.108254432678223,
          -9.337274551391602,
          -12.668495178222656,
          -37.8951530456543,
          -14.436612129211426,
          -10.071145057678223,
          -29.449357986450195,
          -47.084197998046875,
          -31.2357120513916,
          -30.969619750976562,
          -35.57719039916992,
          -3.206789016723633,
          -29.163524627685547,
          -29.79697608947754,
          11.545717239379883,
          17.15838050842285,
          31.315725326538086,
          1.4916366338729858,
          49.54156494140625,
          26.643741607666016,
          24.702058792114258,
          16.978473663330078,
          6.81809663772583,
          -44.373714447021484,
          -14.410507202148438,
          -41.528350830078125,
          -2.9308841228485107,
          -29.485546112060547,
          21.21359634399414,
          -41.35096740722656,
          -21.854238510131836,
          -11.617097854614258,
          -34.654136657714844,
          9.385713577270508,
          0.9759006500244141,
          -26.87677001953125,
          -26.51730728149414,
          -24.085147857666016,
          -42.559993743896484,
          -26.630834579467773,
          4.278141021728516,
          -13.264450073242188,
          -7.1184468269348145,
          16.26317596435547,
          30.192691802978516,
          -50.302398681640625,
          -24.8317813873291,
          56.241615295410156,
          30.01546287536621,
          -26.94477653503418,
          13.756563186645508,
          -21.866605758666992,
          -11.982553482055664,
          52.50701904296875,
          -36.05447769165039,
          -34.032894134521484,
          -22.705163955688477,
          -0.37539759278297424,
          -31.033605575561523,
          -28.055042266845703,
          0.627716064453125,
          -38.02292251586914,
          -48.37532424926758,
          -34.75640106201172,
          40.619468688964844,
          28.42817497253418,
          9.215455055236816,
          -38.78200912475586,
          -22.792951583862305,
          -26.406984329223633,
          -8.29284381866455,
          4.610358238220215,
          -22.50039291381836,
          -36.62812805175781,
          -21.152917861938477,
          -18.520036697387695,
          -26.738950729370117,
          -24.60533905029297,
          51.28117752075195,
          17.7883243560791,
          9.720483779907227,
          -35.391143798828125,
          -44.9295654296875,
          48.42910385131836,
          15.636345863342285,
          -35.102394104003906,
          -40.30553436279297,
          -2.243851900100708,
          -20.660715103149414,
          -6.910584449768066,
          -1.9634736776351929,
          -34.410430908203125,
          -4.607148170471191,
          -37.543212890625,
          30.98772430419922,
          -43.59469223022461,
          -49.900211334228516,
          50.25941848754883,
          42.779972076416016,
          7.012185573577881,
          49.968170166015625,
          31.60013771057129,
          -12.068145751953125,
          -18.689067840576172,
          36.86285400390625,
          47.35738754272461,
          -16.842702865600586,
          10.91555118560791,
          41.687320709228516,
          -28.422983169555664,
          10.460705757141113,
          56.50932312011719,
          23.41912841796875,
          21.18380355834961,
          -10.627372741699219,
          -27.09817886352539,
          -11.244865417480469,
          -12.848119735717773,
          -1.6763702630996704,
          -16.196130752563477,
          -14.848332405090332,
          59.76499938964844,
          43.547142028808594,
          14.75270938873291,
          24.931121826171875,
          66.7192611694336,
          14.611690521240234,
          -14.91013240814209,
          53.63861083984375,
          -24.766733169555664,
          -11.415840148925781,
          48.560428619384766,
          65.21300506591797,
          -17.324254989624023,
          4.406864166259766,
          5.015652656555176,
          8.859949111938477,
          -38.1878547668457,
          18.09911346435547,
          32.24115753173828,
          -10.596840858459473,
          15.968140602111816,
          14.042651176452637,
          0.8133082985877991,
          8.303016662597656,
          28.627758026123047,
          -50.89053726196289,
          -11.460740089416504,
          -41.2957763671875,
          -21.162817001342773,
          -2.840223789215088,
          -31.54460906982422,
          23.942405700683594,
          44.46193313598633,
          42.26409912109375,
          -12.1170015335083,
          -23.738725662231445,
          20.933589935302734,
          -11.108348846435547,
          -37.8951530456543,
          -20.03249168395996,
          59.13768768310547,
          -43.52800750732422,
          -48.43158721923828,
          -11.274637222290039,
          21.056438446044922,
          7.476657390594482,
          -9.751363754272461,
          -18.3663272857666,
          -20.5555362701416,
          -13.051850318908691,
          56.85067367553711,
          -6.483146667480469,
          -33.81879425048828,
          15.927179336547852,
          -29.63202667236328,
          7.033830165863037,
          14.089241027832031,
          -32.93544006347656,
          -27.620981216430664,
          -39.002376556396484,
          -41.71942138671875,
          -13.630898475646973,
          -20.411840438842773,
          28.046894073486328,
          20.00357437133789,
          -24.125675201416016,
          -1.22983717918396,
          11.245590209960938,
          42.82918167114258,
          59.13831329345703,
          59.137672424316406,
          24.711023330688477,
          39.83958053588867,
          17.36436653137207,
          -44.172523498535156,
          -25.933368682861328,
          -11.732159614562988,
          -13.205891609191895,
          -31.057783126831055,
          -19.19097328186035,
          9.70057487487793,
          -21.122493743896484,
          -22.109041213989258,
          -29.54254722595215,
          -3.217994213104248,
          -31.779727935791016,
          -24.894779205322266,
          54.260379791259766,
          -22.329801559448242,
          -36.12501907348633,
          -21.523561477661133,
          -31.128808975219727,
          -30.917795181274414,
          0.8093200922012329,
          45.61116027832031,
          -13.821866989135742,
          2.2953598499298096,
          -10.210917472839355,
          -20.533937454223633,
          -16.193958282470703,
          -17.302566528320312,
          -29.348045349121094,
          5.56436824798584,
          11.574699401855469,
          -9.394624710083008,
          14.909174919128418,
          0.6867860555648804,
          -28.055315017700195,
          -34.47859191894531,
          -11.052970886230469,
          44.57780075073242,
          53.69431686401367,
          -50.45674133300781,
          -28.6651611328125,
          23.721271514892578,
          -33.41692352294922,
          -11.85804271697998,
          -36.82722091674805,
          22.220916748046875,
          64.39035034179688,
          26.35987091064453,
          0.5780645608901978,
          1.080715298652649,
          1.7054622173309326,
          44.639530181884766,
          13.11260986328125,
          -27.767425537109375,
          58.732208251953125,
          -27.54681968688965,
          -12.40025806427002,
          49.39846420288086,
          -5.188657283782959,
          -34.955657958984375,
          -4.607148170471191,
          -35.03677749633789,
          16.035032272338867,
          5.174226760864258,
          26.437705993652344,
          3.0378830432891846,
          -21.875274658203125,
          19.146053314208984,
          -7.214572429656982,
          -19.82425880432129,
          1.4214577674865723,
          -0.9156786799430847,
          1.1799837350845337,
          11.844077110290527,
          -2.0636274814605713,
          -2.231823444366455,
          7.701916217803955,
          -31.203197479248047,
          12.008539199829102,
          -16.519617080688477,
          -37.60090637207031,
          25.203161239624023,
          -33.1796989440918,
          -11.288616180419922,
          36.97349166870117,
          -30.74628448486328,
          16.649391174316406,
          31.12301254272461,
          -19.408559799194336,
          1.0275923013687134,
          -38.107242584228516,
          -14.655282020568848,
          56.4870491027832,
          2.8475043773651123,
          -6.700196743011475,
          60.552730560302734,
          5.564676284790039,
          59.8116569519043,
          -44.16123962402344,
          -28.748361587524414,
          -35.595787048339844
         ],
         "yaxis": "y"
        }
       ],
       "layout": {
        "coloraxis": {
         "colorbar": {
          "title": {
           "text": "cluster"
          }
         },
         "colorscale": [
          [
           0,
           "#0d0887"
          ],
          [
           0.1111111111111111,
           "#46039f"
          ],
          [
           0.2222222222222222,
           "#7201a8"
          ],
          [
           0.3333333333333333,
           "#9c179e"
          ],
          [
           0.4444444444444444,
           "#bd3786"
          ],
          [
           0.5555555555555556,
           "#d8576b"
          ],
          [
           0.6666666666666666,
           "#ed7953"
          ],
          [
           0.7777777777777778,
           "#fb9f3a"
          ],
          [
           0.8888888888888888,
           "#fdca26"
          ],
          [
           1,
           "#f0f921"
          ]
         ]
        },
        "legend": {
         "tracegroupgap": 0
        },
        "margin": {
         "t": 60
        },
        "template": {
         "data": {
          "bar": [
           {
            "error_x": {
             "color": "#2a3f5f"
            },
            "error_y": {
             "color": "#2a3f5f"
            },
            "marker": {
             "line": {
              "color": "#E5ECF6",
              "width": 0.5
             },
             "pattern": {
              "fillmode": "overlay",
              "size": 10,
              "solidity": 0.2
             }
            },
            "type": "bar"
           }
          ],
          "barpolar": [
           {
            "marker": {
             "line": {
              "color": "#E5ECF6",
              "width": 0.5
             },
             "pattern": {
              "fillmode": "overlay",
              "size": 10,
              "solidity": 0.2
             }
            },
            "type": "barpolar"
           }
          ],
          "carpet": [
           {
            "aaxis": {
             "endlinecolor": "#2a3f5f",
             "gridcolor": "white",
             "linecolor": "white",
             "minorgridcolor": "white",
             "startlinecolor": "#2a3f5f"
            },
            "baxis": {
             "endlinecolor": "#2a3f5f",
             "gridcolor": "white",
             "linecolor": "white",
             "minorgridcolor": "white",
             "startlinecolor": "#2a3f5f"
            },
            "type": "carpet"
           }
          ],
          "choropleth": [
           {
            "colorbar": {
             "outlinewidth": 0,
             "ticks": ""
            },
            "type": "choropleth"
           }
          ],
          "contour": [
           {
            "colorbar": {
             "outlinewidth": 0,
             "ticks": ""
            },
            "colorscale": [
             [
              0,
              "#0d0887"
             ],
             [
              0.1111111111111111,
              "#46039f"
             ],
             [
              0.2222222222222222,
              "#7201a8"
             ],
             [
              0.3333333333333333,
              "#9c179e"
             ],
             [
              0.4444444444444444,
              "#bd3786"
             ],
             [
              0.5555555555555556,
              "#d8576b"
             ],
             [
              0.6666666666666666,
              "#ed7953"
             ],
             [
              0.7777777777777778,
              "#fb9f3a"
             ],
             [
              0.8888888888888888,
              "#fdca26"
             ],
             [
              1,
              "#f0f921"
             ]
            ],
            "type": "contour"
           }
          ],
          "contourcarpet": [
           {
            "colorbar": {
             "outlinewidth": 0,
             "ticks": ""
            },
            "type": "contourcarpet"
           }
          ],
          "heatmap": [
           {
            "colorbar": {
             "outlinewidth": 0,
             "ticks": ""
            },
            "colorscale": [
             [
              0,
              "#0d0887"
             ],
             [
              0.1111111111111111,
              "#46039f"
             ],
             [
              0.2222222222222222,
              "#7201a8"
             ],
             [
              0.3333333333333333,
              "#9c179e"
             ],
             [
              0.4444444444444444,
              "#bd3786"
             ],
             [
              0.5555555555555556,
              "#d8576b"
             ],
             [
              0.6666666666666666,
              "#ed7953"
             ],
             [
              0.7777777777777778,
              "#fb9f3a"
             ],
             [
              0.8888888888888888,
              "#fdca26"
             ],
             [
              1,
              "#f0f921"
             ]
            ],
            "type": "heatmap"
           }
          ],
          "heatmapgl": [
           {
            "colorbar": {
             "outlinewidth": 0,
             "ticks": ""
            },
            "colorscale": [
             [
              0,
              "#0d0887"
             ],
             [
              0.1111111111111111,
              "#46039f"
             ],
             [
              0.2222222222222222,
              "#7201a8"
             ],
             [
              0.3333333333333333,
              "#9c179e"
             ],
             [
              0.4444444444444444,
              "#bd3786"
             ],
             [
              0.5555555555555556,
              "#d8576b"
             ],
             [
              0.6666666666666666,
              "#ed7953"
             ],
             [
              0.7777777777777778,
              "#fb9f3a"
             ],
             [
              0.8888888888888888,
              "#fdca26"
             ],
             [
              1,
              "#f0f921"
             ]
            ],
            "type": "heatmapgl"
           }
          ],
          "histogram": [
           {
            "marker": {
             "pattern": {
              "fillmode": "overlay",
              "size": 10,
              "solidity": 0.2
             }
            },
            "type": "histogram"
           }
          ],
          "histogram2d": [
           {
            "colorbar": {
             "outlinewidth": 0,
             "ticks": ""
            },
            "colorscale": [
             [
              0,
              "#0d0887"
             ],
             [
              0.1111111111111111,
              "#46039f"
             ],
             [
              0.2222222222222222,
              "#7201a8"
             ],
             [
              0.3333333333333333,
              "#9c179e"
             ],
             [
              0.4444444444444444,
              "#bd3786"
             ],
             [
              0.5555555555555556,
              "#d8576b"
             ],
             [
              0.6666666666666666,
              "#ed7953"
             ],
             [
              0.7777777777777778,
              "#fb9f3a"
             ],
             [
              0.8888888888888888,
              "#fdca26"
             ],
             [
              1,
              "#f0f921"
             ]
            ],
            "type": "histogram2d"
           }
          ],
          "histogram2dcontour": [
           {
            "colorbar": {
             "outlinewidth": 0,
             "ticks": ""
            },
            "colorscale": [
             [
              0,
              "#0d0887"
             ],
             [
              0.1111111111111111,
              "#46039f"
             ],
             [
              0.2222222222222222,
              "#7201a8"
             ],
             [
              0.3333333333333333,
              "#9c179e"
             ],
             [
              0.4444444444444444,
              "#bd3786"
             ],
             [
              0.5555555555555556,
              "#d8576b"
             ],
             [
              0.6666666666666666,
              "#ed7953"
             ],
             [
              0.7777777777777778,
              "#fb9f3a"
             ],
             [
              0.8888888888888888,
              "#fdca26"
             ],
             [
              1,
              "#f0f921"
             ]
            ],
            "type": "histogram2dcontour"
           }
          ],
          "mesh3d": [
           {
            "colorbar": {
             "outlinewidth": 0,
             "ticks": ""
            },
            "type": "mesh3d"
           }
          ],
          "parcoords": [
           {
            "line": {
             "colorbar": {
              "outlinewidth": 0,
              "ticks": ""
             }
            },
            "type": "parcoords"
           }
          ],
          "pie": [
           {
            "automargin": true,
            "type": "pie"
           }
          ],
          "scatter": [
           {
            "fillpattern": {
             "fillmode": "overlay",
             "size": 10,
             "solidity": 0.2
            },
            "type": "scatter"
           }
          ],
          "scatter3d": [
           {
            "line": {
             "colorbar": {
              "outlinewidth": 0,
              "ticks": ""
             }
            },
            "marker": {
             "colorbar": {
              "outlinewidth": 0,
              "ticks": ""
             }
            },
            "type": "scatter3d"
           }
          ],
          "scattercarpet": [
           {
            "marker": {
             "colorbar": {
              "outlinewidth": 0,
              "ticks": ""
             }
            },
            "type": "scattercarpet"
           }
          ],
          "scattergeo": [
           {
            "marker": {
             "colorbar": {
              "outlinewidth": 0,
              "ticks": ""
             }
            },
            "type": "scattergeo"
           }
          ],
          "scattergl": [
           {
            "marker": {
             "colorbar": {
              "outlinewidth": 0,
              "ticks": ""
             }
            },
            "type": "scattergl"
           }
          ],
          "scattermapbox": [
           {
            "marker": {
             "colorbar": {
              "outlinewidth": 0,
              "ticks": ""
             }
            },
            "type": "scattermapbox"
           }
          ],
          "scatterpolar": [
           {
            "marker": {
             "colorbar": {
              "outlinewidth": 0,
              "ticks": ""
             }
            },
            "type": "scatterpolar"
           }
          ],
          "scatterpolargl": [
           {
            "marker": {
             "colorbar": {
              "outlinewidth": 0,
              "ticks": ""
             }
            },
            "type": "scatterpolargl"
           }
          ],
          "scatterternary": [
           {
            "marker": {
             "colorbar": {
              "outlinewidth": 0,
              "ticks": ""
             }
            },
            "type": "scatterternary"
           }
          ],
          "surface": [
           {
            "colorbar": {
             "outlinewidth": 0,
             "ticks": ""
            },
            "colorscale": [
             [
              0,
              "#0d0887"
             ],
             [
              0.1111111111111111,
              "#46039f"
             ],
             [
              0.2222222222222222,
              "#7201a8"
             ],
             [
              0.3333333333333333,
              "#9c179e"
             ],
             [
              0.4444444444444444,
              "#bd3786"
             ],
             [
              0.5555555555555556,
              "#d8576b"
             ],
             [
              0.6666666666666666,
              "#ed7953"
             ],
             [
              0.7777777777777778,
              "#fb9f3a"
             ],
             [
              0.8888888888888888,
              "#fdca26"
             ],
             [
              1,
              "#f0f921"
             ]
            ],
            "type": "surface"
           }
          ],
          "table": [
           {
            "cells": {
             "fill": {
              "color": "#EBF0F8"
             },
             "line": {
              "color": "white"
             }
            },
            "header": {
             "fill": {
              "color": "#C8D4E3"
             },
             "line": {
              "color": "white"
             }
            },
            "type": "table"
           }
          ]
         },
         "layout": {
          "annotationdefaults": {
           "arrowcolor": "#2a3f5f",
           "arrowhead": 0,
           "arrowwidth": 1
          },
          "autotypenumbers": "strict",
          "coloraxis": {
           "colorbar": {
            "outlinewidth": 0,
            "ticks": ""
           }
          },
          "colorscale": {
           "diverging": [
            [
             0,
             "#8e0152"
            ],
            [
             0.1,
             "#c51b7d"
            ],
            [
             0.2,
             "#de77ae"
            ],
            [
             0.3,
             "#f1b6da"
            ],
            [
             0.4,
             "#fde0ef"
            ],
            [
             0.5,
             "#f7f7f7"
            ],
            [
             0.6,
             "#e6f5d0"
            ],
            [
             0.7,
             "#b8e186"
            ],
            [
             0.8,
             "#7fbc41"
            ],
            [
             0.9,
             "#4d9221"
            ],
            [
             1,
             "#276419"
            ]
           ],
           "sequential": [
            [
             0,
             "#0d0887"
            ],
            [
             0.1111111111111111,
             "#46039f"
            ],
            [
             0.2222222222222222,
             "#7201a8"
            ],
            [
             0.3333333333333333,
             "#9c179e"
            ],
            [
             0.4444444444444444,
             "#bd3786"
            ],
            [
             0.5555555555555556,
             "#d8576b"
            ],
            [
             0.6666666666666666,
             "#ed7953"
            ],
            [
             0.7777777777777778,
             "#fb9f3a"
            ],
            [
             0.8888888888888888,
             "#fdca26"
            ],
            [
             1,
             "#f0f921"
            ]
           ],
           "sequentialminus": [
            [
             0,
             "#0d0887"
            ],
            [
             0.1111111111111111,
             "#46039f"
            ],
            [
             0.2222222222222222,
             "#7201a8"
            ],
            [
             0.3333333333333333,
             "#9c179e"
            ],
            [
             0.4444444444444444,
             "#bd3786"
            ],
            [
             0.5555555555555556,
             "#d8576b"
            ],
            [
             0.6666666666666666,
             "#ed7953"
            ],
            [
             0.7777777777777778,
             "#fb9f3a"
            ],
            [
             0.8888888888888888,
             "#fdca26"
            ],
            [
             1,
             "#f0f921"
            ]
           ]
          },
          "colorway": [
           "#636efa",
           "#EF553B",
           "#00cc96",
           "#ab63fa",
           "#FFA15A",
           "#19d3f3",
           "#FF6692",
           "#B6E880",
           "#FF97FF",
           "#FECB52"
          ],
          "font": {
           "color": "#2a3f5f"
          },
          "geo": {
           "bgcolor": "white",
           "lakecolor": "white",
           "landcolor": "#E5ECF6",
           "showlakes": true,
           "showland": true,
           "subunitcolor": "white"
          },
          "hoverlabel": {
           "align": "left"
          },
          "hovermode": "closest",
          "mapbox": {
           "style": "light"
          },
          "paper_bgcolor": "white",
          "plot_bgcolor": "#E5ECF6",
          "polar": {
           "angularaxis": {
            "gridcolor": "white",
            "linecolor": "white",
            "ticks": ""
           },
           "bgcolor": "#E5ECF6",
           "radialaxis": {
            "gridcolor": "white",
            "linecolor": "white",
            "ticks": ""
           }
          },
          "scene": {
           "xaxis": {
            "backgroundcolor": "#E5ECF6",
            "gridcolor": "white",
            "gridwidth": 2,
            "linecolor": "white",
            "showbackground": true,
            "ticks": "",
            "zerolinecolor": "white"
           },
           "yaxis": {
            "backgroundcolor": "#E5ECF6",
            "gridcolor": "white",
            "gridwidth": 2,
            "linecolor": "white",
            "showbackground": true,
            "ticks": "",
            "zerolinecolor": "white"
           },
           "zaxis": {
            "backgroundcolor": "#E5ECF6",
            "gridcolor": "white",
            "gridwidth": 2,
            "linecolor": "white",
            "showbackground": true,
            "ticks": "",
            "zerolinecolor": "white"
           }
          },
          "shapedefaults": {
           "line": {
            "color": "#2a3f5f"
           }
          },
          "ternary": {
           "aaxis": {
            "gridcolor": "white",
            "linecolor": "white",
            "ticks": ""
           },
           "baxis": {
            "gridcolor": "white",
            "linecolor": "white",
            "ticks": ""
           },
           "bgcolor": "#E5ECF6",
           "caxis": {
            "gridcolor": "white",
            "linecolor": "white",
            "ticks": ""
           }
          },
          "title": {
           "x": 0.05
          },
          "xaxis": {
           "automargin": true,
           "gridcolor": "white",
           "linecolor": "white",
           "ticks": "",
           "title": {
            "standoff": 15
           },
           "zerolinecolor": "white",
           "zerolinewidth": 2
          },
          "yaxis": {
           "automargin": true,
           "gridcolor": "white",
           "linecolor": "white",
           "ticks": "",
           "title": {
            "standoff": 15
           },
           "zerolinecolor": "white",
           "zerolinewidth": 2
          }
         }
        },
        "xaxis": {
         "anchor": "y",
         "domain": [
          0,
          1
         ],
         "title": {
          "text": "x"
         }
        },
        "yaxis": {
         "anchor": "x",
         "domain": [
          0,
          1
         ],
         "title": {
          "text": "y"
         }
        }
       }
      }
     },
     "metadata": {},
     "output_type": "display_data"
    }
   ],
   "source": [
    "#cluster visualization using t-SNE\n",
    "from sklearn.manifold import TSNE\n",
    "\n",
    "tsne_pipe=Pipeline([('scaler',StandardScaler()),('tsne',TSNE(n_components=2,verbose=1))])\n",
    "\n",
    "genre_embedding=tsne_pipe.fit_transform(x)\n",
    "projection= pd.DataFrame(columns=['x','y'],data=genre_embedding)\n",
    "projection['genres']=genre_data['genres']\n",
    "projection['cluster']=genre_data['cluster']\n",
    "\n",
    "fig =px.scatter(\n",
    "projection,x='x',y='y',color='cluster',hover_data=['x','y','genres'])\n",
    "fig.show()\n"
   ]
  },
  {
   "cell_type": "code",
   "execution_count": 38,
   "id": "e257d650",
   "metadata": {},
   "outputs": [
    {
     "name": "stdout",
     "output_type": "stream",
     "text": [
      "[t-SNE] Computing 91 nearest neighbors...\n",
      "[t-SNE] Indexed 133638 samples in 0.302s...\n"
     ]
    }
   ],
   "source": [
    "#song clustering visualisation using tsne\n",
    "\n",
    "tsne_pipe2=Pipeline([('scaler',StandardScaler()),('tsne',TSNE(n_components=2,verbose=1))])\n",
    "\n",
    "song_embedding=tsne_pipe.fit_transform(X)\n",
    "projection= pd.DataFrame(columns=['x','y'],data=song_embedding)\n",
    "projection['title']=data['name']\n",
    "projection['cluster']=data['cluster_label']\n",
    "\n",
    "fig =px.scatter(\n",
    "projection,x='x',y='y',color='cluster',hover_data=['x','y','title'])\n",
    "fig.show()"
   ]
  },
  {
   "cell_type": "code",
   "execution_count": 29,
   "id": "1a01aace",
   "metadata": {},
   "outputs": [],
   "source": [
    "import spotipy\n",
    "from spotipy.oauth2 import SpotifyClientCredentials\n",
    "from collections import defaultdict\n",
    "\n",
    "sp= spotipy.Spotify(auth_manager=SpotifyClientCredentials(client_id='a435e93552804b0288cd270ca405c9cc',client_secret='f0855466db3045aab0ac7249c4f21cfd'))\n",
    "\n",
    "#finding songs which are not present in the spotify dataset\n",
    "def find_song(name,year):\n",
    "    song_data=defaultdict()\n",
    "    print(\"1\")\n",
    "    results=sp.search(q='track:{} year :{}'.format(name,year),limit=1)\n",
    "    if results['tracks']['items']==[]:\n",
    "        return None\n",
    "    \n",
    "    results=results['tracks']['items'][0]\n",
    "    track_id=results['id']\n",
    "    audio_features=sp.audio_features(track_id)[0]\n",
    "    \n",
    "    song_data['name']=[name]\n",
    "    song_data['year']=[year]\n",
    "    song_data['explicit']=[int(results['explicit'])]\n",
    "    song_data['duration_ms']=[results['duration_ms']]\n",
    "    song_data['popularity']=[results['popularity']]\n",
    "    \n",
    "    for key,value in audio_features.items():\n",
    "        song_data[key]=value\n",
    "      \n",
    "    song_data_df=pd.DataFrame(song_data)\n",
    "    \n",
    "    \n",
    "    return song_data_df\n",
    "\n",
    "#song_df=find_song('Animals',2014)\n",
    "#print(song_df)"
   ]
  },
  {
   "cell_type": "code",
   "execution_count": 30,
   "id": "ebb216ad",
   "metadata": {
    "scrolled": true
   },
   "outputs": [
    {
     "name": "stdout",
     "output_type": "stream",
     "text": [
      "Index(['valence', 'year', 'acousticness', 'danceability', 'duration_ms',\n",
      "       'energy', 'explicit', 'instrumentalness', 'key', 'liveness', 'loudness',\n",
      "       'mode', 'popularity', 'speechiness', 'tempo'],\n",
      "      dtype='object')\n"
     ]
    }
   ],
   "source": [
    "from collections import defaultdict\n",
    "from sklearn.metrics import euclidean_distances\n",
    "from scipy.spatial.distance import cdist\n",
    "import difflib\n",
    "\n",
    "number_cols=data.select_dtypes(np.number)\n",
    "number_cols.drop(['cluster_label'],axis='columns',inplace=True)\n",
    "print(number_cols.columns)"
   ]
  },
  {
   "cell_type": "code",
   "execution_count": 31,
   "id": "007aad34",
   "metadata": {},
   "outputs": [],
   "source": [
    "\"\"\"fetching data of the song given by the user from the dataset or \n",
    "from the spotify api\"\"\"\n",
    "\n",
    "def get_song_data(song,spotify_df):\n",
    "    \n",
    "    try:\n",
    "        song_data=spotify_df[(spotify_df['name']==song['name']) & (spotify_df['year']==song['year'])].iloc[0]\n",
    "        return song_data\n",
    "    except IndexError:\n",
    "        return find_song(song['name'],song['year'])\n",
    "                                           \n",
    "                                           "
   ]
  },
  {
   "cell_type": "code",
   "execution_count": 32,
   "id": "38729307",
   "metadata": {},
   "outputs": [],
   "source": [
    "#generating vector of song list\n",
    "\n",
    "def get_mean_vector(song_list,spotify_df):\n",
    "    song_vectors=[]\n",
    "    \n",
    "    for song in song_list:\n",
    "        song_data=get_song_data(song,spotify_df)\n",
    "        if song_data is None:\n",
    "            #rint(\"Song not found\")\n",
    "            continue\n",
    "        song_vector=song_data[number_cols.columns].values\n",
    "        song_vectors.append(song_vector)\n",
    "     \n",
    "    song_matrix=np.array(list(song_vectors))\n",
    "    return np.mean(song_matrix,axis=0)\n",
    "\n",
    "\n",
    "def flatten_dict_list(dict_list):\n",
    "    \n",
    "    flattened_dict=defaultdict()\n",
    "    for key in dict_list[0].keys():\n",
    "        flattened_dict[key]=[]\n",
    "     \n",
    "    for dictionary in dict_list:\n",
    "        for key, value in dictionary.items():\n",
    "            flattened_dict[key].append(value)\n",
    "            \n",
    "    return flattened_dict\n",
    "                           \n",
    "                           \n"
   ]
  },
  {
   "cell_type": "code",
   "execution_count": 33,
   "id": "cc77f50d",
   "metadata": {},
   "outputs": [],
   "source": [
    "#function that takes input from user and displays the recommend songs\n",
    "\n",
    "def recommender(song_list,spotify_df):\n",
    "    \n",
    "    rec_song_list_column = ['name','year','artists']\n",
    "    song_dict=flatten_dict_list(song_list)\n",
    "    #print(song_dict)\n",
    "    \n",
    "    song_center=get_mean_vector(song_list,spotify_df)\n",
    "    #print(song_center)\n",
    "    scaler=song_cluster_pipeline.steps[0][1]\n",
    "    scaled_data=scaler.transform(spotify_df[number_cols.columns])\n",
    "    scaled_song_center=scaler.transform(song_center.reshape(1,-1))\n",
    "    print(scaled_song_center)\n",
    "    distance=cdist(scaled_song_center,scaled_data,'cosine')\n",
    "    index=list(np.argsort(distance)[:,:10][0]) #top 10 closest nodes in the cluster\n",
    "    \n",
    "    rec_songs=spotify_df.iloc[index]\n",
    "    rec_songs=rec_songs[~rec_songs['name'].isin(song_dict['name'])]\n",
    "    return rec_songs[rec_song_list_column].to_dict(orient='records')\n"
   ]
  },
  {
   "cell_type": "code",
   "execution_count": 34,
   "id": "3c699c9a",
   "metadata": {
    "scrolled": true
   },
   "outputs": [
    {
     "data": {
      "text/html": [
       "<div>\n",
       "<style scoped>\n",
       "    .dataframe tbody tr th:only-of-type {\n",
       "        vertical-align: middle;\n",
       "    }\n",
       "\n",
       "    .dataframe tbody tr th {\n",
       "        vertical-align: top;\n",
       "    }\n",
       "\n",
       "    .dataframe thead th {\n",
       "        text-align: right;\n",
       "    }\n",
       "</style>\n",
       "<table border=\"1\" class=\"dataframe\">\n",
       "  <thead>\n",
       "    <tr style=\"text-align: right;\">\n",
       "      <th></th>\n",
       "      <th>valence</th>\n",
       "      <th>year</th>\n",
       "      <th>acousticness</th>\n",
       "      <th>artists</th>\n",
       "      <th>danceability</th>\n",
       "      <th>duration_ms</th>\n",
       "      <th>energy</th>\n",
       "      <th>explicit</th>\n",
       "      <th>id</th>\n",
       "      <th>instrumentalness</th>\n",
       "      <th>...</th>\n",
       "      <th>liveness</th>\n",
       "      <th>loudness</th>\n",
       "      <th>mode</th>\n",
       "      <th>name</th>\n",
       "      <th>popularity</th>\n",
       "      <th>release_date</th>\n",
       "      <th>speechiness</th>\n",
       "      <th>tempo</th>\n",
       "      <th>decade</th>\n",
       "      <th>cluster_label</th>\n",
       "    </tr>\n",
       "  </thead>\n",
       "  <tbody>\n",
       "    <tr>\n",
       "      <th>155171</th>\n",
       "      <td>0.1220</td>\n",
       "      <td>2019</td>\n",
       "      <td>0.001550</td>\n",
       "      <td>['The Avains', 'Azima', 'Cyril Ryaz']</td>\n",
       "      <td>0.500</td>\n",
       "      <td>365326</td>\n",
       "      <td>0.909</td>\n",
       "      <td>0</td>\n",
       "      <td>5ijoq5AuZYx4Wc6uLHYqtD</td>\n",
       "      <td>0.779</td>\n",
       "      <td>...</td>\n",
       "      <td>0.0780</td>\n",
       "      <td>-9.186</td>\n",
       "      <td>0</td>\n",
       "      <td>#lifted - Cyril Ryaz Remix</td>\n",
       "      <td>0</td>\n",
       "      <td>2019-01-04</td>\n",
       "      <td>0.0547</td>\n",
       "      <td>138.012</td>\n",
       "      <td>2019s</td>\n",
       "      <td>72</td>\n",
       "    </tr>\n",
       "    <tr>\n",
       "      <th>154424</th>\n",
       "      <td>0.5210</td>\n",
       "      <td>2016</td>\n",
       "      <td>0.002910</td>\n",
       "      <td>['Darema']</td>\n",
       "      <td>0.802</td>\n",
       "      <td>452783</td>\n",
       "      <td>0.734</td>\n",
       "      <td>0</td>\n",
       "      <td>2IQIoTBlV3NJ9g7J3NAtaH</td>\n",
       "      <td>0.943</td>\n",
       "      <td>...</td>\n",
       "      <td>0.0963</td>\n",
       "      <td>-13.331</td>\n",
       "      <td>1</td>\n",
       "      <td>12 55 Am</td>\n",
       "      <td>0</td>\n",
       "      <td>2016-06-03</td>\n",
       "      <td>0.0592</td>\n",
       "      <td>128.021</td>\n",
       "      <td>2016s</td>\n",
       "      <td>72</td>\n",
       "    </tr>\n",
       "    <tr>\n",
       "      <th>123857</th>\n",
       "      <td>0.1570</td>\n",
       "      <td>2015</td>\n",
       "      <td>0.000086</td>\n",
       "      <td>['R3ckzet']</td>\n",
       "      <td>0.792</td>\n",
       "      <td>330029</td>\n",
       "      <td>0.925</td>\n",
       "      <td>0</td>\n",
       "      <td>0gUAut3GW2scVHX7LQhQSA</td>\n",
       "      <td>0.879</td>\n",
       "      <td>...</td>\n",
       "      <td>0.0540</td>\n",
       "      <td>-5.114</td>\n",
       "      <td>1</td>\n",
       "      <td>1991</td>\n",
       "      <td>0</td>\n",
       "      <td>2015-11-11</td>\n",
       "      <td>0.0785</td>\n",
       "      <td>127.993</td>\n",
       "      <td>2015s</td>\n",
       "      <td>72</td>\n",
       "    </tr>\n",
       "    <tr>\n",
       "      <th>123436</th>\n",
       "      <td>0.2180</td>\n",
       "      <td>2013</td>\n",
       "      <td>0.003680</td>\n",
       "      <td>['Funky Dragon', 'Djane Betty']</td>\n",
       "      <td>0.698</td>\n",
       "      <td>538138</td>\n",
       "      <td>0.903</td>\n",
       "      <td>0</td>\n",
       "      <td>2KaxVtl4FTKOlNCFqEQqEq</td>\n",
       "      <td>0.803</td>\n",
       "      <td>...</td>\n",
       "      <td>0.3430</td>\n",
       "      <td>-7.424</td>\n",
       "      <td>0</td>\n",
       "      <td>7 Eleven</td>\n",
       "      <td>0</td>\n",
       "      <td>2013-05-15</td>\n",
       "      <td>0.0600</td>\n",
       "      <td>134.987</td>\n",
       "      <td>2013s</td>\n",
       "      <td>72</td>\n",
       "    </tr>\n",
       "    <tr>\n",
       "      <th>72834</th>\n",
       "      <td>0.1350</td>\n",
       "      <td>2018</td>\n",
       "      <td>0.002700</td>\n",
       "      <td>['JPL']</td>\n",
       "      <td>0.632</td>\n",
       "      <td>458780</td>\n",
       "      <td>0.938</td>\n",
       "      <td>0</td>\n",
       "      <td>3T9CRH5htWfFA6xo3ugEl0</td>\n",
       "      <td>0.916</td>\n",
       "      <td>...</td>\n",
       "      <td>0.3460</td>\n",
       "      <td>-8.533</td>\n",
       "      <td>1</td>\n",
       "      <td>A Better Daze</td>\n",
       "      <td>0</td>\n",
       "      <td>2018-09-28</td>\n",
       "      <td>0.0758</td>\n",
       "      <td>127.997</td>\n",
       "      <td>2018s</td>\n",
       "      <td>72</td>\n",
       "    </tr>\n",
       "    <tr>\n",
       "      <th>...</th>\n",
       "      <td>...</td>\n",
       "      <td>...</td>\n",
       "      <td>...</td>\n",
       "      <td>...</td>\n",
       "      <td>...</td>\n",
       "      <td>...</td>\n",
       "      <td>...</td>\n",
       "      <td>...</td>\n",
       "      <td>...</td>\n",
       "      <td>...</td>\n",
       "      <td>...</td>\n",
       "      <td>...</td>\n",
       "      <td>...</td>\n",
       "      <td>...</td>\n",
       "      <td>...</td>\n",
       "      <td>...</td>\n",
       "      <td>...</td>\n",
       "      <td>...</td>\n",
       "      <td>...</td>\n",
       "      <td>...</td>\n",
       "      <td>...</td>\n",
       "    </tr>\n",
       "    <tr>\n",
       "      <th>123876</th>\n",
       "      <td>0.0365</td>\n",
       "      <td>2015</td>\n",
       "      <td>0.000078</td>\n",
       "      <td>['Maxdal', 'Eri2']</td>\n",
       "      <td>0.797</td>\n",
       "      <td>362835</td>\n",
       "      <td>0.635</td>\n",
       "      <td>0</td>\n",
       "      <td>423cJA30dEXM0UsZMoybeH</td>\n",
       "      <td>0.888</td>\n",
       "      <td>...</td>\n",
       "      <td>0.1020</td>\n",
       "      <td>-9.641</td>\n",
       "      <td>1</td>\n",
       "      <td>Work It - Eri2 Remix</td>\n",
       "      <td>0</td>\n",
       "      <td>2015-11-11</td>\n",
       "      <td>0.0557</td>\n",
       "      <td>126.992</td>\n",
       "      <td>2015s</td>\n",
       "      <td>72</td>\n",
       "    </tr>\n",
       "    <tr>\n",
       "      <th>154097</th>\n",
       "      <td>0.0395</td>\n",
       "      <td>2015</td>\n",
       "      <td>0.034300</td>\n",
       "      <td>['NANOMED']</td>\n",
       "      <td>0.785</td>\n",
       "      <td>415154</td>\n",
       "      <td>0.815</td>\n",
       "      <td>0</td>\n",
       "      <td>5Z43F7oCdvnXyngss7vNPk</td>\n",
       "      <td>0.888</td>\n",
       "      <td>...</td>\n",
       "      <td>0.0995</td>\n",
       "      <td>-7.580</td>\n",
       "      <td>1</td>\n",
       "      <td>X-ray</td>\n",
       "      <td>0</td>\n",
       "      <td>2015-10-30</td>\n",
       "      <td>0.0486</td>\n",
       "      <td>130.008</td>\n",
       "      <td>2015s</td>\n",
       "      <td>72</td>\n",
       "    </tr>\n",
       "    <tr>\n",
       "      <th>154107</th>\n",
       "      <td>0.3370</td>\n",
       "      <td>2013</td>\n",
       "      <td>0.000217</td>\n",
       "      <td>['Karmine Rosciano']</td>\n",
       "      <td>0.744</td>\n",
       "      <td>380160</td>\n",
       "      <td>0.693</td>\n",
       "      <td>0</td>\n",
       "      <td>7IzOgS9AI2yXqj6CIk8w7S</td>\n",
       "      <td>0.737</td>\n",
       "      <td>...</td>\n",
       "      <td>0.0823</td>\n",
       "      <td>-9.989</td>\n",
       "      <td>0</td>\n",
       "      <td>You Never</td>\n",
       "      <td>0</td>\n",
       "      <td>2013-12-25</td>\n",
       "      <td>0.0507</td>\n",
       "      <td>125.011</td>\n",
       "      <td>2013s</td>\n",
       "      <td>72</td>\n",
       "    </tr>\n",
       "    <tr>\n",
       "      <th>123835</th>\n",
       "      <td>0.4650</td>\n",
       "      <td>2015</td>\n",
       "      <td>0.001460</td>\n",
       "      <td>['Msc Admirer', 'Dj Rem-C']</td>\n",
       "      <td>0.777</td>\n",
       "      <td>350692</td>\n",
       "      <td>0.905</td>\n",
       "      <td>0</td>\n",
       "      <td>3SIcyhaJrLfSHlZmfeTeLE</td>\n",
       "      <td>0.932</td>\n",
       "      <td>...</td>\n",
       "      <td>0.3470</td>\n",
       "      <td>-7.732</td>\n",
       "      <td>0</td>\n",
       "      <td>iBaby - DJ Rem-C &amp; Clear Beats Remix</td>\n",
       "      <td>0</td>\n",
       "      <td>2015-11-14</td>\n",
       "      <td>0.0521</td>\n",
       "      <td>126.007</td>\n",
       "      <td>2015s</td>\n",
       "      <td>72</td>\n",
       "    </tr>\n",
       "    <tr>\n",
       "      <th>155246</th>\n",
       "      <td>0.4750</td>\n",
       "      <td>2019</td>\n",
       "      <td>0.011900</td>\n",
       "      <td>['AR30', 'Rie Mellow Junk']</td>\n",
       "      <td>0.730</td>\n",
       "      <td>166286</td>\n",
       "      <td>0.379</td>\n",
       "      <td>0</td>\n",
       "      <td>5G7cDp1GNXfiTukLUnjUIK</td>\n",
       "      <td>0.904</td>\n",
       "      <td>...</td>\n",
       "      <td>0.0681</td>\n",
       "      <td>-10.882</td>\n",
       "      <td>0</td>\n",
       "      <td>past mistakes</td>\n",
       "      <td>0</td>\n",
       "      <td>2019-02-22</td>\n",
       "      <td>0.0553</td>\n",
       "      <td>140.052</td>\n",
       "      <td>2019s</td>\n",
       "      <td>72</td>\n",
       "    </tr>\n",
       "  </tbody>\n",
       "</table>\n",
       "<p>296 rows × 21 columns</p>\n",
       "</div>"
      ],
      "text/plain": [
       "        valence  year  acousticness                                artists  \\\n",
       "155171   0.1220  2019      0.001550  ['The Avains', 'Azima', 'Cyril Ryaz']   \n",
       "154424   0.5210  2016      0.002910                             ['Darema']   \n",
       "123857   0.1570  2015      0.000086                            ['R3ckzet']   \n",
       "123436   0.2180  2013      0.003680        ['Funky Dragon', 'Djane Betty']   \n",
       "72834    0.1350  2018      0.002700                                ['JPL']   \n",
       "...         ...   ...           ...                                    ...   \n",
       "123876   0.0365  2015      0.000078                     ['Maxdal', 'Eri2']   \n",
       "154097   0.0395  2015      0.034300                            ['NANOMED']   \n",
       "154107   0.3370  2013      0.000217                   ['Karmine Rosciano']   \n",
       "123835   0.4650  2015      0.001460            ['Msc Admirer', 'Dj Rem-C']   \n",
       "155246   0.4750  2019      0.011900            ['AR30', 'Rie Mellow Junk']   \n",
       "\n",
       "        danceability  duration_ms  energy  explicit                      id  \\\n",
       "155171         0.500       365326   0.909         0  5ijoq5AuZYx4Wc6uLHYqtD   \n",
       "154424         0.802       452783   0.734         0  2IQIoTBlV3NJ9g7J3NAtaH   \n",
       "123857         0.792       330029   0.925         0  0gUAut3GW2scVHX7LQhQSA   \n",
       "123436         0.698       538138   0.903         0  2KaxVtl4FTKOlNCFqEQqEq   \n",
       "72834          0.632       458780   0.938         0  3T9CRH5htWfFA6xo3ugEl0   \n",
       "...              ...          ...     ...       ...                     ...   \n",
       "123876         0.797       362835   0.635         0  423cJA30dEXM0UsZMoybeH   \n",
       "154097         0.785       415154   0.815         0  5Z43F7oCdvnXyngss7vNPk   \n",
       "154107         0.744       380160   0.693         0  7IzOgS9AI2yXqj6CIk8w7S   \n",
       "123835         0.777       350692   0.905         0  3SIcyhaJrLfSHlZmfeTeLE   \n",
       "155246         0.730       166286   0.379         0  5G7cDp1GNXfiTukLUnjUIK   \n",
       "\n",
       "        instrumentalness  ...  liveness  loudness  mode  \\\n",
       "155171             0.779  ...    0.0780    -9.186     0   \n",
       "154424             0.943  ...    0.0963   -13.331     1   \n",
       "123857             0.879  ...    0.0540    -5.114     1   \n",
       "123436             0.803  ...    0.3430    -7.424     0   \n",
       "72834              0.916  ...    0.3460    -8.533     1   \n",
       "...                  ...  ...       ...       ...   ...   \n",
       "123876             0.888  ...    0.1020    -9.641     1   \n",
       "154097             0.888  ...    0.0995    -7.580     1   \n",
       "154107             0.737  ...    0.0823    -9.989     0   \n",
       "123835             0.932  ...    0.3470    -7.732     0   \n",
       "155246             0.904  ...    0.0681   -10.882     0   \n",
       "\n",
       "                                        name popularity  release_date  \\\n",
       "155171            #lifted - Cyril Ryaz Remix          0    2019-01-04   \n",
       "154424                              12 55 Am          0    2016-06-03   \n",
       "123857                                  1991          0    2015-11-11   \n",
       "123436                              7 Eleven          0    2013-05-15   \n",
       "72834                          A Better Daze          0    2018-09-28   \n",
       "...                                      ...        ...           ...   \n",
       "123876                  Work It - Eri2 Remix          0    2015-11-11   \n",
       "154097                                 X-ray          0    2015-10-30   \n",
       "154107                             You Never          0    2013-12-25   \n",
       "123835  iBaby - DJ Rem-C & Clear Beats Remix          0    2015-11-14   \n",
       "155246                         past mistakes          0    2019-02-22   \n",
       "\n",
       "       speechiness    tempo  decade cluster_label  \n",
       "155171      0.0547  138.012   2019s            72  \n",
       "154424      0.0592  128.021   2016s            72  \n",
       "123857      0.0785  127.993   2015s            72  \n",
       "123436      0.0600  134.987   2013s            72  \n",
       "72834       0.0758  127.997   2018s            72  \n",
       "...            ...      ...     ...           ...  \n",
       "123876      0.0557  126.992   2015s            72  \n",
       "154097      0.0486  130.008   2015s            72  \n",
       "154107      0.0507  125.011   2013s            72  \n",
       "123835      0.0521  126.007   2015s            72  \n",
       "155246      0.0553  140.052   2019s            72  \n",
       "\n",
       "[296 rows x 21 columns]"
      ]
     },
     "execution_count": 34,
     "metadata": {},
     "output_type": "execute_result"
    }
   ],
   "source": [
    "data[data['cluster_label']==72]"
   ]
  },
  {
   "cell_type": "code",
   "execution_count": 35,
   "id": "45d013e9",
   "metadata": {},
   "outputs": [
    {
     "name": "stdout",
     "output_type": "stream",
     "text": [
      "1\n",
      "[[-1.87487359  1.43686554 -1.19215039  1.21291607 -0.33328266  0.87954775\n",
      "  -0.31714445  2.23619169 -1.19668077 -0.8146712   0.24129798  0.64719257\n",
      "  -1.38551109 -0.37321518  0.36123505]]\n"
     ]
    },
    {
     "data": {
      "text/plain": [
       "[{'name': 'Italy - Bad Ground', 'year': 2016, 'artists': \"['Krueger']\"},\n",
       " {'name': 'The Devil', 'year': 2015, 'artists': \"['Rosso Profondo']\"},\n",
       " {'name': 'Backyard Animals',\n",
       "  'year': 2015,\n",
       "  'artists': \"['Max Elto', 'Michael Cassette']\"},\n",
       " {'name': 'Rock Up The World', 'year': 2018, 'artists': \"['Chris Gomez']\"},\n",
       " {'name': 'S N M F', 'year': 2016, 'artists': \"['Dimor']\"},\n",
       " {'name': 'Roid', 'year': 2015, 'artists': \"['Mat Lionis']\"},\n",
       " {'name': 'Adrenadine - Mario Beck Planet Mix',\n",
       "  'year': 2017,\n",
       "  'artists': \"['Alex Denada']\"},\n",
       " {'name': 'Over The World Flight',\n",
       "  'year': 2018,\n",
       "  'artists': \"['X-Den Project']\"},\n",
       " {'name': 'What Was It', 'year': 2015, 'artists': \"['Kinderman']\"},\n",
       " {'name': 'Acid Or Techno', 'year': 2018, 'artists': \"['Iscream']\"}]"
      ]
     },
     "execution_count": 35,
     "metadata": {},
     "output_type": "execute_result"
    }
   ],
   "source": [
    "recommender([#{'name': 'Come As You Are', 'year':1991},\n",
    "                #{'name': 'Smells Like Teen Spirit', 'year': 1991},\n",
    "                #{'name': 'Lithium', 'year': 1992},\n",
    "                #{'name': 'All Apologies', 'year': 1993},\n",
    "                {'name': 'Animals', 'year': 2014}],  data)\n"
   ]
  }
 ],
 "metadata": {
  "kernelspec": {
   "display_name": "Python 3 (ipykernel)",
   "language": "python",
   "name": "python3"
  },
  "language_info": {
   "codemirror_mode": {
    "name": "ipython",
    "version": 3
   },
   "file_extension": ".py",
   "mimetype": "text/x-python",
   "name": "python",
   "nbconvert_exporter": "python",
   "pygments_lexer": "ipython3",
   "version": "3.10.7"
  }
 },
 "nbformat": 4,
 "nbformat_minor": 5
}
